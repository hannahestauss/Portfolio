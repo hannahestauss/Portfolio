{
  "nbformat": 4,
  "nbformat_minor": 0,
  "metadata": {
    "colab": {
      "name": "Happiness Analysis.ipynb",
      "provenance": []
    },
    "kernelspec": {
      "name": "python3",
      "display_name": "Python 3"
    },
    "language_info": {
      "name": "python"
    }
  },
  "cells": [
    {
      "cell_type": "markdown",
      "source": [
        "# Happiness Analysis"
      ],
      "metadata": {
        "id": "QbkBukBCh02C"
      }
    },
    {
      "cell_type": "markdown",
      "source": [
        "This report analyzes the United States' spot on the happiness index in the last five years, intending to provide more insight on the social, political, and economic standing. In most years, contries that top the index tend to have very different cultures and economies than that of the United States. \n",
        "\n",
        "\n",
        "This notebook analyzes the top 38 Happiest Countries using the World Data Bank's studies on Worldwide Governance Indicators and women in government and the Gallup Startup Polls for the annual Happiness Index Report. These datasets include different social, economic, and political factors that can be correlated with happiness and analyzed over the past five years. Using the merged data, this dataset will also allow us to see the United States' ranking in individual factors to answer the questions: Why is the US considered one of the happiest countries? What factors have the most impact on happiness? How does the United States compare socially, politically, and economically?"
      ],
      "metadata": {
        "id": "pvlYy2s6rm3S"
      }
    },
    {
      "cell_type": "markdown",
      "source": [
        "# Approach"
      ],
      "metadata": {
        "id": "YC-VBV_0MJTk"
      }
    },
    {
      "cell_type": "markdown",
      "source": [
        "As of 2021, the United States ranked 19th on the Happiness Index. In order to analyze their spot there, this report merges data from the top 38 countries. \n",
        "\n",
        "The United States' happiness will be broken down into social, political, and economic factors and compared with those of countries that surround them in the happiness index, with the United States happiness falling at the median. Analyzing the correlation between these groups and happiness will tell us how much these values, or the differences in them, really impacts the happiness of people in these countries. "
      ],
      "metadata": {
        "id": "SKlnniNBMLhs"
      }
    },
    {
      "cell_type": "markdown",
      "source": [
        "# Background\n"
      ],
      "metadata": {
        "id": "0rX6r3Wzmhrr"
      }
    },
    {
      "cell_type": "markdown",
      "source": [
        "**Happiness Scores:**\n",
        "Gallup asks people to imagine a ladder, with the lowest rung representing the worst possible life and the highest rung representing the best possible life. People rate where they stand today and where they expect to stand in five years. Based on how they respond, Gallup classifies them as thriving, struggling or suffering.\n",
        "\n",
        "**Government Effectiveness** captures the perceptions of the quality of public services, the quality of civil service, and the degree of its independence from political pressures on a scale from -2.5 - 2.5.\n",
        "**Regulatory Quality** captures perceptions of the ability of the government to formulate and implement sound policies and regulations that promote private sector development from -2.5 to 2.5.\n",
        "**Rule of Law** captures perceptions of the extent to which agents have the confidence in and abide by the rule of society, as well as the likelihood of crime and violence from -2.5 to 2.5.\n",
        "**Voice and Accountability** captures perceptions of the extent to which a country’s citizens are able to participate in selecting their government, as well as the freedom of expression, freedom of association, and free media from -2.5 to 2.5.\n",
        "**Control of Corruption** captures perceptions of the extent to which public power is used for private gain, as well as the “capture” of the state by elites and private interests."
      ],
      "metadata": {
        "id": "NXhqyW80mlbc"
      }
    },
    {
      "cell_type": "markdown",
      "source": [
        "# Imports"
      ],
      "metadata": {
        "id": "r_HXQe07d5bV"
      }
    },
    {
      "cell_type": "markdown",
      "source": [
        "Link to All CSV Files:\n",
        "https://drive.google.com/drive/folders/1MJbeDlOQIiekhNfzfyceNZUqM0HUfit7?usp=sharing"
      ],
      "metadata": {
        "id": "L_9Vfvtk-9g5"
      }
    },
    {
      "cell_type": "code",
      "source": [
        "import pandas as pd\n",
        "import numpy as np\n",
        "import matplotlib as plt\n",
        "import seaborn as sns"
      ],
      "metadata": {
        "id": "RmAbSeAFYYlZ"
      },
      "execution_count": 1,
      "outputs": []
    },
    {
      "cell_type": "code",
      "execution_count": 2,
      "metadata": {
        "id": "th0HTU2RVFEw"
      },
      "outputs": [],
      "source": [
        "#import uploaded files\n",
        "Factors = pd.read_csv(\"Factors.csv\", sep=',')\n",
        "Gender = pd.read_csv(\"Women.csv\", on_bad_lines='skip')\n",
        "Happiness = pd.read_csv(\"world-happiness-report.csv\")\n"
      ]
    },
    {
      "cell_type": "markdown",
      "source": [
        "To clean and combine these datasets, a few steps will take place first:\n",
        "\n",
        "\n",
        "1.   The countries in the datasets must match.\n",
        "2.   The datasets must share an index (Country Name and Year)\n",
        "3.   Unnamed columns must be removed.\n",
        "4.   The years in the datsets must match, and be the same datatype.\n",
        "\n",
        "\n"
      ],
      "metadata": {
        "id": "O0kgpazluhr0"
      }
    },
    {
      "cell_type": "markdown",
      "source": [
        "# Cleaning Gender Dataset"
      ],
      "metadata": {
        "id": "pX-jbOKZeA1x"
      }
    },
    {
      "cell_type": "code",
      "source": [
        "#Drop Unnamed Columns\n",
        "Gender.drop(Gender.columns[Gender.columns.str.contains('Unnamed',case = False)],axis = 1, inplace = True)\n",
        "print(Gender.dtypes)\n",
        "#Check datatypes for future combination and calculation"
      ],
      "metadata": {
        "colab": {
          "base_uri": "https://localhost:8080/"
        },
        "id": "eup0_B9Jd9zc",
        "outputId": "3df546b0-421c-468c-9e70-df1e6cdc01bd"
      },
      "execution_count": 3,
      "outputs": [
        {
          "output_type": "stream",
          "name": "stdout",
          "text": [
            "Country_Name     object\n",
            "2011            float64\n",
            "2012            float64\n",
            "2013            float64\n",
            "2014            float64\n",
            "2015            float64\n",
            "2016            float64\n",
            "2017            float64\n",
            "2018            float64\n",
            "2019            float64\n",
            "2020            float64\n",
            "dtype: object\n"
          ]
        }
      ]
    },
    {
      "cell_type": "code",
      "source": [
        "#Top 38 Countries from Happiness Index 2021\n",
        "countries = ['Finland', 'Denmark', 'Switzerland', 'Iceland', 'Netherlands', 'Norway', 'Sweden', 'Luxembourg', 'New Zealand', 'Austria', 'Israel', 'Germany', 'Canada', 'Ireland', 'Costa Rica', 'United Kingdom', 'Czech Republic', 'United States', 'France', 'Belgium',\n",
        "             'Bahrain','Malta','Taiwan','United Arab Emirates','Saudi Arabia','Spain','Italy','Slovenia','Guatemala','Uruguay','Singapore','Slovakia','Brazil','Mexico','Jamaica','Lithuania','Cyprus']\n",
        "Gender = Gender[Gender.Country_Name.isin(countries)]\n",
        "Gender = Gender.melt(id_vars=[\"Country_Name\"], \n",
        "        var_name=\"Year\", \n",
        "        value_name=\"Women_In_Government\",\n",
        "        ignore_index= False)\n",
        "Gender['Year']=Gender['Year'].astype(int)\n",
        "years = {2016,2017,2018,2019,2020}\n",
        "Gender = Gender[Gender.Year.isin(years)]\n",
        "Gender.reset_index\n",
        "Gender.dropna(axis=0, how='all', thresh=None, subset=None, inplace=True)\n",
        "Gender.stack()\n",
        "#Index by Year and Country\n",
        "Gender.set_index(['Year','Country_Name'], inplace= True)\n",
        "print(Gender.index)"
      ],
      "metadata": {
        "colab": {
          "base_uri": "https://localhost:8080/"
        },
        "id": "dv7xvFGickI2",
        "outputId": "3b779e6a-9548-4276-8abf-6716a770b267"
      },
      "execution_count": 4,
      "outputs": [
        {
          "output_type": "stream",
          "name": "stdout",
          "text": [
            "MultiIndex([(2016, 'United Arab Emirates'),\n",
            "            (2016,              'Austria'),\n",
            "            (2016,              'Belgium'),\n",
            "            (2016,              'Bahrain'),\n",
            "            (2016,               'Brazil'),\n",
            "            (2016,               'Canada'),\n",
            "            (2016,          'Switzerland'),\n",
            "            (2016,           'Costa Rica'),\n",
            "            (2016,               'Cyprus'),\n",
            "            (2016,       'Czech Republic'),\n",
            "            ...\n",
            "            (2020,                'Malta'),\n",
            "            (2020,          'Netherlands'),\n",
            "            (2020,               'Norway'),\n",
            "            (2020,          'New Zealand'),\n",
            "            (2020,         'Saudi Arabia'),\n",
            "            (2020,            'Singapore'),\n",
            "            (2020,             'Slovenia'),\n",
            "            (2020,               'Sweden'),\n",
            "            (2020,              'Uruguay'),\n",
            "            (2020,        'United States')],\n",
            "           names=['Year', 'Country_Name'], length=175)\n"
          ]
        }
      ]
    },
    {
      "cell_type": "code",
      "source": [
        "print(Gender['Women_In_Government'])"
      ],
      "metadata": {
        "id": "LfAOe3ahtt8T",
        "colab": {
          "base_uri": "https://localhost:8080/"
        },
        "outputId": "c07e6744-6475-4ab0-eb5d-1827a8397202"
      },
      "execution_count": 5,
      "outputs": [
        {
          "output_type": "stream",
          "name": "stdout",
          "text": [
            "Year  Country_Name        \n",
            "2016  United Arab Emirates    22.500000\n",
            "      Austria                 30.601093\n",
            "      Belgium                 39.333333\n",
            "      Bahrain                  7.500000\n",
            "      Brazil                   9.941520\n",
            "                                ...    \n",
            "2020  Singapore               29.473684\n",
            "      Slovenia                27.777778\n",
            "      Sweden                  46.991404\n",
            "      Uruguay                 21.212121\n",
            "      United States           27.464789\n",
            "Name: Women_In_Government, Length: 175, dtype: float64\n"
          ]
        }
      ]
    },
    {
      "cell_type": "markdown",
      "source": [
        "# Cleaning Factors Dataset"
      ],
      "metadata": {
        "id": "Azc01es4eRZr"
      }
    },
    {
      "cell_type": "code",
      "source": [
        "print(Factors.columns)"
      ],
      "metadata": {
        "colab": {
          "base_uri": "https://localhost:8080/"
        },
        "id": "Lm3Uf1dHfQGY",
        "outputId": "dedd7013-9400-4cbd-86df-575686c01196"
      },
      "execution_count": 6,
      "outputs": [
        {
          "output_type": "stream",
          "name": "stdout",
          "text": [
            "Index(['Country Name', 'Country Code', 'Series Name', 'Series Code',\n",
            "       '2016 [YR2016]', '2017 [YR2017]', '2018 [YR2018]', '2019 [YR2019]',\n",
            "       '2020 [YR2020]'],\n",
            "      dtype='object')\n"
          ]
        }
      ]
    },
    {
      "cell_type": "code",
      "source": [
        "Factors.replace({'Slovak Republic': 'Slovakia', 'Taiwan, China': 'Taiwan'})"
      ],
      "metadata": {
        "id": "DCbwUtvDD8fk",
        "colab": {
          "base_uri": "https://localhost:8080/",
          "height": 0
        },
        "outputId": "e216b3fc-3594-4c47-ed6d-6edd1127305a"
      },
      "execution_count": 7,
      "outputs": [
        {
          "output_type": "execute_result",
          "data": {
            "text/plain": [
              "                                          Country Name Country Code  \\\n",
              "0                                              Finland          FIN   \n",
              "1                                              Finland          FIN   \n",
              "2                                              Finland          FIN   \n",
              "3                                              Finland          FIN   \n",
              "4                                              Finland          FIN   \n",
              "..                                                 ...          ...   \n",
              "228                                                NaN          NaN   \n",
              "229                                                NaN          NaN   \n",
              "230                                                NaN          NaN   \n",
              "231  Data from database: Worldwide Governance Indic...          NaN   \n",
              "232                           Last Updated: 09/27/2021          NaN   \n",
              "\n",
              "                                           Series Name Series Code  \\\n",
              "0                      Control of Corruption: Estimate      CC.EST   \n",
              "1                   Government Effectiveness: Estimate      GE.EST   \n",
              "2    Political Stability and Absence of Violence/Te...      PV.EST   \n",
              "3                         Regulatory Quality: Estimate      RQ.EST   \n",
              "4                                Rule of Law: Estimate      RL.EST   \n",
              "..                                                 ...         ...   \n",
              "228                                                NaN         NaN   \n",
              "229                                                NaN         NaN   \n",
              "230                                                NaN         NaN   \n",
              "231                                                NaN         NaN   \n",
              "232                                                NaN         NaN   \n",
              "\n",
              "     2016 [YR2016]  2017 [YR2017]  2018 [YR2018]  2019 [YR2019]  2020 [YR2020]  \n",
              "0         2.233331       2.211039       2.211138       2.153200       2.204168  \n",
              "1         1.877939       2.018676       2.055259       2.006594       1.948935  \n",
              "2         0.999086       1.080909       0.908359       0.851657       0.944625  \n",
              "3         1.817408       1.823055       1.785690       1.851164       1.854752  \n",
              "4         2.049946       2.069357       2.079443       2.058016       2.078883  \n",
              "..             ...            ...            ...            ...            ...  \n",
              "228            NaN            NaN            NaN            NaN            NaN  \n",
              "229            NaN            NaN            NaN            NaN            NaN  \n",
              "230            NaN            NaN            NaN            NaN            NaN  \n",
              "231            NaN            NaN            NaN            NaN            NaN  \n",
              "232            NaN            NaN            NaN            NaN            NaN  \n",
              "\n",
              "[233 rows x 9 columns]"
            ],
            "text/html": [
              "\n",
              "  <div id=\"df-9f723576-7844-4abc-af09-55cc9341d34d\">\n",
              "    <div class=\"colab-df-container\">\n",
              "      <div>\n",
              "<style scoped>\n",
              "    .dataframe tbody tr th:only-of-type {\n",
              "        vertical-align: middle;\n",
              "    }\n",
              "\n",
              "    .dataframe tbody tr th {\n",
              "        vertical-align: top;\n",
              "    }\n",
              "\n",
              "    .dataframe thead th {\n",
              "        text-align: right;\n",
              "    }\n",
              "</style>\n",
              "<table border=\"1\" class=\"dataframe\">\n",
              "  <thead>\n",
              "    <tr style=\"text-align: right;\">\n",
              "      <th></th>\n",
              "      <th>Country Name</th>\n",
              "      <th>Country Code</th>\n",
              "      <th>Series Name</th>\n",
              "      <th>Series Code</th>\n",
              "      <th>2016 [YR2016]</th>\n",
              "      <th>2017 [YR2017]</th>\n",
              "      <th>2018 [YR2018]</th>\n",
              "      <th>2019 [YR2019]</th>\n",
              "      <th>2020 [YR2020]</th>\n",
              "    </tr>\n",
              "  </thead>\n",
              "  <tbody>\n",
              "    <tr>\n",
              "      <th>0</th>\n",
              "      <td>Finland</td>\n",
              "      <td>FIN</td>\n",
              "      <td>Control of Corruption: Estimate</td>\n",
              "      <td>CC.EST</td>\n",
              "      <td>2.233331</td>\n",
              "      <td>2.211039</td>\n",
              "      <td>2.211138</td>\n",
              "      <td>2.153200</td>\n",
              "      <td>2.204168</td>\n",
              "    </tr>\n",
              "    <tr>\n",
              "      <th>1</th>\n",
              "      <td>Finland</td>\n",
              "      <td>FIN</td>\n",
              "      <td>Government Effectiveness: Estimate</td>\n",
              "      <td>GE.EST</td>\n",
              "      <td>1.877939</td>\n",
              "      <td>2.018676</td>\n",
              "      <td>2.055259</td>\n",
              "      <td>2.006594</td>\n",
              "      <td>1.948935</td>\n",
              "    </tr>\n",
              "    <tr>\n",
              "      <th>2</th>\n",
              "      <td>Finland</td>\n",
              "      <td>FIN</td>\n",
              "      <td>Political Stability and Absence of Violence/Te...</td>\n",
              "      <td>PV.EST</td>\n",
              "      <td>0.999086</td>\n",
              "      <td>1.080909</td>\n",
              "      <td>0.908359</td>\n",
              "      <td>0.851657</td>\n",
              "      <td>0.944625</td>\n",
              "    </tr>\n",
              "    <tr>\n",
              "      <th>3</th>\n",
              "      <td>Finland</td>\n",
              "      <td>FIN</td>\n",
              "      <td>Regulatory Quality: Estimate</td>\n",
              "      <td>RQ.EST</td>\n",
              "      <td>1.817408</td>\n",
              "      <td>1.823055</td>\n",
              "      <td>1.785690</td>\n",
              "      <td>1.851164</td>\n",
              "      <td>1.854752</td>\n",
              "    </tr>\n",
              "    <tr>\n",
              "      <th>4</th>\n",
              "      <td>Finland</td>\n",
              "      <td>FIN</td>\n",
              "      <td>Rule of Law: Estimate</td>\n",
              "      <td>RL.EST</td>\n",
              "      <td>2.049946</td>\n",
              "      <td>2.069357</td>\n",
              "      <td>2.079443</td>\n",
              "      <td>2.058016</td>\n",
              "      <td>2.078883</td>\n",
              "    </tr>\n",
              "    <tr>\n",
              "      <th>...</th>\n",
              "      <td>...</td>\n",
              "      <td>...</td>\n",
              "      <td>...</td>\n",
              "      <td>...</td>\n",
              "      <td>...</td>\n",
              "      <td>...</td>\n",
              "      <td>...</td>\n",
              "      <td>...</td>\n",
              "      <td>...</td>\n",
              "    </tr>\n",
              "    <tr>\n",
              "      <th>228</th>\n",
              "      <td>NaN</td>\n",
              "      <td>NaN</td>\n",
              "      <td>NaN</td>\n",
              "      <td>NaN</td>\n",
              "      <td>NaN</td>\n",
              "      <td>NaN</td>\n",
              "      <td>NaN</td>\n",
              "      <td>NaN</td>\n",
              "      <td>NaN</td>\n",
              "    </tr>\n",
              "    <tr>\n",
              "      <th>229</th>\n",
              "      <td>NaN</td>\n",
              "      <td>NaN</td>\n",
              "      <td>NaN</td>\n",
              "      <td>NaN</td>\n",
              "      <td>NaN</td>\n",
              "      <td>NaN</td>\n",
              "      <td>NaN</td>\n",
              "      <td>NaN</td>\n",
              "      <td>NaN</td>\n",
              "    </tr>\n",
              "    <tr>\n",
              "      <th>230</th>\n",
              "      <td>NaN</td>\n",
              "      <td>NaN</td>\n",
              "      <td>NaN</td>\n",
              "      <td>NaN</td>\n",
              "      <td>NaN</td>\n",
              "      <td>NaN</td>\n",
              "      <td>NaN</td>\n",
              "      <td>NaN</td>\n",
              "      <td>NaN</td>\n",
              "    </tr>\n",
              "    <tr>\n",
              "      <th>231</th>\n",
              "      <td>Data from database: Worldwide Governance Indic...</td>\n",
              "      <td>NaN</td>\n",
              "      <td>NaN</td>\n",
              "      <td>NaN</td>\n",
              "      <td>NaN</td>\n",
              "      <td>NaN</td>\n",
              "      <td>NaN</td>\n",
              "      <td>NaN</td>\n",
              "      <td>NaN</td>\n",
              "    </tr>\n",
              "    <tr>\n",
              "      <th>232</th>\n",
              "      <td>Last Updated: 09/27/2021</td>\n",
              "      <td>NaN</td>\n",
              "      <td>NaN</td>\n",
              "      <td>NaN</td>\n",
              "      <td>NaN</td>\n",
              "      <td>NaN</td>\n",
              "      <td>NaN</td>\n",
              "      <td>NaN</td>\n",
              "      <td>NaN</td>\n",
              "    </tr>\n",
              "  </tbody>\n",
              "</table>\n",
              "<p>233 rows × 9 columns</p>\n",
              "</div>\n",
              "      <button class=\"colab-df-convert\" onclick=\"convertToInteractive('df-9f723576-7844-4abc-af09-55cc9341d34d')\"\n",
              "              title=\"Convert this dataframe to an interactive table.\"\n",
              "              style=\"display:none;\">\n",
              "        \n",
              "  <svg xmlns=\"http://www.w3.org/2000/svg\" height=\"24px\"viewBox=\"0 0 24 24\"\n",
              "       width=\"24px\">\n",
              "    <path d=\"M0 0h24v24H0V0z\" fill=\"none\"/>\n",
              "    <path d=\"M18.56 5.44l.94 2.06.94-2.06 2.06-.94-2.06-.94-.94-2.06-.94 2.06-2.06.94zm-11 1L8.5 8.5l.94-2.06 2.06-.94-2.06-.94L8.5 2.5l-.94 2.06-2.06.94zm10 10l.94 2.06.94-2.06 2.06-.94-2.06-.94-.94-2.06-.94 2.06-2.06.94z\"/><path d=\"M17.41 7.96l-1.37-1.37c-.4-.4-.92-.59-1.43-.59-.52 0-1.04.2-1.43.59L10.3 9.45l-7.72 7.72c-.78.78-.78 2.05 0 2.83L4 21.41c.39.39.9.59 1.41.59.51 0 1.02-.2 1.41-.59l7.78-7.78 2.81-2.81c.8-.78.8-2.07 0-2.86zM5.41 20L4 18.59l7.72-7.72 1.47 1.35L5.41 20z\"/>\n",
              "  </svg>\n",
              "      </button>\n",
              "      \n",
              "  <style>\n",
              "    .colab-df-container {\n",
              "      display:flex;\n",
              "      flex-wrap:wrap;\n",
              "      gap: 12px;\n",
              "    }\n",
              "\n",
              "    .colab-df-convert {\n",
              "      background-color: #E8F0FE;\n",
              "      border: none;\n",
              "      border-radius: 50%;\n",
              "      cursor: pointer;\n",
              "      display: none;\n",
              "      fill: #1967D2;\n",
              "      height: 32px;\n",
              "      padding: 0 0 0 0;\n",
              "      width: 32px;\n",
              "    }\n",
              "\n",
              "    .colab-df-convert:hover {\n",
              "      background-color: #E2EBFA;\n",
              "      box-shadow: 0px 1px 2px rgba(60, 64, 67, 0.3), 0px 1px 3px 1px rgba(60, 64, 67, 0.15);\n",
              "      fill: #174EA6;\n",
              "    }\n",
              "\n",
              "    [theme=dark] .colab-df-convert {\n",
              "      background-color: #3B4455;\n",
              "      fill: #D2E3FC;\n",
              "    }\n",
              "\n",
              "    [theme=dark] .colab-df-convert:hover {\n",
              "      background-color: #434B5C;\n",
              "      box-shadow: 0px 1px 3px 1px rgba(0, 0, 0, 0.15);\n",
              "      filter: drop-shadow(0px 1px 2px rgba(0, 0, 0, 0.3));\n",
              "      fill: #FFFFFF;\n",
              "    }\n",
              "  </style>\n",
              "\n",
              "      <script>\n",
              "        const buttonEl =\n",
              "          document.querySelector('#df-9f723576-7844-4abc-af09-55cc9341d34d button.colab-df-convert');\n",
              "        buttonEl.style.display =\n",
              "          google.colab.kernel.accessAllowed ? 'block' : 'none';\n",
              "\n",
              "        async function convertToInteractive(key) {\n",
              "          const element = document.querySelector('#df-9f723576-7844-4abc-af09-55cc9341d34d');\n",
              "          const dataTable =\n",
              "            await google.colab.kernel.invokeFunction('convertToInteractive',\n",
              "                                                     [key], {});\n",
              "          if (!dataTable) return;\n",
              "\n",
              "          const docLinkHtml = 'Like what you see? Visit the ' +\n",
              "            '<a target=\"_blank\" href=https://colab.research.google.com/notebooks/data_table.ipynb>data table notebook</a>'\n",
              "            + ' to learn more about interactive tables.';\n",
              "          element.innerHTML = '';\n",
              "          dataTable['output_type'] = 'display_data';\n",
              "          await google.colab.output.renderOutput(dataTable, element);\n",
              "          const docLink = document.createElement('div');\n",
              "          docLink.innerHTML = docLinkHtml;\n",
              "          element.appendChild(docLink);\n",
              "        }\n",
              "      </script>\n",
              "    </div>\n",
              "  </div>\n",
              "  "
            ]
          },
          "metadata": {},
          "execution_count": 7
        }
      ]
    },
    {
      "cell_type": "code",
      "source": [
        "Factors.reset_index()\n",
        "Factors.rename(columns={'Country Name': 'Country_Name', 'Series Name': 'Series_Name'},  inplace=True)\n",
        "Factors.rename(columns={'2016 [YR2016]': '2016', '2017 [YR2017]': '2017','2018 [YR2018]': '2018','2019 [YR2019]': '2019','2020 [YR2020]': '2020'},  inplace=True)\n"
      ],
      "metadata": {
        "id": "M2jKr2-oyLb6"
      },
      "execution_count": 8,
      "outputs": []
    },
    {
      "cell_type": "code",
      "source": [
        "Factors.sort_index(inplace=True)\n",
        "Factors = Factors.dropna(how='all',axis=0) \n",
        "print(Factors.index)"
      ],
      "metadata": {
        "id": "A_gHI0qp4Y61",
        "colab": {
          "base_uri": "https://localhost:8080/"
        },
        "outputId": "ba86fbbb-5a1e-4c1e-cf51-8344c3c5e571"
      },
      "execution_count": 9,
      "outputs": [
        {
          "output_type": "stream",
          "name": "stdout",
          "text": [
            "Int64Index([  0,   1,   2,   3,   4,   5,   6,   7,   8,   9,\n",
            "            ...\n",
            "            220, 221, 222, 223, 224, 225, 226, 227, 231, 232],\n",
            "           dtype='int64', length=230)\n"
          ]
        }
      ]
    },
    {
      "cell_type": "code",
      "source": [
        "Factors.head"
      ],
      "metadata": {
        "id": "PV2qc9tLevEb",
        "colab": {
          "base_uri": "https://localhost:8080/"
        },
        "outputId": "749224f2-d9ae-4ae7-d86d-2843837066b8"
      },
      "execution_count": 10,
      "outputs": [
        {
          "output_type": "execute_result",
          "data": {
            "text/plain": [
              "<bound method NDFrame.head of                                           Country_Name Country Code  \\\n",
              "0                                              Finland          FIN   \n",
              "1                                              Finland          FIN   \n",
              "2                                              Finland          FIN   \n",
              "3                                              Finland          FIN   \n",
              "4                                              Finland          FIN   \n",
              "..                                                 ...          ...   \n",
              "225                                            Denmark          DNK   \n",
              "226                                            Denmark          DNK   \n",
              "227                                            Denmark          DNK   \n",
              "231  Data from database: Worldwide Governance Indic...          NaN   \n",
              "232                           Last Updated: 09/27/2021          NaN   \n",
              "\n",
              "                                           Series_Name Series Code      2016  \\\n",
              "0                      Control of Corruption: Estimate      CC.EST  2.233331   \n",
              "1                   Government Effectiveness: Estimate      GE.EST  1.877939   \n",
              "2    Political Stability and Absence of Violence/Te...      PV.EST  0.999086   \n",
              "3                         Regulatory Quality: Estimate      RQ.EST  1.817408   \n",
              "4                                Rule of Law: Estimate      RL.EST  2.049946   \n",
              "..                                                 ...         ...       ...   \n",
              "225                       Regulatory Quality: Estimate      RQ.EST  1.575408   \n",
              "226                              Rule of Law: Estimate      RL.EST  1.924276   \n",
              "227                 Voice and Accountability: Estimate      VA.EST  1.541422   \n",
              "231                                                NaN         NaN       NaN   \n",
              "232                                                NaN         NaN       NaN   \n",
              "\n",
              "         2017      2018      2019      2020  \n",
              "0    2.211039  2.211138  2.153200  2.204168  \n",
              "1    2.018676  2.055259  2.006594  1.948935  \n",
              "2    1.080909  0.908359  0.851657  0.944625  \n",
              "3    1.823055  1.785690  1.851164  1.854752  \n",
              "4    2.069357  2.079443  2.058016  2.078883  \n",
              "..        ...       ...       ...       ...  \n",
              "225  1.624285  1.636302  1.565141  1.790884  \n",
              "226  1.847278  1.815461  1.876799  1.858852  \n",
              "227  1.517764  1.561593  1.545238  1.520361  \n",
              "231       NaN       NaN       NaN       NaN  \n",
              "232       NaN       NaN       NaN       NaN  \n",
              "\n",
              "[230 rows x 9 columns]>"
            ]
          },
          "metadata": {},
          "execution_count": 10
        }
      ]
    },
    {
      "cell_type": "markdown",
      "source": [
        "In order to clean this dataset, I found it easiest to break down by the series name/metric being measured. Later, I will combine the smaller Dataframes with the main dataframe individually."
      ],
      "metadata": {
        "id": "4cvTTKTjKDqA"
      }
    },
    {
      "cell_type": "code",
      "source": [
        "Corruption = Factors.loc[Factors['Series_Name'] == \"Control of Corruption: Estimate\"]\n",
        "#Create a Dataframe with one column named \"Control_Of_Corruption\" with the corresponding value\n",
        "Corruption = Corruption.melt(id_vars=[\"Country_Name\", \"Country Code\", \"Series Code\", \"Series_Name\"], \n",
        "        var_name=\"Year\", \n",
        "        value_name=\"Control_Of_Corruption\",\n",
        "        ignore_index= False)\n",
        "Corruption.drop(columns=['Country Code', 'Series Code', 'Series_Name'], inplace= True)\n",
        "Corruption['Year']=Corruption['Year'].astype(int)\n",
        "Corruption.reset_index()\n",
        "#Set a matching index\n",
        "Corruption.set_index(['Year','Country_Name'], inplace=True)\n"
      ],
      "metadata": {
        "id": "Lk7S0icVSrbs"
      },
      "execution_count": 11,
      "outputs": []
    },
    {
      "cell_type": "markdown",
      "source": [
        "Repeat this process for every column that I want to combine into the main dataframe later on."
      ],
      "metadata": {
        "id": "UVzXe-bWv4QP"
      }
    },
    {
      "cell_type": "code",
      "source": [
        "GovEffectiveness = Factors.loc[Factors['Series_Name'] == \"Government Effectiveness: Estimate\"]\n",
        "GovEffectiveness = GovEffectiveness.melt(id_vars=[\"Country_Name\", \"Country Code\", \"Series Code\", \"Series_Name\"], \n",
        "        var_name=\"Year\", \n",
        "        value_name=\"Government_Effectiveness\",\n",
        "        ignore_index= False)\n",
        "GovEffectiveness.drop(columns=['Country Code', 'Series Code', 'Series_Name'], inplace= True)\n",
        "GovEffectiveness['Year']=GovEffectiveness['Year'].astype(int)\n",
        "GovEffectiveness.reset_index()\n",
        "GovEffectiveness.set_index(['Year','Country_Name'], inplace=True)"
      ],
      "metadata": {
        "id": "1dLBXk_qQMS4"
      },
      "execution_count": 12,
      "outputs": []
    },
    {
      "cell_type": "code",
      "source": [
        "Stability = Factors.loc[Factors['Series_Name'] == \"Political Stability and Absence of Violence/Terrorism: Estimate\"]\n",
        "Stability = Stability.melt(id_vars=[\"Country_Name\", \"Country Code\", \"Series Code\", \"Series_Name\"], \n",
        "        var_name=\"Year\", \n",
        "        value_name=\"Stability_And_Absence_Of_Terrorism\",\n",
        "        ignore_index= False)\n",
        "Stability.drop(columns=['Country Code', 'Series Code', 'Series_Name'], inplace= True)\n",
        "Stability['Year']=Stability['Year'].astype(int)\n",
        "Stability.reset_index()\n",
        "Stability.set_index(['Year','Country_Name'], inplace=True)"
      ],
      "metadata": {
        "id": "CfyVPycQdXKu"
      },
      "execution_count": 13,
      "outputs": []
    },
    {
      "cell_type": "code",
      "source": [
        "Voice_And_Accountability = Factors.loc[Factors['Series_Name'] == \"Voice and Accountability: Estimate\"]\n",
        "Voice_And_Accountability = Voice_And_Accountability.melt(id_vars=[\"Country_Name\", \"Country Code\", \"Series Code\", \"Series_Name\"], \n",
        "        var_name=\"Year\", \n",
        "        value_name=\"Voice_And_Accountability\",\n",
        "        ignore_index= False)\n",
        "Voice_And_Accountability.drop(columns=['Country Code', 'Series Code', 'Series_Name'], inplace= True)\n",
        "Voice_And_Accountability['Year']=Voice_And_Accountability['Year'].astype(int)\n",
        "Voice_And_Accountability.reset_index()\n",
        "Voice_And_Accountability.set_index(['Year','Country_Name'], inplace= True)"
      ],
      "metadata": {
        "id": "TNTAlO2D8RDX"
      },
      "execution_count": 14,
      "outputs": []
    },
    {
      "cell_type": "code",
      "source": [
        "Regulatory_Quality = Factors.loc[Factors['Series_Name'] == \"Regulatory Quality: Estimate\"]\n",
        "Regulatory_Quality = Regulatory_Quality.melt(id_vars=[\"Country_Name\", \"Country Code\", \"Series Code\", \"Series_Name\"], \n",
        "        var_name=\"Year\", \n",
        "        value_name=\"Regulatory_Quality\",\n",
        "        ignore_index= False)\n",
        "Regulatory_Quality.drop(columns=['Country Code', 'Series Code', 'Series_Name'], inplace= True)\n",
        "Regulatory_Quality['Year']=Regulatory_Quality['Year'].astype(int)\n",
        "Regulatory_Quality.reset_index()\n",
        "Regulatory_Quality.set_index(['Year','Country_Name'], inplace= True)"
      ],
      "metadata": {
        "id": "3C9WqYGP_5Rp"
      },
      "execution_count": 15,
      "outputs": []
    },
    {
      "cell_type": "code",
      "source": [
        "Rule_of_Law = Factors.loc[Factors['Series_Name'] == \"Rule of Law: Estimate\"]\n",
        "Rule_of_Law = Rule_of_Law.melt(id_vars=[\"Country_Name\", \"Country Code\", \"Series Code\", \"Series_Name\"], \n",
        "        var_name=\"Year\", \n",
        "        value_name=\"Rule_of_Law\",\n",
        "        ignore_index= False)\n",
        "Rule_of_Law.drop(columns=['Country Code', 'Series Code', 'Series_Name'], inplace= True)\n",
        "Rule_of_Law['Year']=Rule_of_Law['Year'].astype(int)\n",
        "Rule_of_Law.reset_index()\n",
        "Rule_of_Law.set_index(['Year','Country_Name'], inplace=True)"
      ],
      "metadata": {
        "id": "sTv3ln9ZAXcz"
      },
      "execution_count": 16,
      "outputs": []
    },
    {
      "cell_type": "markdown",
      "source": [
        "# Cleaning Happiness Dataset"
      ],
      "metadata": {
        "id": "slT2zoZ0dRcZ"
      }
    },
    {
      "cell_type": "code",
      "source": [
        "Happiness"
      ],
      "metadata": {
        "colab": {
          "base_uri": "https://localhost:8080/",
          "height": 0
        },
        "id": "45Kw080oHAuT",
        "outputId": "46655df7-b57a-43ad-c9e8-1aad561f6e26"
      },
      "execution_count": 17,
      "outputs": [
        {
          "output_type": "execute_result",
          "data": {
            "text/plain": [
              "     Country name  year  Life Ladder  Log GDP per capita  Social support  \\\n",
              "0     Afghanistan  2008        3.724               7.370           0.451   \n",
              "1     Afghanistan  2009        4.402               7.540           0.552   \n",
              "2     Afghanistan  2010        4.758               7.647           0.539   \n",
              "3     Afghanistan  2011        3.832               7.620           0.521   \n",
              "4     Afghanistan  2012        3.783               7.705           0.521   \n",
              "...           ...   ...          ...                 ...             ...   \n",
              "1944     Zimbabwe  2016        3.735               7.984           0.768   \n",
              "1945     Zimbabwe  2017        3.638               8.016           0.754   \n",
              "1946     Zimbabwe  2018        3.616               8.049           0.775   \n",
              "1947     Zimbabwe  2019        2.694               7.950           0.759   \n",
              "1948     Zimbabwe  2020        3.160               7.829           0.717   \n",
              "\n",
              "      Healthy life expectancy at birth  Freedom to make life choices  \\\n",
              "0                                50.80                         0.718   \n",
              "1                                51.20                         0.679   \n",
              "2                                51.60                         0.600   \n",
              "3                                51.92                         0.496   \n",
              "4                                52.24                         0.531   \n",
              "...                                ...                           ...   \n",
              "1944                             54.40                         0.733   \n",
              "1945                             55.00                         0.753   \n",
              "1946                             55.60                         0.763   \n",
              "1947                             56.20                         0.632   \n",
              "1948                             56.80                         0.643   \n",
              "\n",
              "      Generosity  Perceptions of corruption  Positive affect  Negative affect  \n",
              "0          0.168                      0.882            0.518            0.258  \n",
              "1          0.190                      0.850            0.584            0.237  \n",
              "2          0.121                      0.707            0.618            0.275  \n",
              "3          0.162                      0.731            0.611            0.267  \n",
              "4          0.236                      0.776            0.710            0.268  \n",
              "...          ...                        ...              ...              ...  \n",
              "1944      -0.095                      0.724            0.738            0.209  \n",
              "1945      -0.098                      0.751            0.806            0.224  \n",
              "1946      -0.068                      0.844            0.710            0.212  \n",
              "1947      -0.064                      0.831            0.716            0.235  \n",
              "1948      -0.009                      0.789            0.703            0.346  \n",
              "\n",
              "[1949 rows x 11 columns]"
            ],
            "text/html": [
              "\n",
              "  <div id=\"df-eb37ddbc-29c2-45b9-94c4-9ee1966f19e5\">\n",
              "    <div class=\"colab-df-container\">\n",
              "      <div>\n",
              "<style scoped>\n",
              "    .dataframe tbody tr th:only-of-type {\n",
              "        vertical-align: middle;\n",
              "    }\n",
              "\n",
              "    .dataframe tbody tr th {\n",
              "        vertical-align: top;\n",
              "    }\n",
              "\n",
              "    .dataframe thead th {\n",
              "        text-align: right;\n",
              "    }\n",
              "</style>\n",
              "<table border=\"1\" class=\"dataframe\">\n",
              "  <thead>\n",
              "    <tr style=\"text-align: right;\">\n",
              "      <th></th>\n",
              "      <th>Country name</th>\n",
              "      <th>year</th>\n",
              "      <th>Life Ladder</th>\n",
              "      <th>Log GDP per capita</th>\n",
              "      <th>Social support</th>\n",
              "      <th>Healthy life expectancy at birth</th>\n",
              "      <th>Freedom to make life choices</th>\n",
              "      <th>Generosity</th>\n",
              "      <th>Perceptions of corruption</th>\n",
              "      <th>Positive affect</th>\n",
              "      <th>Negative affect</th>\n",
              "    </tr>\n",
              "  </thead>\n",
              "  <tbody>\n",
              "    <tr>\n",
              "      <th>0</th>\n",
              "      <td>Afghanistan</td>\n",
              "      <td>2008</td>\n",
              "      <td>3.724</td>\n",
              "      <td>7.370</td>\n",
              "      <td>0.451</td>\n",
              "      <td>50.80</td>\n",
              "      <td>0.718</td>\n",
              "      <td>0.168</td>\n",
              "      <td>0.882</td>\n",
              "      <td>0.518</td>\n",
              "      <td>0.258</td>\n",
              "    </tr>\n",
              "    <tr>\n",
              "      <th>1</th>\n",
              "      <td>Afghanistan</td>\n",
              "      <td>2009</td>\n",
              "      <td>4.402</td>\n",
              "      <td>7.540</td>\n",
              "      <td>0.552</td>\n",
              "      <td>51.20</td>\n",
              "      <td>0.679</td>\n",
              "      <td>0.190</td>\n",
              "      <td>0.850</td>\n",
              "      <td>0.584</td>\n",
              "      <td>0.237</td>\n",
              "    </tr>\n",
              "    <tr>\n",
              "      <th>2</th>\n",
              "      <td>Afghanistan</td>\n",
              "      <td>2010</td>\n",
              "      <td>4.758</td>\n",
              "      <td>7.647</td>\n",
              "      <td>0.539</td>\n",
              "      <td>51.60</td>\n",
              "      <td>0.600</td>\n",
              "      <td>0.121</td>\n",
              "      <td>0.707</td>\n",
              "      <td>0.618</td>\n",
              "      <td>0.275</td>\n",
              "    </tr>\n",
              "    <tr>\n",
              "      <th>3</th>\n",
              "      <td>Afghanistan</td>\n",
              "      <td>2011</td>\n",
              "      <td>3.832</td>\n",
              "      <td>7.620</td>\n",
              "      <td>0.521</td>\n",
              "      <td>51.92</td>\n",
              "      <td>0.496</td>\n",
              "      <td>0.162</td>\n",
              "      <td>0.731</td>\n",
              "      <td>0.611</td>\n",
              "      <td>0.267</td>\n",
              "    </tr>\n",
              "    <tr>\n",
              "      <th>4</th>\n",
              "      <td>Afghanistan</td>\n",
              "      <td>2012</td>\n",
              "      <td>3.783</td>\n",
              "      <td>7.705</td>\n",
              "      <td>0.521</td>\n",
              "      <td>52.24</td>\n",
              "      <td>0.531</td>\n",
              "      <td>0.236</td>\n",
              "      <td>0.776</td>\n",
              "      <td>0.710</td>\n",
              "      <td>0.268</td>\n",
              "    </tr>\n",
              "    <tr>\n",
              "      <th>...</th>\n",
              "      <td>...</td>\n",
              "      <td>...</td>\n",
              "      <td>...</td>\n",
              "      <td>...</td>\n",
              "      <td>...</td>\n",
              "      <td>...</td>\n",
              "      <td>...</td>\n",
              "      <td>...</td>\n",
              "      <td>...</td>\n",
              "      <td>...</td>\n",
              "      <td>...</td>\n",
              "    </tr>\n",
              "    <tr>\n",
              "      <th>1944</th>\n",
              "      <td>Zimbabwe</td>\n",
              "      <td>2016</td>\n",
              "      <td>3.735</td>\n",
              "      <td>7.984</td>\n",
              "      <td>0.768</td>\n",
              "      <td>54.40</td>\n",
              "      <td>0.733</td>\n",
              "      <td>-0.095</td>\n",
              "      <td>0.724</td>\n",
              "      <td>0.738</td>\n",
              "      <td>0.209</td>\n",
              "    </tr>\n",
              "    <tr>\n",
              "      <th>1945</th>\n",
              "      <td>Zimbabwe</td>\n",
              "      <td>2017</td>\n",
              "      <td>3.638</td>\n",
              "      <td>8.016</td>\n",
              "      <td>0.754</td>\n",
              "      <td>55.00</td>\n",
              "      <td>0.753</td>\n",
              "      <td>-0.098</td>\n",
              "      <td>0.751</td>\n",
              "      <td>0.806</td>\n",
              "      <td>0.224</td>\n",
              "    </tr>\n",
              "    <tr>\n",
              "      <th>1946</th>\n",
              "      <td>Zimbabwe</td>\n",
              "      <td>2018</td>\n",
              "      <td>3.616</td>\n",
              "      <td>8.049</td>\n",
              "      <td>0.775</td>\n",
              "      <td>55.60</td>\n",
              "      <td>0.763</td>\n",
              "      <td>-0.068</td>\n",
              "      <td>0.844</td>\n",
              "      <td>0.710</td>\n",
              "      <td>0.212</td>\n",
              "    </tr>\n",
              "    <tr>\n",
              "      <th>1947</th>\n",
              "      <td>Zimbabwe</td>\n",
              "      <td>2019</td>\n",
              "      <td>2.694</td>\n",
              "      <td>7.950</td>\n",
              "      <td>0.759</td>\n",
              "      <td>56.20</td>\n",
              "      <td>0.632</td>\n",
              "      <td>-0.064</td>\n",
              "      <td>0.831</td>\n",
              "      <td>0.716</td>\n",
              "      <td>0.235</td>\n",
              "    </tr>\n",
              "    <tr>\n",
              "      <th>1948</th>\n",
              "      <td>Zimbabwe</td>\n",
              "      <td>2020</td>\n",
              "      <td>3.160</td>\n",
              "      <td>7.829</td>\n",
              "      <td>0.717</td>\n",
              "      <td>56.80</td>\n",
              "      <td>0.643</td>\n",
              "      <td>-0.009</td>\n",
              "      <td>0.789</td>\n",
              "      <td>0.703</td>\n",
              "      <td>0.346</td>\n",
              "    </tr>\n",
              "  </tbody>\n",
              "</table>\n",
              "<p>1949 rows × 11 columns</p>\n",
              "</div>\n",
              "      <button class=\"colab-df-convert\" onclick=\"convertToInteractive('df-eb37ddbc-29c2-45b9-94c4-9ee1966f19e5')\"\n",
              "              title=\"Convert this dataframe to an interactive table.\"\n",
              "              style=\"display:none;\">\n",
              "        \n",
              "  <svg xmlns=\"http://www.w3.org/2000/svg\" height=\"24px\"viewBox=\"0 0 24 24\"\n",
              "       width=\"24px\">\n",
              "    <path d=\"M0 0h24v24H0V0z\" fill=\"none\"/>\n",
              "    <path d=\"M18.56 5.44l.94 2.06.94-2.06 2.06-.94-2.06-.94-.94-2.06-.94 2.06-2.06.94zm-11 1L8.5 8.5l.94-2.06 2.06-.94-2.06-.94L8.5 2.5l-.94 2.06-2.06.94zm10 10l.94 2.06.94-2.06 2.06-.94-2.06-.94-.94-2.06-.94 2.06-2.06.94z\"/><path d=\"M17.41 7.96l-1.37-1.37c-.4-.4-.92-.59-1.43-.59-.52 0-1.04.2-1.43.59L10.3 9.45l-7.72 7.72c-.78.78-.78 2.05 0 2.83L4 21.41c.39.39.9.59 1.41.59.51 0 1.02-.2 1.41-.59l7.78-7.78 2.81-2.81c.8-.78.8-2.07 0-2.86zM5.41 20L4 18.59l7.72-7.72 1.47 1.35L5.41 20z\"/>\n",
              "  </svg>\n",
              "      </button>\n",
              "      \n",
              "  <style>\n",
              "    .colab-df-container {\n",
              "      display:flex;\n",
              "      flex-wrap:wrap;\n",
              "      gap: 12px;\n",
              "    }\n",
              "\n",
              "    .colab-df-convert {\n",
              "      background-color: #E8F0FE;\n",
              "      border: none;\n",
              "      border-radius: 50%;\n",
              "      cursor: pointer;\n",
              "      display: none;\n",
              "      fill: #1967D2;\n",
              "      height: 32px;\n",
              "      padding: 0 0 0 0;\n",
              "      width: 32px;\n",
              "    }\n",
              "\n",
              "    .colab-df-convert:hover {\n",
              "      background-color: #E2EBFA;\n",
              "      box-shadow: 0px 1px 2px rgba(60, 64, 67, 0.3), 0px 1px 3px 1px rgba(60, 64, 67, 0.15);\n",
              "      fill: #174EA6;\n",
              "    }\n",
              "\n",
              "    [theme=dark] .colab-df-convert {\n",
              "      background-color: #3B4455;\n",
              "      fill: #D2E3FC;\n",
              "    }\n",
              "\n",
              "    [theme=dark] .colab-df-convert:hover {\n",
              "      background-color: #434B5C;\n",
              "      box-shadow: 0px 1px 3px 1px rgba(0, 0, 0, 0.15);\n",
              "      filter: drop-shadow(0px 1px 2px rgba(0, 0, 0, 0.3));\n",
              "      fill: #FFFFFF;\n",
              "    }\n",
              "  </style>\n",
              "\n",
              "      <script>\n",
              "        const buttonEl =\n",
              "          document.querySelector('#df-eb37ddbc-29c2-45b9-94c4-9ee1966f19e5 button.colab-df-convert');\n",
              "        buttonEl.style.display =\n",
              "          google.colab.kernel.accessAllowed ? 'block' : 'none';\n",
              "\n",
              "        async function convertToInteractive(key) {\n",
              "          const element = document.querySelector('#df-eb37ddbc-29c2-45b9-94c4-9ee1966f19e5');\n",
              "          const dataTable =\n",
              "            await google.colab.kernel.invokeFunction('convertToInteractive',\n",
              "                                                     [key], {});\n",
              "          if (!dataTable) return;\n",
              "\n",
              "          const docLinkHtml = 'Like what you see? Visit the ' +\n",
              "            '<a target=\"_blank\" href=https://colab.research.google.com/notebooks/data_table.ipynb>data table notebook</a>'\n",
              "            + ' to learn more about interactive tables.';\n",
              "          element.innerHTML = '';\n",
              "          dataTable['output_type'] = 'display_data';\n",
              "          await google.colab.output.renderOutput(dataTable, element);\n",
              "          const docLink = document.createElement('div');\n",
              "          docLink.innerHTML = docLinkHtml;\n",
              "          element.appendChild(docLink);\n",
              "        }\n",
              "      </script>\n",
              "    </div>\n",
              "  </div>\n",
              "  "
            ]
          },
          "metadata": {},
          "execution_count": 17
        }
      ]
    },
    {
      "cell_type": "code",
      "source": [
        "Happiness.rename(columns={'Country name': 'Country_Name', 'Log GDP per capita': 'GDP','Social support': 'Social_Support', 'year':'Year', \n",
        "                          'Healthy life expectancy at birth': 'Life_Expectancy', 'Life Ladder': 'Happiness'},  inplace=True)\n",
        "Happiness = Happiness[Happiness.Country_Name.isin(countries)]\n",
        "years = {2016,2017,2018,2019,2020}\n",
        "Happiness = Happiness[Happiness.Year.isin(years)]\n",
        "Happiness.drop(columns=['Positive affect', 'Negative affect'], inplace=True)\n",
        "Happiness.reset_index()\n",
        "#Set matching index\n",
        "Happiness.set_index(['Year','Country_Name'], inplace = True)\n"
      ],
      "metadata": {
        "id": "E9rmhwO7fVXf"
      },
      "execution_count": 18,
      "outputs": []
    },
    {
      "cell_type": "code",
      "source": [
        "Happiness"
      ],
      "metadata": {
        "colab": {
          "base_uri": "https://localhost:8080/",
          "height": 0
        },
        "id": "F_jOisPv59ot",
        "outputId": "280e847d-9d61-47a2-b3da-1281130c13fb"
      },
      "execution_count": 19,
      "outputs": [
        {
          "output_type": "execute_result",
          "data": {
            "text/plain": [
              "                   Happiness     GDP  Social_Support  Life_Expectancy  \\\n",
              "Year Country_Name                                                       \n",
              "2016 Austria           7.048  10.891           0.926             72.4   \n",
              "2017 Austria           7.294  10.908           0.906             72.7   \n",
              "2018 Austria           7.396  10.928           0.912             73.0   \n",
              "2019 Austria           7.195  10.939           0.964             73.3   \n",
              "2020 Austria           7.213  10.851           0.925             73.6   \n",
              "...                      ...     ...             ...              ...   \n",
              "2016 Uruguay           6.171   9.946           0.900             68.8   \n",
              "2017 Uruguay           6.336   9.968           0.914             68.9   \n",
              "2018 Uruguay           6.372   9.980           0.917             69.0   \n",
              "2019 Uruguay           6.600   9.979           0.933             69.1   \n",
              "2020 Uruguay           6.310   9.937           0.921             69.2   \n",
              "\n",
              "                   Freedom to make life choices  Generosity  \\\n",
              "Year Country_Name                                             \n",
              "2016 Austria                              0.889       0.080   \n",
              "2017 Austria                              0.890       0.133   \n",
              "2018 Austria                              0.904       0.053   \n",
              "2019 Austria                              0.903       0.060   \n",
              "2020 Austria                              0.912       0.011   \n",
              "...                                         ...         ...   \n",
              "2016 Uruguay                              0.886      -0.072   \n",
              "2017 Uruguay                              0.898      -0.091   \n",
              "2018 Uruguay                              0.876      -0.097   \n",
              "2019 Uruguay                              0.903      -0.095   \n",
              "2020 Uruguay                              0.908      -0.084   \n",
              "\n",
              "                   Perceptions of corruption  \n",
              "Year Country_Name                             \n",
              "2016 Austria                           0.524  \n",
              "2017 Austria                           0.518  \n",
              "2018 Austria                           0.523  \n",
              "2019 Austria                           0.457  \n",
              "2020 Austria                           0.464  \n",
              "...                                      ...  \n",
              "2016 Uruguay                           0.676  \n",
              "2017 Uruguay                           0.627  \n",
              "2018 Uruguay                           0.683  \n",
              "2019 Uruguay                           0.599  \n",
              "2020 Uruguay                           0.491  \n",
              "\n",
              "[170 rows x 7 columns]"
            ],
            "text/html": [
              "\n",
              "  <div id=\"df-4b08af33-9ba9-4b85-b87d-d9fe6a4afc4e\">\n",
              "    <div class=\"colab-df-container\">\n",
              "      <div>\n",
              "<style scoped>\n",
              "    .dataframe tbody tr th:only-of-type {\n",
              "        vertical-align: middle;\n",
              "    }\n",
              "\n",
              "    .dataframe tbody tr th {\n",
              "        vertical-align: top;\n",
              "    }\n",
              "\n",
              "    .dataframe thead th {\n",
              "        text-align: right;\n",
              "    }\n",
              "</style>\n",
              "<table border=\"1\" class=\"dataframe\">\n",
              "  <thead>\n",
              "    <tr style=\"text-align: right;\">\n",
              "      <th></th>\n",
              "      <th></th>\n",
              "      <th>Happiness</th>\n",
              "      <th>GDP</th>\n",
              "      <th>Social_Support</th>\n",
              "      <th>Life_Expectancy</th>\n",
              "      <th>Freedom to make life choices</th>\n",
              "      <th>Generosity</th>\n",
              "      <th>Perceptions of corruption</th>\n",
              "    </tr>\n",
              "    <tr>\n",
              "      <th>Year</th>\n",
              "      <th>Country_Name</th>\n",
              "      <th></th>\n",
              "      <th></th>\n",
              "      <th></th>\n",
              "      <th></th>\n",
              "      <th></th>\n",
              "      <th></th>\n",
              "      <th></th>\n",
              "    </tr>\n",
              "  </thead>\n",
              "  <tbody>\n",
              "    <tr>\n",
              "      <th>2016</th>\n",
              "      <th>Austria</th>\n",
              "      <td>7.048</td>\n",
              "      <td>10.891</td>\n",
              "      <td>0.926</td>\n",
              "      <td>72.4</td>\n",
              "      <td>0.889</td>\n",
              "      <td>0.080</td>\n",
              "      <td>0.524</td>\n",
              "    </tr>\n",
              "    <tr>\n",
              "      <th>2017</th>\n",
              "      <th>Austria</th>\n",
              "      <td>7.294</td>\n",
              "      <td>10.908</td>\n",
              "      <td>0.906</td>\n",
              "      <td>72.7</td>\n",
              "      <td>0.890</td>\n",
              "      <td>0.133</td>\n",
              "      <td>0.518</td>\n",
              "    </tr>\n",
              "    <tr>\n",
              "      <th>2018</th>\n",
              "      <th>Austria</th>\n",
              "      <td>7.396</td>\n",
              "      <td>10.928</td>\n",
              "      <td>0.912</td>\n",
              "      <td>73.0</td>\n",
              "      <td>0.904</td>\n",
              "      <td>0.053</td>\n",
              "      <td>0.523</td>\n",
              "    </tr>\n",
              "    <tr>\n",
              "      <th>2019</th>\n",
              "      <th>Austria</th>\n",
              "      <td>7.195</td>\n",
              "      <td>10.939</td>\n",
              "      <td>0.964</td>\n",
              "      <td>73.3</td>\n",
              "      <td>0.903</td>\n",
              "      <td>0.060</td>\n",
              "      <td>0.457</td>\n",
              "    </tr>\n",
              "    <tr>\n",
              "      <th>2020</th>\n",
              "      <th>Austria</th>\n",
              "      <td>7.213</td>\n",
              "      <td>10.851</td>\n",
              "      <td>0.925</td>\n",
              "      <td>73.6</td>\n",
              "      <td>0.912</td>\n",
              "      <td>0.011</td>\n",
              "      <td>0.464</td>\n",
              "    </tr>\n",
              "    <tr>\n",
              "      <th>...</th>\n",
              "      <th>...</th>\n",
              "      <td>...</td>\n",
              "      <td>...</td>\n",
              "      <td>...</td>\n",
              "      <td>...</td>\n",
              "      <td>...</td>\n",
              "      <td>...</td>\n",
              "      <td>...</td>\n",
              "    </tr>\n",
              "    <tr>\n",
              "      <th>2016</th>\n",
              "      <th>Uruguay</th>\n",
              "      <td>6.171</td>\n",
              "      <td>9.946</td>\n",
              "      <td>0.900</td>\n",
              "      <td>68.8</td>\n",
              "      <td>0.886</td>\n",
              "      <td>-0.072</td>\n",
              "      <td>0.676</td>\n",
              "    </tr>\n",
              "    <tr>\n",
              "      <th>2017</th>\n",
              "      <th>Uruguay</th>\n",
              "      <td>6.336</td>\n",
              "      <td>9.968</td>\n",
              "      <td>0.914</td>\n",
              "      <td>68.9</td>\n",
              "      <td>0.898</td>\n",
              "      <td>-0.091</td>\n",
              "      <td>0.627</td>\n",
              "    </tr>\n",
              "    <tr>\n",
              "      <th>2018</th>\n",
              "      <th>Uruguay</th>\n",
              "      <td>6.372</td>\n",
              "      <td>9.980</td>\n",
              "      <td>0.917</td>\n",
              "      <td>69.0</td>\n",
              "      <td>0.876</td>\n",
              "      <td>-0.097</td>\n",
              "      <td>0.683</td>\n",
              "    </tr>\n",
              "    <tr>\n",
              "      <th>2019</th>\n",
              "      <th>Uruguay</th>\n",
              "      <td>6.600</td>\n",
              "      <td>9.979</td>\n",
              "      <td>0.933</td>\n",
              "      <td>69.1</td>\n",
              "      <td>0.903</td>\n",
              "      <td>-0.095</td>\n",
              "      <td>0.599</td>\n",
              "    </tr>\n",
              "    <tr>\n",
              "      <th>2020</th>\n",
              "      <th>Uruguay</th>\n",
              "      <td>6.310</td>\n",
              "      <td>9.937</td>\n",
              "      <td>0.921</td>\n",
              "      <td>69.2</td>\n",
              "      <td>0.908</td>\n",
              "      <td>-0.084</td>\n",
              "      <td>0.491</td>\n",
              "    </tr>\n",
              "  </tbody>\n",
              "</table>\n",
              "<p>170 rows × 7 columns</p>\n",
              "</div>\n",
              "      <button class=\"colab-df-convert\" onclick=\"convertToInteractive('df-4b08af33-9ba9-4b85-b87d-d9fe6a4afc4e')\"\n",
              "              title=\"Convert this dataframe to an interactive table.\"\n",
              "              style=\"display:none;\">\n",
              "        \n",
              "  <svg xmlns=\"http://www.w3.org/2000/svg\" height=\"24px\"viewBox=\"0 0 24 24\"\n",
              "       width=\"24px\">\n",
              "    <path d=\"M0 0h24v24H0V0z\" fill=\"none\"/>\n",
              "    <path d=\"M18.56 5.44l.94 2.06.94-2.06 2.06-.94-2.06-.94-.94-2.06-.94 2.06-2.06.94zm-11 1L8.5 8.5l.94-2.06 2.06-.94-2.06-.94L8.5 2.5l-.94 2.06-2.06.94zm10 10l.94 2.06.94-2.06 2.06-.94-2.06-.94-.94-2.06-.94 2.06-2.06.94z\"/><path d=\"M17.41 7.96l-1.37-1.37c-.4-.4-.92-.59-1.43-.59-.52 0-1.04.2-1.43.59L10.3 9.45l-7.72 7.72c-.78.78-.78 2.05 0 2.83L4 21.41c.39.39.9.59 1.41.59.51 0 1.02-.2 1.41-.59l7.78-7.78 2.81-2.81c.8-.78.8-2.07 0-2.86zM5.41 20L4 18.59l7.72-7.72 1.47 1.35L5.41 20z\"/>\n",
              "  </svg>\n",
              "      </button>\n",
              "      \n",
              "  <style>\n",
              "    .colab-df-container {\n",
              "      display:flex;\n",
              "      flex-wrap:wrap;\n",
              "      gap: 12px;\n",
              "    }\n",
              "\n",
              "    .colab-df-convert {\n",
              "      background-color: #E8F0FE;\n",
              "      border: none;\n",
              "      border-radius: 50%;\n",
              "      cursor: pointer;\n",
              "      display: none;\n",
              "      fill: #1967D2;\n",
              "      height: 32px;\n",
              "      padding: 0 0 0 0;\n",
              "      width: 32px;\n",
              "    }\n",
              "\n",
              "    .colab-df-convert:hover {\n",
              "      background-color: #E2EBFA;\n",
              "      box-shadow: 0px 1px 2px rgba(60, 64, 67, 0.3), 0px 1px 3px 1px rgba(60, 64, 67, 0.15);\n",
              "      fill: #174EA6;\n",
              "    }\n",
              "\n",
              "    [theme=dark] .colab-df-convert {\n",
              "      background-color: #3B4455;\n",
              "      fill: #D2E3FC;\n",
              "    }\n",
              "\n",
              "    [theme=dark] .colab-df-convert:hover {\n",
              "      background-color: #434B5C;\n",
              "      box-shadow: 0px 1px 3px 1px rgba(0, 0, 0, 0.15);\n",
              "      filter: drop-shadow(0px 1px 2px rgba(0, 0, 0, 0.3));\n",
              "      fill: #FFFFFF;\n",
              "    }\n",
              "  </style>\n",
              "\n",
              "      <script>\n",
              "        const buttonEl =\n",
              "          document.querySelector('#df-4b08af33-9ba9-4b85-b87d-d9fe6a4afc4e button.colab-df-convert');\n",
              "        buttonEl.style.display =\n",
              "          google.colab.kernel.accessAllowed ? 'block' : 'none';\n",
              "\n",
              "        async function convertToInteractive(key) {\n",
              "          const element = document.querySelector('#df-4b08af33-9ba9-4b85-b87d-d9fe6a4afc4e');\n",
              "          const dataTable =\n",
              "            await google.colab.kernel.invokeFunction('convertToInteractive',\n",
              "                                                     [key], {});\n",
              "          if (!dataTable) return;\n",
              "\n",
              "          const docLinkHtml = 'Like what you see? Visit the ' +\n",
              "            '<a target=\"_blank\" href=https://colab.research.google.com/notebooks/data_table.ipynb>data table notebook</a>'\n",
              "            + ' to learn more about interactive tables.';\n",
              "          element.innerHTML = '';\n",
              "          dataTable['output_type'] = 'display_data';\n",
              "          await google.colab.output.renderOutput(dataTable, element);\n",
              "          const docLink = document.createElement('div');\n",
              "          docLink.innerHTML = docLinkHtml;\n",
              "          element.appendChild(docLink);\n",
              "        }\n",
              "      </script>\n",
              "    </div>\n",
              "  </div>\n",
              "  "
            ]
          },
          "metadata": {},
          "execution_count": 19
        }
      ]
    },
    {
      "cell_type": "markdown",
      "source": [
        "#Merging Datasets"
      ],
      "metadata": {
        "id": "NHAqwfJAHdqd"
      }
    },
    {
      "cell_type": "code",
      "source": [
        "Happiness = Happiness.join([Corruption, GovEffectiveness, Stability, Voice_And_Accountability, Regulatory_Quality, Rule_of_Law], how='inner')\n",
        "Happiness['Women_In_Government'] = Gender['Women_In_Government']\n",
        "Happiness2 = Happiness.copy()"
      ],
      "metadata": {
        "id": "DzZQdD3Mi9cH"
      },
      "execution_count": 20,
      "outputs": []
    },
    {
      "cell_type": "code",
      "source": [
        "list(Happiness.columns)"
      ],
      "metadata": {
        "colab": {
          "base_uri": "https://localhost:8080/"
        },
        "id": "0adRj65RbOA0",
        "outputId": "2e5cb593-399c-43f6-c175-deb1470dff24"
      },
      "execution_count": 21,
      "outputs": [
        {
          "output_type": "execute_result",
          "data": {
            "text/plain": [
              "['Happiness',\n",
              " 'GDP',\n",
              " 'Social_Support',\n",
              " 'Life_Expectancy',\n",
              " 'Freedom to make life choices',\n",
              " 'Generosity',\n",
              " 'Perceptions of corruption',\n",
              " 'Control_Of_Corruption',\n",
              " 'Government_Effectiveness',\n",
              " 'Stability_And_Absence_Of_Terrorism',\n",
              " 'Voice_And_Accountability',\n",
              " 'Regulatory_Quality',\n",
              " 'Rule_of_Law',\n",
              " 'Women_In_Government']"
            ]
          },
          "metadata": {},
          "execution_count": 21
        }
      ]
    },
    {
      "cell_type": "markdown",
      "source": [
        "# Do economic or social factors have the highest impact in the happiest countries?"
      ],
      "metadata": {
        "id": "lc5hHhcyxwKF"
      }
    },
    {
      "cell_type": "markdown",
      "source": [
        "Find the correlation between the social, political, and economic factors with happiness."
      ],
      "metadata": {
        "id": "WU_DZI7XwVlb"
      }
    },
    {
      "cell_type": "code",
      "source": [
        "Economy = pd.DataFrame()\n",
        "Economy = Happiness.copy()\n",
        "Economy.reset_index(inplace=True)\n",
        "Economy.drop(columns=['Freedom to make life choices', 'Life_Expectancy','Voice_And_Accountability',\n",
        "                      'Rule_of_Law','Women_In_Government', 'Stability_And_Absence_Of_Terrorism','Perceptions of corruption',\n",
        "                      'Government_Effectiveness','Control_Of_Corruption'], inplace=True)"
      ],
      "metadata": {
        "id": "QYJjtlXJyxJa"
      },
      "execution_count": 22,
      "outputs": []
    },
    {
      "cell_type": "code",
      "source": [
        "Social = pd.DataFrame()\n",
        "Social = Happiness.copy()\n",
        "Social.reset_index(inplace=True)\n",
        "Social.drop(columns=['GDP','Social_Support','Generosity','Control_Of_Corruption','Government_Effectiveness',\n",
        "                     'Regulatory_Quality','Rule_of_Law'], inplace=True)"
      ],
      "metadata": {
        "id": "C2jBN_9J4O6v"
      },
      "execution_count": 23,
      "outputs": []
    },
    {
      "cell_type": "code",
      "source": [
        "Political = pd.DataFrame()\n",
        "Political = Happiness.copy()\n",
        "Political.reset_index(inplace=True)\n",
        "Political.drop(columns=['GDP','Social_Support','Generosity','Perceptions of corruption','Women_In_Government','Life_Expectancy',\n",
        "                        'Freedom to make life choices', 'Voice_And_Accountability', 'Regulatory_Quality'], inplace=True)"
      ],
      "metadata": {
        "id": "j5fXS7yyT_ag"
      },
      "execution_count": 24,
      "outputs": []
    },
    {
      "cell_type": "code",
      "source": [
        "GDPCor = Economy[\"Happiness\"].corr(Economy[\"GDP\"])\n",
        "GenerosityCor = Economy[\"Happiness\"].corr(Economy[\"Generosity\"])\n",
        "SupportCor = Economy[\"Happiness\"].corr(Economy[\"Social_Support\"])\n",
        "RegulatoryCor = Economy[\"Happiness\"].corr(Economy[\"Regulatory_Quality\"])\n",
        "\n",
        "\n",
        "print(\"GDP Correlation is: \")\n",
        "print(GDPCor)\n",
        "print(\"Generosity Correlaion is: \")\n",
        "print(GenerosityCor)\n",
        "print(\"Social Support Correlation is: \")\n",
        "print(SupportCor)\n",
        "print(\"Regulatory Quality is: \")\n",
        "print(RegulatoryCor)\n",
        "EconomicCorrelation = ((GDPCor + GenerosityCor + SupportCor + RegulatoryCor)/4)\n",
        "print(\"Overall Economic Correlation: \")\n",
        "print(EconomicCorrelation)"
      ],
      "metadata": {
        "colab": {
          "base_uri": "https://localhost:8080/"
        },
        "id": "dPH6LtIUdMlj",
        "outputId": "79d0c50e-fddb-4f6f-cd58-5e23677ba282"
      },
      "execution_count": 25,
      "outputs": [
        {
          "output_type": "stream",
          "name": "stdout",
          "text": [
            "GDP Correlation is: \n",
            "0.45462831073080445\n",
            "Generosity Correlaion is: \n",
            "0.4759664862805642\n",
            "Social Support Correlation is: \n",
            "0.5632620356836717\n",
            "Regulatory Quality is: \n",
            "0.6550805492716065\n",
            "Overall Economic Correlation: \n",
            "0.5372343454916617\n"
          ]
        }
      ]
    },
    {
      "cell_type": "code",
      "source": [
        "ax = sns.regplot(x=Economy[\"Happiness\"], y=Economy[\"GDP\"], color='green')"
      ],
      "metadata": {
        "colab": {
          "base_uri": "https://localhost:8080/",
          "height": 0
        },
        "id": "fvOgJ8GfYFoE",
        "outputId": "5f462dca-2d16-4bf8-fb90-7b7eeb8f8de2"
      },
      "execution_count": 26,
      "outputs": [
        {
          "output_type": "display_data",
          "data": {
            "text/plain": [
              "<Figure size 432x288 with 1 Axes>"
            ],
            "image/png": "[encoded data removed]"
          },
          "metadata": {
            "needs_background": "light"
          }
        }
      ]
    },
    {
      "cell_type": "code",
      "source": [
        "sns.regplot(x=Economy[\"Happiness\"], y=Economy[\"Regulatory_Quality\"], color='pink')"
      ],
      "metadata": {
        "colab": {
          "base_uri": "https://localhost:8080/",
          "height": 0
        },
        "id": "drXpHlUuVy6S",
        "outputId": "c6e5dd3f-3919-46d3-88a4-8f33b1be5a96"
      },
      "execution_count": 27,
      "outputs": [
        {
          "output_type": "execute_result",
          "data": {
            "text/plain": [
              "<matplotlib.axes._subplots.AxesSubplot at 0x7f2e4a0216d0>"
            ]
          },
          "metadata": {},
          "execution_count": 27
        },
        {
          "output_type": "display_data",
          "data": {
            "text/plain": [
              "<Figure size 432x288 with 1 Axes>"
            ],
            "image/png": "[encoded data removed]"
          },
          "metadata": {
            "needs_background": "light"
          }
        }
      ]
    },
    {
      "cell_type": "code",
      "source": [
        "sns.regplot(x=Economy[\"Happiness\"], y=Economy[\"Generosity\"], color='green')"
      ],
      "metadata": {
        "colab": {
          "base_uri": "https://localhost:8080/",
          "height": 0
        },
        "id": "itL0Js5wcrvp",
        "outputId": "85111ebe-f916-411a-99a5-805ea98aff22"
      },
      "execution_count": 28,
      "outputs": [
        {
          "output_type": "execute_result",
          "data": {
            "text/plain": [
              "<matplotlib.axes._subplots.AxesSubplot at 0x7f2e49b1a0d0>"
            ]
          },
          "metadata": {},
          "execution_count": 28
        },
        {
          "output_type": "display_data",
          "data": {
            "text/plain": [
              "<Figure size 432x288 with 1 Axes>"
            ],
            "image/png": "[encoded data removed]"
          },
          "metadata": {
            "needs_background": "light"
          }
        }
      ]
    },
    {
      "cell_type": "code",
      "source": [
        "sns.regplot(x=Economy[\"Happiness\"], y=Economy[\"Social_Support\"])"
      ],
      "metadata": {
        "colab": {
          "base_uri": "https://localhost:8080/",
          "height": 0
        },
        "id": "dck78KKDcybE",
        "outputId": "57d693cf-5ac4-4c1d-e733-83c2fc9fe767"
      },
      "execution_count": 29,
      "outputs": [
        {
          "output_type": "execute_result",
          "data": {
            "text/plain": [
              "<matplotlib.axes._subplots.AxesSubplot at 0x7f2e49a49e90>"
            ]
          },
          "metadata": {},
          "execution_count": 29
        },
        {
          "output_type": "display_data",
          "data": {
            "text/plain": [
              "<Figure size 432x288 with 1 Axes>"
            ],
            "image/png": "[encoded data removed]"
          },
          "metadata": {
            "needs_background": "light"
          }
        }
      ]
    },
    {
      "cell_type": "code",
      "source": [
        "VoiceCor = Social[\"Happiness\"].corr(Social[\"Voice_And_Accountability\"])\n",
        "GenderCor = Social[\"Happiness\"].corr(Social[\"Women_In_Government\"])\n",
        "LifeExpCor = Social[\"Happiness\"].corr(Social[\"Life_Expectancy\"])\n",
        "PerceptionsCor = Social[\"Happiness\"].corr(Social[\"Perceptions of corruption\"])\n",
        "FreedomCor = Social[\"Happiness\"].corr(Social[\"Freedom to make life choices\"])\n",
        "\n",
        "\n",
        "print(\"Voice and Accountability Correlation is: \")\n",
        "print(VoiceCor)\n",
        "print(\"Women in Government Correlaion is: \")\n",
        "print(GenderCor)\n",
        "print(\"Life Expectancy Correlation is: \")\n",
        "print(LifeExpCor)\n",
        "print(\"Perceptions of Corruption Correlation is: \")\n",
        "print(-PerceptionsCor)\n",
        "print(\"Freedom Correlation is: \")\n",
        "print(FreedomCor)\n",
        "Social_Correlation = ((FreedomCor + LifeExpCor + GenderCor + VoiceCor + (-PerceptionsCor))/5)\n",
        "print(\"Overall Social Factors Correlation: \")\n",
        "print(Social_Correlation)"
      ],
      "metadata": {
        "colab": {
          "base_uri": "https://localhost:8080/"
        },
        "id": "1vFAaDRyhkDv",
        "outputId": "86756ec5-15da-4101-f3f4-948b786af541"
      },
      "execution_count": 30,
      "outputs": [
        {
          "output_type": "stream",
          "name": "stdout",
          "text": [
            "Voice and Accountability Correlation is: \n",
            "0.5138050875011034\n",
            "Women in Government Correlaion is: \n",
            "0.49594358424037227\n",
            "Life Expectancy Correlation is: \n",
            "0.39240773524037204\n",
            "Perceptions of Corruption Correlation is: \n",
            "0.6626720940285145\n",
            "Freedom Correlation is: \n",
            "0.5304082937810242\n",
            "Overall Social Factors Correlation: \n",
            "0.5190473589582772\n"
          ]
        }
      ]
    },
    {
      "cell_type": "code",
      "source": [
        "ax= sns.regplot(x=Social[\"Happiness\"], y=Social[\"Voice_And_Accountability\"], color='green', label=\"Voice and Accountability\")"
      ],
      "metadata": {
        "colab": {
          "base_uri": "https://localhost:8080/",
          "height": 0
        },
        "id": "BYSezG8ewnSb",
        "outputId": "3a87149c-0c75-4397-9fe8-9763db10d294"
      },
      "execution_count": 31,
      "outputs": [
        {
          "output_type": "display_data",
          "data": {
            "text/plain": [
              "<Figure size 432x288 with 1 Axes>"
            ],
            "image/png": "[encoded data removed]"
          },
          "metadata": {
            "needs_background": "light"
          }
        }
      ]
    },
    {
      "cell_type": "code",
      "source": [
        "sns.regplot(x=Social[\"Happiness\"], y=Social[\"Perceptions of corruption\"], color='blue', label=\"Perceptions of Corruption\")"
      ],
      "metadata": {
        "colab": {
          "base_uri": "https://localhost:8080/",
          "height": 0
        },
        "id": "8wPXXbp0JPfc",
        "outputId": "19f03932-9369-4338-e9fb-a61f3abcea56"
      },
      "execution_count": 32,
      "outputs": [
        {
          "output_type": "execute_result",
          "data": {
            "text/plain": [
              "<matplotlib.axes._subplots.AxesSubplot at 0x7f2e499a4bd0>"
            ]
          },
          "metadata": {},
          "execution_count": 32
        },
        {
          "output_type": "display_data",
          "data": {
            "text/plain": [
              "<Figure size 432x288 with 1 Axes>"
            ],
            "image/png": "[encoded data removed]"
          },
          "metadata": {
            "needs_background": "light"
          }
        }
      ]
    },
    {
      "cell_type": "code",
      "source": [
        "sns.regplot(x=Social[\"Happiness\"], y=Social[\"Freedom to make life choices\"], color='orange', label=\"Freedom to make Life Choices\")"
      ],
      "metadata": {
        "colab": {
          "base_uri": "https://localhost:8080/",
          "height": 0
        },
        "id": "bApSLiXYJYHN",
        "outputId": "a2b6eb25-7377-4245-abf9-f23f8bad0659"
      },
      "execution_count": 33,
      "outputs": [
        {
          "output_type": "execute_result",
          "data": {
            "text/plain": [
              "<matplotlib.axes._subplots.AxesSubplot at 0x7f2e499eaa50>"
            ]
          },
          "metadata": {},
          "execution_count": 33
        },
        {
          "output_type": "display_data",
          "data": {
            "text/plain": [
              "<Figure size 432x288 with 1 Axes>"
            ],
            "image/png": "[encoded data removed]"
          },
          "metadata": {
            "needs_background": "light"
          }
        }
      ]
    },
    {
      "cell_type": "code",
      "source": [
        "ax= sns.regplot(x=Social[\"Happiness\"], y=Social[\"Women_In_Government\"], color='pink', label=\"Women in Government\")\n",
        "ax.legend()"
      ],
      "metadata": {
        "colab": {
          "base_uri": "https://localhost:8080/",
          "height": 0
        },
        "id": "iTS-MQQpyvoH",
        "outputId": "10c12c8f-b844-447f-ce77-0f414f44f51c"
      },
      "execution_count": 34,
      "outputs": [
        {
          "output_type": "execute_result",
          "data": {
            "text/plain": [
              "<matplotlib.legend.Legend at 0x7f2e4a021d10>"
            ]
          },
          "metadata": {},
          "execution_count": 34
        },
        {
          "output_type": "display_data",
          "data": {
            "text/plain": [
              "<Figure size 432x288 with 1 Axes>"
            ],
            "image/png": "[encoded data removed]"
          },
          "metadata": {
            "needs_background": "light"
          }
        }
      ]
    },
    {
      "cell_type": "code",
      "source": [
        "ax= sns.regplot(x=Social[\"Happiness\"], y=Social[\"Life_Expectancy\"], color='red', label=\"Life Expectancy\")\n",
        "ax.legend()"
      ],
      "metadata": {
        "colab": {
          "base_uri": "https://localhost:8080/",
          "height": 0
        },
        "id": "A9EgaG2DzBYg",
        "outputId": "db531387-1372-4202-a340-1a6e29f6f4a0"
      },
      "execution_count": 35,
      "outputs": [
        {
          "output_type": "execute_result",
          "data": {
            "text/plain": [
              "<matplotlib.legend.Legend at 0x7f2e49807750>"
            ]
          },
          "metadata": {},
          "execution_count": 35
        },
        {
          "output_type": "display_data",
          "data": {
            "text/plain": [
              "<Figure size 432x288 with 1 Axes>"
            ],
            "image/png": "[encoded data removed]"
          },
          "metadata": {
            "needs_background": "light"
          }
        }
      ]
    },
    {
      "cell_type": "code",
      "source": [
        "EffectCor = Political[\"Happiness\"].corr(Political[\"Government_Effectiveness\"])\n",
        "StabilityCor = Political[\"Happiness\"].corr(Political[\"Stability_And_Absence_Of_Terrorism\"])\n",
        "LawCor = Political[\"Happiness\"].corr(Political[\"Rule_of_Law\"])\n",
        "\n",
        "\n",
        "print(\"Government Effectiveness Correlation is: \")\n",
        "print(EffectCor)\n",
        "print(\"Stability and absence of terrorism correlation is: \")\n",
        "print(StabilityCor)\n",
        "print(\"Rule of Law correlation is: \")\n",
        "print(LawCor)\n",
        "PoliticalCor = ((EffectCor + StabilityCor + LawCor)/3)\n",
        "print(\"Overall Political Correlation is: \")\n",
        "print(PoliticalCor)"
      ],
      "metadata": {
        "colab": {
          "base_uri": "https://localhost:8080/"
        },
        "id": "gsRO4DWYj3BJ",
        "outputId": "d8dddf17-95cc-481b-b97d-bab2aaa75bc2"
      },
      "execution_count": 36,
      "outputs": [
        {
          "output_type": "stream",
          "name": "stdout",
          "text": [
            "Government Effectiveness Correlation is: \n",
            "0.6428004483514798\n",
            "Stability and absence of terrorism correlation is: \n",
            "0.41368560569019963\n",
            "Rule of Law correlation is: \n",
            "0.6869043641641877\n",
            "Overall Political Correlation is: \n",
            "0.5811301394019557\n"
          ]
        }
      ]
    },
    {
      "cell_type": "code",
      "source": [
        "ax= sns.regplot(x=Political[\"Happiness\"], y=Political[\"Government_Effectiveness\"], color='blue', label=\"Voice and Accountability\")"
      ],
      "metadata": {
        "colab": {
          "base_uri": "https://localhost:8080/",
          "height": 0
        },
        "id": "tK-zNMJbzOn5",
        "outputId": "9c1c5aa2-91f2-4a0f-cfa4-1e2a012272cb"
      },
      "execution_count": 37,
      "outputs": [
        {
          "output_type": "display_data",
          "data": {
            "text/plain": [
              "<Figure size 432x288 with 1 Axes>"
            ],
            "image/png": "[encoded data removed]"
          },
          "metadata": {
            "needs_background": "light"
          }
        }
      ]
    },
    {
      "cell_type": "code",
      "source": [
        "sns.regplot(x=Political[\"Happiness\"], y=Political[\"Stability_And_Absence_Of_Terrorism\"], color='red')"
      ],
      "metadata": {
        "colab": {
          "base_uri": "https://localhost:8080/",
          "height": 0
        },
        "id": "H9igEqCGJh6U",
        "outputId": "65c90365-fc9e-46bd-b1c6-93430a0b7ed4"
      },
      "execution_count": 38,
      "outputs": [
        {
          "output_type": "execute_result",
          "data": {
            "text/plain": [
              "<matplotlib.axes._subplots.AxesSubplot at 0x7f2e496f5190>"
            ]
          },
          "metadata": {},
          "execution_count": 38
        },
        {
          "output_type": "display_data",
          "data": {
            "text/plain": [
              "<Figure size 432x288 with 1 Axes>"
            ],
            "image/png": "[encoded data removed]"
          },
          "metadata": {
            "needs_background": "light"
          }
        }
      ]
    },
    {
      "cell_type": "code",
      "source": [
        "sns.regplot(x=Political[\"Happiness\"], y=Political[\"Rule_of_Law\"], color='orange')"
      ],
      "metadata": {
        "colab": {
          "base_uri": "https://localhost:8080/",
          "height": 0
        },
        "id": "mEUTaFEDJuh0",
        "outputId": "9a40fa7f-b124-4ad9-a8b7-c7325c7985e6"
      },
      "execution_count": 39,
      "outputs": [
        {
          "output_type": "execute_result",
          "data": {
            "text/plain": [
              "<matplotlib.axes._subplots.AxesSubplot at 0x7f2e496cce90>"
            ]
          },
          "metadata": {},
          "execution_count": 39
        },
        {
          "output_type": "display_data",
          "data": {
            "text/plain": [
              "<Figure size 432x288 with 1 Axes>"
            ],
            "image/png": "[encoded data removed]"
          },
          "metadata": {
            "needs_background": "light"
          }
        }
      ]
    },
    {
      "cell_type": "markdown",
      "source": [
        "# How has the happiness score changed nationally over the last 5 years? How does the United States compare?"
      ],
      "metadata": {
        "id": "nT64PzmRx3Dt"
      }
    },
    {
      "cell_type": "code",
      "source": [
        "TimeSeries = Happiness.copy()\n",
        "TimeSeries.reset_index(inplace=True)\n",
        "TimeSeries['Month'] = 1\n",
        "TimeSeries['Day'] = 1\n",
        "TimeSeries['Date'] = pd.to_datetime(TimeSeries[[\"Year\", \"Month\", \"Day\"]])"
      ],
      "metadata": {
        "id": "OiwATYbpp028"
      },
      "execution_count": 40,
      "outputs": []
    },
    {
      "cell_type": "code",
      "source": [
        "TimeSeries.drop(columns=['Year','Month','Day'], inplace= True)\n",
        "TimeSeries.set_index('Date', inplace=True)"
      ],
      "metadata": {
        "id": "NKuj5sIIp-Mq"
      },
      "execution_count": 41,
      "outputs": []
    },
    {
      "cell_type": "code",
      "source": [
        "AnnualMeans = pd.DataFrame()\n",
        "AnnualMeans = TimeSeries.groupby(level='Date').mean()\n",
        "UnitedStates = pd.DataFrame()\n",
        "UnitedStates = TimeSeries.loc[TimeSeries['Country_Name'] == \"United States\"]"
      ],
      "metadata": {
        "id": "hn3bId1iumv7"
      },
      "execution_count": 42,
      "outputs": []
    },
    {
      "cell_type": "code",
      "source": [
        "UnitedStates.head"
      ],
      "metadata": {
        "colab": {
          "base_uri": "https://localhost:8080/"
        },
        "id": "ZK-QW0NnTdw_",
        "outputId": "397bd7c8-0aec-4712-c606-6865a73a0ab2"
      },
      "execution_count": 43,
      "outputs": [
        {
          "output_type": "execute_result",
          "data": {
            "text/plain": [
              "<bound method NDFrame.head of              Country_Name  Happiness     GDP  Social_Support  Life_Expectancy  \\\n",
              "Date                                                                            \n",
              "2016-01-01  United States      6.804  10.986           0.897             68.5   \n",
              "2017-01-01  United States      6.992  11.001           0.921             68.4   \n",
              "2018-01-01  United States      6.883  11.025           0.904             68.3   \n",
              "2019-01-01  United States      6.944  11.043           0.917             68.2   \n",
              "2020-01-01  United States      7.028  11.001           0.937             68.1   \n",
              "\n",
              "            Freedom to make life choices  Generosity  \\\n",
              "Date                                                   \n",
              "2016-01-01                         0.758       0.144   \n",
              "2017-01-01                         0.868       0.197   \n",
              "2018-01-01                         0.825       0.116   \n",
              "2019-01-01                         0.836       0.144   \n",
              "2020-01-01                         0.850       0.034   \n",
              "\n",
              "            Perceptions of corruption  Control_Of_Corruption  \\\n",
              "Date                                                           \n",
              "2016-01-01                      0.739               1.373549   \n",
              "2017-01-01                      0.681               1.384251   \n",
              "2018-01-01                      0.710               1.328869   \n",
              "2019-01-01                      0.707               1.215634   \n",
              "2020-01-01                      0.678               1.068838   \n",
              "\n",
              "            Government_Effectiveness  Stability_And_Absence_Of_Terrorism  \\\n",
              "Date                                                                       \n",
              "2016-01-01                  1.476340                            0.402303   \n",
              "2017-01-01                  1.557018                            0.291818   \n",
              "2018-01-01                  1.575724                            0.421418   \n",
              "2019-01-01                  1.488845                            0.134975   \n",
              "2020-01-01                  1.318942                           -0.022033   \n",
              "\n",
              "            Voice_And_Accountability  Regulatory_Quality  Rule_of_Law  \\\n",
              "Date                                                                    \n",
              "2016-01-01                  1.110259            1.497076     1.618124   \n",
              "2017-01-01                  1.008988            1.631051     1.649322   \n",
              "2018-01-01                  0.976364            1.620526     1.514515   \n",
              "2019-01-01                  0.903805            1.345472     1.461360   \n",
              "2020-01-01                  0.868937            1.244659     1.368086   \n",
              "\n",
              "            Women_In_Government  \n",
              "Date                             \n",
              "2016-01-01            19.168591  \n",
              "2017-01-01            19.354839  \n",
              "2018-01-01            23.502304  \n",
              "2019-01-01            23.433875  \n",
              "2020-01-01            27.464789  >"
            ]
          },
          "metadata": {},
          "execution_count": 43
        }
      ]
    },
    {
      "cell_type": "code",
      "source": [
        "Annualtop5 = AnnualMeans[['Happiness','Rule_of_Law', 'Perceptions of corruption', 'Regulatory_Quality','Government_Effectiveness','Social_Support']].copy()\n",
        "UStop5 = UnitedStates[['Happiness','Rule_of_Law', 'Perceptions of corruption', 'Regulatory_Quality','Government_Effectiveness','Social_Support']].copy()"
      ],
      "metadata": {
        "id": "n2JR9KwSQcQI"
      },
      "execution_count": 47,
      "outputs": []
    },
    {
      "cell_type": "code",
      "source": [
        "ax= Annualtop5.plot(subplots=True, figsize=(20,40), color='black', label= 'Average')\n",
        "UStop5.plot(subplots=True, ax=ax, label='United States')\n"
      ],
      "metadata": {
        "colab": {
          "base_uri": "https://localhost:8080/",
          "height": 1000
        },
        "id": "B5OGuLW3v36P",
        "outputId": "1de4b8fc-fe60-4466-d819-cd99a804b94b"
      },
      "execution_count": 48,
      "outputs": [
        {
          "output_type": "execute_result",
          "data": {
            "text/plain": [
              "array([<matplotlib.axes._subplots.AxesSubplot object at 0x7f2e4944a250>,\n",
              "       <matplotlib.axes._subplots.AxesSubplot object at 0x7f2e493f27d0>,\n",
              "       <matplotlib.axes._subplots.AxesSubplot object at 0x7f2e49446e90>,\n",
              "       <matplotlib.axes._subplots.AxesSubplot object at 0x7f2e493e3e10>,\n",
              "       <matplotlib.axes._subplots.AxesSubplot object at 0x7f2e49396b90>,\n",
              "       <matplotlib.axes._subplots.AxesSubplot object at 0x7f2e4934db50>],\n",
              "      dtype=object)"
            ]
          },
          "metadata": {},
          "execution_count": 48
        },
        {
          "output_type": "display_data",
          "data": {
            "text/plain": [
              "<Figure size 1440x2880 with 6 Axes>"
            ],
            "image/png": "[encoded data removed]"
          },
          "metadata": {
            "needs_background": "light"
          }
        }
      ]
    },
    {
      "cell_type": "code",
      "source": [
        "Differences = pd.DataFrame()\n",
        "columns= ['GDP','Women_In_Government','Happiness','Rule_of_Law','Regulatory_Quality','Voice_And_Accountability','Stability_And_Absence_Of_Terrorism','Government_Effectiveness','Perceptions of corruption','Freedom to make life choices','Social_Support','Life_Expectancy']\n",
        "for x in columns:\n",
        "  Differences[x]= (UnitedStates[x]-AnnualMeans[x])\n",
        "Differences['Perceptions of corruption'] = (Differences['Perceptions of corruption'] * -1)\n",
        "Differences"
      ],
      "metadata": {
        "colab": {
          "base_uri": "https://localhost:8080/",
          "height": 440
        },
        "id": "GOWOMZM3_jNk",
        "outputId": "a8b7c8b8-5e7f-4435-812b-62aad099a334"
      },
      "execution_count": 49,
      "outputs": [
        {
          "output_type": "execute_result",
          "data": {
            "text/plain": [
              "                 GDP  Women_In_Government  Happiness  Rule_of_Law  \\\n",
              "Date                                                                \n",
              "2016-01-01  0.333206            -9.158557   0.013500     0.438763   \n",
              "2017-01-01  0.371429            -9.174938   0.142543     0.522054   \n",
              "2018-01-01  0.344906            -6.130630  -0.029094     0.361628   \n",
              "2019-01-01  0.387147            -7.950778   0.021529     0.344361   \n",
              "2020-01-01  0.342429            -5.399342   0.169900     0.190700   \n",
              "\n",
              "            Regulatory_Quality  Voice_And_Accountability  \\\n",
              "Date                                                       \n",
              "2016-01-01            0.294268                  0.217932   \n",
              "2017-01-01            0.451245                  0.127749   \n",
              "2018-01-01            0.406250                  0.047832   \n",
              "2019-01-01            0.181985                  0.055333   \n",
              "2020-01-01            0.062082                 -0.047460   \n",
              "\n",
              "            Stability_And_Absence_Of_Terrorism  Government_Effectiveness  \\\n",
              "Date                                                                       \n",
              "2016-01-01                           -0.211006                  0.268212   \n",
              "2017-01-01                           -0.293783                  0.387096   \n",
              "2018-01-01                           -0.174320                  0.385964   \n",
              "2019-01-01                           -0.434434                  0.332495   \n",
              "2020-01-01                           -0.586869                  0.143386   \n",
              "\n",
              "            Perceptions of corruption  Freedom to make life choices  \\\n",
              "Date                                                                  \n",
              "2016-01-01                  -0.158742                     -0.096412   \n",
              "2017-01-01                  -0.119063                     -0.007029   \n",
              "2018-01-01                  -0.158600                     -0.037125   \n",
              "2019-01-01                  -0.151452                     -0.046471   \n",
              "2020-01-01                  -0.133333                     -0.031900   \n",
              "\n",
              "            Social_Support  Life_Expectancy  \n",
              "Date                                         \n",
              "2016-01-01       -0.017647        -2.476471  \n",
              "2017-01-01        0.010743        -2.671429  \n",
              "2018-01-01       -0.008625        -3.128125  \n",
              "2019-01-01        0.004294        -3.314706  \n",
              "2020-01-01        0.018400        -3.730000  "
            ],
            "text/html": [
              "\n",
              "  <div id=\"df-415691e9-7655-4063-a56d-1b0c49af3325\">\n",
              "    <div class=\"colab-df-container\">\n",
              "      <div>\n",
              "<style scoped>\n",
              "    .dataframe tbody tr th:only-of-type {\n",
              "        vertical-align: middle;\n",
              "    }\n",
              "\n",
              "    .dataframe tbody tr th {\n",
              "        vertical-align: top;\n",
              "    }\n",
              "\n",
              "    .dataframe thead th {\n",
              "        text-align: right;\n",
              "    }\n",
              "</style>\n",
              "<table border=\"1\" class=\"dataframe\">\n",
              "  <thead>\n",
              "    <tr style=\"text-align: right;\">\n",
              "      <th></th>\n",
              "      <th>GDP</th>\n",
              "      <th>Women_In_Government</th>\n",
              "      <th>Happiness</th>\n",
              "      <th>Rule_of_Law</th>\n",
              "      <th>Regulatory_Quality</th>\n",
              "      <th>Voice_And_Accountability</th>\n",
              "      <th>Stability_And_Absence_Of_Terrorism</th>\n",
              "      <th>Government_Effectiveness</th>\n",
              "      <th>Perceptions of corruption</th>\n",
              "      <th>Freedom to make life choices</th>\n",
              "      <th>Social_Support</th>\n",
              "      <th>Life_Expectancy</th>\n",
              "    </tr>\n",
              "    <tr>\n",
              "      <th>Date</th>\n",
              "      <th></th>\n",
              "      <th></th>\n",
              "      <th></th>\n",
              "      <th></th>\n",
              "      <th></th>\n",
              "      <th></th>\n",
              "      <th></th>\n",
              "      <th></th>\n",
              "      <th></th>\n",
              "      <th></th>\n",
              "      <th></th>\n",
              "      <th></th>\n",
              "    </tr>\n",
              "  </thead>\n",
              "  <tbody>\n",
              "    <tr>\n",
              "      <th>2016-01-01</th>\n",
              "      <td>0.333206</td>\n",
              "      <td>-9.158557</td>\n",
              "      <td>0.013500</td>\n",
              "      <td>0.438763</td>\n",
              "      <td>0.294268</td>\n",
              "      <td>0.217932</td>\n",
              "      <td>-0.211006</td>\n",
              "      <td>0.268212</td>\n",
              "      <td>-0.158742</td>\n",
              "      <td>-0.096412</td>\n",
              "      <td>-0.017647</td>\n",
              "      <td>-2.476471</td>\n",
              "    </tr>\n",
              "    <tr>\n",
              "      <th>2017-01-01</th>\n",
              "      <td>0.371429</td>\n",
              "      <td>-9.174938</td>\n",
              "      <td>0.142543</td>\n",
              "      <td>0.522054</td>\n",
              "      <td>0.451245</td>\n",
              "      <td>0.127749</td>\n",
              "      <td>-0.293783</td>\n",
              "      <td>0.387096</td>\n",
              "      <td>-0.119063</td>\n",
              "      <td>-0.007029</td>\n",
              "      <td>0.010743</td>\n",
              "      <td>-2.671429</td>\n",
              "    </tr>\n",
              "    <tr>\n",
              "      <th>2018-01-01</th>\n",
              "      <td>0.344906</td>\n",
              "      <td>-6.130630</td>\n",
              "      <td>-0.029094</td>\n",
              "      <td>0.361628</td>\n",
              "      <td>0.406250</td>\n",
              "      <td>0.047832</td>\n",
              "      <td>-0.174320</td>\n",
              "      <td>0.385964</td>\n",
              "      <td>-0.158600</td>\n",
              "      <td>-0.037125</td>\n",
              "      <td>-0.008625</td>\n",
              "      <td>-3.128125</td>\n",
              "    </tr>\n",
              "    <tr>\n",
              "      <th>2019-01-01</th>\n",
              "      <td>0.387147</td>\n",
              "      <td>-7.950778</td>\n",
              "      <td>0.021529</td>\n",
              "      <td>0.344361</td>\n",
              "      <td>0.181985</td>\n",
              "      <td>0.055333</td>\n",
              "      <td>-0.434434</td>\n",
              "      <td>0.332495</td>\n",
              "      <td>-0.151452</td>\n",
              "      <td>-0.046471</td>\n",
              "      <td>0.004294</td>\n",
              "      <td>-3.314706</td>\n",
              "    </tr>\n",
              "    <tr>\n",
              "      <th>2020-01-01</th>\n",
              "      <td>0.342429</td>\n",
              "      <td>-5.399342</td>\n",
              "      <td>0.169900</td>\n",
              "      <td>0.190700</td>\n",
              "      <td>0.062082</td>\n",
              "      <td>-0.047460</td>\n",
              "      <td>-0.586869</td>\n",
              "      <td>0.143386</td>\n",
              "      <td>-0.133333</td>\n",
              "      <td>-0.031900</td>\n",
              "      <td>0.018400</td>\n",
              "      <td>-3.730000</td>\n",
              "    </tr>\n",
              "  </tbody>\n",
              "</table>\n",
              "</div>\n",
              "      <button class=\"colab-df-convert\" onclick=\"convertToInteractive('df-415691e9-7655-4063-a56d-1b0c49af3325')\"\n",
              "              title=\"Convert this dataframe to an interactive table.\"\n",
              "              style=\"display:none;\">\n",
              "        \n",
              "  <svg xmlns=\"http://www.w3.org/2000/svg\" height=\"24px\"viewBox=\"0 0 24 24\"\n",
              "       width=\"24px\">\n",
              "    <path d=\"M0 0h24v24H0V0z\" fill=\"none\"/>\n",
              "    <path d=\"M18.56 5.44l.94 2.06.94-2.06 2.06-.94-2.06-.94-.94-2.06-.94 2.06-2.06.94zm-11 1L8.5 8.5l.94-2.06 2.06-.94-2.06-.94L8.5 2.5l-.94 2.06-2.06.94zm10 10l.94 2.06.94-2.06 2.06-.94-2.06-.94-.94-2.06-.94 2.06-2.06.94z\"/><path d=\"M17.41 7.96l-1.37-1.37c-.4-.4-.92-.59-1.43-.59-.52 0-1.04.2-1.43.59L10.3 9.45l-7.72 7.72c-.78.78-.78 2.05 0 2.83L4 21.41c.39.39.9.59 1.41.59.51 0 1.02-.2 1.41-.59l7.78-7.78 2.81-2.81c.8-.78.8-2.07 0-2.86zM5.41 20L4 18.59l7.72-7.72 1.47 1.35L5.41 20z\"/>\n",
              "  </svg>\n",
              "      </button>\n",
              "      \n",
              "  <style>\n",
              "    .colab-df-container {\n",
              "      display:flex;\n",
              "      flex-wrap:wrap;\n",
              "      gap: 12px;\n",
              "    }\n",
              "\n",
              "    .colab-df-convert {\n",
              "      background-color: #E8F0FE;\n",
              "      border: none;\n",
              "      border-radius: 50%;\n",
              "      cursor: pointer;\n",
              "      display: none;\n",
              "      fill: #1967D2;\n",
              "      height: 32px;\n",
              "      padding: 0 0 0 0;\n",
              "      width: 32px;\n",
              "    }\n",
              "\n",
              "    .colab-df-convert:hover {\n",
              "      background-color: #E2EBFA;\n",
              "      box-shadow: 0px 1px 2px rgba(60, 64, 67, 0.3), 0px 1px 3px 1px rgba(60, 64, 67, 0.15);\n",
              "      fill: #174EA6;\n",
              "    }\n",
              "\n",
              "    [theme=dark] .colab-df-convert {\n",
              "      background-color: #3B4455;\n",
              "      fill: #D2E3FC;\n",
              "    }\n",
              "\n",
              "    [theme=dark] .colab-df-convert:hover {\n",
              "      background-color: #434B5C;\n",
              "      box-shadow: 0px 1px 3px 1px rgba(0, 0, 0, 0.15);\n",
              "      filter: drop-shadow(0px 1px 2px rgba(0, 0, 0, 0.3));\n",
              "      fill: #FFFFFF;\n",
              "    }\n",
              "  </style>\n",
              "\n",
              "      <script>\n",
              "        const buttonEl =\n",
              "          document.querySelector('#df-415691e9-7655-4063-a56d-1b0c49af3325 button.colab-df-convert');\n",
              "        buttonEl.style.display =\n",
              "          google.colab.kernel.accessAllowed ? 'block' : 'none';\n",
              "\n",
              "        async function convertToInteractive(key) {\n",
              "          const element = document.querySelector('#df-415691e9-7655-4063-a56d-1b0c49af3325');\n",
              "          const dataTable =\n",
              "            await google.colab.kernel.invokeFunction('convertToInteractive',\n",
              "                                                     [key], {});\n",
              "          if (!dataTable) return;\n",
              "\n",
              "          const docLinkHtml = 'Like what you see? Visit the ' +\n",
              "            '<a target=\"_blank\" href=https://colab.research.google.com/notebooks/data_table.ipynb>data table notebook</a>'\n",
              "            + ' to learn more about interactive tables.';\n",
              "          element.innerHTML = '';\n",
              "          dataTable['output_type'] = 'display_data';\n",
              "          await google.colab.output.renderOutput(dataTable, element);\n",
              "          const docLink = document.createElement('div');\n",
              "          docLink.innerHTML = docLinkHtml;\n",
              "          element.appendChild(docLink);\n",
              "        }\n",
              "      </script>\n",
              "    </div>\n",
              "  </div>\n",
              "  "
            ]
          },
          "metadata": {},
          "execution_count": 49
        }
      ]
    },
    {
      "cell_type": "code",
      "source": [
        "import seaborn as sns\n",
        "from math import log, sqrt, sin\n",
        "import matplotlib.pyplot as plt\n",
        "import matplotlib\n",
        "import plotly.express as px\n",
        "import plotly.graph_objs as go\n",
        "from plotly.offline import init_notebook_mode, iplot\n",
        "plt.style.use(\"seaborn-notebook\")\n",
        "\n",
        "Happiness2.reset_index(inplace=True)\n",
        "\n",
        "\n",
        "fig = px.choropleth(Happiness2.sort_values('Year'),\n",
        "                   locations = 'Country_Name',\n",
        "                   color = 'Happiness',\n",
        "                   locationmode = 'country names',\n",
        "                   animation_frame = 'Year')\n",
        "fig.update_layout(title = 'Happiness')\n",
        "fig.show()"
      ],
      "metadata": {
        "colab": {
          "base_uri": "https://localhost:8080/",
          "height": 542
        },
        "id": "1PUPPbosGdIx",
        "outputId": "9202972e-10e2-4b59-b6ba-6ab94672e155"
      },
      "execution_count": 50,
      "outputs": [
        {
          "output_type": "display_data",
          "data": {
            "text/html": [
              "<html>\n",
              "<head><meta charset=\"utf-8\" /></head>\n",
              "<body>\n",
              "    <div>            <script src=\"https://cdnjs.cloudflare.com/ajax/libs/mathjax/2.7.5/MathJax.js?config=TeX-AMS-MML_SVG\"></script><script type=\"text/javascript\">if (window.MathJax) {MathJax.Hub.Config({SVG: {font: \"STIX-Web\"}});}</script>                <script type=\"text/javascript\">window.PlotlyConfig = {MathJaxConfig: 'local'};</script>\n",
              "        <script src=\"https://cdn.plot.ly/plotly-2.8.3.min.js\"></script>                <div id=\"488a8445-49c6-41d5-b3fa-8a143a278c98\" class=\"plotly-graph-div\" style=\"height:525px; width:100%;\"></div>            <script type=\"text/javascript\">                                    window.PLOTLYENV=window.PLOTLYENV || {};                                    if (document.getElementById(\"488a8445-49c6-41d5-b3fa-8a143a278c98\")) {                    Plotly.newPlot(                        \"488a8445-49c6-41d5-b3fa-8a143a278c98\",                        [{\"coloraxis\":\"coloraxis\",\"geo\":\"geo\",\"hovertemplate\":\"Year=2016<br>Country_Name=%{location}<br>Happiness=%{z}<extra></extra>\",\"locationmode\":\"country names\",\"locations\":[\"Austria\",\"Denmark\",\"Finland\",\"France\",\"Germany\",\"Guatemala\",\"Iceland\",\"Ireland\",\"Israel\",\"Italy\",\"Luxembourg\",\"Malta\",\"Mexico\",\"Netherlands\",\"New Zealand\",\"Norway\",\"Saudi Arabia\",\"Singapore\",\"Slovenia\",\"Spain\",\"Sweden\",\"Switzerland\",\"United Arab Emirates\",\"United Kingdom\",\"United States\",\"Uruguay\",\"Czech Republic\",\"Cyprus\",\"Lithuania\",\"Brazil\",\"Canada\",\"Belgium\",\"Costa Rica\",\"Bahrain\"],\"name\":\"\",\"z\":[7.048,7.558,7.66,6.475,6.874,6.359,7.51,7.041,7.159,5.955,6.967,6.591,6.824,7.541,7.226,7.596,6.474,6.033,5.937,6.319,7.369,7.459,6.831,6.824,6.804,6.171,6.736,5.795,5.866,6.375,7.245,6.949,7.136,6.17],\"type\":\"choropleth\"}],                        {\"template\":{\"data\":{\"bar\":[{\"error_x\":{\"color\":\"#2a3f5f\"},\"error_y\":{\"color\":\"#2a3f5f\"},\"marker\":{\"line\":{\"color\":\"#E5ECF6\",\"width\":0.5},\"pattern\":{\"fillmode\":\"overlay\",\"size\":10,\"solidity\":0.2}},\"type\":\"bar\"}],\"barpolar\":[{\"marker\":{\"line\":{\"color\":\"#E5ECF6\",\"width\":0.5},\"pattern\":{\"fillmode\":\"overlay\",\"size\":10,\"solidity\":0.2}},\"type\":\"barpolar\"}],\"carpet\":[{\"aaxis\":{\"endlinecolor\":\"#2a3f5f\",\"gridcolor\":\"white\",\"linecolor\":\"white\",\"minorgridcolor\":\"white\",\"startlinecolor\":\"#2a3f5f\"},\"baxis\":{\"endlinecolor\":\"#2a3f5f\",\"gridcolor\":\"white\",\"linecolor\":\"white\",\"minorgridcolor\":\"white\",\"startlinecolor\":\"#2a3f5f\"},\"type\":\"carpet\"}],\"choropleth\":[{\"colorbar\":{\"outlinewidth\":0,\"ticks\":\"\"},\"type\":\"choropleth\"}],\"contour\":[{\"colorbar\":{\"outlinewidth\":0,\"ticks\":\"\"},\"colorscale\":[[0.0,\"#0d0887\"],[0.1111111111111111,\"#46039f\"],[0.2222222222222222,\"#7201a8\"],[0.3333333333333333,\"#9c179e\"],[0.4444444444444444,\"#bd3786\"],[0.5555555555555556,\"#d8576b\"],[0.6666666666666666,\"#ed7953\"],[0.7777777777777778,\"#fb9f3a\"],[0.8888888888888888,\"#fdca26\"],[1.0,\"#f0f921\"]],\"type\":\"contour\"}],\"contourcarpet\":[{\"colorbar\":{\"outlinewidth\":0,\"ticks\":\"\"},\"type\":\"contourcarpet\"}],\"heatmap\":[{\"colorbar\":{\"outlinewidth\":0,\"ticks\":\"\"},\"colorscale\":[[0.0,\"#0d0887\"],[0.1111111111111111,\"#46039f\"],[0.2222222222222222,\"#7201a8\"],[0.3333333333333333,\"#9c179e\"],[0.4444444444444444,\"#bd3786\"],[0.5555555555555556,\"#d8576b\"],[0.6666666666666666,\"#ed7953\"],[0.7777777777777778,\"#fb9f3a\"],[0.8888888888888888,\"#fdca26\"],[1.0,\"#f0f921\"]],\"type\":\"heatmap\"}],\"heatmapgl\":[{\"colorbar\":{\"outlinewidth\":0,\"ticks\":\"\"},\"colorscale\":[[0.0,\"#0d0887\"],[0.1111111111111111,\"#46039f\"],[0.2222222222222222,\"#7201a8\"],[0.3333333333333333,\"#9c179e\"],[0.4444444444444444,\"#bd3786\"],[0.5555555555555556,\"#d8576b\"],[0.6666666666666666,\"#ed7953\"],[0.7777777777777778,\"#fb9f3a\"],[0.8888888888888888,\"#fdca26\"],[1.0,\"#f0f921\"]],\"type\":\"heatmapgl\"}],\"histogram\":[{\"marker\":{\"pattern\":{\"fillmode\":\"overlay\",\"size\":10,\"solidity\":0.2}},\"type\":\"histogram\"}],\"histogram2d\":[{\"colorbar\":{\"outlinewidth\":0,\"ticks\":\"\"},\"colorscale\":[[0.0,\"#0d0887\"],[0.1111111111111111,\"#46039f\"],[0.2222222222222222,\"#7201a8\"],[0.3333333333333333,\"#9c179e\"],[0.4444444444444444,\"#bd3786\"],[0.5555555555555556,\"#d8576b\"],[0.6666666666666666,\"#ed7953\"],[0.7777777777777778,\"#fb9f3a\"],[0.8888888888888888,\"#fdca26\"],[1.0,\"#f0f921\"]],\"type\":\"histogram2d\"}],\"histogram2dcontour\":[{\"colorbar\":{\"outlinewidth\":0,\"ticks\":\"\"},\"colorscale\":[[0.0,\"#0d0887\"],[0.1111111111111111,\"#46039f\"],[0.2222222222222222,\"#7201a8\"],[0.3333333333333333,\"#9c179e\"],[0.4444444444444444,\"#bd3786\"],[0.5555555555555556,\"#d8576b\"],[0.6666666666666666,\"#ed7953\"],[0.7777777777777778,\"#fb9f3a\"],[0.8888888888888888,\"#fdca26\"],[1.0,\"#f0f921\"]],\"type\":\"histogram2dcontour\"}],\"mesh3d\":[{\"colorbar\":{\"outlinewidth\":0,\"ticks\":\"\"},\"type\":\"mesh3d\"}],\"parcoords\":[{\"line\":{\"colorbar\":{\"outlinewidth\":0,\"ticks\":\"\"}},\"type\":\"parcoords\"}],\"pie\":[{\"automargin\":true,\"type\":\"pie\"}],\"scatter\":[{\"marker\":{\"colorbar\":{\"outlinewidth\":0,\"ticks\":\"\"}},\"type\":\"scatter\"}],\"scatter3d\":[{\"line\":{\"colorbar\":{\"outlinewidth\":0,\"ticks\":\"\"}},\"marker\":{\"colorbar\":{\"outlinewidth\":0,\"ticks\":\"\"}},\"type\":\"scatter3d\"}],\"scattercarpet\":[{\"marker\":{\"colorbar\":{\"outlinewidth\":0,\"ticks\":\"\"}},\"type\":\"scattercarpet\"}],\"scattergeo\":[{\"marker\":{\"colorbar\":{\"outlinewidth\":0,\"ticks\":\"\"}},\"type\":\"scattergeo\"}],\"scattergl\":[{\"marker\":{\"colorbar\":{\"outlinewidth\":0,\"ticks\":\"\"}},\"type\":\"scattergl\"}],\"scattermapbox\":[{\"marker\":{\"colorbar\":{\"outlinewidth\":0,\"ticks\":\"\"}},\"type\":\"scattermapbox\"}],\"scatterpolar\":[{\"marker\":{\"colorbar\":{\"outlinewidth\":0,\"ticks\":\"\"}},\"type\":\"scatterpolar\"}],\"scatterpolargl\":[{\"marker\":{\"colorbar\":{\"outlinewidth\":0,\"ticks\":\"\"}},\"type\":\"scatterpolargl\"}],\"scatterternary\":[{\"marker\":{\"colorbar\":{\"outlinewidth\":0,\"ticks\":\"\"}},\"type\":\"scatterternary\"}],\"surface\":[{\"colorbar\":{\"outlinewidth\":0,\"ticks\":\"\"},\"colorscale\":[[0.0,\"#0d0887\"],[0.1111111111111111,\"#46039f\"],[0.2222222222222222,\"#7201a8\"],[0.3333333333333333,\"#9c179e\"],[0.4444444444444444,\"#bd3786\"],[0.5555555555555556,\"#d8576b\"],[0.6666666666666666,\"#ed7953\"],[0.7777777777777778,\"#fb9f3a\"],[0.8888888888888888,\"#fdca26\"],[1.0,\"#f0f921\"]],\"type\":\"surface\"}],\"table\":[{\"cells\":{\"fill\":{\"color\":\"#EBF0F8\"},\"line\":{\"color\":\"white\"}},\"header\":{\"fill\":{\"color\":\"#C8D4E3\"},\"line\":{\"color\":\"white\"}},\"type\":\"table\"}]},\"layout\":{\"annotationdefaults\":{\"arrowcolor\":\"#2a3f5f\",\"arrowhead\":0,\"arrowwidth\":1},\"autotypenumbers\":\"strict\",\"coloraxis\":{\"colorbar\":{\"outlinewidth\":0,\"ticks\":\"\"}},\"colorscale\":{\"diverging\":[[0,\"#8e0152\"],[0.1,\"#c51b7d\"],[0.2,\"#de77ae\"],[0.3,\"#f1b6da\"],[0.4,\"#fde0ef\"],[0.5,\"#f7f7f7\"],[0.6,\"#e6f5d0\"],[0.7,\"#b8e186\"],[0.8,\"#7fbc41\"],[0.9,\"#4d9221\"],[1,\"#276419\"]],\"sequential\":[[0.0,\"#0d0887\"],[0.1111111111111111,\"#46039f\"],[0.2222222222222222,\"#7201a8\"],[0.3333333333333333,\"#9c179e\"],[0.4444444444444444,\"#bd3786\"],[0.5555555555555556,\"#d8576b\"],[0.6666666666666666,\"#ed7953\"],[0.7777777777777778,\"#fb9f3a\"],[0.8888888888888888,\"#fdca26\"],[1.0,\"#f0f921\"]],\"sequentialminus\":[[0.0,\"#0d0887\"],[0.1111111111111111,\"#46039f\"],[0.2222222222222222,\"#7201a8\"],[0.3333333333333333,\"#9c179e\"],[0.4444444444444444,\"#bd3786\"],[0.5555555555555556,\"#d8576b\"],[0.6666666666666666,\"#ed7953\"],[0.7777777777777778,\"#fb9f3a\"],[0.8888888888888888,\"#fdca26\"],[1.0,\"#f0f921\"]]},\"colorway\":[\"#636efa\",\"#EF553B\",\"#00cc96\",\"#ab63fa\",\"#FFA15A\",\"#19d3f3\",\"#FF6692\",\"#B6E880\",\"#FF97FF\",\"#FECB52\"],\"font\":{\"color\":\"#2a3f5f\"},\"geo\":{\"bgcolor\":\"white\",\"lakecolor\":\"white\",\"landcolor\":\"#E5ECF6\",\"showlakes\":true,\"showland\":true,\"subunitcolor\":\"white\"},\"hoverlabel\":{\"align\":\"left\"},\"hovermode\":\"closest\",\"mapbox\":{\"style\":\"light\"},\"paper_bgcolor\":\"white\",\"plot_bgcolor\":\"#E5ECF6\",\"polar\":{\"angularaxis\":{\"gridcolor\":\"white\",\"linecolor\":\"white\",\"ticks\":\"\"},\"bgcolor\":\"#E5ECF6\",\"radialaxis\":{\"gridcolor\":\"white\",\"linecolor\":\"white\",\"ticks\":\"\"}},\"scene\":{\"xaxis\":{\"backgroundcolor\":\"#E5ECF6\",\"gridcolor\":\"white\",\"gridwidth\":2,\"linecolor\":\"white\",\"showbackground\":true,\"ticks\":\"\",\"zerolinecolor\":\"white\"},\"yaxis\":{\"backgroundcolor\":\"#E5ECF6\",\"gridcolor\":\"white\",\"gridwidth\":2,\"linecolor\":\"white\",\"showbackground\":true,\"ticks\":\"\",\"zerolinecolor\":\"white\"},\"zaxis\":{\"backgroundcolor\":\"#E5ECF6\",\"gridcolor\":\"white\",\"gridwidth\":2,\"linecolor\":\"white\",\"showbackground\":true,\"ticks\":\"\",\"zerolinecolor\":\"white\"}},\"shapedefaults\":{\"line\":{\"color\":\"#2a3f5f\"}},\"ternary\":{\"aaxis\":{\"gridcolor\":\"white\",\"linecolor\":\"white\",\"ticks\":\"\"},\"baxis\":{\"gridcolor\":\"white\",\"linecolor\":\"white\",\"ticks\":\"\"},\"bgcolor\":\"#E5ECF6\",\"caxis\":{\"gridcolor\":\"white\",\"linecolor\":\"white\",\"ticks\":\"\"}},\"title\":{\"x\":0.05},\"xaxis\":{\"automargin\":true,\"gridcolor\":\"white\",\"linecolor\":\"white\",\"ticks\":\"\",\"title\":{\"standoff\":15},\"zerolinecolor\":\"white\",\"zerolinewidth\":2},\"yaxis\":{\"automargin\":true,\"gridcolor\":\"white\",\"linecolor\":\"white\",\"ticks\":\"\",\"title\":{\"standoff\":15},\"zerolinecolor\":\"white\",\"zerolinewidth\":2}}},\"geo\":{\"domain\":{\"x\":[0.0,1.0],\"y\":[0.0,1.0]},\"center\":{}},\"coloraxis\":{\"colorbar\":{\"title\":{\"text\":\"Happiness\"}},\"colorscale\":[[0.0,\"#0d0887\"],[0.1111111111111111,\"#46039f\"],[0.2222222222222222,\"#7201a8\"],[0.3333333333333333,\"#9c179e\"],[0.4444444444444444,\"#bd3786\"],[0.5555555555555556,\"#d8576b\"],[0.6666666666666666,\"#ed7953\"],[0.7777777777777778,\"#fb9f3a\"],[0.8888888888888888,\"#fdca26\"],[1.0,\"#f0f921\"]]},\"legend\":{\"tracegroupgap\":0},\"margin\":{\"t\":60},\"updatemenus\":[{\"buttons\":[{\"args\":[null,{\"frame\":{\"duration\":500,\"redraw\":true},\"mode\":\"immediate\",\"fromcurrent\":true,\"transition\":{\"duration\":500,\"easing\":\"linear\"}}],\"label\":\"&#9654;\",\"method\":\"animate\"},{\"args\":[[null],{\"frame\":{\"duration\":0,\"redraw\":true},\"mode\":\"immediate\",\"fromcurrent\":true,\"transition\":{\"duration\":0,\"easing\":\"linear\"}}],\"label\":\"&#9724;\",\"method\":\"animate\"}],\"direction\":\"left\",\"pad\":{\"r\":10,\"t\":70},\"showactive\":false,\"type\":\"buttons\",\"x\":0.1,\"xanchor\":\"right\",\"y\":0,\"yanchor\":\"top\"}],\"sliders\":[{\"active\":0,\"currentvalue\":{\"prefix\":\"Year=\"},\"len\":0.9,\"pad\":{\"b\":10,\"t\":60},\"steps\":[{\"args\":[[\"2016\"],{\"frame\":{\"duration\":0,\"redraw\":true},\"mode\":\"immediate\",\"fromcurrent\":true,\"transition\":{\"duration\":0,\"easing\":\"linear\"}}],\"label\":\"2016\",\"method\":\"animate\"},{\"args\":[[\"2017\"],{\"frame\":{\"duration\":0,\"redraw\":true},\"mode\":\"immediate\",\"fromcurrent\":true,\"transition\":{\"duration\":0,\"easing\":\"linear\"}}],\"label\":\"2017\",\"method\":\"animate\"},{\"args\":[[\"2018\"],{\"frame\":{\"duration\":0,\"redraw\":true},\"mode\":\"immediate\",\"fromcurrent\":true,\"transition\":{\"duration\":0,\"easing\":\"linear\"}}],\"label\":\"2018\",\"method\":\"animate\"},{\"args\":[[\"2019\"],{\"frame\":{\"duration\":0,\"redraw\":true},\"mode\":\"immediate\",\"fromcurrent\":true,\"transition\":{\"duration\":0,\"easing\":\"linear\"}}],\"label\":\"2019\",\"method\":\"animate\"},{\"args\":[[\"2020\"],{\"frame\":{\"duration\":0,\"redraw\":true},\"mode\":\"immediate\",\"fromcurrent\":true,\"transition\":{\"duration\":0,\"easing\":\"linear\"}}],\"label\":\"2020\",\"method\":\"animate\"}],\"x\":0.1,\"xanchor\":\"left\",\"y\":0,\"yanchor\":\"top\"}],\"title\":{\"text\":\"Happiness\"}},                        {\"responsive\": true}                    ).then(function(){\n",
              "                            Plotly.addFrames('488a8445-49c6-41d5-b3fa-8a143a278c98', [{\"data\":[{\"coloraxis\":\"coloraxis\",\"geo\":\"geo\",\"hovertemplate\":\"Year=2016<br>Country_Name=%{location}<br>Happiness=%{z}<extra></extra>\",\"locationmode\":\"country names\",\"locations\":[\"Austria\",\"Denmark\",\"Finland\",\"France\",\"Germany\",\"Guatemala\",\"Iceland\",\"Ireland\",\"Israel\",\"Italy\",\"Luxembourg\",\"Malta\",\"Mexico\",\"Netherlands\",\"New Zealand\",\"Norway\",\"Saudi Arabia\",\"Singapore\",\"Slovenia\",\"Spain\",\"Sweden\",\"Switzerland\",\"United Arab Emirates\",\"United Kingdom\",\"United States\",\"Uruguay\",\"Czech Republic\",\"Cyprus\",\"Lithuania\",\"Brazil\",\"Canada\",\"Belgium\",\"Costa Rica\",\"Bahrain\"],\"name\":\"\",\"z\":[7.048,7.558,7.66,6.475,6.874,6.359,7.51,7.041,7.159,5.955,6.967,6.591,6.824,7.541,7.226,7.596,6.474,6.033,5.937,6.319,7.369,7.459,6.831,6.824,6.804,6.171,6.736,5.795,5.866,6.375,7.245,6.949,7.136,6.17],\"type\":\"choropleth\"}],\"name\":\"2016\"},{\"data\":[{\"coloraxis\":\"coloraxis\",\"geo\":\"geo\",\"hovertemplate\":\"Year=2017<br>Country_Name=%{location}<br>Happiness=%{z}<extra></extra>\",\"locationmode\":\"country names\",\"locations\":[\"Netherlands\",\"Mexico\",\"Malta\",\"Brazil\",\"Luxembourg\",\"Lithuania\",\"Jamaica\",\"Italy\",\"Israel\",\"Ireland\",\"New Zealand\",\"Norway\",\"Saudi Arabia\",\"Iceland\",\"Singapore\",\"Slovenia\",\"Spain\",\"Bahrain\",\"Sweden\",\"Switzerland\",\"United Arab Emirates\",\"United Kingdom\",\"United States\",\"Austria\",\"Uruguay\",\"Belgium\",\"Canada\",\"Cyprus\",\"Denmark\",\"France\",\"Guatemala\",\"Germany\",\"Czech Republic\",\"Finland\",\"Costa Rica\"],\"name\":\"\",\"z\":[7.459,6.41,6.676,6.333,7.061,6.273,5.89,6.199,7.331,7.06,7.327,7.579,6.294,7.476,6.378,6.167,6.23,6.227,7.287,7.474,7.039,7.103,6.992,7.294,6.336,6.928,7.415,6.062,7.594,6.635,6.325,7.074,6.79,7.788,7.225],\"type\":\"choropleth\"}],\"name\":\"2017\"},{\"data\":[{\"coloraxis\":\"coloraxis\",\"geo\":\"geo\",\"hovertemplate\":\"Year=2018<br>Country_Name=%{location}<br>Happiness=%{z}<extra></extra>\",\"locationmode\":\"country names\",\"locations\":[\"Mexico\",\"Netherlands\",\"New Zealand\",\"Belgium\",\"Finland\",\"Saudi Arabia\",\"Singapore\",\"Slovenia\",\"Denmark\",\"Guatemala\",\"France\",\"Sweden\",\"Czech Republic\",\"Switzerland\",\"United Arab Emirates\",\"Costa Rica\",\"United Kingdom\",\"Austria\",\"United States\",\"Cyprus\",\"Uruguay\",\"Spain\",\"Malta\",\"Norway\",\"Lithuania\",\"Ireland\",\"Luxembourg\",\"Germany\",\"Italy\",\"Brazil\",\"Canada\",\"Israel\"],\"name\":\"\",\"z\":[6.55,7.463,7.37,6.892,7.858,6.356,6.375,6.249,7.649,6.627,6.666,7.375,7.034,7.509,6.604,7.141,7.233,7.396,6.883,6.276,6.372,6.513,6.91,7.444,6.309,6.962,7.243,7.118,6.517,6.191,7.175,6.927],\"type\":\"choropleth\"}],\"name\":\"2018\"},{\"data\":[{\"coloraxis\":\"coloraxis\",\"geo\":\"geo\",\"hovertemplate\":\"Year=2019<br>Country_Name=%{location}<br>Happiness=%{z}<extra></extra>\",\"locationmode\":\"country names\",\"locations\":[\"Saudi Arabia\",\"United Kingdom\",\"Jamaica\",\"Ireland\",\"Singapore\",\"Denmark\",\"Slovenia\",\"Bahrain\",\"Italy\",\"Spain\",\"United Arab Emirates\",\"Germany\",\"Brazil\",\"Sweden\",\"Israel\",\"Austria\",\"France\",\"Uruguay\",\"Canada\",\"Malta\",\"Iceland\",\"Costa Rica\",\"Luxembourg\",\"Mexico\",\"Cyprus\",\"Finland\",\"Netherlands\",\"Switzerland\",\"Belgium\",\"United States\",\"New Zealand\",\"Lithuania\",\"Guatemala\",\"Norway\"],\"name\":\"\",\"z\":[6.561,7.157,6.309,7.255,6.378,7.693,6.665,7.098,6.445,6.457,6.711,7.035,6.451,7.398,7.332,7.195,6.69,6.6,7.109,6.733,7.533,6.998,7.404,6.432,6.137,7.78,7.425,7.694,6.772,6.944,7.205,6.064,6.262,7.442],\"type\":\"choropleth\"}],\"name\":\"2019\"},{\"data\":[{\"coloraxis\":\"coloraxis\",\"geo\":\"geo\",\"hovertemplate\":\"Year=2020<br>Country_Name=%{location}<br>Happiness=%{z}<extra></extra>\",\"locationmode\":\"country names\",\"locations\":[\"United Arab Emirates\",\"Ireland\",\"Iceland\",\"Cyprus\",\"Brazil\",\"Germany\",\"Austria\",\"United States\",\"United Kingdom\",\"France\",\"Czech Republic\",\"Malta\",\"Mexico\",\"Belgium\",\"Netherlands\",\"Canada\",\"Lithuania\",\"New Zealand\",\"Finland\",\"Norway\",\"Saudi Arabia\",\"Denmark\",\"Bahrain\",\"Italy\",\"Slovenia\",\"Spain\",\"Israel\",\"Sweden\",\"Switzerland\",\"Uruguay\"],\"name\":\"\",\"z\":[6.458,7.035,7.575,6.26,6.11,7.312,7.213,7.028,6.798,6.714,6.897,6.157,5.964,6.839,7.504,7.025,6.391,7.257,7.889,7.29,6.56,7.515,6.173,6.488,6.462,6.502,7.195,7.314,7.508,6.31],\"type\":\"choropleth\"}],\"name\":\"2020\"}]);\n",
              "                        }).then(function(){\n",
              "                            \n",
              "var gd = document.getElementById('488a8445-49c6-41d5-b3fa-8a143a278c98');\n",
              "var x = new MutationObserver(function (mutations, observer) {{\n",
              "        var display = window.getComputedStyle(gd).display;\n",
              "        if (!display || display === 'none') {{\n",
              "            console.log([gd, 'removed!']);\n",
              "            Plotly.purge(gd);\n",
              "            observer.disconnect();\n",
              "        }}\n",
              "}});\n",
              "\n",
              "// Listen for the removal of the full notebook cells\n",
              "var notebookContainer = gd.closest('#notebook-container');\n",
              "if (notebookContainer) {{\n",
              "    x.observe(notebookContainer, {childList: true});\n",
              "}}\n",
              "\n",
              "// Listen for the clearing of the current output cell\n",
              "var outputEl = gd.closest('.output');\n",
              "if (outputEl) {{\n",
              "    x.observe(outputEl, {childList: true});\n",
              "}}\n",
              "\n",
              "                        })                };                            </script>        </div>\n",
              "</body>\n",
              "</html>"
            ]
          },
          "metadata": {}
        }
      ]
    },
    {
      "cell_type": "markdown",
      "source": [
        "# What does the standard of happiness look like in the United States vs. other \"happy\" countries?"
      ],
      "metadata": {
        "id": "BcG9yKH3u0qM"
      }
    },
    {
      "cell_type": "code",
      "source": [
        "UnitedStates.head()"
      ],
      "metadata": {
        "colab": {
          "base_uri": "https://localhost:8080/",
          "height": 440
        },
        "id": "y1StsWEGoAM9",
        "outputId": "03441e0b-d9f4-4797-c0e9-1605f06aabea"
      },
      "execution_count": 51,
      "outputs": [
        {
          "output_type": "execute_result",
          "data": {
            "text/plain": [
              "             Country_Name  Happiness     GDP  Social_Support  Life_Expectancy  \\\n",
              "Date                                                                            \n",
              "2016-01-01  United States      6.804  10.986           0.897             68.5   \n",
              "2017-01-01  United States      6.992  11.001           0.921             68.4   \n",
              "2018-01-01  United States      6.883  11.025           0.904             68.3   \n",
              "2019-01-01  United States      6.944  11.043           0.917             68.2   \n",
              "2020-01-01  United States      7.028  11.001           0.937             68.1   \n",
              "\n",
              "            Freedom to make life choices  Generosity  \\\n",
              "Date                                                   \n",
              "2016-01-01                         0.758       0.144   \n",
              "2017-01-01                         0.868       0.197   \n",
              "2018-01-01                         0.825       0.116   \n",
              "2019-01-01                         0.836       0.144   \n",
              "2020-01-01                         0.850       0.034   \n",
              "\n",
              "            Perceptions of corruption  Control_Of_Corruption  \\\n",
              "Date                                                           \n",
              "2016-01-01                      0.739               1.373549   \n",
              "2017-01-01                      0.681               1.384251   \n",
              "2018-01-01                      0.710               1.328869   \n",
              "2019-01-01                      0.707               1.215634   \n",
              "2020-01-01                      0.678               1.068838   \n",
              "\n",
              "            Government_Effectiveness  Stability_And_Absence_Of_Terrorism  \\\n",
              "Date                                                                       \n",
              "2016-01-01                  1.476340                            0.402303   \n",
              "2017-01-01                  1.557018                            0.291818   \n",
              "2018-01-01                  1.575724                            0.421418   \n",
              "2019-01-01                  1.488845                            0.134975   \n",
              "2020-01-01                  1.318942                           -0.022033   \n",
              "\n",
              "            Voice_And_Accountability  Regulatory_Quality  Rule_of_Law  \\\n",
              "Date                                                                    \n",
              "2016-01-01                  1.110259            1.497076     1.618124   \n",
              "2017-01-01                  1.008988            1.631051     1.649322   \n",
              "2018-01-01                  0.976364            1.620526     1.514515   \n",
              "2019-01-01                  0.903805            1.345472     1.461360   \n",
              "2020-01-01                  0.868937            1.244659     1.368086   \n",
              "\n",
              "            Women_In_Government  \n",
              "Date                             \n",
              "2016-01-01            19.168591  \n",
              "2017-01-01            19.354839  \n",
              "2018-01-01            23.502304  \n",
              "2019-01-01            23.433875  \n",
              "2020-01-01            27.464789  "
            ],
            "text/html": [
              "\n",
              "  <div id=\"df-9b5404b5-d9fa-4c7a-8995-b10c4eccd9b9\">\n",
              "    <div class=\"colab-df-container\">\n",
              "      <div>\n",
              "<style scoped>\n",
              "    .dataframe tbody tr th:only-of-type {\n",
              "        vertical-align: middle;\n",
              "    }\n",
              "\n",
              "    .dataframe tbody tr th {\n",
              "        vertical-align: top;\n",
              "    }\n",
              "\n",
              "    .dataframe thead th {\n",
              "        text-align: right;\n",
              "    }\n",
              "</style>\n",
              "<table border=\"1\" class=\"dataframe\">\n",
              "  <thead>\n",
              "    <tr style=\"text-align: right;\">\n",
              "      <th></th>\n",
              "      <th>Country_Name</th>\n",
              "      <th>Happiness</th>\n",
              "      <th>GDP</th>\n",
              "      <th>Social_Support</th>\n",
              "      <th>Life_Expectancy</th>\n",
              "      <th>Freedom to make life choices</th>\n",
              "      <th>Generosity</th>\n",
              "      <th>Perceptions of corruption</th>\n",
              "      <th>Control_Of_Corruption</th>\n",
              "      <th>Government_Effectiveness</th>\n",
              "      <th>Stability_And_Absence_Of_Terrorism</th>\n",
              "      <th>Voice_And_Accountability</th>\n",
              "      <th>Regulatory_Quality</th>\n",
              "      <th>Rule_of_Law</th>\n",
              "      <th>Women_In_Government</th>\n",
              "    </tr>\n",
              "    <tr>\n",
              "      <th>Date</th>\n",
              "      <th></th>\n",
              "      <th></th>\n",
              "      <th></th>\n",
              "      <th></th>\n",
              "      <th></th>\n",
              "      <th></th>\n",
              "      <th></th>\n",
              "      <th></th>\n",
              "      <th></th>\n",
              "      <th></th>\n",
              "      <th></th>\n",
              "      <th></th>\n",
              "      <th></th>\n",
              "      <th></th>\n",
              "      <th></th>\n",
              "    </tr>\n",
              "  </thead>\n",
              "  <tbody>\n",
              "    <tr>\n",
              "      <th>2016-01-01</th>\n",
              "      <td>United States</td>\n",
              "      <td>6.804</td>\n",
              "      <td>10.986</td>\n",
              "      <td>0.897</td>\n",
              "      <td>68.5</td>\n",
              "      <td>0.758</td>\n",
              "      <td>0.144</td>\n",
              "      <td>0.739</td>\n",
              "      <td>1.373549</td>\n",
              "      <td>1.476340</td>\n",
              "      <td>0.402303</td>\n",
              "      <td>1.110259</td>\n",
              "      <td>1.497076</td>\n",
              "      <td>1.618124</td>\n",
              "      <td>19.168591</td>\n",
              "    </tr>\n",
              "    <tr>\n",
              "      <th>2017-01-01</th>\n",
              "      <td>United States</td>\n",
              "      <td>6.992</td>\n",
              "      <td>11.001</td>\n",
              "      <td>0.921</td>\n",
              "      <td>68.4</td>\n",
              "      <td>0.868</td>\n",
              "      <td>0.197</td>\n",
              "      <td>0.681</td>\n",
              "      <td>1.384251</td>\n",
              "      <td>1.557018</td>\n",
              "      <td>0.291818</td>\n",
              "      <td>1.008988</td>\n",
              "      <td>1.631051</td>\n",
              "      <td>1.649322</td>\n",
              "      <td>19.354839</td>\n",
              "    </tr>\n",
              "    <tr>\n",
              "      <th>2018-01-01</th>\n",
              "      <td>United States</td>\n",
              "      <td>6.883</td>\n",
              "      <td>11.025</td>\n",
              "      <td>0.904</td>\n",
              "      <td>68.3</td>\n",
              "      <td>0.825</td>\n",
              "      <td>0.116</td>\n",
              "      <td>0.710</td>\n",
              "      <td>1.328869</td>\n",
              "      <td>1.575724</td>\n",
              "      <td>0.421418</td>\n",
              "      <td>0.976364</td>\n",
              "      <td>1.620526</td>\n",
              "      <td>1.514515</td>\n",
              "      <td>23.502304</td>\n",
              "    </tr>\n",
              "    <tr>\n",
              "      <th>2019-01-01</th>\n",
              "      <td>United States</td>\n",
              "      <td>6.944</td>\n",
              "      <td>11.043</td>\n",
              "      <td>0.917</td>\n",
              "      <td>68.2</td>\n",
              "      <td>0.836</td>\n",
              "      <td>0.144</td>\n",
              "      <td>0.707</td>\n",
              "      <td>1.215634</td>\n",
              "      <td>1.488845</td>\n",
              "      <td>0.134975</td>\n",
              "      <td>0.903805</td>\n",
              "      <td>1.345472</td>\n",
              "      <td>1.461360</td>\n",
              "      <td>23.433875</td>\n",
              "    </tr>\n",
              "    <tr>\n",
              "      <th>2020-01-01</th>\n",
              "      <td>United States</td>\n",
              "      <td>7.028</td>\n",
              "      <td>11.001</td>\n",
              "      <td>0.937</td>\n",
              "      <td>68.1</td>\n",
              "      <td>0.850</td>\n",
              "      <td>0.034</td>\n",
              "      <td>0.678</td>\n",
              "      <td>1.068838</td>\n",
              "      <td>1.318942</td>\n",
              "      <td>-0.022033</td>\n",
              "      <td>0.868937</td>\n",
              "      <td>1.244659</td>\n",
              "      <td>1.368086</td>\n",
              "      <td>27.464789</td>\n",
              "    </tr>\n",
              "  </tbody>\n",
              "</table>\n",
              "</div>\n",
              "      <button class=\"colab-df-convert\" onclick=\"convertToInteractive('df-9b5404b5-d9fa-4c7a-8995-b10c4eccd9b9')\"\n",
              "              title=\"Convert this dataframe to an interactive table.\"\n",
              "              style=\"display:none;\">\n",
              "        \n",
              "  <svg xmlns=\"http://www.w3.org/2000/svg\" height=\"24px\"viewBox=\"0 0 24 24\"\n",
              "       width=\"24px\">\n",
              "    <path d=\"M0 0h24v24H0V0z\" fill=\"none\"/>\n",
              "    <path d=\"M18.56 5.44l.94 2.06.94-2.06 2.06-.94-2.06-.94-.94-2.06-.94 2.06-2.06.94zm-11 1L8.5 8.5l.94-2.06 2.06-.94-2.06-.94L8.5 2.5l-.94 2.06-2.06.94zm10 10l.94 2.06.94-2.06 2.06-.94-2.06-.94-.94-2.06-.94 2.06-2.06.94z\"/><path d=\"M17.41 7.96l-1.37-1.37c-.4-.4-.92-.59-1.43-.59-.52 0-1.04.2-1.43.59L10.3 9.45l-7.72 7.72c-.78.78-.78 2.05 0 2.83L4 21.41c.39.39.9.59 1.41.59.51 0 1.02-.2 1.41-.59l7.78-7.78 2.81-2.81c.8-.78.8-2.07 0-2.86zM5.41 20L4 18.59l7.72-7.72 1.47 1.35L5.41 20z\"/>\n",
              "  </svg>\n",
              "      </button>\n",
              "      \n",
              "  <style>\n",
              "    .colab-df-container {\n",
              "      display:flex;\n",
              "      flex-wrap:wrap;\n",
              "      gap: 12px;\n",
              "    }\n",
              "\n",
              "    .colab-df-convert {\n",
              "      background-color: #E8F0FE;\n",
              "      border: none;\n",
              "      border-radius: 50%;\n",
              "      cursor: pointer;\n",
              "      display: none;\n",
              "      fill: #1967D2;\n",
              "      height: 32px;\n",
              "      padding: 0 0 0 0;\n",
              "      width: 32px;\n",
              "    }\n",
              "\n",
              "    .colab-df-convert:hover {\n",
              "      background-color: #E2EBFA;\n",
              "      box-shadow: 0px 1px 2px rgba(60, 64, 67, 0.3), 0px 1px 3px 1px rgba(60, 64, 67, 0.15);\n",
              "      fill: #174EA6;\n",
              "    }\n",
              "\n",
              "    [theme=dark] .colab-df-convert {\n",
              "      background-color: #3B4455;\n",
              "      fill: #D2E3FC;\n",
              "    }\n",
              "\n",
              "    [theme=dark] .colab-df-convert:hover {\n",
              "      background-color: #434B5C;\n",
              "      box-shadow: 0px 1px 3px 1px rgba(0, 0, 0, 0.15);\n",
              "      filter: drop-shadow(0px 1px 2px rgba(0, 0, 0, 0.3));\n",
              "      fill: #FFFFFF;\n",
              "    }\n",
              "  </style>\n",
              "\n",
              "      <script>\n",
              "        const buttonEl =\n",
              "          document.querySelector('#df-9b5404b5-d9fa-4c7a-8995-b10c4eccd9b9 button.colab-df-convert');\n",
              "        buttonEl.style.display =\n",
              "          google.colab.kernel.accessAllowed ? 'block' : 'none';\n",
              "\n",
              "        async function convertToInteractive(key) {\n",
              "          const element = document.querySelector('#df-9b5404b5-d9fa-4c7a-8995-b10c4eccd9b9');\n",
              "          const dataTable =\n",
              "            await google.colab.kernel.invokeFunction('convertToInteractive',\n",
              "                                                     [key], {});\n",
              "          if (!dataTable) return;\n",
              "\n",
              "          const docLinkHtml = 'Like what you see? Visit the ' +\n",
              "            '<a target=\"_blank\" href=https://colab.research.google.com/notebooks/data_table.ipynb>data table notebook</a>'\n",
              "            + ' to learn more about interactive tables.';\n",
              "          element.innerHTML = '';\n",
              "          dataTable['output_type'] = 'display_data';\n",
              "          await google.colab.output.renderOutput(dataTable, element);\n",
              "          const docLink = document.createElement('div');\n",
              "          docLink.innerHTML = docLinkHtml;\n",
              "          element.appendChild(docLink);\n",
              "        }\n",
              "      </script>\n",
              "    </div>\n",
              "  </div>\n",
              "  "
            ]
          },
          "metadata": {},
          "execution_count": 51
        }
      ]
    },
    {
      "cell_type": "code",
      "source": [
        "from scipy.stats import spearmanr\n",
        "\n",
        "Correlations = {}\n",
        "PVal = {}\n",
        "US = {}\n",
        "International = {}\n",
        "\n",
        "\n",
        "for x in columns: \n",
        "      rho, p = spearmanr(Happiness2['Happiness'], Happiness2[x], nan_policy='omit')\n",
        "      Correlations[x] = round(rho, 3)\n",
        "      PVal[x] = round(p,0)\n",
        "print(Correlations)\n",
        "print(PVal)"
      ],
      "metadata": {
        "colab": {
          "base_uri": "https://localhost:8080/"
        },
        "id": "vRhYDxBA2IEk",
        "outputId": "e7f453c2-5222-4ad9-b08f-fad9e974c0b6"
      },
      "execution_count": 52,
      "outputs": [
        {
          "output_type": "stream",
          "name": "stdout",
          "text": [
            "{'GDP': 0.553, 'Women_In_Government': 0.515, 'Happiness': 1.0, 'Rule_of_Law': 0.764, 'Regulatory_Quality': 0.695, 'Voice_And_Accountability': 0.753, 'Stability_And_Absence_Of_Terrorism': 0.459, 'Government_Effectiveness': 0.719, 'Perceptions of corruption': -0.684, 'Freedom to make life choices': 0.559, 'Social_Support': 0.575, 'Life_Expectancy': 0.312}\n",
            "{'GDP': 0.0, 'Women_In_Government': 0.0, 'Happiness': 0.0, 'Rule_of_Law': 0.0, 'Regulatory_Quality': 0.0, 'Voice_And_Accountability': 0.0, 'Stability_And_Absence_Of_Terrorism': 0.0, 'Government_Effectiveness': 0.0, 'Perceptions of corruption': 0.0, 'Freedom to make life choices': 0.0, 'Social_Support': 0.0, 'Life_Expectancy': 0.0}\n"
          ]
        }
      ]
    },
    {
      "cell_type": "code",
      "source": [
        "import statsmodels.formula.api as smf\n",
        "\n",
        "# Initialise and fit linear regression model using `statsmodels`\n",
        "model = smf.ols('Happiness ~ Stability_And_Absence_Of_Terrorism', data=AnnualMeans)\n",
        "model = model.fit()\n",
        "model.predict({'Stability_And_Absence_Of_Terrorism':-.02})\n"
      ],
      "metadata": {
        "colab": {
          "base_uri": "https://localhost:8080/"
        },
        "id": "B9KfYVc7QI9q",
        "outputId": "7b926593-02c6-4f84-bb7f-d1de9c46b226"
      },
      "execution_count": 63,
      "outputs": [
        {
          "output_type": "execute_result",
          "data": {
            "text/plain": [
              "0    7.786798\n",
              "dtype: float64"
            ]
          },
          "metadata": {},
          "execution_count": 63
        }
      ]
    },
    {
      "cell_type": "code",
      "source": [
        "AnnualMeans.rename(columns={'Perceptions of corruption': 'Perceptions_Of_Corruption', 'Freedom to make life choices': 'Freedom_To_Choose'},  inplace=True)\n",
        "UnitedStates.rename(columns={'Perceptions of corruption': 'Perceptions_Of_Corruption', 'Freedom to make life choices': 'Freedom_To_Choose'},  inplace=True)"
      ],
      "metadata": {
        "colab": {
          "base_uri": "https://localhost:8080/"
        },
        "id": "nldcxFFebPeZ",
        "outputId": "371a695d-f652-4c9a-c5b5-8c7badb695c4"
      },
      "execution_count": 64,
      "outputs": [
        {
          "output_type": "stream",
          "name": "stderr",
          "text": [
            "/usr/local/lib/python3.7/dist-packages/pandas/core/frame.py:5047: SettingWithCopyWarning:\n",
            "\n",
            "\n",
            "A value is trying to be set on a copy of a slice from a DataFrame\n",
            "\n",
            "See the caveats in the documentation: https://pandas.pydata.org/pandas-docs/stable/user_guide/indexing.html#returning-a-view-versus-a-copy\n",
            "\n"
          ]
        }
      ]
    },
    {
      "cell_type": "code",
      "source": [
        "\n",
        "predictions = {}\n",
        "for x in (AnnualMeans.columns):\n",
        "  key = ('Happiness ~ ' + x)\n",
        "  model = smf.ols(key, data=AnnualMeans)\n",
        "  model = model.fit()\n",
        "  new_X = UnitedStates[x]\n",
        "  a = model.predict({x: new_X})\n",
        "  predictions[x] = a"
      ],
      "metadata": {
        "id": "0Q4bNVUtYRJN"
      },
      "execution_count": 55,
      "outputs": []
    },
    {
      "cell_type": "code",
      "source": [
        "Predictions = pd.DataFrame(predictions)\n",
        "Predictions['Happiness'] = UnitedStates['Happiness']\n",
        "Predictions"
      ],
      "metadata": {
        "colab": {
          "base_uri": "https://localhost:8080/",
          "height": 388
        },
        "id": "4ZUK0Be6bzIr",
        "outputId": "491ffcff-2adf-46d0-c3e7-05da2fb82d91"
      },
      "execution_count": 56,
      "outputs": [
        {
          "output_type": "execute_result",
          "data": {
            "text/plain": [
              "            Happiness       GDP  Social_Support  Life_Expectancy  \\\n",
              "Date                                                               \n",
              "2016-01-01      6.804  7.316955        6.935143         6.616484   \n",
              "2017-01-01      6.992  7.337391        6.836923         6.607754   \n",
              "2018-01-01      6.883  7.370088        6.906496         6.599024   \n",
              "2019-01-01      6.944  7.394610        6.853293         6.590294   \n",
              "2020-01-01      7.028  7.337391        6.771443         6.581564   \n",
              "\n",
              "            Freedom_To_Choose  Generosity  Perceptions_Of_Corruption  \\\n",
              "Date                                                                   \n",
              "2016-01-01           6.622436    6.746094                   6.355507   \n",
              "2017-01-01           6.859651    6.695259                   6.519951   \n",
              "2018-01-01           6.766922    6.772951                   6.437729   \n",
              "2019-01-01           6.790643    6.746094                   6.446234   \n",
              "2020-01-01           6.820834    6.851602                   6.528456   \n",
              "\n",
              "            Control_Of_Corruption  Government_Effectiveness  \\\n",
              "Date                                                          \n",
              "2016-01-01               6.700564                  6.335539   \n",
              "2017-01-01               6.691924                  6.191007   \n",
              "2018-01-01               6.736634                  6.157496   \n",
              "2019-01-01               6.828049                  6.313137   \n",
              "2020-01-01               6.946558                  6.617513   \n",
              "\n",
              "            Stability_And_Absence_Of_Terrorism  Voice_And_Accountability  \\\n",
              "Date                                                                       \n",
              "2016-01-01                            7.145253                  6.821438   \n",
              "2017-01-01                            7.313098                  6.842492   \n",
              "2018-01-01                            7.116215                  6.849275   \n",
              "2019-01-01                            7.551366                  6.864360   \n",
              "2020-01-01                            7.789886                  6.871609   \n",
              "\n",
              "            Regulatory_Quality  Rule_of_Law  Women_In_Government  \n",
              "Date                                                              \n",
              "2016-01-01            6.652418     6.317052             6.729246  \n",
              "2017-01-01            6.559432     6.280371             6.731574  \n",
              "2018-01-01            6.566737     6.438868             6.783433  \n",
              "2019-01-01            6.757640     6.501365             6.782577  \n",
              "2020-01-01            6.827610     6.611030             6.832978  "
            ],
            "text/html": [
              "\n",
              "  <div id=\"df-d53a5f48-987e-4483-8632-8bd4b17092f2\">\n",
              "    <div class=\"colab-df-container\">\n",
              "      <div>\n",
              "<style scoped>\n",
              "    .dataframe tbody tr th:only-of-type {\n",
              "        vertical-align: middle;\n",
              "    }\n",
              "\n",
              "    .dataframe tbody tr th {\n",
              "        vertical-align: top;\n",
              "    }\n",
              "\n",
              "    .dataframe thead th {\n",
              "        text-align: right;\n",
              "    }\n",
              "</style>\n",
              "<table border=\"1\" class=\"dataframe\">\n",
              "  <thead>\n",
              "    <tr style=\"text-align: right;\">\n",
              "      <th></th>\n",
              "      <th>Happiness</th>\n",
              "      <th>GDP</th>\n",
              "      <th>Social_Support</th>\n",
              "      <th>Life_Expectancy</th>\n",
              "      <th>Freedom_To_Choose</th>\n",
              "      <th>Generosity</th>\n",
              "      <th>Perceptions_Of_Corruption</th>\n",
              "      <th>Control_Of_Corruption</th>\n",
              "      <th>Government_Effectiveness</th>\n",
              "      <th>Stability_And_Absence_Of_Terrorism</th>\n",
              "      <th>Voice_And_Accountability</th>\n",
              "      <th>Regulatory_Quality</th>\n",
              "      <th>Rule_of_Law</th>\n",
              "      <th>Women_In_Government</th>\n",
              "    </tr>\n",
              "    <tr>\n",
              "      <th>Date</th>\n",
              "      <th></th>\n",
              "      <th></th>\n",
              "      <th></th>\n",
              "      <th></th>\n",
              "      <th></th>\n",
              "      <th></th>\n",
              "      <th></th>\n",
              "      <th></th>\n",
              "      <th></th>\n",
              "      <th></th>\n",
              "      <th></th>\n",
              "      <th></th>\n",
              "      <th></th>\n",
              "      <th></th>\n",
              "    </tr>\n",
              "  </thead>\n",
              "  <tbody>\n",
              "    <tr>\n",
              "      <th>2016-01-01</th>\n",
              "      <td>6.804</td>\n",
              "      <td>7.316955</td>\n",
              "      <td>6.935143</td>\n",
              "      <td>6.616484</td>\n",
              "      <td>6.622436</td>\n",
              "      <td>6.746094</td>\n",
              "      <td>6.355507</td>\n",
              "      <td>6.700564</td>\n",
              "      <td>6.335539</td>\n",
              "      <td>7.145253</td>\n",
              "      <td>6.821438</td>\n",
              "      <td>6.652418</td>\n",
              "      <td>6.317052</td>\n",
              "      <td>6.729246</td>\n",
              "    </tr>\n",
              "    <tr>\n",
              "      <th>2017-01-01</th>\n",
              "      <td>6.992</td>\n",
              "      <td>7.337391</td>\n",
              "      <td>6.836923</td>\n",
              "      <td>6.607754</td>\n",
              "      <td>6.859651</td>\n",
              "      <td>6.695259</td>\n",
              "      <td>6.519951</td>\n",
              "      <td>6.691924</td>\n",
              "      <td>6.191007</td>\n",
              "      <td>7.313098</td>\n",
              "      <td>6.842492</td>\n",
              "      <td>6.559432</td>\n",
              "      <td>6.280371</td>\n",
              "      <td>6.731574</td>\n",
              "    </tr>\n",
              "    <tr>\n",
              "      <th>2018-01-01</th>\n",
              "      <td>6.883</td>\n",
              "      <td>7.370088</td>\n",
              "      <td>6.906496</td>\n",
              "      <td>6.599024</td>\n",
              "      <td>6.766922</td>\n",
              "      <td>6.772951</td>\n",
              "      <td>6.437729</td>\n",
              "      <td>6.736634</td>\n",
              "      <td>6.157496</td>\n",
              "      <td>7.116215</td>\n",
              "      <td>6.849275</td>\n",
              "      <td>6.566737</td>\n",
              "      <td>6.438868</td>\n",
              "      <td>6.783433</td>\n",
              "    </tr>\n",
              "    <tr>\n",
              "      <th>2019-01-01</th>\n",
              "      <td>6.944</td>\n",
              "      <td>7.394610</td>\n",
              "      <td>6.853293</td>\n",
              "      <td>6.590294</td>\n",
              "      <td>6.790643</td>\n",
              "      <td>6.746094</td>\n",
              "      <td>6.446234</td>\n",
              "      <td>6.828049</td>\n",
              "      <td>6.313137</td>\n",
              "      <td>7.551366</td>\n",
              "      <td>6.864360</td>\n",
              "      <td>6.757640</td>\n",
              "      <td>6.501365</td>\n",
              "      <td>6.782577</td>\n",
              "    </tr>\n",
              "    <tr>\n",
              "      <th>2020-01-01</th>\n",
              "      <td>7.028</td>\n",
              "      <td>7.337391</td>\n",
              "      <td>6.771443</td>\n",
              "      <td>6.581564</td>\n",
              "      <td>6.820834</td>\n",
              "      <td>6.851602</td>\n",
              "      <td>6.528456</td>\n",
              "      <td>6.946558</td>\n",
              "      <td>6.617513</td>\n",
              "      <td>7.789886</td>\n",
              "      <td>6.871609</td>\n",
              "      <td>6.827610</td>\n",
              "      <td>6.611030</td>\n",
              "      <td>6.832978</td>\n",
              "    </tr>\n",
              "  </tbody>\n",
              "</table>\n",
              "</div>\n",
              "      <button class=\"colab-df-convert\" onclick=\"convertToInteractive('df-d53a5f48-987e-4483-8632-8bd4b17092f2')\"\n",
              "              title=\"Convert this dataframe to an interactive table.\"\n",
              "              style=\"display:none;\">\n",
              "        \n",
              "  <svg xmlns=\"http://www.w3.org/2000/svg\" height=\"24px\"viewBox=\"0 0 24 24\"\n",
              "       width=\"24px\">\n",
              "    <path d=\"M0 0h24v24H0V0z\" fill=\"none\"/>\n",
              "    <path d=\"M18.56 5.44l.94 2.06.94-2.06 2.06-.94-2.06-.94-.94-2.06-.94 2.06-2.06.94zm-11 1L8.5 8.5l.94-2.06 2.06-.94-2.06-.94L8.5 2.5l-.94 2.06-2.06.94zm10 10l.94 2.06.94-2.06 2.06-.94-2.06-.94-.94-2.06-.94 2.06-2.06.94z\"/><path d=\"M17.41 7.96l-1.37-1.37c-.4-.4-.92-.59-1.43-.59-.52 0-1.04.2-1.43.59L10.3 9.45l-7.72 7.72c-.78.78-.78 2.05 0 2.83L4 21.41c.39.39.9.59 1.41.59.51 0 1.02-.2 1.41-.59l7.78-7.78 2.81-2.81c.8-.78.8-2.07 0-2.86zM5.41 20L4 18.59l7.72-7.72 1.47 1.35L5.41 20z\"/>\n",
              "  </svg>\n",
              "      </button>\n",
              "      \n",
              "  <style>\n",
              "    .colab-df-container {\n",
              "      display:flex;\n",
              "      flex-wrap:wrap;\n",
              "      gap: 12px;\n",
              "    }\n",
              "\n",
              "    .colab-df-convert {\n",
              "      background-color: #E8F0FE;\n",
              "      border: none;\n",
              "      border-radius: 50%;\n",
              "      cursor: pointer;\n",
              "      display: none;\n",
              "      fill: #1967D2;\n",
              "      height: 32px;\n",
              "      padding: 0 0 0 0;\n",
              "      width: 32px;\n",
              "    }\n",
              "\n",
              "    .colab-df-convert:hover {\n",
              "      background-color: #E2EBFA;\n",
              "      box-shadow: 0px 1px 2px rgba(60, 64, 67, 0.3), 0px 1px 3px 1px rgba(60, 64, 67, 0.15);\n",
              "      fill: #174EA6;\n",
              "    }\n",
              "\n",
              "    [theme=dark] .colab-df-convert {\n",
              "      background-color: #3B4455;\n",
              "      fill: #D2E3FC;\n",
              "    }\n",
              "\n",
              "    [theme=dark] .colab-df-convert:hover {\n",
              "      background-color: #434B5C;\n",
              "      box-shadow: 0px 1px 3px 1px rgba(0, 0, 0, 0.15);\n",
              "      filter: drop-shadow(0px 1px 2px rgba(0, 0, 0, 0.3));\n",
              "      fill: #FFFFFF;\n",
              "    }\n",
              "  </style>\n",
              "\n",
              "      <script>\n",
              "        const buttonEl =\n",
              "          document.querySelector('#df-d53a5f48-987e-4483-8632-8bd4b17092f2 button.colab-df-convert');\n",
              "        buttonEl.style.display =\n",
              "          google.colab.kernel.accessAllowed ? 'block' : 'none';\n",
              "\n",
              "        async function convertToInteractive(key) {\n",
              "          const element = document.querySelector('#df-d53a5f48-987e-4483-8632-8bd4b17092f2');\n",
              "          const dataTable =\n",
              "            await google.colab.kernel.invokeFunction('convertToInteractive',\n",
              "                                                     [key], {});\n",
              "          if (!dataTable) return;\n",
              "\n",
              "          const docLinkHtml = 'Like what you see? Visit the ' +\n",
              "            '<a target=\"_blank\" href=https://colab.research.google.com/notebooks/data_table.ipynb>data table notebook</a>'\n",
              "            + ' to learn more about interactive tables.';\n",
              "          element.innerHTML = '';\n",
              "          dataTable['output_type'] = 'display_data';\n",
              "          await google.colab.output.renderOutput(dataTable, element);\n",
              "          const docLink = document.createElement('div');\n",
              "          docLink.innerHTML = docLinkHtml;\n",
              "          element.appendChild(docLink);\n",
              "        }\n",
              "      </script>\n",
              "    </div>\n",
              "  </div>\n",
              "  "
            ]
          },
          "metadata": {},
          "execution_count": 56
        }
      ]
    },
    {
      "cell_type": "code",
      "source": [
        "Predictions.index\n",
        "df16 = Predictions.loc[:'2016-01-01']\n",
        "df17 = Predictions.loc['2017-01-01']\n",
        "df18 = Predictions.loc['2018-01-01']\n",
        "df19 = Predictions.loc['2019-01-01']\n",
        "df20 = Predictions.loc['2020-01-01']"
      ],
      "metadata": {
        "id": "kILD4O-ZF6ZD"
      },
      "execution_count": 57,
      "outputs": []
    },
    {
      "cell_type": "markdown",
      "source": [
        "I saw some interesting results in the model regarding corruption and terrorism scores, as our scores seem to predict a higher happiness, despite the value being a negative attribute. Due to this, I split the values to allow for viewing with and without those factors. "
      ],
      "metadata": {
        "id": "jML6IdMTGgCS"
      }
    },
    {
      "cell_type": "code",
      "source": [
        "Scores = pd.DataFrame()\n",
        "Scores['Overall_Score'] = ((Predictions['GDP'] + Predictions['Social_Support'] + Predictions['Life_Expectancy'] + Predictions['Freedom_To_Choose'] +\n",
        "                                  Predictions['Generosity'] + Predictions['Perceptions_Of_Corruption'] + Predictions['Government_Effectiveness'] +\n",
        "                                  Predictions['Stability_And_Absence_Of_Terrorism'] + Predictions['Voice_And_Accountability'] + Predictions['Regulatory_Quality']\n",
        "                                  + Predictions['Rule_of_Law'] + Predictions['Women_In_Government']) / 12)\n",
        "Scores['Score'] = ((Predictions['GDP'] + Predictions['Social_Support'] + Predictions['Life_Expectancy'] + Predictions['Freedom_To_Choose'] +\n",
        "                                  Predictions['Generosity'] + Predictions['Government_Effectiveness']  + Predictions['Voice_And_Accountability'] \n",
        "                                  + Predictions['Regulatory_Quality'] + Predictions['Rule_of_Law'] + Predictions['Women_In_Government']) / 10)\n",
        "Scores['Actual_Happiness'] = Predictions['Happiness']\n",
        "print(Scores)"
      ],
      "metadata": {
        "colab": {
          "base_uri": "https://localhost:8080/"
        },
        "id": "uXOcfKIGCwKr",
        "outputId": "8579f158-ebea-4fe6-f36d-b02955436be3"
      },
      "execution_count": 58,
      "outputs": [
        {
          "output_type": "stream",
          "name": "stdout",
          "text": [
            "            Overall_Score     Score  Actual_Happiness\n",
            "Date                                                 \n",
            "2016-01-01       6.716130  6.709281             6.804\n",
            "2017-01-01       6.731242  6.694186             6.992\n",
            "2018-01-01       6.730436  6.721129             6.883\n",
            "2019-01-01       6.799301  6.759401             6.944\n",
            "2020-01-01       6.870160  6.812357             7.028\n"
          ]
        }
      ]
    },
    {
      "cell_type": "code",
      "source": [
        "Scores.plot.bar()\n",
        "plt.ylim(6.6, 7.1)"
      ],
      "metadata": {
        "colab": {
          "base_uri": "https://localhost:8080/",
          "height": 480
        },
        "id": "qULc8kOwAsOu",
        "outputId": "ee44e29e-f8f5-4af8-bf12-3be8c5b4ab9c"
      },
      "execution_count": 59,
      "outputs": [
        {
          "output_type": "execute_result",
          "data": {
            "text/plain": [
              "(6.6, 7.1)"
            ]
          },
          "metadata": {},
          "execution_count": 59
        },
        {
          "output_type": "display_data",
          "data": {
            "text/plain": [
              "<Figure size 576x396 with 1 Axes>"
            ],
            "image/png": "[encoded data removed]"
          },
          "metadata": {
            "needs_background": "light"
          }
        }
      ]
    },
    {
      "cell_type": "code",
      "source": [
        "predictionschk = {}\n",
        "for x in (AnnualMeans.columns):\n",
        "  key = ('Happiness ~ ' + x)\n",
        "  model = smf.ols(key, data=AnnualMeans)\n",
        "  model = model.fit()\n",
        "  new_X = AnnualMeans[x]\n",
        "  a = model.predict({x: new_X})\n",
        "  predictionschk[x] = a\n",
        "print(predictionschk)"
      ],
      "metadata": {
        "colab": {
          "base_uri": "https://localhost:8080/"
        },
        "id": "ijQmGaQfizs5",
        "outputId": "4a28c5ce-686d-43b8-eecb-476e10c9a2cc"
      },
      "execution_count": 60,
      "outputs": [
        {
          "output_type": "stream",
          "name": "stdout",
          "text": [
            "{'Happiness': Date\n",
            "2016-01-01    6.790500\n",
            "2017-01-01    6.849457\n",
            "2018-01-01    6.912094\n",
            "2019-01-01    6.922471\n",
            "2020-01-01    6.858100\n",
            "dtype: float64, 'GDP': Date\n",
            "2016-01-01    6.863006\n",
            "2017-01-01    6.831368\n",
            "2018-01-01    6.900198\n",
            "2019-01-01    6.867173\n",
            "2020-01-01    6.870877\n",
            "dtype: float64, 'Social_Support': Date\n",
            "2016-01-01    6.862923\n",
            "2017-01-01    6.880888\n",
            "2018-01-01    6.871198\n",
            "2019-01-01    6.870867\n",
            "2020-01-01    6.846745\n",
            "dtype: float64, 'Life_Expectancy': Date\n",
            "2016-01-01    6.832680\n",
            "2017-01-01    6.840970\n",
            "2018-01-01    6.872110\n",
            "2019-01-01    6.879668\n",
            "2020-01-01    6.907193\n",
            "dtype: float64, 'Freedom_To_Choose': Date\n",
            "2016-01-01    6.830348\n",
            "2017-01-01    6.874808\n",
            "2018-01-01    6.846982\n",
            "2019-01-01    6.890857\n",
            "2020-01-01    6.889626\n",
            "dtype: float64, 'Generosity': Date\n",
            "2016-01-01    6.832080\n",
            "2017-01-01    6.821978\n",
            "2018-01-01    6.896443\n",
            "2019-01-01    6.883109\n",
            "2020-01-01    6.899012\n",
            "dtype: float64, 'Perceptions_Of_Corruption': Date\n",
            "2016-01-01    6.805578\n",
            "2017-01-01    6.857521\n",
            "2018-01-01    6.887398\n",
            "2019-01-01    6.875636\n",
            "2020-01-01    6.906488\n",
            "dtype: float64, 'Control_Of_Corruption': Date\n",
            "2016-01-01    6.822823\n",
            "2017-01-01    6.894079\n",
            "2018-01-01    6.851189\n",
            "2019-01-01    6.895239\n",
            "2020-01-01    6.869292\n",
            "dtype: float64, 'Government_Effectiveness': Date\n",
            "2016-01-01    6.816032\n",
            "2017-01-01    6.884478\n",
            "2018-01-01    6.848938\n",
            "2019-01-01    6.908790\n",
            "2020-01-01    6.874384\n",
            "dtype: float64, 'Stability_And_Absence_Of_Terrorism': Date\n",
            "2016-01-01    6.824702\n",
            "2017-01-01    6.866795\n",
            "2018-01-01    6.851394\n",
            "2019-01-01    6.891391\n",
            "2020-01-01    6.898339\n",
            "dtype: float64, 'Voice_And_Accountability': Date\n",
            "2016-01-01    6.866746\n",
            "2017-01-01    6.869051\n",
            "2018-01-01    6.859219\n",
            "2019-01-01    6.875863\n",
            "2020-01-01    6.861742\n",
            "dtype: float64, 'Regulatory_Quality': Date\n",
            "2016-01-01    6.856657\n",
            "2017-01-01    6.872621\n",
            "2018-01-01    6.848697\n",
            "2019-01-01    6.883948\n",
            "2020-01-01    6.870698\n",
            "dtype: float64, 'Rule_of_Law': Date\n",
            "2016-01-01    6.832921\n",
            "2017-01-01    6.894168\n",
            "2018-01-01    6.864047\n",
            "2019-01-01    6.906243\n",
            "2020-01-01    6.835243\n",
            "dtype: float64, 'Women_In_Government': Date\n",
            "2016-01-01    6.843760\n",
            "2017-01-01    6.846294\n",
            "2018-01-01    6.860088\n",
            "2019-01-01    6.881990\n",
            "2020-01-01    6.900489\n",
            "dtype: float64}\n"
          ]
        }
      ]
    },
    {
      "cell_type": "code",
      "source": [
        "PredictionsChk = pd.DataFrame(predictionschk)\n",
        "PredictionsChk['Happiness'] = AnnualMeans['Happiness']\n",
        "PredictionsChk"
      ],
      "metadata": {
        "colab": {
          "base_uri": "https://localhost:8080/",
          "height": 388
        },
        "id": "56wmAyK4jENs",
        "outputId": "ffae3ddb-fd2c-42f5-f0f9-811b700728c1"
      },
      "execution_count": 61,
      "outputs": [
        {
          "output_type": "execute_result",
          "data": {
            "text/plain": [
              "            Happiness       GDP  Social_Support  Life_Expectancy  \\\n",
              "Date                                                               \n",
              "2016-01-01   6.790500  6.863006        6.862923         6.832680   \n",
              "2017-01-01   6.849457  6.831368        6.880888         6.840970   \n",
              "2018-01-01   6.912094  6.900198        6.871198         6.872110   \n",
              "2019-01-01   6.922471  6.867173        6.870867         6.879668   \n",
              "2020-01-01   6.858100  6.870877        6.846745         6.907193   \n",
              "\n",
              "            Freedom_To_Choose  Generosity  Perceptions_Of_Corruption  \\\n",
              "Date                                                                   \n",
              "2016-01-01           6.830348    6.832080                   6.805578   \n",
              "2017-01-01           6.874808    6.821978                   6.857521   \n",
              "2018-01-01           6.846982    6.896443                   6.887398   \n",
              "2019-01-01           6.890857    6.883109                   6.875636   \n",
              "2020-01-01           6.889626    6.899012                   6.906488   \n",
              "\n",
              "            Control_Of_Corruption  Government_Effectiveness  \\\n",
              "Date                                                          \n",
              "2016-01-01               6.822823                  6.816032   \n",
              "2017-01-01               6.894079                  6.884478   \n",
              "2018-01-01               6.851189                  6.848938   \n",
              "2019-01-01               6.895239                  6.908790   \n",
              "2020-01-01               6.869292                  6.874384   \n",
              "\n",
              "            Stability_And_Absence_Of_Terrorism  Voice_And_Accountability  \\\n",
              "Date                                                                       \n",
              "2016-01-01                            6.824702                  6.866746   \n",
              "2017-01-01                            6.866795                  6.869051   \n",
              "2018-01-01                            6.851394                  6.859219   \n",
              "2019-01-01                            6.891391                  6.875863   \n",
              "2020-01-01                            6.898339                  6.861742   \n",
              "\n",
              "            Regulatory_Quality  Rule_of_Law  Women_In_Government  \n",
              "Date                                                              \n",
              "2016-01-01            6.856657     6.832921             6.843760  \n",
              "2017-01-01            6.872621     6.894168             6.846294  \n",
              "2018-01-01            6.848697     6.864047             6.860088  \n",
              "2019-01-01            6.883948     6.906243             6.881990  \n",
              "2020-01-01            6.870698     6.835243             6.900489  "
            ],
            "text/html": [
              "\n",
              "  <div id=\"df-19d3f4a9-1db4-405e-8276-e57092e9108b\">\n",
              "    <div class=\"colab-df-container\">\n",
              "      <div>\n",
              "<style scoped>\n",
              "    .dataframe tbody tr th:only-of-type {\n",
              "        vertical-align: middle;\n",
              "    }\n",
              "\n",
              "    .dataframe tbody tr th {\n",
              "        vertical-align: top;\n",
              "    }\n",
              "\n",
              "    .dataframe thead th {\n",
              "        text-align: right;\n",
              "    }\n",
              "</style>\n",
              "<table border=\"1\" class=\"dataframe\">\n",
              "  <thead>\n",
              "    <tr style=\"text-align: right;\">\n",
              "      <th></th>\n",
              "      <th>Happiness</th>\n",
              "      <th>GDP</th>\n",
              "      <th>Social_Support</th>\n",
              "      <th>Life_Expectancy</th>\n",
              "      <th>Freedom_To_Choose</th>\n",
              "      <th>Generosity</th>\n",
              "      <th>Perceptions_Of_Corruption</th>\n",
              "      <th>Control_Of_Corruption</th>\n",
              "      <th>Government_Effectiveness</th>\n",
              "      <th>Stability_And_Absence_Of_Terrorism</th>\n",
              "      <th>Voice_And_Accountability</th>\n",
              "      <th>Regulatory_Quality</th>\n",
              "      <th>Rule_of_Law</th>\n",
              "      <th>Women_In_Government</th>\n",
              "    </tr>\n",
              "    <tr>\n",
              "      <th>Date</th>\n",
              "      <th></th>\n",
              "      <th></th>\n",
              "      <th></th>\n",
              "      <th></th>\n",
              "      <th></th>\n",
              "      <th></th>\n",
              "      <th></th>\n",
              "      <th></th>\n",
              "      <th></th>\n",
              "      <th></th>\n",
              "      <th></th>\n",
              "      <th></th>\n",
              "      <th></th>\n",
              "      <th></th>\n",
              "    </tr>\n",
              "  </thead>\n",
              "  <tbody>\n",
              "    <tr>\n",
              "      <th>2016-01-01</th>\n",
              "      <td>6.790500</td>\n",
              "      <td>6.863006</td>\n",
              "      <td>6.862923</td>\n",
              "      <td>6.832680</td>\n",
              "      <td>6.830348</td>\n",
              "      <td>6.832080</td>\n",
              "      <td>6.805578</td>\n",
              "      <td>6.822823</td>\n",
              "      <td>6.816032</td>\n",
              "      <td>6.824702</td>\n",
              "      <td>6.866746</td>\n",
              "      <td>6.856657</td>\n",
              "      <td>6.832921</td>\n",
              "      <td>6.843760</td>\n",
              "    </tr>\n",
              "    <tr>\n",
              "      <th>2017-01-01</th>\n",
              "      <td>6.849457</td>\n",
              "      <td>6.831368</td>\n",
              "      <td>6.880888</td>\n",
              "      <td>6.840970</td>\n",
              "      <td>6.874808</td>\n",
              "      <td>6.821978</td>\n",
              "      <td>6.857521</td>\n",
              "      <td>6.894079</td>\n",
              "      <td>6.884478</td>\n",
              "      <td>6.866795</td>\n",
              "      <td>6.869051</td>\n",
              "      <td>6.872621</td>\n",
              "      <td>6.894168</td>\n",
              "      <td>6.846294</td>\n",
              "    </tr>\n",
              "    <tr>\n",
              "      <th>2018-01-01</th>\n",
              "      <td>6.912094</td>\n",
              "      <td>6.900198</td>\n",
              "      <td>6.871198</td>\n",
              "      <td>6.872110</td>\n",
              "      <td>6.846982</td>\n",
              "      <td>6.896443</td>\n",
              "      <td>6.887398</td>\n",
              "      <td>6.851189</td>\n",
              "      <td>6.848938</td>\n",
              "      <td>6.851394</td>\n",
              "      <td>6.859219</td>\n",
              "      <td>6.848697</td>\n",
              "      <td>6.864047</td>\n",
              "      <td>6.860088</td>\n",
              "    </tr>\n",
              "    <tr>\n",
              "      <th>2019-01-01</th>\n",
              "      <td>6.922471</td>\n",
              "      <td>6.867173</td>\n",
              "      <td>6.870867</td>\n",
              "      <td>6.879668</td>\n",
              "      <td>6.890857</td>\n",
              "      <td>6.883109</td>\n",
              "      <td>6.875636</td>\n",
              "      <td>6.895239</td>\n",
              "      <td>6.908790</td>\n",
              "      <td>6.891391</td>\n",
              "      <td>6.875863</td>\n",
              "      <td>6.883948</td>\n",
              "      <td>6.906243</td>\n",
              "      <td>6.881990</td>\n",
              "    </tr>\n",
              "    <tr>\n",
              "      <th>2020-01-01</th>\n",
              "      <td>6.858100</td>\n",
              "      <td>6.870877</td>\n",
              "      <td>6.846745</td>\n",
              "      <td>6.907193</td>\n",
              "      <td>6.889626</td>\n",
              "      <td>6.899012</td>\n",
              "      <td>6.906488</td>\n",
              "      <td>6.869292</td>\n",
              "      <td>6.874384</td>\n",
              "      <td>6.898339</td>\n",
              "      <td>6.861742</td>\n",
              "      <td>6.870698</td>\n",
              "      <td>6.835243</td>\n",
              "      <td>6.900489</td>\n",
              "    </tr>\n",
              "  </tbody>\n",
              "</table>\n",
              "</div>\n",
              "      <button class=\"colab-df-convert\" onclick=\"convertToInteractive('df-19d3f4a9-1db4-405e-8276-e57092e9108b')\"\n",
              "              title=\"Convert this dataframe to an interactive table.\"\n",
              "              style=\"display:none;\">\n",
              "        \n",
              "  <svg xmlns=\"http://www.w3.org/2000/svg\" height=\"24px\"viewBox=\"0 0 24 24\"\n",
              "       width=\"24px\">\n",
              "    <path d=\"M0 0h24v24H0V0z\" fill=\"none\"/>\n",
              "    <path d=\"M18.56 5.44l.94 2.06.94-2.06 2.06-.94-2.06-.94-.94-2.06-.94 2.06-2.06.94zm-11 1L8.5 8.5l.94-2.06 2.06-.94-2.06-.94L8.5 2.5l-.94 2.06-2.06.94zm10 10l.94 2.06.94-2.06 2.06-.94-2.06-.94-.94-2.06-.94 2.06-2.06.94z\"/><path d=\"M17.41 7.96l-1.37-1.37c-.4-.4-.92-.59-1.43-.59-.52 0-1.04.2-1.43.59L10.3 9.45l-7.72 7.72c-.78.78-.78 2.05 0 2.83L4 21.41c.39.39.9.59 1.41.59.51 0 1.02-.2 1.41-.59l7.78-7.78 2.81-2.81c.8-.78.8-2.07 0-2.86zM5.41 20L4 18.59l7.72-7.72 1.47 1.35L5.41 20z\"/>\n",
              "  </svg>\n",
              "      </button>\n",
              "      \n",
              "  <style>\n",
              "    .colab-df-container {\n",
              "      display:flex;\n",
              "      flex-wrap:wrap;\n",
              "      gap: 12px;\n",
              "    }\n",
              "\n",
              "    .colab-df-convert {\n",
              "      background-color: #E8F0FE;\n",
              "      border: none;\n",
              "      border-radius: 50%;\n",
              "      cursor: pointer;\n",
              "      display: none;\n",
              "      fill: #1967D2;\n",
              "      height: 32px;\n",
              "      padding: 0 0 0 0;\n",
              "      width: 32px;\n",
              "    }\n",
              "\n",
              "    .colab-df-convert:hover {\n",
              "      background-color: #E2EBFA;\n",
              "      box-shadow: 0px 1px 2px rgba(60, 64, 67, 0.3), 0px 1px 3px 1px rgba(60, 64, 67, 0.15);\n",
              "      fill: #174EA6;\n",
              "    }\n",
              "\n",
              "    [theme=dark] .colab-df-convert {\n",
              "      background-color: #3B4455;\n",
              "      fill: #D2E3FC;\n",
              "    }\n",
              "\n",
              "    [theme=dark] .colab-df-convert:hover {\n",
              "      background-color: #434B5C;\n",
              "      box-shadow: 0px 1px 3px 1px rgba(0, 0, 0, 0.15);\n",
              "      filter: drop-shadow(0px 1px 2px rgba(0, 0, 0, 0.3));\n",
              "      fill: #FFFFFF;\n",
              "    }\n",
              "  </style>\n",
              "\n",
              "      <script>\n",
              "        const buttonEl =\n",
              "          document.querySelector('#df-19d3f4a9-1db4-405e-8276-e57092e9108b button.colab-df-convert');\n",
              "        buttonEl.style.display =\n",
              "          google.colab.kernel.accessAllowed ? 'block' : 'none';\n",
              "\n",
              "        async function convertToInteractive(key) {\n",
              "          const element = document.querySelector('#df-19d3f4a9-1db4-405e-8276-e57092e9108b');\n",
              "          const dataTable =\n",
              "            await google.colab.kernel.invokeFunction('convertToInteractive',\n",
              "                                                     [key], {});\n",
              "          if (!dataTable) return;\n",
              "\n",
              "          const docLinkHtml = 'Like what you see? Visit the ' +\n",
              "            '<a target=\"_blank\" href=https://colab.research.google.com/notebooks/data_table.ipynb>data table notebook</a>'\n",
              "            + ' to learn more about interactive tables.';\n",
              "          element.innerHTML = '';\n",
              "          dataTable['output_type'] = 'display_data';\n",
              "          await google.colab.output.renderOutput(dataTable, element);\n",
              "          const docLink = document.createElement('div');\n",
              "          docLink.innerHTML = docLinkHtml;\n",
              "          element.appendChild(docLink);\n",
              "        }\n",
              "      </script>\n",
              "    </div>\n",
              "  </div>\n",
              "  "
            ]
          },
          "metadata": {},
          "execution_count": 61
        }
      ]
    },
    {
      "cell_type": "code",
      "source": [
        "Scorechk = pd.DataFrame()\n",
        "Scorechk['Overall_Score'] = ((PredictionsChk['GDP'] + PredictionsChk['Social_Support'] + PredictionsChk['Life_Expectancy'] + PredictionsChk['Freedom_To_Choose'] +\n",
        "                                  PredictionsChk['Generosity'] + PredictionsChk['Perceptions_Of_Corruption'] + PredictionsChk['Government_Effectiveness'] +\n",
        "                                  PredictionsChk['Stability_And_Absence_Of_Terrorism'] + PredictionsChk['Voice_And_Accountability'] + PredictionsChk['Regulatory_Quality']\n",
        "                                  + PredictionsChk['Rule_of_Law'] + PredictionsChk['Women_In_Government']) / 12)\n",
        "Scorechk['Score'] = ((PredictionsChk['GDP'] + PredictionsChk['Social_Support'] + PredictionsChk['Life_Expectancy'] + PredictionsChk['Freedom_To_Choose'] +\n",
        "                                  PredictionsChk['Generosity'] + PredictionsChk['Government_Effectiveness']  + PredictionsChk['Voice_And_Accountability'] \n",
        "                                  + PredictionsChk['Regulatory_Quality'] + PredictionsChk['Rule_of_Law'] + PredictionsChk['Women_In_Government']) / 10)\n",
        "Scorechk['Actual Happiness'] = PredictionsChk['Happiness']\n",
        "Scorechk"
      ],
      "metadata": {
        "colab": {
          "base_uri": "https://localhost:8080/",
          "height": 237
        },
        "id": "QsVQbhF4MC6T",
        "outputId": "8fcf07d8-4231-4db5-e31f-791e4b6b7108"
      },
      "execution_count": 62,
      "outputs": [
        {
          "output_type": "execute_result",
          "data": {
            "text/plain": [
              "            Overall_Score     Score  Actual Happiness\n",
              "Date                                                 \n",
              "2016-01-01       6.838953  6.843715          6.790500\n",
              "2017-01-01       6.861745  6.861662          6.849457\n",
              "2018-01-01       6.867226  6.866792          6.912094\n",
              "2019-01-01       6.884628  6.884851          6.922471\n",
              "2020-01-01       6.880070  6.875601          6.858100"
            ],
            "text/html": [
              "\n",
              "  <div id=\"df-090c9edb-c4aa-44f4-b12e-c39dfab2c5a5\">\n",
              "    <div class=\"colab-df-container\">\n",
              "      <div>\n",
              "<style scoped>\n",
              "    .dataframe tbody tr th:only-of-type {\n",
              "        vertical-align: middle;\n",
              "    }\n",
              "\n",
              "    .dataframe tbody tr th {\n",
              "        vertical-align: top;\n",
              "    }\n",
              "\n",
              "    .dataframe thead th {\n",
              "        text-align: right;\n",
              "    }\n",
              "</style>\n",
              "<table border=\"1\" class=\"dataframe\">\n",
              "  <thead>\n",
              "    <tr style=\"text-align: right;\">\n",
              "      <th></th>\n",
              "      <th>Overall_Score</th>\n",
              "      <th>Score</th>\n",
              "      <th>Actual Happiness</th>\n",
              "    </tr>\n",
              "    <tr>\n",
              "      <th>Date</th>\n",
              "      <th></th>\n",
              "      <th></th>\n",
              "      <th></th>\n",
              "    </tr>\n",
              "  </thead>\n",
              "  <tbody>\n",
              "    <tr>\n",
              "      <th>2016-01-01</th>\n",
              "      <td>6.838953</td>\n",
              "      <td>6.843715</td>\n",
              "      <td>6.790500</td>\n",
              "    </tr>\n",
              "    <tr>\n",
              "      <th>2017-01-01</th>\n",
              "      <td>6.861745</td>\n",
              "      <td>6.861662</td>\n",
              "      <td>6.849457</td>\n",
              "    </tr>\n",
              "    <tr>\n",
              "      <th>2018-01-01</th>\n",
              "      <td>6.867226</td>\n",
              "      <td>6.866792</td>\n",
              "      <td>6.912094</td>\n",
              "    </tr>\n",
              "    <tr>\n",
              "      <th>2019-01-01</th>\n",
              "      <td>6.884628</td>\n",
              "      <td>6.884851</td>\n",
              "      <td>6.922471</td>\n",
              "    </tr>\n",
              "    <tr>\n",
              "      <th>2020-01-01</th>\n",
              "      <td>6.880070</td>\n",
              "      <td>6.875601</td>\n",
              "      <td>6.858100</td>\n",
              "    </tr>\n",
              "  </tbody>\n",
              "</table>\n",
              "</div>\n",
              "      <button class=\"colab-df-convert\" onclick=\"convertToInteractive('df-090c9edb-c4aa-44f4-b12e-c39dfab2c5a5')\"\n",
              "              title=\"Convert this dataframe to an interactive table.\"\n",
              "              style=\"display:none;\">\n",
              "        \n",
              "  <svg xmlns=\"http://www.w3.org/2000/svg\" height=\"24px\"viewBox=\"0 0 24 24\"\n",
              "       width=\"24px\">\n",
              "    <path d=\"M0 0h24v24H0V0z\" fill=\"none\"/>\n",
              "    <path d=\"M18.56 5.44l.94 2.06.94-2.06 2.06-.94-2.06-.94-.94-2.06-.94 2.06-2.06.94zm-11 1L8.5 8.5l.94-2.06 2.06-.94-2.06-.94L8.5 2.5l-.94 2.06-2.06.94zm10 10l.94 2.06.94-2.06 2.06-.94-2.06-.94-.94-2.06-.94 2.06-2.06.94z\"/><path d=\"M17.41 7.96l-1.37-1.37c-.4-.4-.92-.59-1.43-.59-.52 0-1.04.2-1.43.59L10.3 9.45l-7.72 7.72c-.78.78-.78 2.05 0 2.83L4 21.41c.39.39.9.59 1.41.59.51 0 1.02-.2 1.41-.59l7.78-7.78 2.81-2.81c.8-.78.8-2.07 0-2.86zM5.41 20L4 18.59l7.72-7.72 1.47 1.35L5.41 20z\"/>\n",
              "  </svg>\n",
              "      </button>\n",
              "      \n",
              "  <style>\n",
              "    .colab-df-container {\n",
              "      display:flex;\n",
              "      flex-wrap:wrap;\n",
              "      gap: 12px;\n",
              "    }\n",
              "\n",
              "    .colab-df-convert {\n",
              "      background-color: #E8F0FE;\n",
              "      border: none;\n",
              "      border-radius: 50%;\n",
              "      cursor: pointer;\n",
              "      display: none;\n",
              "      fill: #1967D2;\n",
              "      height: 32px;\n",
              "      padding: 0 0 0 0;\n",
              "      width: 32px;\n",
              "    }\n",
              "\n",
              "    .colab-df-convert:hover {\n",
              "      background-color: #E2EBFA;\n",
              "      box-shadow: 0px 1px 2px rgba(60, 64, 67, 0.3), 0px 1px 3px 1px rgba(60, 64, 67, 0.15);\n",
              "      fill: #174EA6;\n",
              "    }\n",
              "\n",
              "    [theme=dark] .colab-df-convert {\n",
              "      background-color: #3B4455;\n",
              "      fill: #D2E3FC;\n",
              "    }\n",
              "\n",
              "    [theme=dark] .colab-df-convert:hover {\n",
              "      background-color: #434B5C;\n",
              "      box-shadow: 0px 1px 3px 1px rgba(0, 0, 0, 0.15);\n",
              "      filter: drop-shadow(0px 1px 2px rgba(0, 0, 0, 0.3));\n",
              "      fill: #FFFFFF;\n",
              "    }\n",
              "  </style>\n",
              "\n",
              "      <script>\n",
              "        const buttonEl =\n",
              "          document.querySelector('#df-090c9edb-c4aa-44f4-b12e-c39dfab2c5a5 button.colab-df-convert');\n",
              "        buttonEl.style.display =\n",
              "          google.colab.kernel.accessAllowed ? 'block' : 'none';\n",
              "\n",
              "        async function convertToInteractive(key) {\n",
              "          const element = document.querySelector('#df-090c9edb-c4aa-44f4-b12e-c39dfab2c5a5');\n",
              "          const dataTable =\n",
              "            await google.colab.kernel.invokeFunction('convertToInteractive',\n",
              "                                                     [key], {});\n",
              "          if (!dataTable) return;\n",
              "\n",
              "          const docLinkHtml = 'Like what you see? Visit the ' +\n",
              "            '<a target=\"_blank\" href=https://colab.research.google.com/notebooks/data_table.ipynb>data table notebook</a>'\n",
              "            + ' to learn more about interactive tables.';\n",
              "          element.innerHTML = '';\n",
              "          dataTable['output_type'] = 'display_data';\n",
              "          await google.colab.output.renderOutput(dataTable, element);\n",
              "          const docLink = document.createElement('div');\n",
              "          docLink.innerHTML = docLinkHtml;\n",
              "          element.appendChild(docLink);\n",
              "        }\n",
              "      </script>\n",
              "    </div>\n",
              "  </div>\n",
              "  "
            ]
          },
          "metadata": {},
          "execution_count": 62
        }
      ]
    }
  ]
}