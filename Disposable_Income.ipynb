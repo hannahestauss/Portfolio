{
  "nbformat": 4,
  "nbformat_minor": 0,
  "metadata": {
    "colab": {
      "provenance": [],
      "authorship_tag": "ABX9TyOW+agp83miLOihVtGGAT2v",
      "include_colab_link": true
    },
    "kernelspec": {
      "name": "python3",
      "display_name": "Python 3"
    },
    "language_info": {
      "name": "python"
    }
  },
  "cells": [
    {
      "cell_type": "markdown",
      "metadata": {
        "id": "view-in-github",
        "colab_type": "text"
      },
      "source": [
        "<a href=\"https://colab.research.google.com/github/hannahestauss/Portfolio/blob/main/Disposable_Income.ipynb\" target=\"_parent\"><img src=\"https://colab.research.google.com/assets/colab-badge.svg\" alt=\"Open In Colab\"/></a>"
      ]
    },
    {
      "cell_type": "markdown",
      "source": [
        "# Introduction and Objective"
      ],
      "metadata": {
        "id": "4VXaWex6F4Uy"
      }
    },
    {
      "cell_type": "markdown",
      "source": [
        "Using databases on salaries by region and cost of living by region, I intend to paint a picture of the financial situations of different regions and the inequality of expendable income across those regions. Using salaries by region and cost of living by region, I will compare and contrast the value of each and how expensive they are in reality, adjusted based on regional changes in salary. "
      ],
      "metadata": {
        "id": "fENt1aLpBpty"
      }
    },
    {
      "cell_type": "code",
      "source": [
        "from google.colab import drive\n",
        "drive.mount('/content/gdrive')\n",
        "import csv\n",
        "from csv import reader\n",
        "import re\n",
        "import pandas as pd\n",
        "import numpy as np\n",
        "from matplotlib import pyplot as plt"
      ],
      "metadata": {
        "colab": {
          "base_uri": "https://localhost:8080/"
        },
        "id": "DPxrRsOzctbN",
        "outputId": "9766dc59-d893-4e65-b0c2-8f819c8fb9d7"
      },
      "execution_count": null,
      "outputs": [
        {
          "output_type": "stream",
          "name": "stdout",
          "text": [
            "Mounted at /content/gdrive\n"
          ]
        }
      ]
    },
    {
      "cell_type": "markdown",
      "source": [
        "Loading the salaries CSV had some error because it required the encoding parameter be passed to the read_csv fundtion. -A"
      ],
      "metadata": {
        "id": "WKoSqCGqK5gp"
      }
    },
    {
      "cell_type": "code",
      "source": [
        "cost_of_living = pd.read_csv(\"/content/gdrive/My Drive/StateCostOfLiving.csv\",encoding= 'unicode_escape', sep=\",\", usecols=[\"State\", \"Liveable Wage\"])\n",
        "\n",
        "print(cost_of_living.head)"
      ],
      "metadata": {
        "colab": {
          "base_uri": "https://localhost:8080/"
        },
        "id": "XpzlxARfcy_4",
        "outputId": "9d17d25c-38aa-4053-ace4-7b1d8932a91d"
      },
      "execution_count": null,
      "outputs": [
        {
          "output_type": "stream",
          "name": "stdout",
          "text": [
            "<bound method NDFrame.head of              State  Liveable Wage\n",
            "0      Mississippi          46000\n",
            "1         Arkansas          45000\n",
            "2         Oklahoma          47000\n",
            "3         Missouri          46000\n",
            "4       New Mexico          48000\n",
            "5        Tennessee          47000\n",
            "6         Michigan          49000\n",
            "7           Kansas          48000\n",
            "8          Georgia          48000\n",
            "9          Wyoming          48000\n",
            "10         Alabama          46000\n",
            "11         Indiana          47000\n",
            "12            Iowa          49000\n",
            "13            Ohio          46000\n",
            "14        Nebraska          48000\n",
            "15        Kentucky          43000\n",
            "16   West Virginia          45000\n",
            "17           Texas          48000\n",
            "18           Idaho          46000\n",
            "19       Louisiana          48000\n",
            "20        Illinois          52000\n",
            "21  North Carolina          50000\n",
            "22  South Carolina          47000\n",
            "23         Arizona          51000\n",
            "24       Wisconsin          51000\n",
            "25         Florida          52000\n",
            "26            Utah          48000\n",
            "27    North Dakota          47000\n",
            "28    South Dakota          45000\n",
            "29        Virginia          54000\n",
            "30       Minnesota          52000\n",
            "31    Pennsylvania          50000\n",
            "32        Colorado          54000\n",
            "33         Montana          47000\n",
            "34        Delaware          53000\n",
            "35          Nevada          53000\n",
            "36   New Hampshire          55000\n",
            "37      Washington          51000\n",
            "38         Vermont          52000\n",
            "39           Maine          51000\n",
            "40    Rhode Island          53000\n",
            "41      New Jersey          56000\n",
            "42     Connecticut          60000\n",
            "43        Maryland          58000\n",
            "44          Alaska          54000\n",
            "45   Massachusetts          60000\n",
            "46          Oregon          52000\n",
            "47        New York          59000\n",
            "48      California          57000\n",
            "49          Hawaii          61000>\n"
          ]
        }
      ]
    },
    {
      "cell_type": "code",
      "source": [
        "Wages = pd.read_csv(\"/content/gdrive/My Drive/salaries-by-region.csv\",encoding= 'unicode_escape', sep=\",\", usecols=[\"Region\", \"Mid-Career Median Salary\"])\n",
        "Wages2= pd.read_csv(\"/content/gdrive/My Drive/salaries-by-region.csv\",encoding= 'unicode_escape', sep=\",\", usecols=[\"Region\", \"Starting Median Salary\"])\n",
        "print(Wages2.head)"
      ],
      "metadata": {
        "colab": {
          "base_uri": "https://localhost:8080/"
        },
        "id": "CaHabOaNc30M",
        "outputId": "2543e23f-fcf4-4f22-b4af-6e5f5fa0caf4"
      },
      "execution_count": null,
      "outputs": [
        {
          "output_type": "stream",
          "name": "stdout",
          "text": [
            "<bound method NDFrame.head of          Region Starting Median Salary\n",
            "0    California            $70,400.00 \n",
            "1    California            $75,500.00 \n",
            "2    California            $71,800.00 \n",
            "3    California            $59,900.00 \n",
            "4    California            $51,900.00 \n",
            "..          ...                    ...\n",
            "315    New York            $38,000.00 \n",
            "316    New York            $36,900.00 \n",
            "317    New York            $37,800.00 \n",
            "318       Maine            $39,400.00 \n",
            "319    New York            $43,700.00 \n",
            "\n",
            "[320 rows x 2 columns]>\n"
          ]
        }
      ]
    },
    {
      "cell_type": "markdown",
      "source": [
        "# Data Cleaning and Preparation"
      ],
      "metadata": {
        "id": "u1VmJbtFdEyJ"
      }
    },
    {
      "cell_type": "code",
      "source": [
        "import re\n",
        "Wages['Mid-Career Median Salary'] = Wages['Mid-Career Median Salary'].map(lambda x: x.lstrip('$').replace(\",\",\"\"))\n",
        "Wages2['Starting Median Salary'] = Wages2['Starting Median Salary'].map(lambda x: x.lstrip('$').replace(\",\",\"\"))\n",
        "#print(Wages)\n",
        "Wages2.dropna(axis=0,inplace=True)\n",
        "cost_of_living.dropna(axis=0,inplace=True)"
      ],
      "metadata": {
        "id": "7C5-1LbJdJWD"
      },
      "execution_count": null,
      "outputs": []
    },
    {
      "cell_type": "markdown",
      "source": [
        "*Requirement- regex*"
      ],
      "metadata": {
        "id": "ZzSZ8qNuLVnM"
      }
    },
    {
      "cell_type": "code",
      "source": [
        "Wages2['Starting Median Salary'] = Wages2['Starting Median Salary'].astype(float)\n",
        "cost_of_living['Liveable Wage'] = cost_of_living['Liveable Wage'].astype(float)"
      ],
      "metadata": {
        "id": "AuhEU37Wddd3"
      },
      "execution_count": null,
      "outputs": []
    },
    {
      "cell_type": "markdown",
      "source": [
        "# Analysis Question #1: Which schools are worth it?"
      ],
      "metadata": {
        "id": "6NkrSd-ne9vz"
      }
    },
    {
      "cell_type": "code",
      "source": [
        "with open('/content/gdrive/My Drive/salaries-by-region.csv', 'r',encoding= 'unicode_escape') as f:\n",
        "    csv_reader = csv.DictReader(f)\n",
        "    school_names = list(csv_reader)\n",
        "school_names[3]  #,school_names[4]\n"
      ],
      "metadata": {
        "colab": {
          "base_uri": "https://localhost:8080/"
        },
        "id": "F-ZwXDn4fKCO",
        "outputId": "1ae68378-d94b-4ac3-a576-4091f3c44fbb"
      },
      "execution_count": null,
      "outputs": [
        {
          "output_type": "execute_result",
          "data": {
            "text/plain": [
              "OrderedDict([('School Name', 'University of California, Berkeley'),\n",
              "             ('City', 'Berkeley'),\n",
              "             ('Region', 'California'),\n",
              "             ('Starting Median Salary', '$59,900.00 '),\n",
              "             ('Mid-Career Median Salary', '$112,000.00 '),\n",
              "             ('Mid-Career 10th Percentile Salary', '$59,500.00 '),\n",
              "             ('Mid-Career 25th Percentile Salary', '$81,000.00 '),\n",
              "             ('Mid-Career 75th Percentile Salary', '$149,000.00 '),\n",
              "             ('Mid-Career 90th Percentile Salary', '$201,000.00 ')])"
            ]
          },
          "metadata": {},
          "execution_count": 162
        }
      ]
    },
    {
      "cell_type": "markdown",
      "source": [
        "*Requirement: Lists*"
      ],
      "metadata": {
        "id": "NaK7adfOMLy0"
      }
    },
    {
      "cell_type": "code",
      "source": [
        "len(school_names)"
      ],
      "metadata": {
        "colab": {
          "base_uri": "https://localhost:8080/"
        },
        "id": "g3PxOI-dfPH1",
        "outputId": "e28be2ee-0178-4f82-8314-8cc6cc416ec8"
      },
      "execution_count": null,
      "outputs": [
        {
          "output_type": "execute_result",
          "data": {
            "text/plain": [
              "320"
            ]
          },
          "metadata": {},
          "execution_count": 127
        }
      ]
    },
    {
      "cell_type": "code",
      "source": [
        "State = \"California\"\n",
        "total_Salary = 0\n",
        "Number_of_schools = 0\n",
        "for school in school_names:\n",
        "     #print(f\"{school['School Name']} \\t {school['Region']}: \\t\\t  {school['Starting Median Salary']}\")\n",
        "    if school['Region'] == State:\n",
        "        #print(\"true\")\n",
        "        Number_of_schools += 1\n",
        "        slary = school['Starting Median Salary']\n",
        "        slary = slary.replace(\",\",\"\")\n",
        "        slary = slary.replace(\"$\",\"\")\n",
        "        total_Salary +=float(slary)\n",
        "\n",
        "State_Avg = total_Salary/Number_of_schools\n",
        "\n",
        "print(\"The total salary for this state is : \", \"$\", total_Salary)\n",
        "print(\"The average starting salary in this state is: \", \"$\", State_Avg)\n",
        "\n",
        "#Use the school's index to test the worthiness of the school, in this example the [2] index is harvey mudd college\n",
        "school = school_names[2]\n",
        "if float(school['Starting Median Salary'].replace(\"$\",\"\").replace(\",\",\"\")) > State_Avg:\n",
        "    print(f\"{school['School Name']} average starting salary is more than the state's starting salary, this school is worth it\")\n",
        "else:\n",
        "    print(f\"{school['School Name']} average starting salary is less than the state's starting salary, this school isn't worth it\")\n",
        "print(f\"Starting Median Salary for this school:  {school['Starting Median Salary']}\")"
      ],
      "metadata": {
        "colab": {
          "base_uri": "https://localhost:8080/"
        },
        "id": "7LcfG0jwfROD",
        "outputId": "38d77a65-6d6b-4b79-ed5b-6843e4414a78"
      },
      "execution_count": null,
      "outputs": [
        {
          "output_type": "stream",
          "name": "stdout",
          "text": [
            "The total salary for this state is :  $ 1428900.0\n",
            "The average starting salary in this state is:  $ 51032.142857142855\n",
            "Harvey Mudd College average starting salary is more than the state's starting salary, this school is worth it\n",
            "Starting Median Salary for this school:  $71,800.00 \n"
          ]
        }
      ]
    },
    {
      "cell_type": "code",
      "source": [
        "Avg_Salaries = dict()\n",
        "states = [\"Alabama\", \"Alaska\", \"Arizona\", \"Arkansas\", \"California\", \"Colorado\", \"Connecticut\", \"Delaware\", \"Florida\", \"Georgia\", \"Hawaii\", \"Idaho\", \"Illinois\", \"Indiana\", \"Iowa\", \"Kansas\", \"Kentucky\", \"Louisiana\", \"Maine\", \"Maryland\", \"Massachusetts\", \"Michigan\", \"Minnesota\", \"Mississippi\", \"Missouri\", \"Montana\", \"Nebraska\", \"Nevada\", \"New Hampshire\", \"New Jersey\", \"New Mexico\", \"New York\", \"North Carolina\", \"North Dakota\", \"Ohio\", \"Oklahoma\", \"Oregon\", \"Pennsylvania\", \"Rhode Island\", \"South Carolina\", \"South Dakota\", \"Tennessee\", \"Texas\", \"Utah\", \"Vermont\", \"Virginia\", \"Washington\", \"West Virginia\", \"Wisconsin\", \"Wyoming\"]\n",
        "for x in states:\n",
        "  Wage = Wages.loc[Wages['Region'].isin([(x)])]\n",
        "  Avg_Salaries[x] = Wage.mean()\n",
        "\n"
      ],
      "metadata": {
        "id": "3_fLnoRu3qmi"
      },
      "execution_count": null,
      "outputs": []
    },
    {
      "cell_type": "markdown",
      "source": [
        "# Analysis Question #2: Which states have the best salary/living cost balance?"
      ],
      "metadata": {
        "id": "cDXg2hmsfosi"
      }
    },
    {
      "cell_type": "markdown",
      "source": [
        "*Requirements: Iteration, Dictionaries, Strings, Data Visualization*"
      ],
      "metadata": {
        "id": "FIv0_-CbMlNI"
      }
    },
    {
      "cell_type": "code",
      "source": [
        "disp_income = dict()\n",
        "states = [\"Alabama\", \"Alaska\", \"Arizona\", \"Arkansas\", \"California\", \"Colorado\", \"Connecticut\", \"Delaware\", \"Florida\", \"Georgia\", \"Hawaii\", \"Idaho\", \"Illinois\", \"Indiana\", \"Iowa\", \"Kansas\", \"Kentucky\", \"Louisiana\", \"Maine\", \"Maryland\", \"Massachusetts\", \"Michigan\", \"Minnesota\", \"Mississippi\", \"Missouri\", \"Montana\", \"Nebraska\", \"Nevada\", \"New Hampshire\", \"New Jersey\", \"New Mexico\", \"New York\", \"North Carolina\", \"North Dakota\", \"Ohio\", \"Oklahoma\", \"Oregon\", \"Pennsylvania\", \"Rhode Island\", \"South Carolina\", \"South Dakota\", \"Tennessee\", \"Texas\", \"Utah\", \"Vermont\", \"Virginia\", \"Washington\", \"West Virginia\", \"Wisconsin\", \"Wyoming\"]\n",
        "for x in states:\n",
        "  Wage = Wages2.loc[Wages2['Region'].isin([(x)])]\n",
        "  #print(\"The average starting median salary is {}\".format(Wage.mean().values))\n",
        "  Rent = cost_of_living.loc[cost_of_living['State'].isin([(x)])]\n",
        "  #print(\"The median rent is {}\".format(Rent.mean().values))\n",
        "  disposable_income = ((Wage.mean().values)-(Rent.mean().values))\n",
        "  #print(\"The disposable income for \" + x + \" is \")\n",
        "  #print(disposable_income)\n",
        "  disp_income[x] = disposable_income\n",
        "  #salarybystate[x] = (Wage.mean().values)\n",
        "print (disp_income)\n",
        "#print (salarybystate)"
      ],
      "metadata": {
        "colab": {
          "base_uri": "https://localhost:8080/"
        },
        "id": "Xy2Uy6nXfzP3",
        "outputId": "1982c641-ecfd-4907-ff76-5f2007d811d3"
      },
      "execution_count": null,
      "outputs": [
        {
          "output_type": "stream",
          "name": "stdout",
          "text": [
            "{'Alabama': array([-3750.]), 'Alaska': array([-8100.]), 'Arizona': array([-3550.]), 'Arkansas': array([-4333.33333333]), 'California': array([-5967.85714286]), 'Colorado': array([-7585.71428571]), 'Connecticut': array([-10714.28571429]), 'Delaware': array([-7100.]), 'Florida': array([-9455.55555556]), 'Georgia': array([1050.]), 'Hawaii': array([-17200.]), 'Idaho': array([-2466.66666667]), 'Illinois': array([-5040.]), 'Indiana': array([-1283.33333333]), 'Iowa': array([-4766.66666667]), 'Kansas': array([-5966.66666667]), 'Kentucky': array([-4200.]), 'Louisiana': array([-2300.]), 'Maine': array([-6520.]), 'Maryland': array([-8500.]), 'Massachusetts': array([-9857.89473684]), 'Michigan': array([-4983.33333333]), 'Minnesota': array([-7233.33333333]), 'Mississippi': array([-5566.66666667]), 'Missouri': array([-2750.]), 'Montana': array([-6400.]), 'Nebraska': array([-4400.]), 'Nevada': array([-7150.]), 'New Hampshire': array([-13200.]), 'New Jersey': array([-4900.]), 'New Mexico': array([-2366.66666667]), 'New York': array([-11897.2972973]), 'North Carolina': array([-6311.11111111]), 'North Dakota': array([-2450.]), 'Ohio': array([-2900.]), 'Oklahoma': array([-4525.]), 'Oregon': array([-10140.]), 'Pennsylvania': array([255.55555556]), 'Rhode Island': array([-5475.]), 'South Carolina': array([-2800.]), 'South Dakota': array([-933.33333333]), 'Tennessee': array([-5328.57142857]), 'Texas': array([-1053.84615385]), 'Utah': array([-3420.]), 'Vermont': array([-5750.]), 'Virginia': array([-7075.]), 'Washington': array([-6755.55555556]), 'West Virginia': array([-1900.]), 'Wisconsin': array([-8575.]), 'Wyoming': array([-3500.])}\n"
          ]
        }
      ]
    },
    {
      "cell_type": "code",
      "source": [
        "DispData2 = pd.DataFrame(list(disp_income.items()),columns = ['State','Disposable Income'])\n",
        "DispData2['Disposable Income'] = DispData2['Disposable Income'].astype(float)"
      ],
      "metadata": {
        "id": "6WoVnUNXz-FR"
      },
      "execution_count": null,
      "outputs": []
    },
    {
      "cell_type": "code",
      "source": [
        "DispData = pd.DataFrame(list(disp_income.items()),columns = ['State','Disposable Income'])\n",
        "DispData['Disposable Income'] = DispData['Disposable Income'].astype(float)\n",
        "print (DispData)"
      ],
      "metadata": {
        "colab": {
          "base_uri": "https://localhost:8080/"
        },
        "id": "RCYcrjL9f762",
        "outputId": "a79a781b-9cfb-439a-dce8-e65e66244644"
      },
      "execution_count": null,
      "outputs": [
        {
          "output_type": "stream",
          "name": "stdout",
          "text": [
            "             State  Disposable Income\n",
            "0          Alabama       -3750.000000\n",
            "1           Alaska       -8100.000000\n",
            "2          Arizona       -3550.000000\n",
            "3         Arkansas       -4333.333333\n",
            "4       California       -5967.857143\n",
            "5         Colorado       -7585.714286\n",
            "6      Connecticut      -10714.285714\n",
            "7         Delaware       -7100.000000\n",
            "8          Florida       -9455.555556\n",
            "9          Georgia        1050.000000\n",
            "10          Hawaii      -17200.000000\n",
            "11           Idaho       -2466.666667\n",
            "12        Illinois       -5040.000000\n",
            "13         Indiana       -1283.333333\n",
            "14            Iowa       -4766.666667\n",
            "15          Kansas       -5966.666667\n",
            "16        Kentucky       -4200.000000\n",
            "17       Louisiana       -2300.000000\n",
            "18           Maine       -6520.000000\n",
            "19        Maryland       -8500.000000\n",
            "20   Massachusetts       -9857.894737\n",
            "21        Michigan       -4983.333333\n",
            "22       Minnesota       -7233.333333\n",
            "23     Mississippi       -5566.666667\n",
            "24        Missouri       -2750.000000\n",
            "25         Montana       -6400.000000\n",
            "26        Nebraska       -4400.000000\n",
            "27          Nevada       -7150.000000\n",
            "28   New Hampshire      -13200.000000\n",
            "29      New Jersey       -4900.000000\n",
            "30      New Mexico       -2366.666667\n",
            "31        New York      -11897.297297\n",
            "32  North Carolina       -6311.111111\n",
            "33    North Dakota       -2450.000000\n",
            "34            Ohio       -2900.000000\n",
            "35        Oklahoma       -4525.000000\n",
            "36          Oregon      -10140.000000\n",
            "37    Pennsylvania         255.555556\n",
            "38    Rhode Island       -5475.000000\n",
            "39  South Carolina       -2800.000000\n",
            "40    South Dakota        -933.333333\n",
            "41       Tennessee       -5328.571429\n",
            "42           Texas       -1053.846154\n",
            "43            Utah       -3420.000000\n",
            "44         Vermont       -5750.000000\n",
            "45        Virginia       -7075.000000\n",
            "46      Washington       -6755.555556\n",
            "47   West Virginia       -1900.000000\n",
            "48       Wisconsin       -8575.000000\n",
            "49         Wyoming       -3500.000000\n"
          ]
        }
      ]
    },
    {
      "cell_type": "code",
      "source": [
        "df1 = DispData[DispData[\"Disposable Income\"] < 30111.976]\n",
        "print(\"These states fall below the average disposable income\\n\")\n",
        "print(df1)"
      ],
      "metadata": {
        "colab": {
          "base_uri": "https://localhost:8080/"
        },
        "id": "jYm-VmwNgDAl",
        "outputId": "c38910a2-80b4-4481-fbe8-50ec16644704"
      },
      "execution_count": null,
      "outputs": [
        {
          "output_type": "stream",
          "name": "stdout",
          "text": [
            "These states fall below the average disposable income\n",
            "\n",
            "             State  Disposable Income\n",
            "0          Alabama       -3750.000000\n",
            "1           Alaska       -8100.000000\n",
            "2          Arizona       -3550.000000\n",
            "3         Arkansas       -4333.333333\n",
            "4       California       -5967.857143\n",
            "5         Colorado       -7585.714286\n",
            "6      Connecticut      -10714.285714\n",
            "7         Delaware       -7100.000000\n",
            "8          Florida       -9455.555556\n",
            "9          Georgia        1050.000000\n",
            "10          Hawaii      -17200.000000\n",
            "11           Idaho       -2466.666667\n",
            "12        Illinois       -5040.000000\n",
            "13         Indiana       -1283.333333\n",
            "14            Iowa       -4766.666667\n",
            "15          Kansas       -5966.666667\n",
            "16        Kentucky       -4200.000000\n",
            "17       Louisiana       -2300.000000\n",
            "18           Maine       -6520.000000\n",
            "19        Maryland       -8500.000000\n",
            "20   Massachusetts       -9857.894737\n",
            "21        Michigan       -4983.333333\n",
            "22       Minnesota       -7233.333333\n",
            "23     Mississippi       -5566.666667\n",
            "24        Missouri       -2750.000000\n",
            "25         Montana       -6400.000000\n",
            "26        Nebraska       -4400.000000\n",
            "27          Nevada       -7150.000000\n",
            "28   New Hampshire      -13200.000000\n",
            "29      New Jersey       -4900.000000\n",
            "30      New Mexico       -2366.666667\n",
            "31        New York      -11897.297297\n",
            "32  North Carolina       -6311.111111\n",
            "33    North Dakota       -2450.000000\n",
            "34            Ohio       -2900.000000\n",
            "35        Oklahoma       -4525.000000\n",
            "36          Oregon      -10140.000000\n",
            "37    Pennsylvania         255.555556\n",
            "38    Rhode Island       -5475.000000\n",
            "39  South Carolina       -2800.000000\n",
            "40    South Dakota        -933.333333\n",
            "41       Tennessee       -5328.571429\n",
            "42           Texas       -1053.846154\n",
            "43            Utah       -3420.000000\n",
            "44         Vermont       -5750.000000\n",
            "45        Virginia       -7075.000000\n",
            "46      Washington       -6755.555556\n",
            "47   West Virginia       -1900.000000\n",
            "48       Wisconsin       -8575.000000\n",
            "49         Wyoming       -3500.000000\n"
          ]
        }
      ]
    },
    {
      "cell_type": "code",
      "source": [
        "column = DispData[\"Disposable Income\"]\n",
        "max_value = column.max()\n",
        "df2 = DispData[DispData[\"Disposable Income\"] == max_value]\n",
        "print(\"The best-valued place to live is: \")\n",
        "print(df2)"
      ],
      "metadata": {
        "colab": {
          "base_uri": "https://localhost:8080/"
        },
        "id": "AuBzNQHzgD5_",
        "outputId": "4b6bad6b-f272-47df-a314-096a5f30019c"
      },
      "execution_count": null,
      "outputs": [
        {
          "output_type": "stream",
          "name": "stdout",
          "text": [
            "The best-valued place to live is: \n",
            "     State  Disposable Income\n",
            "9  Georgia             1050.0\n"
          ]
        }
      ]
    },
    {
      "cell_type": "code",
      "source": [
        "column = DispData[\"Disposable Income\"]\n",
        "min_value = column.min()\n",
        "df3 = DispData[DispData[\"Disposable Income\"] == min_value]\n",
        "print(\"The worst-valued place to live is: \")\n",
        "print(df3)"
      ],
      "metadata": {
        "colab": {
          "base_uri": "https://localhost:8080/"
        },
        "id": "FTXRbOPp9pFL",
        "outputId": "1d961188-f877-4c8b-d952-a95acce8e054"
      },
      "execution_count": null,
      "outputs": [
        {
          "output_type": "stream",
          "name": "stdout",
          "text": [
            "The worst-valued place to live is: \n",
            "     State  Disposable Income\n",
            "10  Hawaii           -17200.0\n"
          ]
        }
      ]
    },
    {
      "cell_type": "markdown",
      "source": [
        "# Analysis Question #3: Which states satisfy economists' advice?"
      ],
      "metadata": {
        "id": "uXX_hrRDgI-J"
      }
    },
    {
      "cell_type": "markdown",
      "source": [
        "*Requirements: Dictionaries, Iteration, String, Functions, Databases*"
      ],
      "metadata": {
        "id": "gzEkXk5JM0yp"
      }
    },
    {
      "cell_type": "code",
      "source": [
        "costofliving = pd.read_csv(\"/content/gdrive/My Drive/StateCostOfLiving.csv\",encoding= 'unicode_escape', sep=\",\", usecols=[\"State\", \"Median Rent\"])\n",
        "costofliving['Median Rent'] = costofliving['Median Rent'].astype(float)\n",
        "Avg_Salaries = dict()\n",
        "states = [\"Alabama\", \"Alaska\", \"Arizona\", \"Arkansas\", \"California\", \"Colorado\", \"Connecticut\", \"Delaware\", \"Florida\", \"Georgia\", \"Hawaii\", \"Idaho\", \"Illinois\", \"Indiana\", \"Iowa\", \"Kansas\", \"Kentucky\", \"Louisiana\", \"Maine\", \"Maryland\", \"Massachusetts\", \"Michigan\", \"Minnesota\", \"Mississippi\", \"Missouri\", \"Montana\", \"Nebraska\", \"Nevada\", \"New Hampshire\", \"New Jersey\", \"New Mexico\", \"New York\", \"North Carolina\", \"North Dakota\", \"Ohio\", \"Oklahoma\", \"Oregon\", \"Pennsylvania\", \"Rhode Island\", \"South Carolina\", \"South Dakota\", \"Tennessee\", \"Texas\", \"Utah\", \"Vermont\", \"Virginia\", \"Washington\", \"West Virginia\", \"Wisconsin\", \"Wyoming\"]\n",
        "for x in states:\n",
        "  Wage2 = Wages2.loc[Wages2['Region'].isin([(x)])]\n",
        "  Avg_Salaries[x] = Wage2.mean()\n"
      ],
      "metadata": {
        "id": "kcvK-YQegUfK"
      },
      "execution_count": null,
      "outputs": []
    },
    {
      "cell_type": "code",
      "source": [
        "Percent = pd.DataFrame(list(Avg_Salaries.items()),columns = ['State','Average Salary'])\n",
        "Percent['Average Salary'] = Percent['Average Salary'].astype(float)\n",
        "Percent['Rent Allocation'] = Percent['Average Salary']*0.3\n",
        "Percent['Actual Rent'] = costofliving['Median Rent']*12\n",
        "Percent['Percentage'] = (Percent['Actual Rent']/Percent['Average Salary'])\n",
        "print (Percent)"
      ],
      "metadata": {
        "colab": {
          "base_uri": "https://localhost:8080/"
        },
        "id": "sYLxzzdJux2U",
        "outputId": "e56cbcb5-6615-4efc-a7be-5bb17319d0e8"
      },
      "execution_count": null,
      "outputs": [
        {
          "output_type": "stream",
          "name": "stdout",
          "text": [
            "             State  Average Salary  Rent Allocation  Actual Rent  Percentage\n",
            "0          Alabama    42250.000000     12675.000000       9360.0    0.221538\n",
            "1           Alaska    45900.000000     13770.000000       8940.0    0.194771\n",
            "2          Arizona    47450.000000     14235.000000       9720.0    0.204847\n",
            "3         Arkansas    40666.666667     12200.000000       9960.0    0.244918\n",
            "4       California    51032.142857     15309.642857      10128.0    0.198463\n",
            "5         Colorado    46414.285714     13924.285714      10428.0    0.224672\n",
            "6      Connecticut    49285.714286     14785.714286      10452.0    0.212070\n",
            "7         Delaware    45900.000000     13770.000000      10200.0    0.222222\n",
            "8          Florida    42544.444444     12763.333333      12072.0    0.283750\n",
            "9          Georgia    49050.000000     14715.000000      10260.0    0.209174\n",
            "10          Hawaii    43800.000000     13140.000000       9504.0    0.216986\n",
            "11           Idaho    43533.333333     13060.000000       9912.0    0.227688\n",
            "12        Illinois    46960.000000     14088.000000       9468.0    0.201618\n",
            "13         Indiana    45716.666667     13715.000000       9696.0    0.212089\n",
            "14            Iowa    44233.333333     13270.000000       9996.0    0.225983\n",
            "15          Kansas    42033.333333     12610.000000       9156.0    0.217827\n",
            "16        Kentucky    38800.000000     11640.000000       8700.0    0.224227\n",
            "17       Louisiana    45700.000000     13710.000000      12540.0    0.274398\n",
            "18           Maine    44480.000000     13344.000000      10236.0    0.230126\n",
            "19        Maryland    49500.000000     14850.000000      10392.0    0.209939\n",
            "20   Massachusetts    50142.105263     15042.631579      12120.0    0.241713\n",
            "21        Michigan    44016.666667     13205.000000      10884.0    0.247270\n",
            "22       Minnesota    44766.666667     13430.000000      10728.0    0.239643\n",
            "23     Mississippi    40433.333333     12130.000000      12624.0    0.312218\n",
            "24        Missouri    43250.000000     12975.000000      10272.0    0.237503\n",
            "25         Montana    40600.000000     12180.000000      14100.0    0.347291\n",
            "26        Nebraska    43600.000000     13080.000000      12444.0    0.285413\n",
            "27          Nevada    45850.000000     13755.000000       9912.0    0.216183\n",
            "28   New Hampshire    41800.000000     12540.000000       8964.0    0.214450\n",
            "29      New Jersey    51100.000000     15330.000000      14808.0    0.289785\n",
            "30      New Mexico    45633.333333     13690.000000      11724.0    0.256917\n",
            "31        New York    47102.702703     14130.810811      11232.0    0.238458\n",
            "32  North Carolina    43688.888889     13106.666667      15252.0    0.349105\n",
            "33    North Dakota    44550.000000     13365.000000       9720.0    0.218182\n",
            "34            Ohio    43100.000000     12930.000000      13560.0    0.314617\n",
            "35        Oklahoma    42475.000000     12742.500000      13284.0    0.312749\n",
            "36          Oregon    41860.000000     12558.000000      13332.0    0.318490\n",
            "37    Pennsylvania    50255.555556     15076.666667      15096.0    0.300385\n",
            "38    Rhode Island    47525.000000     14257.500000      11820.0    0.248711\n",
            "39  South Carolina    44200.000000     13260.000000      10236.0    0.231584\n",
            "40    South Dakota    44066.666667     13220.000000      12048.0    0.273404\n",
            "41       Tennessee    41671.428571     12501.428571      16008.0    0.384148\n",
            "42           Texas    46946.153846     14083.846154      14160.0    0.301622\n",
            "43            Utah    44580.000000     13374.000000      16704.0    0.374697\n",
            "44         Vermont    46250.000000     13875.000000      14928.0    0.322768\n",
            "45        Virginia    46925.000000     14077.500000      15384.0    0.327842\n",
            "46      Washington    44244.444444     13273.333333      13320.0    0.301055\n",
            "47   West Virginia    43100.000000     12930.000000      15360.0    0.356381\n",
            "48       Wisconsin    42425.000000     12727.500000      18036.0    0.425127\n",
            "49         Wyoming    44500.000000     13350.000000      19404.0    0.436045\n"
          ]
        }
      ]
    },
    {
      "cell_type": "code",
      "source": [
        "d1 = Percent[Percent[\"Percentage\"] > 0.3]\n",
        "print(d1)"
      ],
      "metadata": {
        "colab": {
          "base_uri": "https://localhost:8080/"
        },
        "id": "yQXvG0KNuV-2",
        "outputId": "48acf4c1-21d4-48b1-edc7-7696213d5883"
      },
      "execution_count": null,
      "outputs": [
        {
          "output_type": "stream",
          "name": "stdout",
          "text": [
            "             State  Average Salary  Rent Allocation  Actual Rent  Percentage\n",
            "23     Mississippi    40433.333333     12130.000000      12624.0    0.312218\n",
            "25         Montana    40600.000000     12180.000000      14100.0    0.347291\n",
            "32  North Carolina    43688.888889     13106.666667      15252.0    0.349105\n",
            "34            Ohio    43100.000000     12930.000000      13560.0    0.314617\n",
            "35        Oklahoma    42475.000000     12742.500000      13284.0    0.312749\n",
            "36          Oregon    41860.000000     12558.000000      13332.0    0.318490\n",
            "37    Pennsylvania    50255.555556     15076.666667      15096.0    0.300385\n",
            "41       Tennessee    41671.428571     12501.428571      16008.0    0.384148\n",
            "42           Texas    46946.153846     14083.846154      14160.0    0.301622\n",
            "43            Utah    44580.000000     13374.000000      16704.0    0.374697\n",
            "44         Vermont    46250.000000     13875.000000      14928.0    0.322768\n",
            "45        Virginia    46925.000000     14077.500000      15384.0    0.327842\n",
            "46      Washington    44244.444444     13273.333333      13320.0    0.301055\n",
            "47   West Virginia    43100.000000     12930.000000      15360.0    0.356381\n",
            "48       Wisconsin    42425.000000     12727.500000      18036.0    0.425127\n",
            "49         Wyoming    44500.000000     13350.000000      19404.0    0.436045\n"
          ]
        }
      ]
    }
  ]
}