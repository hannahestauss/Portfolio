{
  "cells": [
    {
      "cell_type": "markdown",
      "metadata": {
        "id": "GIpREY9bj3gO"
      },
      "source": [
        "#Project Overview"
      ]
    },
    {
      "cell_type": "markdown",
      "metadata": {
        "id": "pAnvL_0sj6pv"
      },
      "source": [
        "# **The Data**\n",
        "\n",
        "\n",
        "**Features - Spectral Energy Distribution**\n",
        "\n",
        "A spectral energy distribution (SED) shows how the energy output of a galaxy is distributed across the electromagnetix spectrum. This tells us how bright a galaxy is at each particular wavelength.\n",
        "\n",
        "Each component of a galaxy leaves a specific imprint on the SED.\n",
        "\n",
        "\n",
        "\n",
        "\n",
        "**Targets**\n",
        "\n",
        "\n",
        "Each of these targets impacts the SED differently\n",
        "\n",
        "\n",
        "\n",
        "\n",
        "\n",
        "\n",
        "1.   **Age**\n",
        "2. **Stellar Mass**\n",
        "3. **Dust (A_v)**\n",
        "\n",
        "When dust is present, some of the ultraviolet and blue optical light is absorbed and re-emitted in the infared. The \"spikes\" in the SED are caused by polycyclic aromatic hydrocarbons (PAHs), which give important clues about the structures of dust in a galaxy.\n",
        "\n",
        "Dust can cause ambiguity when predicting the age of a galaxy. A young but dusty galaxy appears red, but so does an old and clear galaxy. Both of these have significant infared outputs.\n",
        "\n",
        "\n",
        "Each of these targets impacts the SED differently.\n",
        "\n",
        "\n",
        "**The Goal**\n",
        "\n",
        "Use various machine learning algorithms to predict each target based on the spectral data. Diagnose, optimize, and repeat!\n",
        "\n",
        "Conclude with challenges and results.\n"
      ]
    },
    {
      "cell_type": "markdown",
      "metadata": {
        "id": "p8ZXgF9JW706"
      },
      "source": [
        "#Imports"
      ]
    },
    {
      "cell_type": "code",
      "execution_count": null,
      "metadata": {
        "id": "d3Fbl_SsXIU7"
      },
      "outputs": [],
      "source": [
        "import numpy as np\n",
        "import pandas as pd\n",
        "import matplotlib.pyplot as plt\n",
        "from matplotlib import rc\n",
        "from sklearn.svm import SVC, LinearSVC\n",
        "from sklearn.preprocessing import StandardScaler\n",
        "from sklearn.model_selection import cross_val_predict, cross_validate\n",
        "from sklearn.model_selection import KFold, StratifiedKFold\n",
        "from sklearn import metrics\n",
        "from sklearn.model_selection import GridSearchCV\n",
        "from sklearn import metrics\n",
        "from sklearn.model_selection import cross_validate, KFold, cross_val_predict, GridSearchCV\n",
        "from sklearn.tree import DecisionTreeRegressor\n",
        "from sklearn.ensemble import RandomForestRegressor, ExtraTreesRegressor\n",
        "from sklearn.pipeline import make_pipeline\n",
        "from sklearn import preprocessing, decomposition\n",
        "from sklearn.decomposition import PCA\n",
        "from sklearn.svm import SVR\n",
        "from sklearn.ensemble import RandomForestRegressor, AdaBoostRegressor, GradientBoostingRegressor\n",
        "import sklearn\n",
        "import math"
      ]
    },
    {
      "cell_type": "code",
      "execution_count": null,
      "metadata": {
        "id": "moWZC44vXQ71"
      },
      "outputs": [],
      "source": [
        "properties = pd.read_csv('https://raw.githubusercontent.com/hannahestauss/Happiness-Analysis-Vis/main/GalaxyProperties.csv')"
      ]
    },
    {
      "cell_type": "code",
      "execution_count": null,
      "metadata": {
        "id": "JThQKGYeXbfE"
      },
      "outputs": [],
      "source": [
        "spectra = pd.read_csv('https://raw.githubusercontent.com/hannahestauss/Happiness-Analysis-Vis/main/spectra.csv', delimiter=\" \", header=None)"
      ]
    },
    {
      "cell_type": "markdown",
      "metadata": {
        "id": "jG9oLOuFXEdZ"
      },
      "source": [
        "#Exploration"
      ]
    },
    {
      "cell_type": "code",
      "execution_count": null,
      "metadata": {
        "id": "7058MV9CXl3d"
      },
      "outputs": [],
      "source": [
        "properties.describe()"
      ]
    },
    {
      "cell_type": "code",
      "execution_count": null,
      "metadata": {
        "id": "lAkcaddjcGXt"
      },
      "outputs": [],
      "source": [
        "properties.drop(['Unnamed: 0'], axis=1, inplace=True)"
      ]
    },
    {
      "cell_type": "code",
      "execution_count": null,
      "metadata": {
        "id": "2EH7scKTYX-s"
      },
      "outputs": [],
      "source": [
        "spectra"
      ]
    },
    {
      "cell_type": "code",
      "execution_count": null,
      "metadata": {
        "id": "q7upn13ZbviA"
      },
      "outputs": [],
      "source": [
        "fig = properties.hist(figsize=(12,12))"
      ]
    },
    {
      "cell_type": "code",
      "execution_count": null,
      "metadata": {
        "id": "M0O-F6vSPstB"
      },
      "outputs": [],
      "source": [
        "# Assuming 'properties' is your DataFrame with multiple variables including 'Mass'\n",
        "# Extract the columns you want to normalize (excluding 'Mass')\n",
        "columns_to_normalize = properties.columns.difference(['Log10(Mass/Mass_Sun)', 'Dust attenuation value'])\n",
        "\n",
        "# Normalize the selected columns using Min-Max scaling\n",
        "properties_normalized = (properties[columns_to_normalize] - properties[columns_to_normalize].min()) / (properties[columns_to_normalize].max() - properties[columns_to_normalize].min())\n",
        "\n",
        "# Add the 'Mass' column back to the normalized DataFrame\n",
        "properties_normalized['Log10(Mass/Mass_Sun)'] = properties['Log10(Mass/Mass_Sun)']\n",
        "properties_normalized['Dust attenuation value'] = properties['Dust attenuation value']"
      ]
    },
    {
      "cell_type": "code",
      "execution_count": null,
      "metadata": {
        "id": "KA7AsE0qRjk5"
      },
      "outputs": [],
      "source": [
        "from scipy.stats import boxcox\n",
        "dust_attenuation = properties['Dust attenuation value'].values\n",
        "\n",
        "transformed_data, lambda_value = boxcox(dust_attenuation)\n",
        "properties['Dust attenuation value'] = transformed_data"
      ]
    },
    {
      "cell_type": "code",
      "execution_count": null,
      "metadata": {
        "id": "O-IE1QrWNkAB"
      },
      "outputs": [],
      "source": [
        "#properties['Dust attenuation value'] = boxcox(properties['Dust attenuation value'])\n",
        "properties['Tau (Gyr)'] = np.log(properties['Tau (Gyr)'])\n",
        "properties['Age (Gyr)'] = np.log(properties['Age (Gyr)'])"
      ]
    },
    {
      "cell_type": "code",
      "execution_count": null,
      "metadata": {
        "id": "lBaQW3zhOOka"
      },
      "outputs": [],
      "source": [
        "fig = properties.hist(figsize=(12,12))"
      ]
    },
    {
      "cell_type": "markdown",
      "metadata": {
        "id": "bCnoA_OCcxvT"
      },
      "source": [
        "From these, I predict that dust and Tau will likely be the most difficult properties to predict. The only normally distributed value is Solar Mass, while the age graph seems to be only the right half of a normal distribution."
      ]
    },
    {
      "cell_type": "code",
      "execution_count": null,
      "metadata": {
        "id": "e5LWmdmJdR1H"
      },
      "outputs": [],
      "source": [
        "from sklearn import preprocessing\n",
        "from sklearn.preprocessing import LabelEncoder\n",
        "le = preprocessing.LabelEncoder()\n",
        "Age = properties['Age (Gyr)']\n",
        "TAU = properties['Tau (Gyr)']\n",
        "DAT = properties['Dust attenuation value']\n",
        "Mass = properties['Log10(Mass/Mass_Sun)']\n",
        "targets = [Age, TAU, DAT, Mass]\n",
        "for x in targets:\n",
        "  x = le.fit_transform(x)"
      ]
    },
    {
      "cell_type": "code",
      "execution_count": null,
      "metadata": {
        "id": "EVvhx67ch5w9"
      },
      "outputs": [],
      "source": [
        "scaler = preprocessing.StandardScaler()\n",
        "scalespec = scaler.fit_transform(spectra)"
      ]
    },
    {
      "cell_type": "code",
      "execution_count": null,
      "metadata": {
        "id": "LnehxLQ3ns3w"
      },
      "outputs": [],
      "source": [
        "scalespecdf = pd.DataFrame(scalespec)"
      ]
    },
    {
      "cell_type": "markdown",
      "metadata": {
        "id": "lNn8z_DSmk9_"
      },
      "source": [
        "#Learning Curve Function"
      ]
    },
    {
      "cell_type": "code",
      "execution_count": null,
      "metadata": {
        "id": "95bW49WZmp_g"
      },
      "outputs": [],
      "source": [
        "from sklearn.model_selection import learning_curve"
      ]
    },
    {
      "cell_type": "code",
      "execution_count": null,
      "metadata": {
        "id": "GzfKVwY6KQyb"
      },
      "outputs": [],
      "source": [
        "\n",
        "def plot_learning_curve(estimator, title, X, y, ylim=None, cv=5,\n",
        "                        n_jobs=-1, train_sizes=np.linspace(.1, 1.0, 5), scoring = 'neg_mean_squared_error', scale = False):\n",
        "\n",
        "    plt.figure()\n",
        "    plt.title(title)\n",
        "    if ylim is not None:\n",
        "        plt.ylim(*ylim)\n",
        "    plt.xlabel(\"# of training examples\",fontsize = 14)\n",
        "\n",
        "    plt.ylabel(\"Score\",fontsize = 14)\n",
        "\n",
        "    if (scale == True):\n",
        "        scaler = sklearn.preprocessing.StandardScaler()\n",
        "        X = scaler.fit_transform(X)\n",
        "\n",
        "    train_sizes, train_scores, test_scores = learning_curve(\n",
        "        estimator, X, y, cv=cv, n_jobs=n_jobs, train_sizes=train_sizes, scoring = scoring)\n",
        "    train_scores_mean = np.mean(train_scores, axis=1)\n",
        "    train_scores_std = np.std(train_scores, axis=1)\n",
        "    test_scores_mean = np.mean(test_scores, axis=1)\n",
        "    test_scores_std = np.std(test_scores, axis=1)\n",
        "#   plt.grid()\n",
        "\n",
        "    plt.fill_between(train_sizes, train_scores_mean - train_scores_std,\n",
        "                     train_scores_mean + train_scores_std, alpha=0.1,\n",
        "                     color=\"b\")\n",
        "    plt.fill_between(train_sizes, test_scores_mean - test_scores_std,\n",
        "                     test_scores_mean + test_scores_std, alpha=0.1, color=\"g\")\n",
        "    plt.plot(train_sizes, train_scores_mean, 'o-', color=\"b\",\n",
        "             label=\"Training score from CV\")\n",
        "    plt.plot(train_sizes, test_scores_mean, 'o-', color=\"g\",\n",
        "             label=\"Test score from CV\")\n",
        "\n",
        "    plt.legend(loc=\"best\",fontsize = 12)\n",
        "    return plt"
      ]
    },
    {
      "cell_type": "code",
      "execution_count": null,
      "metadata": {
        "id": "-MlgCkVNmp_i"
      },
      "outputs": [],
      "source": [
        "def accplot_learning_curve(estimator, title, X, y, ylim=None, cv=5,\n",
        "                        n_jobs=-1, train_sizes=np.linspace(.1, 1.0, 5), scoring = 'accuracy', scale = False):\n",
        "    \"\"\"\n",
        "    Generate a simple plot of the test and training learning curve.\n",
        "\n",
        "    Parameters\n",
        "    ----------\n",
        "    estimator : object type that implements the \"fit\" and \"predict\" methods\n",
        "        An object of that type which is cloned for each validation.\n",
        "\n",
        "    title : string\n",
        "        Title for the chart.\n",
        "\n",
        "    X : array-like, shape (n_samples, n_features)\n",
        "        Training vector, where n_samples is the number of samples and\n",
        "        n_features is the number of features.\n",
        "\n",
        "    y : array-like, shape (n_samples) or (n_samples, n_features), optional\n",
        "        Target relative to X for classification or regression;\n",
        "        None for unsupervised learning.\n",
        "\n",
        "    ylim : tuple, shape (ymin, ymax), optional\n",
        "        Defines minimum and maximum yvalues plotted.\n",
        "\n",
        "    cv : int, cross-validation generator or an iterable, optional\n",
        "        Determines the cross-validation splitting strategy.\n",
        "        Possible inputs for cv are:\n",
        "          - None, to use the default 3-fold cross-validation,\n",
        "          - integer, to specify the number of folds.\n",
        "          - :term:`CV splitter`,\n",
        "          - An iterable yielding (train, test) splits as arrays of indices.\n",
        "\n",
        "        For integer/None inputs, if ``y`` is binary or multiclass,\n",
        "        :class:`StratifiedKFold` used. If the estimator is not a classifier\n",
        "        or if ``y`` is neither binary nor multiclass, :class:`KFold` is used.\n",
        "\n",
        "        Refer :ref:`User Guide <cross_validation>` for the various\n",
        "        cross-validators that can be used here.\n",
        "\n",
        "    n_jobs : int or None, optional (default=None)\n",
        "        Number of jobs to run in parallel.\n",
        "        ``None`` means 1 unless in a :obj:`joblib.parallel_backend` context.\n",
        "        ``-1`` means using all processors. See :term:`Glossary <n_jobs>`\n",
        "        for more details.\n",
        "\n",
        "    train_sizes : array-like, shape (n_ticks,), dtype float or int\n",
        "        Relative or absolute numbers of training examples that will be used to\n",
        "        generate the learning curve. If the dtype is float, it is regarded as a\n",
        "        fraction of the maximum size of the training set (that is determined\n",
        "        by the selected validation method), i.e. it has to be within (0, 1].\n",
        "        Otherwise it is interpreted as absolute sizes of the training sets.\n",
        "        Note that for classification the number of samples usually have to\n",
        "        be big enough to contain at least one sample from each class.\n",
        "        (default: np.linspace(0.1, 1.0, 5))\n",
        "    \"\"\"\n",
        "    plt.figure()\n",
        "    plt.title(title)\n",
        "    if ylim is not None:\n",
        "        plt.ylim(*ylim)\n",
        "    plt.xlabel(\"# of training examples\",fontsize = 14)\n",
        "\n",
        "    plt.ylabel(\"Score\",fontsize = 14)\n",
        "\n",
        "    if (scale == True):\n",
        "        scaler = sklearn.preprocessing.StandardScaler()\n",
        "        X = scaler.fit_transform(X)\n",
        "\n",
        "    train_sizes, train_scores, test_scores = learning_curve(\n",
        "        estimator, X, y, cv=cv, n_jobs=n_jobs, train_sizes=train_sizes, scoring = scoring)\n",
        "    train_scores_mean = np.mean(train_scores, axis=1)\n",
        "    train_scores_std = np.std(train_scores, axis=1)\n",
        "    test_scores_mean = np.mean(test_scores, axis=1)\n",
        "    test_scores_std = np.std(test_scores, axis=1)\n",
        "#   plt.grid()\n",
        "\n",
        "    plt.fill_between(train_sizes, train_scores_mean - train_scores_std,\n",
        "                     train_scores_mean + train_scores_std, alpha=0.1,\n",
        "                     color=\"b\")\n",
        "    plt.fill_between(train_sizes, test_scores_mean - test_scores_std,\n",
        "                     test_scores_mean + test_scores_std, alpha=0.1, color=\"g\")\n",
        "    plt.plot(train_sizes, train_scores_mean, 'o-', color=\"b\",\n",
        "             label=\"Training score from CV\")\n",
        "    plt.plot(train_sizes, test_scores_mean, 'o-', color=\"g\",\n",
        "             label=\"Test score from CV\")\n",
        "\n",
        "    plt.legend(loc=\"best\",fontsize = 12)\n",
        "    return plt"
      ]
    },
    {
      "cell_type": "markdown",
      "metadata": {
        "id": "g25FYfIpkcR-"
      },
      "source": [
        "#Model to predict Stellar Mass"
      ]
    },
    {
      "cell_type": "code",
      "execution_count": null,
      "metadata": {
        "id": "Rdq9T4lSnhCq"
      },
      "outputs": [],
      "source": [
        "model = RandomForestRegressor()"
      ]
    },
    {
      "cell_type": "code",
      "execution_count": null,
      "metadata": {
        "id": "Xl4Wrksz4xpZ"
      },
      "outputs": [],
      "source": [
        "scores = cross_validate(model,scalespecdf,DAT, cv = KFold(n_splits=5, shuffle=True, random_state=10), return_train_score=True)"
      ]
    },
    {
      "cell_type": "code",
      "execution_count": null,
      "metadata": {
        "colab": {
          "background_save": true
        },
        "id": "sen9UFzO41MK"
      },
      "outputs": [],
      "source": [
        "ypred = cross_val_predict(model,scalespecdf, DAT, cv = KFold(n_splits=5, shuffle=True, random_state=10))"
      ]
    },
    {
      "cell_type": "code",
      "execution_count": null,
      "metadata": {
        "colab": {
          "background_save": true
        },
        "id": "9geu5frT4ydi",
        "outputId": "6d445001-ad4f-4e48-9d71-8e11b8df9da5"
      },
      "outputs": [
        {
          "data": {
            "text/plain": [
              "1.0"
            ]
          },
          "execution_count": 21,
          "metadata": {},
          "output_type": "execute_result"
        }
      ],
      "source": [
        "len(np.where(np.abs(Mass-ypred)>0.15*(1+Mass))[0])/len(Mass)"
      ]
    },
    {
      "cell_type": "code",
      "execution_count": null,
      "metadata": {
        "colab": {
          "background_save": true
        },
        "id": "KCuFpcgVpaAe"
      },
      "outputs": [],
      "source": [
        "np.random.seed(20)\n",
        "sel = np.random.choice(range(len(ypred)), 500, replace = False) #sample without replacement"
      ]
    },
    {
      "cell_type": "code",
      "execution_count": null,
      "metadata": {
        "colab": {
          "background_save": true
        },
        "id": "QalLTAuZqhwP"
      },
      "outputs": [],
      "source": [
        "seld = scalespecdf.loc[sel,:]\n",
        "selt = Mass[sel]"
      ]
    },
    {
      "cell_type": "code",
      "execution_count": null,
      "metadata": {
        "colab": {
          "background_save": true
        },
        "id": "nyFkgqwKqkU_"
      },
      "outputs": [],
      "source": [
        "littlescores = cross_validate(model,seld,selt, cv = KFold(n_splits=5, shuffle=True, random_state=10), return_train_score=True)"
      ]
    },
    {
      "cell_type": "code",
      "execution_count": null,
      "metadata": {
        "colab": {
          "background_save": true
        },
        "id": "wixsfQcMqmTt",
        "outputId": "7dfa06e8-0312-40d2-ff23-189892161474"
      },
      "outputs": [
        {
          "data": {
            "text/plain": [
              "(0.9616913866621442, 0.9942780577255419)"
            ]
          },
          "execution_count": 25,
          "metadata": {},
          "output_type": "execute_result"
        }
      ],
      "source": [
        "littlescores['test_score'].mean(), littlescores['train_score'].mean()"
      ]
    },
    {
      "cell_type": "code",
      "execution_count": null,
      "metadata": {
        "colab": {
          "background_save": true
        },
        "id": "hLyE5rpWpauE",
        "outputId": "caea5e72-6e2c-4e7c-8267-0cddad2b57c9"
      },
      "outputs": [
        {
          "name": "stdout",
          "output_type": "stream",
          "text": [
            "Fitting 5 folds for each of 81 candidates, totalling 405 fits\n",
            "Best params, best score: 0.9499 {'max_features': 400, 'min_impurity_decrease': 0.0, 'min_samples_split': 10, 'n_estimators': 200}\n"
          ]
        }
      ],
      "source": [
        "parameters = {'min_impurity_decrease':[0.1, 0.5, 0.0], \\\n",
        "              'max_features':[None,600,400], 'n_estimators':[50, 100, 200], 'min_samples_split': [10,20,100]}\n",
        "nmodels = np.product([len(el) for el in parameters.values()])\n",
        "model = GridSearchCV(RandomForestRegressor(), parameters, cv = KFold(n_splits=5, shuffle=True), \\\n",
        "                     verbose = 2, n_jobs = 4, return_train_score=True)\n",
        "model.fit(seld,selt)\n",
        "\n",
        "print('Best params, best score:', \"{:.4f}\".format(model.best_score_), \\\n",
        "      model.best_params_)"
      ]
    },
    {
      "cell_type": "code",
      "execution_count": null,
      "metadata": {
        "colab": {
          "background_save": true
        },
        "id": "foJ6nhY6pauH",
        "outputId": "04d966e6-510e-444f-b574-63eba3897ae7"
      },
      "outputs": [
        {
          "data": {
            "text/html": [
              "\n",
              "  <div id=\"df-4f64d815-f235-4aff-a763-0748a867d305\" class=\"colab-df-container\">\n",
              "    <div>\n",
              "<style scoped>\n",
              "    .dataframe tbody tr th:only-of-type {\n",
              "        vertical-align: middle;\n",
              "    }\n",
              "\n",
              "    .dataframe tbody tr th {\n",
              "        vertical-align: top;\n",
              "    }\n",
              "\n",
              "    .dataframe thead th {\n",
              "        text-align: right;\n",
              "    }\n",
              "</style>\n",
              "<table border=\"1\" class=\"dataframe\">\n",
              "  <thead>\n",
              "    <tr style=\"text-align: right;\">\n",
              "      <th></th>\n",
              "      <th>params</th>\n",
              "      <th>mean_test_score</th>\n",
              "      <th>std_test_score</th>\n",
              "      <th>mean_train_score</th>\n",
              "    </tr>\n",
              "  </thead>\n",
              "  <tbody>\n",
              "    <tr>\n",
              "      <th>74</th>\n",
              "      <td>{'max_features': 400, 'min_impurity_decrease':...</td>\n",
              "      <td>0.949903</td>\n",
              "      <td>0.012068</td>\n",
              "      <td>0.985013</td>\n",
              "    </tr>\n",
              "    <tr>\n",
              "      <th>72</th>\n",
              "      <td>{'max_features': 400, 'min_impurity_decrease':...</td>\n",
              "      <td>0.949842</td>\n",
              "      <td>0.012594</td>\n",
              "      <td>0.984309</td>\n",
              "    </tr>\n",
              "    <tr>\n",
              "      <th>47</th>\n",
              "      <td>{'max_features': 600, 'min_impurity_decrease':...</td>\n",
              "      <td>0.949525</td>\n",
              "      <td>0.011608</td>\n",
              "      <td>0.984879</td>\n",
              "    </tr>\n",
              "    <tr>\n",
              "      <th>19</th>\n",
              "      <td>{'max_features': None, 'min_impurity_decrease'...</td>\n",
              "      <td>0.949289</td>\n",
              "      <td>0.012234</td>\n",
              "      <td>0.984793</td>\n",
              "    </tr>\n",
              "    <tr>\n",
              "      <th>45</th>\n",
              "      <td>{'max_features': 600, 'min_impurity_decrease':...</td>\n",
              "      <td>0.949276</td>\n",
              "      <td>0.011634</td>\n",
              "      <td>0.984614</td>\n",
              "    </tr>\n",
              "    <tr>\n",
              "      <th>...</th>\n",
              "      <td>...</td>\n",
              "      <td>...</td>\n",
              "      <td>...</td>\n",
              "      <td>...</td>\n",
              "    </tr>\n",
              "    <tr>\n",
              "      <th>39</th>\n",
              "      <td>{'max_features': 600, 'min_impurity_decrease':...</td>\n",
              "      <td>-0.020944</td>\n",
              "      <td>0.015770</td>\n",
              "      <td>-0.000039</td>\n",
              "    </tr>\n",
              "    <tr>\n",
              "      <th>10</th>\n",
              "      <td>{'max_features': None, 'min_impurity_decrease'...</td>\n",
              "      <td>-0.020992</td>\n",
              "      <td>0.014584</td>\n",
              "      <td>-0.000039</td>\n",
              "    </tr>\n",
              "    <tr>\n",
              "      <th>36</th>\n",
              "      <td>{'max_features': 600, 'min_impurity_decrease':...</td>\n",
              "      <td>-0.021005</td>\n",
              "      <td>0.014129</td>\n",
              "      <td>-0.000025</td>\n",
              "    </tr>\n",
              "    <tr>\n",
              "      <th>15</th>\n",
              "      <td>{'max_features': None, 'min_impurity_decrease'...</td>\n",
              "      <td>-0.021197</td>\n",
              "      <td>0.013323</td>\n",
              "      <td>-0.000069</td>\n",
              "    </tr>\n",
              "    <tr>\n",
              "      <th>63</th>\n",
              "      <td>{'max_features': 400, 'min_impurity_decrease':...</td>\n",
              "      <td>-0.021866</td>\n",
              "      <td>0.016328</td>\n",
              "      <td>-0.000093</td>\n",
              "    </tr>\n",
              "  </tbody>\n",
              "</table>\n",
              "<p>81 rows × 4 columns</p>\n",
              "</div>\n",
              "    <div class=\"colab-df-buttons\">\n",
              "\n",
              "  <div class=\"colab-df-container\">\n",
              "    <button class=\"colab-df-convert\" onclick=\"convertToInteractive('df-4f64d815-f235-4aff-a763-0748a867d305')\"\n",
              "            title=\"Convert this dataframe to an interactive table.\"\n",
              "            style=\"display:none;\">\n",
              "\n",
              "  <svg xmlns=\"http://www.w3.org/2000/svg\" height=\"24px\" viewBox=\"0 -960 960 960\">\n",
              "    <path d=\"M120-120v-720h720v720H120Zm60-500h600v-160H180v160Zm220 220h160v-160H400v160Zm0 220h160v-160H400v160ZM180-400h160v-160H180v160Zm440 0h160v-160H620v160ZM180-180h160v-160H180v160Zm440 0h160v-160H620v160Z\"/>\n",
              "  </svg>\n",
              "    </button>\n",
              "\n",
              "  <style>\n",
              "    .colab-df-container {\n",
              "      display:flex;\n",
              "      gap: 12px;\n",
              "    }\n",
              "\n",
              "    .colab-df-convert {\n",
              "      background-color: #E8F0FE;\n",
              "      border: none;\n",
              "      border-radius: 50%;\n",
              "      cursor: pointer;\n",
              "      display: none;\n",
              "      fill: #1967D2;\n",
              "      height: 32px;\n",
              "      padding: 0 0 0 0;\n",
              "      width: 32px;\n",
              "    }\n",
              "\n",
              "    .colab-df-convert:hover {\n",
              "      background-color: #E2EBFA;\n",
              "      box-shadow: 0px 1px 2px rgba(60, 64, 67, 0.3), 0px 1px 3px 1px rgba(60, 64, 67, 0.15);\n",
              "      fill: #174EA6;\n",
              "    }\n",
              "\n",
              "    .colab-df-buttons div {\n",
              "      margin-bottom: 4px;\n",
              "    }\n",
              "\n",
              "    [theme=dark] .colab-df-convert {\n",
              "      background-color: #3B4455;\n",
              "      fill: #D2E3FC;\n",
              "    }\n",
              "\n",
              "    [theme=dark] .colab-df-convert:hover {\n",
              "      background-color: #434B5C;\n",
              "      box-shadow: 0px 1px 3px 1px rgba(0, 0, 0, 0.15);\n",
              "      filter: drop-shadow(0px 1px 2px rgba(0, 0, 0, 0.3));\n",
              "      fill: #FFFFFF;\n",
              "    }\n",
              "  </style>\n",
              "\n",
              "    <script>\n",
              "      const buttonEl =\n",
              "        document.querySelector('#df-4f64d815-f235-4aff-a763-0748a867d305 button.colab-df-convert');\n",
              "      buttonEl.style.display =\n",
              "        google.colab.kernel.accessAllowed ? 'block' : 'none';\n",
              "\n",
              "      async function convertToInteractive(key) {\n",
              "        const element = document.querySelector('#df-4f64d815-f235-4aff-a763-0748a867d305');\n",
              "        const dataTable =\n",
              "          await google.colab.kernel.invokeFunction('convertToInteractive',\n",
              "                                                    [key], {});\n",
              "        if (!dataTable) return;\n",
              "\n",
              "        const docLinkHtml = 'Like what you see? Visit the ' +\n",
              "          '<a target=\"_blank\" href=https://colab.research.google.com/notebooks/data_table.ipynb>data table notebook</a>'\n",
              "          + ' to learn more about interactive tables.';\n",
              "        element.innerHTML = '';\n",
              "        dataTable['output_type'] = 'display_data';\n",
              "        await google.colab.output.renderOutput(dataTable, element);\n",
              "        const docLink = document.createElement('div');\n",
              "        docLink.innerHTML = docLinkHtml;\n",
              "        element.appendChild(docLink);\n",
              "      }\n",
              "    </script>\n",
              "  </div>\n",
              "\n",
              "\n",
              "<div id=\"df-62d1625a-8b21-43e1-b898-44cb32c9d6d0\">\n",
              "  <button class=\"colab-df-quickchart\" onclick=\"quickchart('df-62d1625a-8b21-43e1-b898-44cb32c9d6d0')\"\n",
              "            title=\"Suggest charts\"\n",
              "            style=\"display:none;\">\n",
              "\n",
              "<svg xmlns=\"http://www.w3.org/2000/svg\" height=\"24px\"viewBox=\"0 0 24 24\"\n",
              "     width=\"24px\">\n",
              "    <g>\n",
              "        <path d=\"M19 3H5c-1.1 0-2 .9-2 2v14c0 1.1.9 2 2 2h14c1.1 0 2-.9 2-2V5c0-1.1-.9-2-2-2zM9 17H7v-7h2v7zm4 0h-2V7h2v10zm4 0h-2v-4h2v4z\"/>\n",
              "    </g>\n",
              "</svg>\n",
              "  </button>\n",
              "\n",
              "<style>\n",
              "  .colab-df-quickchart {\n",
              "      --bg-color: #E8F0FE;\n",
              "      --fill-color: #1967D2;\n",
              "      --hover-bg-color: #E2EBFA;\n",
              "      --hover-fill-color: #174EA6;\n",
              "      --disabled-fill-color: #AAA;\n",
              "      --disabled-bg-color: #DDD;\n",
              "  }\n",
              "\n",
              "  [theme=dark] .colab-df-quickchart {\n",
              "      --bg-color: #3B4455;\n",
              "      --fill-color: #D2E3FC;\n",
              "      --hover-bg-color: #434B5C;\n",
              "      --hover-fill-color: #FFFFFF;\n",
              "      --disabled-bg-color: #3B4455;\n",
              "      --disabled-fill-color: #666;\n",
              "  }\n",
              "\n",
              "  .colab-df-quickchart {\n",
              "    background-color: var(--bg-color);\n",
              "    border: none;\n",
              "    border-radius: 50%;\n",
              "    cursor: pointer;\n",
              "    display: none;\n",
              "    fill: var(--fill-color);\n",
              "    height: 32px;\n",
              "    padding: 0;\n",
              "    width: 32px;\n",
              "  }\n",
              "\n",
              "  .colab-df-quickchart:hover {\n",
              "    background-color: var(--hover-bg-color);\n",
              "    box-shadow: 0 1px 2px rgba(60, 64, 67, 0.3), 0 1px 3px 1px rgba(60, 64, 67, 0.15);\n",
              "    fill: var(--button-hover-fill-color);\n",
              "  }\n",
              "\n",
              "  .colab-df-quickchart-complete:disabled,\n",
              "  .colab-df-quickchart-complete:disabled:hover {\n",
              "    background-color: var(--disabled-bg-color);\n",
              "    fill: var(--disabled-fill-color);\n",
              "    box-shadow: none;\n",
              "  }\n",
              "\n",
              "  .colab-df-spinner {\n",
              "    border: 2px solid var(--fill-color);\n",
              "    border-color: transparent;\n",
              "    border-bottom-color: var(--fill-color);\n",
              "    animation:\n",
              "      spin 1s steps(1) infinite;\n",
              "  }\n",
              "\n",
              "  @keyframes spin {\n",
              "    0% {\n",
              "      border-color: transparent;\n",
              "      border-bottom-color: var(--fill-color);\n",
              "      border-left-color: var(--fill-color);\n",
              "    }\n",
              "    20% {\n",
              "      border-color: transparent;\n",
              "      border-left-color: var(--fill-color);\n",
              "      border-top-color: var(--fill-color);\n",
              "    }\n",
              "    30% {\n",
              "      border-color: transparent;\n",
              "      border-left-color: var(--fill-color);\n",
              "      border-top-color: var(--fill-color);\n",
              "      border-right-color: var(--fill-color);\n",
              "    }\n",
              "    40% {\n",
              "      border-color: transparent;\n",
              "      border-right-color: var(--fill-color);\n",
              "      border-top-color: var(--fill-color);\n",
              "    }\n",
              "    60% {\n",
              "      border-color: transparent;\n",
              "      border-right-color: var(--fill-color);\n",
              "    }\n",
              "    80% {\n",
              "      border-color: transparent;\n",
              "      border-right-color: var(--fill-color);\n",
              "      border-bottom-color: var(--fill-color);\n",
              "    }\n",
              "    90% {\n",
              "      border-color: transparent;\n",
              "      border-bottom-color: var(--fill-color);\n",
              "    }\n",
              "  }\n",
              "</style>\n",
              "\n",
              "  <script>\n",
              "    async function quickchart(key) {\n",
              "      const quickchartButtonEl =\n",
              "        document.querySelector('#' + key + ' button');\n",
              "      quickchartButtonEl.disabled = true;  // To prevent multiple clicks.\n",
              "      quickchartButtonEl.classList.add('colab-df-spinner');\n",
              "      try {\n",
              "        const charts = await google.colab.kernel.invokeFunction(\n",
              "            'suggestCharts', [key], {});\n",
              "      } catch (error) {\n",
              "        console.error('Error during call to suggestCharts:', error);\n",
              "      }\n",
              "      quickchartButtonEl.classList.remove('colab-df-spinner');\n",
              "      quickchartButtonEl.classList.add('colab-df-quickchart-complete');\n",
              "    }\n",
              "    (() => {\n",
              "      let quickchartButtonEl =\n",
              "        document.querySelector('#df-62d1625a-8b21-43e1-b898-44cb32c9d6d0 button');\n",
              "      quickchartButtonEl.style.display =\n",
              "        google.colab.kernel.accessAllowed ? 'block' : 'none';\n",
              "    })();\n",
              "  </script>\n",
              "</div>\n",
              "    </div>\n",
              "  </div>\n"
            ],
            "text/plain": [
              "                                               params  mean_test_score  \\\n",
              "74  {'max_features': 400, 'min_impurity_decrease':...         0.949903   \n",
              "72  {'max_features': 400, 'min_impurity_decrease':...         0.949842   \n",
              "47  {'max_features': 600, 'min_impurity_decrease':...         0.949525   \n",
              "19  {'max_features': None, 'min_impurity_decrease'...         0.949289   \n",
              "45  {'max_features': 600, 'min_impurity_decrease':...         0.949276   \n",
              "..                                                ...              ...   \n",
              "39  {'max_features': 600, 'min_impurity_decrease':...        -0.020944   \n",
              "10  {'max_features': None, 'min_impurity_decrease'...        -0.020992   \n",
              "36  {'max_features': 600, 'min_impurity_decrease':...        -0.021005   \n",
              "15  {'max_features': None, 'min_impurity_decrease'...        -0.021197   \n",
              "63  {'max_features': 400, 'min_impurity_decrease':...        -0.021866   \n",
              "\n",
              "    std_test_score  mean_train_score  \n",
              "74        0.012068          0.985013  \n",
              "72        0.012594          0.984309  \n",
              "47        0.011608          0.984879  \n",
              "19        0.012234          0.984793  \n",
              "45        0.011634          0.984614  \n",
              "..             ...               ...  \n",
              "39        0.015770         -0.000039  \n",
              "10        0.014584         -0.000039  \n",
              "36        0.014129         -0.000025  \n",
              "15        0.013323         -0.000069  \n",
              "63        0.016328         -0.000093  \n",
              "\n",
              "[81 rows x 4 columns]"
            ]
          },
          "execution_count": 27,
          "metadata": {},
          "output_type": "execute_result"
        }
      ],
      "source": [
        "scores = pd.DataFrame(model.cv_results_)\n",
        "scoresCV = scores[['params','mean_test_score','std_test_score','mean_train_score']].sort_values(by = 'mean_test_score', \\\n",
        "                                                    ascending = False)\n",
        "scoresCV"
      ]
    },
    {
      "cell_type": "markdown",
      "metadata": {
        "id": "vI_u8TuV37st"
      },
      "source": [
        "These values are lower than my initial test value, just slightly. This tells me that they wouldn't be useful for optimization. Because the original test values are so high, I'm not too worried about increasing the accuracy."
      ]
    },
    {
      "cell_type": "markdown",
      "metadata": {
        "id": "t_kntPQ9kfIl"
      },
      "source": [
        "#Model to predict Dust Attenuation Value"
      ]
    },
    {
      "cell_type": "code",
      "execution_count": null,
      "metadata": {
        "colab": {
          "background_save": true
        },
        "id": "EJQfXy025IFr"
      },
      "outputs": [],
      "source": [
        "model = RandomForestRegressor()"
      ]
    },
    {
      "cell_type": "code",
      "execution_count": null,
      "metadata": {
        "colab": {
          "background_save": true
        },
        "id": "1K_CCG8H5IFs"
      },
      "outputs": [],
      "source": [
        "scores = cross_validate(model,scalespecdf,DAT, cv = KFold(n_splits=5, shuffle=True, random_state=10), return_train_score=True)"
      ]
    },
    {
      "cell_type": "code",
      "execution_count": null,
      "metadata": {
        "colab": {
          "background_save": true
        },
        "id": "ahAU_x8F6Z5R",
        "outputId": "b8017289-a883-4440-dcb3-3e35dbde064c"
      },
      "outputs": [
        {
          "data": {
            "text/plain": [
              "{'fit_time': array([31.81377125, 32.34259677, 31.68871355, 31.65545368, 32.87206769]),\n",
              " 'score_time': array([0.0163846 , 0.01574135, 0.01564503, 0.01535034, 0.01606536]),\n",
              " 'test_score': array([0.89593475, 0.85525114, 0.90800889, 0.9032591 , 0.91922014]),\n",
              " 'train_score': array([0.98528253, 0.98784432, 0.98501129, 0.98557805, 0.98572902])}"
            ]
          },
          "execution_count": 30,
          "metadata": {},
          "output_type": "execute_result"
        }
      ],
      "source": [
        "scores"
      ]
    },
    {
      "cell_type": "code",
      "execution_count": null,
      "metadata": {
        "colab": {
          "background_save": true
        },
        "id": "FVgYF2RC5IFt"
      },
      "outputs": [],
      "source": [
        "ypred = cross_val_predict(model,scalespecdf, DAT, cv = KFold(n_splits=5, shuffle=True, random_state=10))"
      ]
    },
    {
      "cell_type": "code",
      "execution_count": null,
      "metadata": {
        "colab": {
          "background_save": true
        },
        "id": "7ED1zJfs5IFu",
        "outputId": "98e7b360-2d2f-4e60-b098-a04647f5ebe6"
      },
      "outputs": [
        {
          "data": {
            "text/plain": [
              "0.951"
            ]
          },
          "execution_count": 32,
          "metadata": {},
          "output_type": "execute_result"
        }
      ],
      "source": [
        "len(np.where(np.abs(DAT-ypred)>0.15*(1+DAT))[0])/len(DAT)"
      ]
    },
    {
      "cell_type": "code",
      "execution_count": null,
      "metadata": {
        "colab": {
          "background_save": true
        },
        "id": "mkiywCLCqyOV"
      },
      "outputs": [],
      "source": [
        "np.random.seed(20)\n",
        "sel = np.random.choice(range(len(ypred)), 750, replace = False) #sample without replacement"
      ]
    },
    {
      "cell_type": "code",
      "execution_count": null,
      "metadata": {
        "colab": {
          "background_save": true
        },
        "id": "zKbjjoESqyOW"
      },
      "outputs": [],
      "source": [
        "seld = scalespecdf.loc[sel,:]\n",
        "selt = DAT[sel]"
      ]
    },
    {
      "cell_type": "code",
      "execution_count": null,
      "metadata": {
        "colab": {
          "background_save": true
        },
        "id": "wiOkTiew4KhG"
      },
      "outputs": [],
      "source": [
        "model = RandomForestRegressor()"
      ]
    },
    {
      "cell_type": "code",
      "execution_count": null,
      "metadata": {
        "colab": {
          "background_save": true
        },
        "id": "z7nOBwjiqyOX"
      },
      "outputs": [],
      "source": [
        "littlescores = cross_validate(model,seld,selt, cv = KFold(n_splits=5, shuffle=True, random_state=10), return_train_score=True)"
      ]
    },
    {
      "cell_type": "code",
      "execution_count": null,
      "metadata": {
        "colab": {
          "background_save": true
        },
        "id": "yTYqA_3cqyOX",
        "outputId": "8d6a16d9-e543-42c0-cfcb-410ab09e79c2"
      },
      "outputs": [
        {
          "data": {
            "text/plain": [
              "(0.886529596123608, 0.9837536399736349)"
            ]
          },
          "execution_count": 37,
          "metadata": {},
          "output_type": "execute_result"
        }
      ],
      "source": [
        "littlescores['test_score'].mean(), littlescores['train_score'].mean()"
      ]
    },
    {
      "cell_type": "code",
      "execution_count": null,
      "metadata": {
        "colab": {
          "background_save": true
        },
        "id": "6qC4hTaQ6qOM",
        "outputId": "e8e7280f-b2fc-4716-e7cf-65e09ea0c9ac"
      },
      "outputs": [
        {
          "data": {
            "text/plain": [
              "0.8963348038626832"
            ]
          },
          "execution_count": 38,
          "metadata": {},
          "output_type": "execute_result"
        }
      ],
      "source": [
        " np.mean(scores['test_score'])"
      ]
    },
    {
      "cell_type": "markdown",
      "metadata": {
        "id": "Z2mUpK8PlvCI"
      },
      "source": [
        "##Optimization\n",
        "\n",
        "\n",
        "\n",
        "To see if optimization of tree parameters will increase test scores, I decided to run multiple different versions of the model and print out the test scores for each.\n",
        "\n",
        "This should help to show where any issues may fall, if these paramaters impact the model in a good/bad way, etc. It's a good benchmark for optimization."
      ]
    },
    {
      "cell_type": "code",
      "execution_count": null,
      "metadata": {
        "colab": {
          "background_save": true,
          "base_uri": "https://localhost:8080/"
        },
        "id": "OSlnrwV8ki7f",
        "outputId": "198dac8e-eca4-4e4b-f7d1-d8465254c521"
      },
      "outputs": [
        {
          "name": "stdout",
          "output_type": "stream",
          "text": [
            "Fitting 5 folds for each of 81 candidates, totalling 405 fits\n"
          ]
        },
        {
          "name": "stderr",
          "output_type": "stream",
          "text": [
            "/usr/local/lib/python3.10/dist-packages/sklearn/model_selection/_validation.py:378: FitFailedWarning: \n",
            "135 fits failed out of a total of 405.\n",
            "The score on these train-test partitions for these parameters will be set to nan.\n",
            "If these failures are not expected, you can try to debug them by setting error_score='raise'.\n",
            "\n",
            "Below are more details about the failures:\n",
            "--------------------------------------------------------------------------------\n",
            "135 fits failed with the following error:\n",
            "Traceback (most recent call last):\n",
            "  File \"/usr/local/lib/python3.10/dist-packages/sklearn/model_selection/_validation.py\", line 686, in _fit_and_score\n",
            "    estimator.fit(X_train, y_train, **fit_params)\n",
            "  File \"/usr/local/lib/python3.10/dist-packages/sklearn/ensemble/_forest.py\", line 340, in fit\n",
            "    self._validate_params()\n",
            "  File \"/usr/local/lib/python3.10/dist-packages/sklearn/base.py\", line 600, in _validate_params\n",
            "    validate_parameter_constraints(\n",
            "  File \"/usr/local/lib/python3.10/dist-packages/sklearn/utils/_param_validation.py\", line 97, in validate_parameter_constraints\n",
            "    raise InvalidParameterError(\n",
            "sklearn.utils._param_validation.InvalidParameterError: The 'min_samples_split' parameter of RandomForestRegressor must be an int in the range [2, inf) or a float in the range (0.0, 1.0]. Got None instead.\n",
            "\n",
            "  warnings.warn(some_fits_failed_message, FitFailedWarning)\n",
            "/usr/local/lib/python3.10/dist-packages/sklearn/model_selection/_search.py:952: UserWarning: One or more of the test scores are non-finite: [0.67407326 0.69175044 0.6945926  0.68089346 0.68740321 0.69065832\n",
            "        nan        nan        nan 0.37460474 0.37279438 0.37719386\n",
            " 0.37308845 0.3740326  0.37975599        nan        nan        nan\n",
            " 0.86802457 0.87624288 0.87250774 0.86776879 0.86631775 0.86743435\n",
            "        nan        nan        nan 0.67976115 0.68416025 0.68663246\n",
            " 0.67945912 0.68268221 0.68134457        nan        nan        nan\n",
            " 0.37221865 0.36661978 0.36906194 0.36987246 0.36643705 0.37131488\n",
            "        nan        nan        nan 0.86952637 0.87091291 0.87302178\n",
            " 0.86294067 0.86377165 0.86245842        nan        nan        nan\n",
            " 0.69513164 0.69478796 0.696027   0.68285733 0.69469375 0.69596555\n",
            "        nan        nan        nan 0.38508575 0.38052516 0.37783816\n",
            " 0.37715166 0.37623187 0.37836102        nan        nan        nan\n",
            " 0.87093591 0.87690608 0.87958488 0.86605017 0.86416052 0.8699204\n",
            "        nan        nan        nan]\n",
            "  warnings.warn(\n",
            "/usr/local/lib/python3.10/dist-packages/sklearn/model_selection/_search.py:952: UserWarning: One or more of the train scores are non-finite: [0.74525436 0.75869991 0.75796824 0.74955528 0.75407561 0.76057798\n",
            "        nan        nan        nan 0.40392251 0.40498552 0.40652053\n",
            " 0.40404941 0.40494557 0.40935791        nan        nan        nan\n",
            " 0.97577615 0.97741405 0.97770103 0.95993839 0.96167216 0.96318877\n",
            "        nan        nan        nan 0.75084494 0.75483274 0.75653391\n",
            " 0.75175076 0.75148847 0.75334908        nan        nan        nan\n",
            " 0.39824749 0.39792496 0.40024817 0.40044914 0.40059769 0.40072647\n",
            "        nan        nan        nan 0.97426739 0.97663561 0.97714628\n",
            " 0.96083231 0.96156562 0.96269235        nan        nan        nan\n",
            " 0.75985436 0.76203446 0.76048485 0.75175108 0.75971161 0.76199206\n",
            "        nan        nan        nan 0.40892918 0.40689283 0.40820454\n",
            " 0.40413106 0.40625009 0.4071863         nan        nan        nan\n",
            " 0.97420775 0.97671484 0.97830926 0.9613584  0.9637976  0.96334218\n",
            "        nan        nan        nan]\n",
            "  warnings.warn(\n"
          ]
        },
        {
          "name": "stdout",
          "output_type": "stream",
          "text": [
            "Best params, best score: 0.8796 {'max_features': None, 'min_impurity_decrease': 0.0, 'min_samples_split': 5, 'n_estimators': 75}\n"
          ]
        }
      ],
      "source": [
        "parameters = {'min_impurity_decrease':[0.1, 0.5, 0.0], \\\n",
        "              'max_features':[750,600,None], 'n_estimators':[25,50,75], 'min_samples_split': [5,10,None]}\n",
        "nmodels = np.product([len(el) for el in parameters.values()])\n",
        "model = GridSearchCV(RandomForestRegressor(), parameters, cv = KFold(n_splits=5, shuffle=True), \\\n",
        "                     verbose = 2, n_jobs = 4, return_train_score=True)\n",
        "model.fit(seld,selt)\n",
        "\n",
        "print('Best params, best score:', \"{:.4f}\".format(model.best_score_), \\\n",
        "      model.best_params_)"
      ]
    },
    {
      "cell_type": "code",
      "execution_count": null,
      "metadata": {
        "colab": {
          "background_save": true,
          "base_uri": "https://localhost:8080/"
        },
        "id": "dOlqlobAkmdx",
        "outputId": "597c1192-f9ac-4d2c-96b8-185f8b2065ba"
      },
      "outputs": [
        {
          "data": {
            "text/html": [
              "\n",
              "  <div id=\"df-077478ab-7e03-438f-8914-2c73aab8b04d\" class=\"colab-df-container\">\n",
              "    <div>\n",
              "<style scoped>\n",
              "    .dataframe tbody tr th:only-of-type {\n",
              "        vertical-align: middle;\n",
              "    }\n",
              "\n",
              "    .dataframe tbody tr th {\n",
              "        vertical-align: top;\n",
              "    }\n",
              "\n",
              "    .dataframe thead th {\n",
              "        text-align: right;\n",
              "    }\n",
              "</style>\n",
              "<table border=\"1\" class=\"dataframe\">\n",
              "  <thead>\n",
              "    <tr style=\"text-align: right;\">\n",
              "      <th></th>\n",
              "      <th>params</th>\n",
              "      <th>mean_test_score</th>\n",
              "      <th>std_test_score</th>\n",
              "      <th>mean_train_score</th>\n",
              "    </tr>\n",
              "  </thead>\n",
              "  <tbody>\n",
              "    <tr>\n",
              "      <th>74</th>\n",
              "      <td>{'max_features': None, 'min_impurity_decrease'...</td>\n",
              "      <td>0.879585</td>\n",
              "      <td>0.027854</td>\n",
              "      <td>0.978309</td>\n",
              "    </tr>\n",
              "    <tr>\n",
              "      <th>73</th>\n",
              "      <td>{'max_features': None, 'min_impurity_decrease'...</td>\n",
              "      <td>0.876906</td>\n",
              "      <td>0.031756</td>\n",
              "      <td>0.976715</td>\n",
              "    </tr>\n",
              "    <tr>\n",
              "      <th>19</th>\n",
              "      <td>{'max_features': 750, 'min_impurity_decrease':...</td>\n",
              "      <td>0.876243</td>\n",
              "      <td>0.031497</td>\n",
              "      <td>0.977414</td>\n",
              "    </tr>\n",
              "    <tr>\n",
              "      <th>47</th>\n",
              "      <td>{'max_features': 600, 'min_impurity_decrease':...</td>\n",
              "      <td>0.873022</td>\n",
              "      <td>0.032182</td>\n",
              "      <td>0.977146</td>\n",
              "    </tr>\n",
              "    <tr>\n",
              "      <th>20</th>\n",
              "      <td>{'max_features': 750, 'min_impurity_decrease':...</td>\n",
              "      <td>0.872508</td>\n",
              "      <td>0.029745</td>\n",
              "      <td>0.977701</td>\n",
              "    </tr>\n",
              "    <tr>\n",
              "      <th>...</th>\n",
              "      <td>...</td>\n",
              "      <td>...</td>\n",
              "      <td>...</td>\n",
              "      <td>...</td>\n",
              "    </tr>\n",
              "    <tr>\n",
              "      <th>70</th>\n",
              "      <td>{'max_features': None, 'min_impurity_decrease'...</td>\n",
              "      <td>NaN</td>\n",
              "      <td>NaN</td>\n",
              "      <td>NaN</td>\n",
              "    </tr>\n",
              "    <tr>\n",
              "      <th>71</th>\n",
              "      <td>{'max_features': None, 'min_impurity_decrease'...</td>\n",
              "      <td>NaN</td>\n",
              "      <td>NaN</td>\n",
              "      <td>NaN</td>\n",
              "    </tr>\n",
              "    <tr>\n",
              "      <th>78</th>\n",
              "      <td>{'max_features': None, 'min_impurity_decrease'...</td>\n",
              "      <td>NaN</td>\n",
              "      <td>NaN</td>\n",
              "      <td>NaN</td>\n",
              "    </tr>\n",
              "    <tr>\n",
              "      <th>79</th>\n",
              "      <td>{'max_features': None, 'min_impurity_decrease'...</td>\n",
              "      <td>NaN</td>\n",
              "      <td>NaN</td>\n",
              "      <td>NaN</td>\n",
              "    </tr>\n",
              "    <tr>\n",
              "      <th>80</th>\n",
              "      <td>{'max_features': None, 'min_impurity_decrease'...</td>\n",
              "      <td>NaN</td>\n",
              "      <td>NaN</td>\n",
              "      <td>NaN</td>\n",
              "    </tr>\n",
              "  </tbody>\n",
              "</table>\n",
              "<p>81 rows × 4 columns</p>\n",
              "</div>\n",
              "    <div class=\"colab-df-buttons\">\n",
              "\n",
              "  <div class=\"colab-df-container\">\n",
              "    <button class=\"colab-df-convert\" onclick=\"convertToInteractive('df-077478ab-7e03-438f-8914-2c73aab8b04d')\"\n",
              "            title=\"Convert this dataframe to an interactive table.\"\n",
              "            style=\"display:none;\">\n",
              "\n",
              "  <svg xmlns=\"http://www.w3.org/2000/svg\" height=\"24px\" viewBox=\"0 -960 960 960\">\n",
              "    <path d=\"M120-120v-720h720v720H120Zm60-500h600v-160H180v160Zm220 220h160v-160H400v160Zm0 220h160v-160H400v160ZM180-400h160v-160H180v160Zm440 0h160v-160H620v160ZM180-180h160v-160H180v160Zm440 0h160v-160H620v160Z\"/>\n",
              "  </svg>\n",
              "    </button>\n",
              "\n",
              "  <style>\n",
              "    .colab-df-container {\n",
              "      display:flex;\n",
              "      gap: 12px;\n",
              "    }\n",
              "\n",
              "    .colab-df-convert {\n",
              "      background-color: #E8F0FE;\n",
              "      border: none;\n",
              "      border-radius: 50%;\n",
              "      cursor: pointer;\n",
              "      display: none;\n",
              "      fill: #1967D2;\n",
              "      height: 32px;\n",
              "      padding: 0 0 0 0;\n",
              "      width: 32px;\n",
              "    }\n",
              "\n",
              "    .colab-df-convert:hover {\n",
              "      background-color: #E2EBFA;\n",
              "      box-shadow: 0px 1px 2px rgba(60, 64, 67, 0.3), 0px 1px 3px 1px rgba(60, 64, 67, 0.15);\n",
              "      fill: #174EA6;\n",
              "    }\n",
              "\n",
              "    .colab-df-buttons div {\n",
              "      margin-bottom: 4px;\n",
              "    }\n",
              "\n",
              "    [theme=dark] .colab-df-convert {\n",
              "      background-color: #3B4455;\n",
              "      fill: #D2E3FC;\n",
              "    }\n",
              "\n",
              "    [theme=dark] .colab-df-convert:hover {\n",
              "      background-color: #434B5C;\n",
              "      box-shadow: 0px 1px 3px 1px rgba(0, 0, 0, 0.15);\n",
              "      filter: drop-shadow(0px 1px 2px rgba(0, 0, 0, 0.3));\n",
              "      fill: #FFFFFF;\n",
              "    }\n",
              "  </style>\n",
              "\n",
              "    <script>\n",
              "      const buttonEl =\n",
              "        document.querySelector('#df-077478ab-7e03-438f-8914-2c73aab8b04d button.colab-df-convert');\n",
              "      buttonEl.style.display =\n",
              "        google.colab.kernel.accessAllowed ? 'block' : 'none';\n",
              "\n",
              "      async function convertToInteractive(key) {\n",
              "        const element = document.querySelector('#df-077478ab-7e03-438f-8914-2c73aab8b04d');\n",
              "        const dataTable =\n",
              "          await google.colab.kernel.invokeFunction('convertToInteractive',\n",
              "                                                    [key], {});\n",
              "        if (!dataTable) return;\n",
              "\n",
              "        const docLinkHtml = 'Like what you see? Visit the ' +\n",
              "          '<a target=\"_blank\" href=https://colab.research.google.com/notebooks/data_table.ipynb>data table notebook</a>'\n",
              "          + ' to learn more about interactive tables.';\n",
              "        element.innerHTML = '';\n",
              "        dataTable['output_type'] = 'display_data';\n",
              "        await google.colab.output.renderOutput(dataTable, element);\n",
              "        const docLink = document.createElement('div');\n",
              "        docLink.innerHTML = docLinkHtml;\n",
              "        element.appendChild(docLink);\n",
              "      }\n",
              "    </script>\n",
              "  </div>\n",
              "\n",
              "\n",
              "<div id=\"df-ee5b4ca1-3ff9-4769-8a51-d37c82b2c531\">\n",
              "  <button class=\"colab-df-quickchart\" onclick=\"quickchart('df-ee5b4ca1-3ff9-4769-8a51-d37c82b2c531')\"\n",
              "            title=\"Suggest charts\"\n",
              "            style=\"display:none;\">\n",
              "\n",
              "<svg xmlns=\"http://www.w3.org/2000/svg\" height=\"24px\"viewBox=\"0 0 24 24\"\n",
              "     width=\"24px\">\n",
              "    <g>\n",
              "        <path d=\"M19 3H5c-1.1 0-2 .9-2 2v14c0 1.1.9 2 2 2h14c1.1 0 2-.9 2-2V5c0-1.1-.9-2-2-2zM9 17H7v-7h2v7zm4 0h-2V7h2v10zm4 0h-2v-4h2v4z\"/>\n",
              "    </g>\n",
              "</svg>\n",
              "  </button>\n",
              "\n",
              "<style>\n",
              "  .colab-df-quickchart {\n",
              "      --bg-color: #E8F0FE;\n",
              "      --fill-color: #1967D2;\n",
              "      --hover-bg-color: #E2EBFA;\n",
              "      --hover-fill-color: #174EA6;\n",
              "      --disabled-fill-color: #AAA;\n",
              "      --disabled-bg-color: #DDD;\n",
              "  }\n",
              "\n",
              "  [theme=dark] .colab-df-quickchart {\n",
              "      --bg-color: #3B4455;\n",
              "      --fill-color: #D2E3FC;\n",
              "      --hover-bg-color: #434B5C;\n",
              "      --hover-fill-color: #FFFFFF;\n",
              "      --disabled-bg-color: #3B4455;\n",
              "      --disabled-fill-color: #666;\n",
              "  }\n",
              "\n",
              "  .colab-df-quickchart {\n",
              "    background-color: var(--bg-color);\n",
              "    border: none;\n",
              "    border-radius: 50%;\n",
              "    cursor: pointer;\n",
              "    display: none;\n",
              "    fill: var(--fill-color);\n",
              "    height: 32px;\n",
              "    padding: 0;\n",
              "    width: 32px;\n",
              "  }\n",
              "\n",
              "  .colab-df-quickchart:hover {\n",
              "    background-color: var(--hover-bg-color);\n",
              "    box-shadow: 0 1px 2px rgba(60, 64, 67, 0.3), 0 1px 3px 1px rgba(60, 64, 67, 0.15);\n",
              "    fill: var(--button-hover-fill-color);\n",
              "  }\n",
              "\n",
              "  .colab-df-quickchart-complete:disabled,\n",
              "  .colab-df-quickchart-complete:disabled:hover {\n",
              "    background-color: var(--disabled-bg-color);\n",
              "    fill: var(--disabled-fill-color);\n",
              "    box-shadow: none;\n",
              "  }\n",
              "\n",
              "  .colab-df-spinner {\n",
              "    border: 2px solid var(--fill-color);\n",
              "    border-color: transparent;\n",
              "    border-bottom-color: var(--fill-color);\n",
              "    animation:\n",
              "      spin 1s steps(1) infinite;\n",
              "  }\n",
              "\n",
              "  @keyframes spin {\n",
              "    0% {\n",
              "      border-color: transparent;\n",
              "      border-bottom-color: var(--fill-color);\n",
              "      border-left-color: var(--fill-color);\n",
              "    }\n",
              "    20% {\n",
              "      border-color: transparent;\n",
              "      border-left-color: var(--fill-color);\n",
              "      border-top-color: var(--fill-color);\n",
              "    }\n",
              "    30% {\n",
              "      border-color: transparent;\n",
              "      border-left-color: var(--fill-color);\n",
              "      border-top-color: var(--fill-color);\n",
              "      border-right-color: var(--fill-color);\n",
              "    }\n",
              "    40% {\n",
              "      border-color: transparent;\n",
              "      border-right-color: var(--fill-color);\n",
              "      border-top-color: var(--fill-color);\n",
              "    }\n",
              "    60% {\n",
              "      border-color: transparent;\n",
              "      border-right-color: var(--fill-color);\n",
              "    }\n",
              "    80% {\n",
              "      border-color: transparent;\n",
              "      border-right-color: var(--fill-color);\n",
              "      border-bottom-color: var(--fill-color);\n",
              "    }\n",
              "    90% {\n",
              "      border-color: transparent;\n",
              "      border-bottom-color: var(--fill-color);\n",
              "    }\n",
              "  }\n",
              "</style>\n",
              "\n",
              "  <script>\n",
              "    async function quickchart(key) {\n",
              "      const quickchartButtonEl =\n",
              "        document.querySelector('#' + key + ' button');\n",
              "      quickchartButtonEl.disabled = true;  // To prevent multiple clicks.\n",
              "      quickchartButtonEl.classList.add('colab-df-spinner');\n",
              "      try {\n",
              "        const charts = await google.colab.kernel.invokeFunction(\n",
              "            'suggestCharts', [key], {});\n",
              "      } catch (error) {\n",
              "        console.error('Error during call to suggestCharts:', error);\n",
              "      }\n",
              "      quickchartButtonEl.classList.remove('colab-df-spinner');\n",
              "      quickchartButtonEl.classList.add('colab-df-quickchart-complete');\n",
              "    }\n",
              "    (() => {\n",
              "      let quickchartButtonEl =\n",
              "        document.querySelector('#df-ee5b4ca1-3ff9-4769-8a51-d37c82b2c531 button');\n",
              "      quickchartButtonEl.style.display =\n",
              "        google.colab.kernel.accessAllowed ? 'block' : 'none';\n",
              "    })();\n",
              "  </script>\n",
              "</div>\n",
              "    </div>\n",
              "  </div>\n"
            ],
            "text/plain": [
              "                                               params  mean_test_score  \\\n",
              "74  {'max_features': None, 'min_impurity_decrease'...         0.879585   \n",
              "73  {'max_features': None, 'min_impurity_decrease'...         0.876906   \n",
              "19  {'max_features': 750, 'min_impurity_decrease':...         0.876243   \n",
              "47  {'max_features': 600, 'min_impurity_decrease':...         0.873022   \n",
              "20  {'max_features': 750, 'min_impurity_decrease':...         0.872508   \n",
              "..                                                ...              ...   \n",
              "70  {'max_features': None, 'min_impurity_decrease'...              NaN   \n",
              "71  {'max_features': None, 'min_impurity_decrease'...              NaN   \n",
              "78  {'max_features': None, 'min_impurity_decrease'...              NaN   \n",
              "79  {'max_features': None, 'min_impurity_decrease'...              NaN   \n",
              "80  {'max_features': None, 'min_impurity_decrease'...              NaN   \n",
              "\n",
              "    std_test_score  mean_train_score  \n",
              "74        0.027854          0.978309  \n",
              "73        0.031756          0.976715  \n",
              "19        0.031497          0.977414  \n",
              "47        0.032182          0.977146  \n",
              "20        0.029745          0.977701  \n",
              "..             ...               ...  \n",
              "70             NaN               NaN  \n",
              "71             NaN               NaN  \n",
              "78             NaN               NaN  \n",
              "79             NaN               NaN  \n",
              "80             NaN               NaN  \n",
              "\n",
              "[81 rows x 4 columns]"
            ]
          },
          "execution_count": 40,
          "metadata": {},
          "output_type": "execute_result"
        }
      ],
      "source": [
        "scores = pd.DataFrame(model.cv_results_)\n",
        "scoresCV = scores[['params','mean_test_score','std_test_score','mean_train_score']].sort_values(by = 'mean_test_score', \\\n",
        "                                                    ascending = False)\n",
        "scoresCV"
      ]
    },
    {
      "cell_type": "markdown",
      "metadata": {
        "id": "0qW70oROTljU"
      },
      "source": [
        "With these parameters, we are able to get a small increase in our scores. I ran this a few times, tweaking based on the answers I got.\n",
        "\n",
        "With the estimators set higher and the minimum sample size at 5, the scores increase by about 1 point."
      ]
    },
    {
      "cell_type": "markdown",
      "metadata": {
        "id": "kDEuBByftwqZ"
      },
      "source": [
        "##Feature Selection"
      ]
    },
    {
      "cell_type": "code",
      "execution_count": null,
      "metadata": {
        "colab": {
          "background_save": true
        },
        "id": "t2-qPwXrt7hr",
        "outputId": "4796931d-0e6a-47e2-a721-6cd68c0523aa"
      },
      "outputs": [
        {
          "data": {
            "text/html": [
              "<style>#sk-container-id-1 {color: black;background-color: white;}#sk-container-id-1 pre{padding: 0;}#sk-container-id-1 div.sk-toggleable {background-color: white;}#sk-container-id-1 label.sk-toggleable__label {cursor: pointer;display: block;width: 100%;margin-bottom: 0;padding: 0.3em;box-sizing: border-box;text-align: center;}#sk-container-id-1 label.sk-toggleable__label-arrow:before {content: \"▸\";float: left;margin-right: 0.25em;color: #696969;}#sk-container-id-1 label.sk-toggleable__label-arrow:hover:before {color: black;}#sk-container-id-1 div.sk-estimator:hover label.sk-toggleable__label-arrow:before {color: black;}#sk-container-id-1 div.sk-toggleable__content {max-height: 0;max-width: 0;overflow: hidden;text-align: left;background-color: #f0f8ff;}#sk-container-id-1 div.sk-toggleable__content pre {margin: 0.2em;color: black;border-radius: 0.25em;background-color: #f0f8ff;}#sk-container-id-1 input.sk-toggleable__control:checked~div.sk-toggleable__content {max-height: 200px;max-width: 100%;overflow: auto;}#sk-container-id-1 input.sk-toggleable__control:checked~label.sk-toggleable__label-arrow:before {content: \"▾\";}#sk-container-id-1 div.sk-estimator input.sk-toggleable__control:checked~label.sk-toggleable__label {background-color: #d4ebff;}#sk-container-id-1 div.sk-label input.sk-toggleable__control:checked~label.sk-toggleable__label {background-color: #d4ebff;}#sk-container-id-1 input.sk-hidden--visually {border: 0;clip: rect(1px 1px 1px 1px);clip: rect(1px, 1px, 1px, 1px);height: 1px;margin: -1px;overflow: hidden;padding: 0;position: absolute;width: 1px;}#sk-container-id-1 div.sk-estimator {font-family: monospace;background-color: #f0f8ff;border: 1px dotted black;border-radius: 0.25em;box-sizing: border-box;margin-bottom: 0.5em;}#sk-container-id-1 div.sk-estimator:hover {background-color: #d4ebff;}#sk-container-id-1 div.sk-parallel-item::after {content: \"\";width: 100%;border-bottom: 1px solid gray;flex-grow: 1;}#sk-container-id-1 div.sk-label:hover label.sk-toggleable__label {background-color: #d4ebff;}#sk-container-id-1 div.sk-serial::before {content: \"\";position: absolute;border-left: 1px solid gray;box-sizing: border-box;top: 0;bottom: 0;left: 50%;z-index: 0;}#sk-container-id-1 div.sk-serial {display: flex;flex-direction: column;align-items: center;background-color: white;padding-right: 0.2em;padding-left: 0.2em;position: relative;}#sk-container-id-1 div.sk-item {position: relative;z-index: 1;}#sk-container-id-1 div.sk-parallel {display: flex;align-items: stretch;justify-content: center;background-color: white;position: relative;}#sk-container-id-1 div.sk-item::before, #sk-container-id-1 div.sk-parallel-item::before {content: \"\";position: absolute;border-left: 1px solid gray;box-sizing: border-box;top: 0;bottom: 0;left: 50%;z-index: -1;}#sk-container-id-1 div.sk-parallel-item {display: flex;flex-direction: column;z-index: 1;position: relative;background-color: white;}#sk-container-id-1 div.sk-parallel-item:first-child::after {align-self: flex-end;width: 50%;}#sk-container-id-1 div.sk-parallel-item:last-child::after {align-self: flex-start;width: 50%;}#sk-container-id-1 div.sk-parallel-item:only-child::after {width: 0;}#sk-container-id-1 div.sk-dashed-wrapped {border: 1px dashed gray;margin: 0 0.4em 0.5em 0.4em;box-sizing: border-box;padding-bottom: 0.4em;background-color: white;}#sk-container-id-1 div.sk-label label {font-family: monospace;font-weight: bold;display: inline-block;line-height: 1.2em;}#sk-container-id-1 div.sk-label-container {text-align: center;}#sk-container-id-1 div.sk-container {/* jupyter's `normalize.less` sets `[hidden] { display: none; }` but bootstrap.min.css set `[hidden] { display: none !important; }` so we also need the `!important` here to be able to override the default hidden behavior on the sphinx rendered scikit-learn.org. See: https://github.com/scikit-learn/scikit-learn/issues/21755 */display: inline-block !important;position: relative;}#sk-container-id-1 div.sk-text-repr-fallback {display: none;}</style><div id=\"sk-container-id-1\" class=\"sk-top-container\"><div class=\"sk-text-repr-fallback\"><pre>RandomForestRegressor(n_estimators=500)</pre><b>In a Jupyter environment, please rerun this cell to show the HTML representation or trust the notebook. <br />On GitHub, the HTML representation is unable to render, please try loading this page with nbviewer.org.</b></div><div class=\"sk-container\" hidden><div class=\"sk-item\"><div class=\"sk-estimator sk-toggleable\"><input class=\"sk-toggleable__control sk-hidden--visually\" id=\"sk-estimator-id-1\" type=\"checkbox\" checked><label for=\"sk-estimator-id-1\" class=\"sk-toggleable__label sk-toggleable__label-arrow\">RandomForestRegressor</label><div class=\"sk-toggleable__content\"><pre>RandomForestRegressor(n_estimators=500)</pre></div></div></div></div></div>"
            ],
            "text/plain": [
              "RandomForestRegressor(n_estimators=500)"
            ]
          },
          "execution_count": 41,
          "metadata": {},
          "output_type": "execute_result"
        }
      ],
      "source": [
        "model = RandomForestRegressor(n_estimators=500)\n",
        "model.fit(seld,selt)"
      ]
    },
    {
      "cell_type": "code",
      "execution_count": null,
      "metadata": {
        "colab": {
          "background_save": true
        },
        "id": "aHJeNdBCt7ht"
      },
      "outputs": [],
      "source": [
        "importances = model.feature_importances_\n",
        "indices = np.argsort(importances)[::-1]"
      ]
    },
    {
      "cell_type": "code",
      "execution_count": null,
      "metadata": {
        "colab": {
          "background_save": true
        },
        "id": "JpV-Xx6yt7hu"
      },
      "outputs": [],
      "source": [
        "sels = pd.DataFrame(scalespec)"
      ]
    },
    {
      "cell_type": "code",
      "execution_count": null,
      "metadata": {
        "colab": {
          "background_save": true
        },
        "id": "U5QY9D_Nt7hv",
        "outputId": "ad5cf394-d98b-4432-c4e3-74b88e93bac6"
      },
      "outputs": [
        {
          "data": {
            "text/html": [
              "\n",
              "  <div id=\"df-5756a2d9-3c60-4e8f-8c1a-4926011d7991\" class=\"colab-df-container\">\n",
              "    <div>\n",
              "<style scoped>\n",
              "    .dataframe tbody tr th:only-of-type {\n",
              "        vertical-align: middle;\n",
              "    }\n",
              "\n",
              "    .dataframe tbody tr th {\n",
              "        vertical-align: top;\n",
              "    }\n",
              "\n",
              "    .dataframe thead th {\n",
              "        text-align: right;\n",
              "    }\n",
              "</style>\n",
              "<table border=\"1\" class=\"dataframe\">\n",
              "  <thead>\n",
              "    <tr style=\"text-align: right;\">\n",
              "      <th></th>\n",
              "      <th>0</th>\n",
              "      <th>1</th>\n",
              "      <th>2</th>\n",
              "      <th>3</th>\n",
              "      <th>4</th>\n",
              "      <th>5</th>\n",
              "      <th>6</th>\n",
              "      <th>7</th>\n",
              "      <th>8</th>\n",
              "      <th>9</th>\n",
              "      <th>...</th>\n",
              "      <th>840</th>\n",
              "      <th>841</th>\n",
              "      <th>842</th>\n",
              "      <th>843</th>\n",
              "      <th>844</th>\n",
              "      <th>845</th>\n",
              "      <th>846</th>\n",
              "      <th>847</th>\n",
              "      <th>848</th>\n",
              "      <th>849</th>\n",
              "    </tr>\n",
              "  </thead>\n",
              "  <tbody>\n",
              "    <tr>\n",
              "      <th>0</th>\n",
              "      <td>-0.475163</td>\n",
              "      <td>-0.473604</td>\n",
              "      <td>-0.474694</td>\n",
              "      <td>-0.474607</td>\n",
              "      <td>-0.478174</td>\n",
              "      <td>-0.484576</td>\n",
              "      <td>-0.489828</td>\n",
              "      <td>-0.483696</td>\n",
              "      <td>-0.482570</td>\n",
              "      <td>-0.473944</td>\n",
              "      <td>...</td>\n",
              "      <td>-0.216716</td>\n",
              "      <td>-0.216058</td>\n",
              "      <td>-0.215663</td>\n",
              "      <td>-0.215148</td>\n",
              "      <td>-0.214719</td>\n",
              "      <td>-0.214418</td>\n",
              "      <td>-0.213754</td>\n",
              "      <td>-0.212460</td>\n",
              "      <td>-0.211325</td>\n",
              "      <td>-0.210914</td>\n",
              "    </tr>\n",
              "    <tr>\n",
              "      <th>1</th>\n",
              "      <td>-0.466753</td>\n",
              "      <td>-0.466174</td>\n",
              "      <td>-0.466116</td>\n",
              "      <td>-0.465827</td>\n",
              "      <td>-0.466203</td>\n",
              "      <td>-0.467439</td>\n",
              "      <td>-0.469383</td>\n",
              "      <td>-0.466919</td>\n",
              "      <td>-0.466717</td>\n",
              "      <td>-0.464607</td>\n",
              "      <td>...</td>\n",
              "      <td>-0.207283</td>\n",
              "      <td>-0.206764</td>\n",
              "      <td>-0.206426</td>\n",
              "      <td>-0.206016</td>\n",
              "      <td>-0.205667</td>\n",
              "      <td>-0.205403</td>\n",
              "      <td>-0.204865</td>\n",
              "      <td>-0.203846</td>\n",
              "      <td>-0.202932</td>\n",
              "      <td>-0.202563</td>\n",
              "    </tr>\n",
              "    <tr>\n",
              "      <th>2</th>\n",
              "      <td>-0.509697</td>\n",
              "      <td>-0.509465</td>\n",
              "      <td>-0.508946</td>\n",
              "      <td>-0.508517</td>\n",
              "      <td>-0.507704</td>\n",
              "      <td>-0.507107</td>\n",
              "      <td>-0.507624</td>\n",
              "      <td>-0.506658</td>\n",
              "      <td>-0.506759</td>\n",
              "      <td>-0.506964</td>\n",
              "      <td>...</td>\n",
              "      <td>-0.220173</td>\n",
              "      <td>-0.219515</td>\n",
              "      <td>-0.219131</td>\n",
              "      <td>-0.218596</td>\n",
              "      <td>-0.218146</td>\n",
              "      <td>-0.217825</td>\n",
              "      <td>-0.217147</td>\n",
              "      <td>-0.215866</td>\n",
              "      <td>-0.214743</td>\n",
              "      <td>-0.214292</td>\n",
              "    </tr>\n",
              "    <tr>\n",
              "      <th>3</th>\n",
              "      <td>-0.199200</td>\n",
              "      <td>-0.200158</td>\n",
              "      <td>-0.200824</td>\n",
              "      <td>-0.201716</td>\n",
              "      <td>-0.202028</td>\n",
              "      <td>-0.201030</td>\n",
              "      <td>-0.199198</td>\n",
              "      <td>-0.202611</td>\n",
              "      <td>-0.203482</td>\n",
              "      <td>-0.205833</td>\n",
              "      <td>...</td>\n",
              "      <td>-0.204102</td>\n",
              "      <td>-0.203689</td>\n",
              "      <td>-0.203414</td>\n",
              "      <td>-0.203096</td>\n",
              "      <td>-0.202840</td>\n",
              "      <td>-0.202666</td>\n",
              "      <td>-0.202241</td>\n",
              "      <td>-0.201360</td>\n",
              "      <td>-0.200574</td>\n",
              "      <td>-0.200342</td>\n",
              "    </tr>\n",
              "    <tr>\n",
              "      <th>4</th>\n",
              "      <td>0.190895</td>\n",
              "      <td>0.187301</td>\n",
              "      <td>0.186190</td>\n",
              "      <td>0.183713</td>\n",
              "      <td>0.185021</td>\n",
              "      <td>0.192503</td>\n",
              "      <td>0.203966</td>\n",
              "      <td>0.187959</td>\n",
              "      <td>0.185364</td>\n",
              "      <td>0.173216</td>\n",
              "      <td>...</td>\n",
              "      <td>-0.195729</td>\n",
              "      <td>-0.195372</td>\n",
              "      <td>-0.195142</td>\n",
              "      <td>-0.194908</td>\n",
              "      <td>-0.194745</td>\n",
              "      <td>-0.194675</td>\n",
              "      <td>-0.194332</td>\n",
              "      <td>-0.193512</td>\n",
              "      <td>-0.192786</td>\n",
              "      <td>-0.192713</td>\n",
              "    </tr>\n",
              "    <tr>\n",
              "      <th>...</th>\n",
              "      <td>...</td>\n",
              "      <td>...</td>\n",
              "      <td>...</td>\n",
              "      <td>...</td>\n",
              "      <td>...</td>\n",
              "      <td>...</td>\n",
              "      <td>...</td>\n",
              "      <td>...</td>\n",
              "      <td>...</td>\n",
              "      <td>...</td>\n",
              "      <td>...</td>\n",
              "      <td>...</td>\n",
              "      <td>...</td>\n",
              "      <td>...</td>\n",
              "      <td>...</td>\n",
              "      <td>...</td>\n",
              "      <td>...</td>\n",
              "      <td>...</td>\n",
              "      <td>...</td>\n",
              "      <td>...</td>\n",
              "      <td>...</td>\n",
              "    </tr>\n",
              "    <tr>\n",
              "      <th>995</th>\n",
              "      <td>-0.102020</td>\n",
              "      <td>-0.102618</td>\n",
              "      <td>-0.101422</td>\n",
              "      <td>-0.101185</td>\n",
              "      <td>-0.098264</td>\n",
              "      <td>-0.091375</td>\n",
              "      <td>-0.082330</td>\n",
              "      <td>-0.090878</td>\n",
              "      <td>-0.091024</td>\n",
              "      <td>-0.097679</td>\n",
              "      <td>...</td>\n",
              "      <td>-0.123099</td>\n",
              "      <td>-0.123181</td>\n",
              "      <td>-0.123199</td>\n",
              "      <td>-0.123214</td>\n",
              "      <td>-0.123218</td>\n",
              "      <td>-0.123188</td>\n",
              "      <td>-0.123234</td>\n",
              "      <td>-0.123344</td>\n",
              "      <td>-0.123419</td>\n",
              "      <td>-0.123363</td>\n",
              "    </tr>\n",
              "    <tr>\n",
              "      <th>996</th>\n",
              "      <td>-0.455463</td>\n",
              "      <td>-0.455163</td>\n",
              "      <td>-0.453691</td>\n",
              "      <td>-0.452757</td>\n",
              "      <td>-0.450094</td>\n",
              "      <td>-0.446363</td>\n",
              "      <td>-0.444385</td>\n",
              "      <td>-0.445013</td>\n",
              "      <td>-0.445004</td>\n",
              "      <td>-0.447863</td>\n",
              "      <td>...</td>\n",
              "      <td>-0.175921</td>\n",
              "      <td>-0.174777</td>\n",
              "      <td>-0.174330</td>\n",
              "      <td>-0.173352</td>\n",
              "      <td>-0.172533</td>\n",
              "      <td>-0.171935</td>\n",
              "      <td>-0.170856</td>\n",
              "      <td>-0.168969</td>\n",
              "      <td>-0.167390</td>\n",
              "      <td>-0.166550</td>\n",
              "    </tr>\n",
              "    <tr>\n",
              "      <th>997</th>\n",
              "      <td>0.245249</td>\n",
              "      <td>0.241062</td>\n",
              "      <td>0.240056</td>\n",
              "      <td>0.237343</td>\n",
              "      <td>0.239401</td>\n",
              "      <td>0.248944</td>\n",
              "      <td>0.263195</td>\n",
              "      <td>0.243885</td>\n",
              "      <td>0.240913</td>\n",
              "      <td>0.226047</td>\n",
              "      <td>...</td>\n",
              "      <td>-0.193422</td>\n",
              "      <td>-0.193101</td>\n",
              "      <td>-0.192893</td>\n",
              "      <td>-0.192685</td>\n",
              "      <td>-0.192545</td>\n",
              "      <td>-0.192493</td>\n",
              "      <td>-0.192186</td>\n",
              "      <td>-0.191425</td>\n",
              "      <td>-0.190752</td>\n",
              "      <td>-0.190707</td>\n",
              "    </tr>\n",
              "    <tr>\n",
              "      <th>998</th>\n",
              "      <td>-0.401726</td>\n",
              "      <td>-0.401438</td>\n",
              "      <td>-0.401175</td>\n",
              "      <td>-0.400916</td>\n",
              "      <td>-0.400631</td>\n",
              "      <td>-0.400428</td>\n",
              "      <td>-0.400701</td>\n",
              "      <td>-0.400032</td>\n",
              "      <td>-0.399996</td>\n",
              "      <td>-0.399644</td>\n",
              "      <td>...</td>\n",
              "      <td>-0.203466</td>\n",
              "      <td>-0.202917</td>\n",
              "      <td>-0.202584</td>\n",
              "      <td>-0.202147</td>\n",
              "      <td>-0.201780</td>\n",
              "      <td>-0.201512</td>\n",
              "      <td>-0.200954</td>\n",
              "      <td>-0.199887</td>\n",
              "      <td>-0.198941</td>\n",
              "      <td>-0.198569</td>\n",
              "    </tr>\n",
              "    <tr>\n",
              "      <th>999</th>\n",
              "      <td>-0.293953</td>\n",
              "      <td>-0.294014</td>\n",
              "      <td>-0.292593</td>\n",
              "      <td>-0.291903</td>\n",
              "      <td>-0.289061</td>\n",
              "      <td>-0.283611</td>\n",
              "      <td>-0.277298</td>\n",
              "      <td>-0.282476</td>\n",
              "      <td>-0.282373</td>\n",
              "      <td>-0.287031</td>\n",
              "      <td>...</td>\n",
              "      <td>-0.174098</td>\n",
              "      <td>-0.173304</td>\n",
              "      <td>-0.172943</td>\n",
              "      <td>-0.172299</td>\n",
              "      <td>-0.171767</td>\n",
              "      <td>-0.171394</td>\n",
              "      <td>-0.170641</td>\n",
              "      <td>-0.169244</td>\n",
              "      <td>-0.168055</td>\n",
              "      <td>-0.167542</td>\n",
              "    </tr>\n",
              "  </tbody>\n",
              "</table>\n",
              "<p>1000 rows × 850 columns</p>\n",
              "</div>\n",
              "    <div class=\"colab-df-buttons\">\n",
              "\n",
              "  <div class=\"colab-df-container\">\n",
              "    <button class=\"colab-df-convert\" onclick=\"convertToInteractive('df-5756a2d9-3c60-4e8f-8c1a-4926011d7991')\"\n",
              "            title=\"Convert this dataframe to an interactive table.\"\n",
              "            style=\"display:none;\">\n",
              "\n",
              "  <svg xmlns=\"http://www.w3.org/2000/svg\" height=\"24px\" viewBox=\"0 -960 960 960\">\n",
              "    <path d=\"M120-120v-720h720v720H120Zm60-500h600v-160H180v160Zm220 220h160v-160H400v160Zm0 220h160v-160H400v160ZM180-400h160v-160H180v160Zm440 0h160v-160H620v160ZM180-180h160v-160H180v160Zm440 0h160v-160H620v160Z\"/>\n",
              "  </svg>\n",
              "    </button>\n",
              "\n",
              "  <style>\n",
              "    .colab-df-container {\n",
              "      display:flex;\n",
              "      gap: 12px;\n",
              "    }\n",
              "\n",
              "    .colab-df-convert {\n",
              "      background-color: #E8F0FE;\n",
              "      border: none;\n",
              "      border-radius: 50%;\n",
              "      cursor: pointer;\n",
              "      display: none;\n",
              "      fill: #1967D2;\n",
              "      height: 32px;\n",
              "      padding: 0 0 0 0;\n",
              "      width: 32px;\n",
              "    }\n",
              "\n",
              "    .colab-df-convert:hover {\n",
              "      background-color: #E2EBFA;\n",
              "      box-shadow: 0px 1px 2px rgba(60, 64, 67, 0.3), 0px 1px 3px 1px rgba(60, 64, 67, 0.15);\n",
              "      fill: #174EA6;\n",
              "    }\n",
              "\n",
              "    .colab-df-buttons div {\n",
              "      margin-bottom: 4px;\n",
              "    }\n",
              "\n",
              "    [theme=dark] .colab-df-convert {\n",
              "      background-color: #3B4455;\n",
              "      fill: #D2E3FC;\n",
              "    }\n",
              "\n",
              "    [theme=dark] .colab-df-convert:hover {\n",
              "      background-color: #434B5C;\n",
              "      box-shadow: 0px 1px 3px 1px rgba(0, 0, 0, 0.15);\n",
              "      filter: drop-shadow(0px 1px 2px rgba(0, 0, 0, 0.3));\n",
              "      fill: #FFFFFF;\n",
              "    }\n",
              "  </style>\n",
              "\n",
              "    <script>\n",
              "      const buttonEl =\n",
              "        document.querySelector('#df-5756a2d9-3c60-4e8f-8c1a-4926011d7991 button.colab-df-convert');\n",
              "      buttonEl.style.display =\n",
              "        google.colab.kernel.accessAllowed ? 'block' : 'none';\n",
              "\n",
              "      async function convertToInteractive(key) {\n",
              "        const element = document.querySelector('#df-5756a2d9-3c60-4e8f-8c1a-4926011d7991');\n",
              "        const dataTable =\n",
              "          await google.colab.kernel.invokeFunction('convertToInteractive',\n",
              "                                                    [key], {});\n",
              "        if (!dataTable) return;\n",
              "\n",
              "        const docLinkHtml = 'Like what you see? Visit the ' +\n",
              "          '<a target=\"_blank\" href=https://colab.research.google.com/notebooks/data_table.ipynb>data table notebook</a>'\n",
              "          + ' to learn more about interactive tables.';\n",
              "        element.innerHTML = '';\n",
              "        dataTable['output_type'] = 'display_data';\n",
              "        await google.colab.output.renderOutput(dataTable, element);\n",
              "        const docLink = document.createElement('div');\n",
              "        docLink.innerHTML = docLinkHtml;\n",
              "        element.appendChild(docLink);\n",
              "      }\n",
              "    </script>\n",
              "  </div>\n",
              "\n",
              "\n",
              "<div id=\"df-ebef10c2-cb2a-48ea-98ce-4315436190d8\">\n",
              "  <button class=\"colab-df-quickchart\" onclick=\"quickchart('df-ebef10c2-cb2a-48ea-98ce-4315436190d8')\"\n",
              "            title=\"Suggest charts\"\n",
              "            style=\"display:none;\">\n",
              "\n",
              "<svg xmlns=\"http://www.w3.org/2000/svg\" height=\"24px\"viewBox=\"0 0 24 24\"\n",
              "     width=\"24px\">\n",
              "    <g>\n",
              "        <path d=\"M19 3H5c-1.1 0-2 .9-2 2v14c0 1.1.9 2 2 2h14c1.1 0 2-.9 2-2V5c0-1.1-.9-2-2-2zM9 17H7v-7h2v7zm4 0h-2V7h2v10zm4 0h-2v-4h2v4z\"/>\n",
              "    </g>\n",
              "</svg>\n",
              "  </button>\n",
              "\n",
              "<style>\n",
              "  .colab-df-quickchart {\n",
              "      --bg-color: #E8F0FE;\n",
              "      --fill-color: #1967D2;\n",
              "      --hover-bg-color: #E2EBFA;\n",
              "      --hover-fill-color: #174EA6;\n",
              "      --disabled-fill-color: #AAA;\n",
              "      --disabled-bg-color: #DDD;\n",
              "  }\n",
              "\n",
              "  [theme=dark] .colab-df-quickchart {\n",
              "      --bg-color: #3B4455;\n",
              "      --fill-color: #D2E3FC;\n",
              "      --hover-bg-color: #434B5C;\n",
              "      --hover-fill-color: #FFFFFF;\n",
              "      --disabled-bg-color: #3B4455;\n",
              "      --disabled-fill-color: #666;\n",
              "  }\n",
              "\n",
              "  .colab-df-quickchart {\n",
              "    background-color: var(--bg-color);\n",
              "    border: none;\n",
              "    border-radius: 50%;\n",
              "    cursor: pointer;\n",
              "    display: none;\n",
              "    fill: var(--fill-color);\n",
              "    height: 32px;\n",
              "    padding: 0;\n",
              "    width: 32px;\n",
              "  }\n",
              "\n",
              "  .colab-df-quickchart:hover {\n",
              "    background-color: var(--hover-bg-color);\n",
              "    box-shadow: 0 1px 2px rgba(60, 64, 67, 0.3), 0 1px 3px 1px rgba(60, 64, 67, 0.15);\n",
              "    fill: var(--button-hover-fill-color);\n",
              "  }\n",
              "\n",
              "  .colab-df-quickchart-complete:disabled,\n",
              "  .colab-df-quickchart-complete:disabled:hover {\n",
              "    background-color: var(--disabled-bg-color);\n",
              "    fill: var(--disabled-fill-color);\n",
              "    box-shadow: none;\n",
              "  }\n",
              "\n",
              "  .colab-df-spinner {\n",
              "    border: 2px solid var(--fill-color);\n",
              "    border-color: transparent;\n",
              "    border-bottom-color: var(--fill-color);\n",
              "    animation:\n",
              "      spin 1s steps(1) infinite;\n",
              "  }\n",
              "\n",
              "  @keyframes spin {\n",
              "    0% {\n",
              "      border-color: transparent;\n",
              "      border-bottom-color: var(--fill-color);\n",
              "      border-left-color: var(--fill-color);\n",
              "    }\n",
              "    20% {\n",
              "      border-color: transparent;\n",
              "      border-left-color: var(--fill-color);\n",
              "      border-top-color: var(--fill-color);\n",
              "    }\n",
              "    30% {\n",
              "      border-color: transparent;\n",
              "      border-left-color: var(--fill-color);\n",
              "      border-top-color: var(--fill-color);\n",
              "      border-right-color: var(--fill-color);\n",
              "    }\n",
              "    40% {\n",
              "      border-color: transparent;\n",
              "      border-right-color: var(--fill-color);\n",
              "      border-top-color: var(--fill-color);\n",
              "    }\n",
              "    60% {\n",
              "      border-color: transparent;\n",
              "      border-right-color: var(--fill-color);\n",
              "    }\n",
              "    80% {\n",
              "      border-color: transparent;\n",
              "      border-right-color: var(--fill-color);\n",
              "      border-bottom-color: var(--fill-color);\n",
              "    }\n",
              "    90% {\n",
              "      border-color: transparent;\n",
              "      border-bottom-color: var(--fill-color);\n",
              "    }\n",
              "  }\n",
              "</style>\n",
              "\n",
              "  <script>\n",
              "    async function quickchart(key) {\n",
              "      const quickchartButtonEl =\n",
              "        document.querySelector('#' + key + ' button');\n",
              "      quickchartButtonEl.disabled = true;  // To prevent multiple clicks.\n",
              "      quickchartButtonEl.classList.add('colab-df-spinner');\n",
              "      try {\n",
              "        const charts = await google.colab.kernel.invokeFunction(\n",
              "            'suggestCharts', [key], {});\n",
              "      } catch (error) {\n",
              "        console.error('Error during call to suggestCharts:', error);\n",
              "      }\n",
              "      quickchartButtonEl.classList.remove('colab-df-spinner');\n",
              "      quickchartButtonEl.classList.add('colab-df-quickchart-complete');\n",
              "    }\n",
              "    (() => {\n",
              "      let quickchartButtonEl =\n",
              "        document.querySelector('#df-ebef10c2-cb2a-48ea-98ce-4315436190d8 button');\n",
              "      quickchartButtonEl.style.display =\n",
              "        google.colab.kernel.accessAllowed ? 'block' : 'none';\n",
              "    })();\n",
              "  </script>\n",
              "</div>\n",
              "    </div>\n",
              "  </div>\n"
            ],
            "text/plain": [
              "          0         1         2         3         4         5         6    \\\n",
              "0   -0.475163 -0.473604 -0.474694 -0.474607 -0.478174 -0.484576 -0.489828   \n",
              "1   -0.466753 -0.466174 -0.466116 -0.465827 -0.466203 -0.467439 -0.469383   \n",
              "2   -0.509697 -0.509465 -0.508946 -0.508517 -0.507704 -0.507107 -0.507624   \n",
              "3   -0.199200 -0.200158 -0.200824 -0.201716 -0.202028 -0.201030 -0.199198   \n",
              "4    0.190895  0.187301  0.186190  0.183713  0.185021  0.192503  0.203966   \n",
              "..        ...       ...       ...       ...       ...       ...       ...   \n",
              "995 -0.102020 -0.102618 -0.101422 -0.101185 -0.098264 -0.091375 -0.082330   \n",
              "996 -0.455463 -0.455163 -0.453691 -0.452757 -0.450094 -0.446363 -0.444385   \n",
              "997  0.245249  0.241062  0.240056  0.237343  0.239401  0.248944  0.263195   \n",
              "998 -0.401726 -0.401438 -0.401175 -0.400916 -0.400631 -0.400428 -0.400701   \n",
              "999 -0.293953 -0.294014 -0.292593 -0.291903 -0.289061 -0.283611 -0.277298   \n",
              "\n",
              "          7         8         9    ...       840       841       842  \\\n",
              "0   -0.483696 -0.482570 -0.473944  ... -0.216716 -0.216058 -0.215663   \n",
              "1   -0.466919 -0.466717 -0.464607  ... -0.207283 -0.206764 -0.206426   \n",
              "2   -0.506658 -0.506759 -0.506964  ... -0.220173 -0.219515 -0.219131   \n",
              "3   -0.202611 -0.203482 -0.205833  ... -0.204102 -0.203689 -0.203414   \n",
              "4    0.187959  0.185364  0.173216  ... -0.195729 -0.195372 -0.195142   \n",
              "..        ...       ...       ...  ...       ...       ...       ...   \n",
              "995 -0.090878 -0.091024 -0.097679  ... -0.123099 -0.123181 -0.123199   \n",
              "996 -0.445013 -0.445004 -0.447863  ... -0.175921 -0.174777 -0.174330   \n",
              "997  0.243885  0.240913  0.226047  ... -0.193422 -0.193101 -0.192893   \n",
              "998 -0.400032 -0.399996 -0.399644  ... -0.203466 -0.202917 -0.202584   \n",
              "999 -0.282476 -0.282373 -0.287031  ... -0.174098 -0.173304 -0.172943   \n",
              "\n",
              "          843       844       845       846       847       848       849  \n",
              "0   -0.215148 -0.214719 -0.214418 -0.213754 -0.212460 -0.211325 -0.210914  \n",
              "1   -0.206016 -0.205667 -0.205403 -0.204865 -0.203846 -0.202932 -0.202563  \n",
              "2   -0.218596 -0.218146 -0.217825 -0.217147 -0.215866 -0.214743 -0.214292  \n",
              "3   -0.203096 -0.202840 -0.202666 -0.202241 -0.201360 -0.200574 -0.200342  \n",
              "4   -0.194908 -0.194745 -0.194675 -0.194332 -0.193512 -0.192786 -0.192713  \n",
              "..        ...       ...       ...       ...       ...       ...       ...  \n",
              "995 -0.123214 -0.123218 -0.123188 -0.123234 -0.123344 -0.123419 -0.123363  \n",
              "996 -0.173352 -0.172533 -0.171935 -0.170856 -0.168969 -0.167390 -0.166550  \n",
              "997 -0.192685 -0.192545 -0.192493 -0.192186 -0.191425 -0.190752 -0.190707  \n",
              "998 -0.202147 -0.201780 -0.201512 -0.200954 -0.199887 -0.198941 -0.198569  \n",
              "999 -0.172299 -0.171767 -0.171394 -0.170641 -0.169244 -0.168055 -0.167542  \n",
              "\n",
              "[1000 rows x 850 columns]"
            ]
          },
          "execution_count": 44,
          "metadata": {},
          "output_type": "execute_result"
        }
      ],
      "source": [
        "sels"
      ]
    },
    {
      "cell_type": "code",
      "execution_count": null,
      "metadata": {
        "colab": {
          "background_save": true
        },
        "id": "4Itvyyqht7hw",
        "outputId": "4db48874-b2fa-478d-fbef-1a7bdd6f2419"
      },
      "outputs": [
        {
          "name": "stdout",
          "output_type": "stream",
          "text": [
            "Feature ranking:\n",
            "1. feature: 760, 760 (0.626864)\n",
            "2. feature: 6, 6 (0.022781)\n",
            "3. feature: 759, 759 (0.012855)\n",
            "4. feature: 1, 1 (0.012143)\n",
            "5. feature: 5, 5 (0.010008)\n",
            "6. feature: 0, 0 (0.010003)\n",
            "7. feature: 4, 4 (0.006436)\n",
            "8. feature: 2, 2 (0.006171)\n",
            "9. feature: 3, 3 (0.006000)\n",
            "10. feature: 758, 758 (0.005056)\n",
            "11. feature: 7, 7 (0.004681)\n",
            "12. feature: 307, 307 (0.004458)\n",
            "13. feature: 761, 761 (0.004400)\n",
            "14. feature: 8, 8 (0.004153)\n",
            "15. feature: 400, 400 (0.004008)\n",
            "16. feature: 348, 348 (0.003759)\n",
            "17. feature: 445, 445 (0.003635)\n",
            "18. feature: 490, 490 (0.003537)\n",
            "19. feature: 17, 17 (0.002998)\n",
            "20. feature: 12, 12 (0.002788)\n",
            "21. feature: 554, 554 (0.002742)\n",
            "22. feature: 402, 402 (0.002578)\n",
            "23. feature: 10, 10 (0.002494)\n",
            "24. feature: 13, 13 (0.002488)\n",
            "25. feature: 467, 467 (0.002487)\n",
            "26. feature: 409, 409 (0.002464)\n",
            "27. feature: 385, 385 (0.002145)\n",
            "28. feature: 344, 344 (0.002126)\n",
            "29. feature: 381, 381 (0.002023)\n",
            "30. feature: 26, 26 (0.001839)\n",
            "31. feature: 497, 497 (0.001772)\n",
            "32. feature: 11, 11 (0.001700)\n",
            "33. feature: 25, 25 (0.001652)\n",
            "34. feature: 9, 9 (0.001640)\n",
            "35. feature: 620, 620 (0.001551)\n",
            "36. feature: 286, 286 (0.001523)\n",
            "37. feature: 16, 16 (0.001521)\n",
            "38. feature: 36, 36 (0.001512)\n",
            "39. feature: 14, 14 (0.001493)\n",
            "40. feature: 21, 21 (0.001477)\n",
            "41. feature: 305, 305 (0.001417)\n",
            "42. feature: 303, 303 (0.001398)\n",
            "43. feature: 427, 427 (0.001380)\n",
            "44. feature: 834, 834 (0.001373)\n",
            "45. feature: 37, 37 (0.001373)\n",
            "46. feature: 19, 19 (0.001343)\n",
            "47. feature: 359, 359 (0.001341)\n",
            "48. feature: 483, 483 (0.001332)\n",
            "49. feature: 23, 23 (0.001315)\n",
            "50. feature: 33, 33 (0.001289)\n",
            "51. feature: 403, 403 (0.001288)\n",
            "52. feature: 757, 757 (0.001283)\n",
            "53. feature: 20, 20 (0.001281)\n",
            "54. feature: 283, 283 (0.001265)\n",
            "55. feature: 28, 28 (0.001250)\n",
            "56. feature: 684, 684 (0.001248)\n",
            "57. feature: 15, 15 (0.001200)\n",
            "58. feature: 43, 43 (0.001151)\n",
            "59. feature: 30, 30 (0.001127)\n",
            "60. feature: 18, 18 (0.001118)\n",
            "61. feature: 24, 24 (0.001092)\n",
            "62. feature: 35, 35 (0.001074)\n",
            "63. feature: 482, 482 (0.001065)\n",
            "64. feature: 22, 22 (0.001047)\n",
            "65. feature: 456, 456 (0.001016)\n",
            "66. feature: 298, 298 (0.001011)\n",
            "67. feature: 282, 282 (0.001007)\n",
            "68. feature: 301, 301 (0.001003)\n",
            "69. feature: 350, 350 (0.000970)\n",
            "70. feature: 74, 74 (0.000937)\n",
            "71. feature: 31, 31 (0.000936)\n",
            "72. feature: 53, 53 (0.000921)\n",
            "73. feature: 50, 50 (0.000916)\n",
            "74. feature: 324, 324 (0.000896)\n",
            "75. feature: 474, 474 (0.000894)\n",
            "76. feature: 479, 479 (0.000875)\n",
            "77. feature: 55, 55 (0.000875)\n",
            "78. feature: 41, 41 (0.000865)\n",
            "79. feature: 460, 460 (0.000846)\n",
            "80. feature: 313, 313 (0.000787)\n",
            "81. feature: 306, 306 (0.000761)\n",
            "82. feature: 291, 291 (0.000758)\n",
            "83. feature: 424, 424 (0.000758)\n",
            "84. feature: 302, 302 (0.000756)\n",
            "85. feature: 452, 452 (0.000738)\n",
            "86. feature: 429, 429 (0.000727)\n",
            "87. feature: 395, 395 (0.000714)\n",
            "88. feature: 48, 48 (0.000710)\n",
            "89. feature: 459, 459 (0.000705)\n",
            "90. feature: 266, 266 (0.000691)\n",
            "91. feature: 762, 762 (0.000689)\n",
            "92. feature: 294, 294 (0.000685)\n",
            "93. feature: 27, 27 (0.000684)\n",
            "94. feature: 478, 478 (0.000678)\n",
            "95. feature: 470, 470 (0.000675)\n",
            "96. feature: 462, 462 (0.000671)\n",
            "97. feature: 284, 284 (0.000667)\n",
            "98. feature: 46, 46 (0.000663)\n",
            "99. feature: 630, 630 (0.000649)\n",
            "100. feature: 682, 682 (0.000647)\n",
            "101. feature: 54, 54 (0.000640)\n",
            "102. feature: 297, 297 (0.000630)\n",
            "103. feature: 440, 440 (0.000630)\n",
            "104. feature: 45, 45 (0.000628)\n",
            "105. feature: 435, 435 (0.000626)\n",
            "106. feature: 34, 34 (0.000626)\n",
            "107. feature: 352, 352 (0.000615)\n",
            "108. feature: 343, 343 (0.000610)\n",
            "109. feature: 418, 418 (0.000603)\n",
            "110. feature: 289, 289 (0.000597)\n",
            "111. feature: 319, 319 (0.000595)\n",
            "112. feature: 396, 396 (0.000590)\n",
            "113. feature: 397, 397 (0.000586)\n",
            "114. feature: 32, 32 (0.000573)\n",
            "115. feature: 430, 430 (0.000569)\n",
            "116. feature: 326, 326 (0.000568)\n",
            "117. feature: 362, 362 (0.000567)\n",
            "118. feature: 280, 280 (0.000564)\n",
            "119. feature: 406, 406 (0.000563)\n",
            "120. feature: 719, 719 (0.000562)\n",
            "121. feature: 323, 323 (0.000560)\n",
            "122. feature: 401, 401 (0.000559)\n",
            "123. feature: 449, 449 (0.000552)\n",
            "124. feature: 300, 300 (0.000545)\n",
            "125. feature: 408, 408 (0.000535)\n",
            "126. feature: 371, 371 (0.000534)\n",
            "127. feature: 61, 61 (0.000526)\n",
            "128. feature: 690, 690 (0.000524)\n",
            "129. feature: 448, 448 (0.000506)\n",
            "130. feature: 304, 304 (0.000491)\n",
            "131. feature: 49, 49 (0.000485)\n",
            "132. feature: 340, 340 (0.000481)\n",
            "133. feature: 463, 463 (0.000473)\n",
            "134. feature: 686, 686 (0.000472)\n",
            "135. feature: 51, 51 (0.000472)\n",
            "136. feature: 428, 428 (0.000464)\n",
            "137. feature: 425, 425 (0.000463)\n",
            "138. feature: 575, 575 (0.000460)\n",
            "139. feature: 374, 374 (0.000457)\n",
            "140. feature: 293, 293 (0.000455)\n",
            "141. feature: 47, 47 (0.000453)\n",
            "142. feature: 373, 373 (0.000451)\n",
            "143. feature: 325, 325 (0.000449)\n",
            "144. feature: 393, 393 (0.000448)\n",
            "145. feature: 299, 299 (0.000446)\n",
            "146. feature: 315, 315 (0.000446)\n",
            "147. feature: 394, 394 (0.000443)\n",
            "148. feature: 329, 329 (0.000442)\n",
            "149. feature: 287, 287 (0.000440)\n",
            "150. feature: 364, 364 (0.000438)\n",
            "151. feature: 382, 382 (0.000437)\n",
            "152. feature: 688, 688 (0.000435)\n",
            "153. feature: 57, 57 (0.000429)\n",
            "154. feature: 336, 336 (0.000426)\n",
            "155. feature: 316, 316 (0.000423)\n",
            "156. feature: 471, 471 (0.000423)\n",
            "157. feature: 29, 29 (0.000422)\n",
            "158. feature: 603, 603 (0.000421)\n",
            "159. feature: 458, 458 (0.000412)\n",
            "160. feature: 446, 446 (0.000409)\n",
            "161. feature: 42, 42 (0.000409)\n",
            "162. feature: 330, 330 (0.000409)\n",
            "163. feature: 353, 353 (0.000403)\n",
            "164. feature: 288, 288 (0.000398)\n",
            "165. feature: 387, 387 (0.000392)\n",
            "166. feature: 38, 38 (0.000392)\n",
            "167. feature: 312, 312 (0.000392)\n",
            "168. feature: 805, 805 (0.000389)\n",
            "169. feature: 426, 426 (0.000388)\n",
            "170. feature: 59, 59 (0.000387)\n",
            "171. feature: 82, 82 (0.000384)\n",
            "172. feature: 485, 485 (0.000384)\n",
            "173. feature: 726, 726 (0.000381)\n",
            "174. feature: 507, 507 (0.000379)\n",
            "175. feature: 285, 285 (0.000377)\n",
            "176. feature: 437, 437 (0.000375)\n",
            "177. feature: 351, 351 (0.000373)\n",
            "178. feature: 366, 366 (0.000372)\n",
            "179. feature: 310, 310 (0.000371)\n",
            "180. feature: 281, 281 (0.000370)\n",
            "181. feature: 475, 475 (0.000368)\n",
            "182. feature: 469, 469 (0.000368)\n",
            "183. feature: 484, 484 (0.000367)\n",
            "184. feature: 365, 365 (0.000366)\n",
            "185. feature: 60, 60 (0.000363)\n",
            "186. feature: 320, 320 (0.000361)\n",
            "187. feature: 341, 341 (0.000361)\n",
            "188. feature: 523, 523 (0.000361)\n",
            "189. feature: 309, 309 (0.000360)\n",
            "190. feature: 333, 333 (0.000360)\n",
            "191. feature: 442, 442 (0.000357)\n",
            "192. feature: 338, 338 (0.000355)\n",
            "193. feature: 263, 263 (0.000355)\n",
            "194. feature: 56, 56 (0.000354)\n",
            "195. feature: 419, 419 (0.000351)\n",
            "196. feature: 421, 421 (0.000349)\n",
            "197. feature: 295, 295 (0.000346)\n",
            "198. feature: 461, 461 (0.000345)\n",
            "199. feature: 290, 290 (0.000344)\n",
            "200. feature: 67, 67 (0.000342)\n",
            "201. feature: 363, 363 (0.000342)\n",
            "202. feature: 720, 720 (0.000340)\n",
            "203. feature: 383, 383 (0.000339)\n",
            "204. feature: 327, 327 (0.000335)\n",
            "205. feature: 103, 103 (0.000335)\n",
            "206. feature: 81, 81 (0.000332)\n",
            "207. feature: 380, 380 (0.000332)\n",
            "208. feature: 404, 404 (0.000332)\n",
            "209. feature: 498, 498 (0.000330)\n",
            "210. feature: 249, 249 (0.000330)\n",
            "211. feature: 39, 39 (0.000326)\n",
            "212. feature: 335, 335 (0.000326)\n",
            "213. feature: 90, 90 (0.000324)\n",
            "214. feature: 52, 52 (0.000322)\n",
            "215. feature: 689, 689 (0.000320)\n",
            "216. feature: 592, 592 (0.000316)\n",
            "217. feature: 368, 368 (0.000313)\n",
            "218. feature: 224, 224 (0.000313)\n",
            "219. feature: 506, 506 (0.000312)\n",
            "220. feature: 556, 556 (0.000311)\n",
            "221. feature: 228, 228 (0.000311)\n",
            "222. feature: 451, 451 (0.000309)\n",
            "223. feature: 626, 626 (0.000309)\n",
            "224. feature: 423, 423 (0.000309)\n",
            "225. feature: 723, 723 (0.000309)\n",
            "226. feature: 433, 433 (0.000307)\n",
            "227. feature: 443, 443 (0.000306)\n",
            "228. feature: 477, 477 (0.000306)\n",
            "229. feature: 314, 314 (0.000303)\n",
            "230. feature: 585, 585 (0.000302)\n",
            "231. feature: 354, 354 (0.000302)\n",
            "232. feature: 457, 457 (0.000301)\n",
            "233. feature: 321, 321 (0.000301)\n",
            "234. feature: 216, 216 (0.000298)\n",
            "235. feature: 420, 420 (0.000298)\n",
            "236. feature: 476, 476 (0.000297)\n",
            "237. feature: 355, 355 (0.000297)\n",
            "238. feature: 80, 80 (0.000293)\n",
            "239. feature: 318, 318 (0.000293)\n",
            "240. feature: 710, 710 (0.000293)\n",
            "241. feature: 370, 370 (0.000292)\n",
            "242. feature: 66, 66 (0.000291)\n",
            "243. feature: 372, 372 (0.000291)\n",
            "244. feature: 763, 763 (0.000290)\n",
            "245. feature: 737, 737 (0.000290)\n",
            "246. feature: 583, 583 (0.000289)\n",
            "247. feature: 698, 698 (0.000289)\n",
            "248. feature: 311, 311 (0.000288)\n",
            "249. feature: 334, 334 (0.000286)\n",
            "250. feature: 436, 436 (0.000284)\n",
            "251. feature: 496, 496 (0.000283)\n",
            "252. feature: 356, 356 (0.000281)\n",
            "253. feature: 413, 413 (0.000281)\n",
            "254. feature: 439, 439 (0.000281)\n",
            "255. feature: 466, 466 (0.000281)\n",
            "256. feature: 464, 464 (0.000280)\n",
            "257. feature: 96, 96 (0.000278)\n",
            "258. feature: 728, 728 (0.000278)\n",
            "259. feature: 520, 520 (0.000278)\n",
            "260. feature: 647, 647 (0.000277)\n",
            "261. feature: 590, 590 (0.000276)\n",
            "262. feature: 367, 367 (0.000274)\n",
            "263. feature: 191, 191 (0.000272)\n",
            "264. feature: 725, 725 (0.000272)\n",
            "265. feature: 417, 417 (0.000272)\n",
            "266. feature: 576, 576 (0.000271)\n",
            "267. feature: 438, 438 (0.000271)\n",
            "268. feature: 240, 240 (0.000270)\n",
            "269. feature: 580, 580 (0.000269)\n",
            "270. feature: 608, 608 (0.000268)\n",
            "271. feature: 258, 258 (0.000267)\n",
            "272. feature: 95, 95 (0.000267)\n",
            "273. feature: 292, 292 (0.000267)\n",
            "274. feature: 58, 58 (0.000266)\n",
            "275. feature: 89, 89 (0.000263)\n",
            "276. feature: 122, 122 (0.000263)\n",
            "277. feature: 455, 455 (0.000261)\n",
            "278. feature: 389, 389 (0.000261)\n",
            "279. feature: 388, 388 (0.000261)\n",
            "280. feature: 495, 495 (0.000260)\n",
            "281. feature: 349, 349 (0.000260)\n",
            "282. feature: 391, 391 (0.000259)\n",
            "283. feature: 541, 541 (0.000259)\n",
            "284. feature: 386, 386 (0.000259)\n",
            "285. feature: 724, 724 (0.000258)\n",
            "286. feature: 444, 444 (0.000258)\n",
            "287. feature: 504, 504 (0.000257)\n",
            "288. feature: 412, 412 (0.000257)\n",
            "289. feature: 632, 632 (0.000256)\n",
            "290. feature: 555, 555 (0.000254)\n",
            "291. feature: 528, 528 (0.000253)\n",
            "292. feature: 768, 768 (0.000253)\n",
            "293. feature: 540, 540 (0.000252)\n",
            "294. feature: 828, 828 (0.000252)\n",
            "295. feature: 44, 44 (0.000252)\n",
            "296. feature: 337, 337 (0.000252)\n",
            "297. feature: 713, 713 (0.000252)\n",
            "298. feature: 526, 526 (0.000251)\n",
            "299. feature: 450, 450 (0.000251)\n",
            "300. feature: 531, 531 (0.000248)\n",
            "301. feature: 481, 481 (0.000248)\n",
            "302. feature: 447, 447 (0.000248)\n",
            "303. feature: 612, 612 (0.000247)\n",
            "304. feature: 553, 553 (0.000246)\n",
            "305. feature: 787, 787 (0.000244)\n",
            "306. feature: 93, 93 (0.000242)\n",
            "307. feature: 147, 147 (0.000242)\n",
            "308. feature: 522, 522 (0.000241)\n",
            "309. feature: 652, 652 (0.000240)\n",
            "310. feature: 588, 588 (0.000238)\n",
            "311. feature: 624, 624 (0.000238)\n",
            "312. feature: 718, 718 (0.000238)\n",
            "313. feature: 414, 414 (0.000237)\n",
            "314. feature: 208, 208 (0.000237)\n",
            "315. feature: 331, 331 (0.000236)\n",
            "316. feature: 722, 722 (0.000235)\n",
            "317. feature: 691, 691 (0.000234)\n",
            "318. feature: 579, 579 (0.000234)\n",
            "319. feature: 747, 747 (0.000233)\n",
            "320. feature: 328, 328 (0.000233)\n",
            "321. feature: 85, 85 (0.000232)\n",
            "322. feature: 465, 465 (0.000232)\n",
            "323. feature: 415, 415 (0.000232)\n",
            "324. feature: 605, 605 (0.000231)\n",
            "325. feature: 317, 317 (0.000231)\n",
            "326. feature: 375, 375 (0.000230)\n",
            "327. feature: 71, 71 (0.000230)\n",
            "328. feature: 551, 551 (0.000230)\n",
            "329. feature: 378, 378 (0.000229)\n",
            "330. feature: 454, 454 (0.000229)\n",
            "331. feature: 621, 621 (0.000227)\n",
            "332. feature: 377, 377 (0.000227)\n",
            "333. feature: 190, 190 (0.000227)\n",
            "334. feature: 639, 639 (0.000226)\n",
            "335. feature: 472, 472 (0.000225)\n",
            "336. feature: 493, 493 (0.000224)\n",
            "337. feature: 441, 441 (0.000224)\n",
            "338. feature: 357, 357 (0.000224)\n",
            "339. feature: 643, 643 (0.000221)\n",
            "340. feature: 487, 487 (0.000221)\n",
            "341. feature: 756, 756 (0.000220)\n",
            "342. feature: 345, 345 (0.000220)\n",
            "343. feature: 587, 587 (0.000220)\n",
            "344. feature: 77, 77 (0.000219)\n",
            "345. feature: 730, 730 (0.000219)\n",
            "346. feature: 64, 64 (0.000218)\n",
            "347. feature: 392, 392 (0.000218)\n",
            "348. feature: 573, 573 (0.000217)\n",
            "349. feature: 629, 629 (0.000216)\n",
            "350. feature: 530, 530 (0.000216)\n",
            "351. feature: 296, 296 (0.000215)\n",
            "352. feature: 668, 668 (0.000215)\n",
            "353. feature: 640, 640 (0.000214)\n",
            "354. feature: 225, 225 (0.000214)\n",
            "355. feature: 360, 360 (0.000213)\n",
            "356. feature: 563, 563 (0.000212)\n",
            "357. feature: 627, 627 (0.000212)\n",
            "358. feature: 752, 752 (0.000212)\n",
            "359. feature: 687, 687 (0.000211)\n",
            "360. feature: 777, 777 (0.000211)\n",
            "361. feature: 405, 405 (0.000210)\n",
            "362. feature: 358, 358 (0.000210)\n",
            "363. feature: 564, 564 (0.000210)\n",
            "364. feature: 489, 489 (0.000210)\n",
            "365. feature: 376, 376 (0.000210)\n",
            "366. feature: 676, 676 (0.000210)\n",
            "367. feature: 527, 527 (0.000210)\n",
            "368. feature: 502, 502 (0.000210)\n",
            "369. feature: 422, 422 (0.000209)\n",
            "370. feature: 257, 257 (0.000207)\n",
            "371. feature: 515, 515 (0.000207)\n",
            "372. feature: 776, 776 (0.000206)\n",
            "373. feature: 784, 784 (0.000206)\n",
            "374. feature: 142, 142 (0.000205)\n",
            "375. feature: 840, 840 (0.000205)\n",
            "376. feature: 332, 332 (0.000204)\n",
            "377. feature: 247, 247 (0.000204)\n",
            "378. feature: 602, 602 (0.000204)\n",
            "379. feature: 693, 693 (0.000204)\n",
            "380. feature: 848, 848 (0.000202)\n",
            "381. feature: 511, 511 (0.000202)\n",
            "382. feature: 272, 272 (0.000202)\n",
            "383. feature: 194, 194 (0.000201)\n",
            "384. feature: 755, 755 (0.000201)\n",
            "385. feature: 635, 635 (0.000201)\n",
            "386. feature: 202, 202 (0.000201)\n",
            "387. feature: 252, 252 (0.000201)\n",
            "388. feature: 491, 491 (0.000201)\n",
            "389. feature: 655, 655 (0.000200)\n",
            "390. feature: 165, 165 (0.000199)\n",
            "391. feature: 721, 721 (0.000199)\n",
            "392. feature: 617, 617 (0.000199)\n",
            "393. feature: 245, 245 (0.000199)\n",
            "394. feature: 211, 211 (0.000198)\n",
            "395. feature: 339, 339 (0.000198)\n",
            "396. feature: 277, 277 (0.000197)\n",
            "397. feature: 390, 390 (0.000197)\n",
            "398. feature: 534, 534 (0.000197)\n",
            "399. feature: 616, 616 (0.000196)\n",
            "400. feature: 524, 524 (0.000195)\n",
            "401. feature: 104, 104 (0.000195)\n",
            "402. feature: 68, 68 (0.000195)\n",
            "403. feature: 536, 536 (0.000194)\n",
            "404. feature: 702, 702 (0.000193)\n",
            "405. feature: 499, 499 (0.000193)\n",
            "406. feature: 509, 509 (0.000193)\n",
            "407. feature: 623, 623 (0.000193)\n",
            "408. feature: 778, 778 (0.000192)\n",
            "409. feature: 91, 91 (0.000191)\n",
            "410. feature: 558, 558 (0.000191)\n",
            "411. feature: 275, 275 (0.000191)\n",
            "412. feature: 513, 513 (0.000190)\n",
            "413. feature: 346, 346 (0.000190)\n",
            "414. feature: 578, 578 (0.000188)\n",
            "415. feature: 369, 369 (0.000188)\n",
            "416. feature: 572, 572 (0.000188)\n",
            "417. feature: 182, 182 (0.000187)\n",
            "418. feature: 651, 651 (0.000187)\n",
            "419. feature: 432, 432 (0.000186)\n",
            "420. feature: 62, 62 (0.000186)\n",
            "421. feature: 566, 566 (0.000185)\n",
            "422. feature: 97, 97 (0.000185)\n",
            "423. feature: 609, 609 (0.000184)\n",
            "424. feature: 274, 274 (0.000184)\n",
            "425. feature: 586, 586 (0.000184)\n",
            "426. feature: 107, 107 (0.000183)\n",
            "427. feature: 87, 87 (0.000183)\n",
            "428. feature: 604, 604 (0.000183)\n",
            "429. feature: 63, 63 (0.000182)\n",
            "430. feature: 242, 242 (0.000182)\n",
            "431. feature: 488, 488 (0.000182)\n",
            "432. feature: 570, 570 (0.000182)\n",
            "433. feature: 641, 641 (0.000180)\n",
            "434. feature: 653, 653 (0.000179)\n",
            "435. feature: 715, 715 (0.000177)\n",
            "436. feature: 569, 569 (0.000175)\n",
            "437. feature: 571, 571 (0.000175)\n",
            "438. feature: 86, 86 (0.000175)\n",
            "439. feature: 308, 308 (0.000174)\n",
            "440. feature: 611, 611 (0.000173)\n",
            "441. feature: 846, 846 (0.000173)\n",
            "442. feature: 656, 656 (0.000173)\n",
            "443. feature: 664, 664 (0.000172)\n",
            "444. feature: 843, 843 (0.000172)\n",
            "445. feature: 407, 407 (0.000171)\n",
            "446. feature: 434, 434 (0.000171)\n",
            "447. feature: 669, 669 (0.000171)\n",
            "448. feature: 597, 597 (0.000171)\n",
            "449. feature: 384, 384 (0.000170)\n",
            "450. feature: 410, 410 (0.000169)\n",
            "451. feature: 717, 717 (0.000169)\n",
            "452. feature: 510, 510 (0.000168)\n",
            "453. feature: 800, 800 (0.000168)\n",
            "454. feature: 751, 751 (0.000167)\n",
            "455. feature: 72, 72 (0.000166)\n",
            "456. feature: 241, 241 (0.000166)\n",
            "457. feature: 815, 815 (0.000165)\n",
            "458. feature: 748, 748 (0.000165)\n",
            "459. feature: 207, 207 (0.000164)\n",
            "460. feature: 794, 794 (0.000164)\n",
            "461. feature: 278, 278 (0.000163)\n",
            "462. feature: 162, 162 (0.000162)\n",
            "463. feature: 744, 744 (0.000162)\n",
            "464. feature: 814, 814 (0.000162)\n",
            "465. feature: 711, 711 (0.000159)\n",
            "466. feature: 704, 704 (0.000159)\n",
            "467. feature: 521, 521 (0.000159)\n",
            "468. feature: 468, 468 (0.000158)\n",
            "469. feature: 574, 574 (0.000158)\n",
            "470. feature: 508, 508 (0.000157)\n",
            "471. feature: 750, 750 (0.000157)\n",
            "472. feature: 453, 453 (0.000157)\n",
            "473. feature: 660, 660 (0.000157)\n",
            "474. feature: 552, 552 (0.000155)\n",
            "475. feature: 601, 601 (0.000155)\n",
            "476. feature: 662, 662 (0.000155)\n",
            "477. feature: 712, 712 (0.000153)\n",
            "478. feature: 251, 251 (0.000153)\n",
            "479. feature: 265, 265 (0.000152)\n",
            "480. feature: 598, 598 (0.000152)\n",
            "481. feature: 745, 745 (0.000152)\n",
            "482. feature: 678, 678 (0.000152)\n",
            "483. feature: 135, 135 (0.000151)\n",
            "484. feature: 809, 809 (0.000151)\n",
            "485. feature: 40, 40 (0.000151)\n",
            "486. feature: 99, 99 (0.000151)\n",
            "487. feature: 628, 628 (0.000151)\n",
            "488. feature: 754, 754 (0.000150)\n",
            "489. feature: 696, 696 (0.000150)\n",
            "490. feature: 517, 517 (0.000150)\n",
            "491. feature: 159, 159 (0.000150)\n",
            "492. feature: 550, 550 (0.000149)\n",
            "493. feature: 827, 827 (0.000147)\n",
            "494. feature: 399, 399 (0.000147)\n",
            "495. feature: 792, 792 (0.000146)\n",
            "496. feature: 512, 512 (0.000146)\n",
            "497. feature: 634, 634 (0.000146)\n",
            "498. feature: 361, 361 (0.000146)\n",
            "499. feature: 599, 599 (0.000146)\n",
            "500. feature: 584, 584 (0.000145)\n",
            "501. feature: 568, 568 (0.000145)\n",
            "502. feature: 613, 613 (0.000145)\n",
            "503. feature: 731, 731 (0.000144)\n",
            "504. feature: 729, 729 (0.000144)\n",
            "505. feature: 782, 782 (0.000144)\n",
            "506. feature: 101, 101 (0.000144)\n",
            "507. feature: 532, 532 (0.000144)\n",
            "508. feature: 622, 622 (0.000144)\n",
            "509. feature: 685, 685 (0.000144)\n",
            "510. feature: 501, 501 (0.000143)\n",
            "511. feature: 494, 494 (0.000143)\n",
            "512. feature: 831, 831 (0.000143)\n",
            "513. feature: 156, 156 (0.000142)\n",
            "514. feature: 154, 154 (0.000142)\n",
            "515. feature: 838, 838 (0.000141)\n",
            "516. feature: 379, 379 (0.000141)\n",
            "517. feature: 199, 199 (0.000140)\n",
            "518. feature: 233, 233 (0.000140)\n",
            "519. feature: 677, 677 (0.000139)\n",
            "520. feature: 106, 106 (0.000138)\n",
            "521. feature: 841, 841 (0.000137)\n",
            "522. feature: 773, 773 (0.000137)\n",
            "523. feature: 128, 128 (0.000136)\n",
            "524. feature: 167, 167 (0.000136)\n",
            "525. feature: 577, 577 (0.000136)\n",
            "526. feature: 766, 766 (0.000136)\n",
            "527. feature: 253, 253 (0.000135)\n",
            "528. feature: 764, 764 (0.000134)\n",
            "529. feature: 69, 69 (0.000134)\n",
            "530. feature: 600, 600 (0.000133)\n",
            "531. feature: 98, 98 (0.000132)\n",
            "532. feature: 770, 770 (0.000132)\n",
            "533. feature: 636, 636 (0.000131)\n",
            "534. feature: 615, 615 (0.000131)\n",
            "535. feature: 673, 673 (0.000131)\n",
            "536. feature: 769, 769 (0.000130)\n",
            "537. feature: 826, 826 (0.000130)\n",
            "538. feature: 250, 250 (0.000130)\n",
            "539. feature: 145, 145 (0.000130)\n",
            "540. feature: 480, 480 (0.000130)\n",
            "541. feature: 342, 342 (0.000130)\n",
            "542. feature: 742, 742 (0.000129)\n",
            "543. feature: 184, 184 (0.000129)\n",
            "544. feature: 594, 594 (0.000129)\n",
            "545. feature: 793, 793 (0.000129)\n",
            "546. feature: 102, 102 (0.000129)\n",
            "547. feature: 808, 808 (0.000129)\n",
            "548. feature: 545, 545 (0.000129)\n",
            "549. feature: 625, 625 (0.000129)\n",
            "550. feature: 780, 780 (0.000128)\n",
            "551. feature: 112, 112 (0.000128)\n",
            "552. feature: 822, 822 (0.000128)\n",
            "553. feature: 681, 681 (0.000128)\n",
            "554. feature: 581, 581 (0.000127)\n",
            "555. feature: 593, 593 (0.000127)\n",
            "556. feature: 813, 813 (0.000127)\n",
            "557. feature: 849, 849 (0.000126)\n",
            "558. feature: 525, 525 (0.000126)\n",
            "559. feature: 803, 803 (0.000126)\n",
            "560. feature: 842, 842 (0.000126)\n",
            "561. feature: 832, 832 (0.000126)\n",
            "562. feature: 223, 223 (0.000126)\n",
            "563. feature: 637, 637 (0.000125)\n",
            "564. feature: 268, 268 (0.000125)\n",
            "565. feature: 607, 607 (0.000125)\n",
            "566. feature: 775, 775 (0.000124)\n",
            "567. feature: 146, 146 (0.000124)\n",
            "568. feature: 486, 486 (0.000124)\n",
            "569. feature: 246, 246 (0.000124)\n",
            "570. feature: 788, 788 (0.000123)\n",
            "571. feature: 736, 736 (0.000123)\n",
            "572. feature: 411, 411 (0.000123)\n",
            "573. feature: 741, 741 (0.000123)\n",
            "574. feature: 802, 802 (0.000122)\n",
            "575. feature: 638, 638 (0.000122)\n",
            "576. feature: 657, 657 (0.000122)\n",
            "577. feature: 134, 134 (0.000122)\n",
            "578. feature: 567, 567 (0.000122)\n",
            "579. feature: 708, 708 (0.000121)\n",
            "580. feature: 229, 229 (0.000120)\n",
            "581. feature: 546, 546 (0.000120)\n",
            "582. feature: 236, 236 (0.000119)\n",
            "583. feature: 823, 823 (0.000118)\n",
            "584. feature: 591, 591 (0.000118)\n",
            "585. feature: 213, 213 (0.000118)\n",
            "586. feature: 606, 606 (0.000117)\n",
            "587. feature: 254, 254 (0.000117)\n",
            "588. feature: 806, 806 (0.000117)\n",
            "589. feature: 538, 538 (0.000116)\n",
            "590. feature: 492, 492 (0.000116)\n",
            "591. feature: 322, 322 (0.000116)\n",
            "592. feature: 679, 679 (0.000116)\n",
            "593. feature: 149, 149 (0.000116)\n",
            "594. feature: 818, 818 (0.000115)\n",
            "595. feature: 539, 539 (0.000115)\n",
            "596. feature: 746, 746 (0.000115)\n",
            "597. feature: 753, 753 (0.000114)\n",
            "598. feature: 542, 542 (0.000114)\n",
            "599. feature: 714, 714 (0.000114)\n",
            "600. feature: 738, 738 (0.000113)\n",
            "601. feature: 650, 650 (0.000113)\n",
            "602. feature: 847, 847 (0.000113)\n",
            "603. feature: 84, 84 (0.000112)\n",
            "604. feature: 203, 203 (0.000112)\n",
            "605. feature: 786, 786 (0.000112)\n",
            "606. feature: 795, 795 (0.000112)\n",
            "607. feature: 547, 547 (0.000112)\n",
            "608. feature: 740, 740 (0.000112)\n",
            "609. feature: 824, 824 (0.000111)\n",
            "610. feature: 739, 739 (0.000111)\n",
            "611. feature: 765, 765 (0.000111)\n",
            "612. feature: 649, 649 (0.000110)\n",
            "613. feature: 595, 595 (0.000110)\n",
            "614. feature: 88, 88 (0.000110)\n",
            "615. feature: 767, 767 (0.000110)\n",
            "616. feature: 153, 153 (0.000109)\n",
            "617. feature: 817, 817 (0.000109)\n",
            "618. feature: 514, 514 (0.000109)\n",
            "619. feature: 271, 271 (0.000108)\n",
            "620. feature: 230, 230 (0.000108)\n",
            "621. feature: 654, 654 (0.000108)\n",
            "622. feature: 416, 416 (0.000108)\n",
            "623. feature: 276, 276 (0.000108)\n",
            "624. feature: 209, 209 (0.000107)\n",
            "625. feature: 503, 503 (0.000107)\n",
            "626. feature: 701, 701 (0.000106)\n",
            "627. feature: 537, 537 (0.000106)\n",
            "628. feature: 845, 845 (0.000106)\n",
            "629. feature: 133, 133 (0.000105)\n",
            "630. feature: 535, 535 (0.000105)\n",
            "631. feature: 807, 807 (0.000105)\n",
            "632. feature: 270, 270 (0.000105)\n",
            "633. feature: 670, 670 (0.000104)\n",
            "634. feature: 260, 260 (0.000104)\n",
            "635. feature: 596, 596 (0.000104)\n",
            "636. feature: 234, 234 (0.000104)\n",
            "637. feature: 544, 544 (0.000104)\n",
            "638. feature: 110, 110 (0.000104)\n",
            "639. feature: 801, 801 (0.000103)\n",
            "640. feature: 674, 674 (0.000103)\n",
            "641. feature: 661, 661 (0.000103)\n",
            "642. feature: 505, 505 (0.000103)\n",
            "643. feature: 829, 829 (0.000103)\n",
            "644. feature: 833, 833 (0.000103)\n",
            "645. feature: 256, 256 (0.000103)\n",
            "646. feature: 239, 239 (0.000103)\n",
            "647. feature: 398, 398 (0.000102)\n",
            "648. feature: 151, 151 (0.000101)\n",
            "649. feature: 217, 217 (0.000101)\n",
            "650. feature: 582, 582 (0.000101)\n",
            "651. feature: 143, 143 (0.000101)\n",
            "652. feature: 771, 771 (0.000101)\n",
            "653. feature: 618, 618 (0.000101)\n",
            "654. feature: 837, 837 (0.000100)\n",
            "655. feature: 732, 732 (0.000100)\n",
            "656. feature: 749, 749 (0.000100)\n",
            "657. feature: 816, 816 (0.000100)\n",
            "658. feature: 175, 175 (0.000099)\n",
            "659. feature: 129, 129 (0.000099)\n",
            "660. feature: 231, 231 (0.000099)\n",
            "661. feature: 610, 610 (0.000099)\n",
            "662. feature: 694, 694 (0.000099)\n",
            "663. feature: 473, 473 (0.000099)\n",
            "664. feature: 141, 141 (0.000098)\n",
            "665. feature: 140, 140 (0.000098)\n",
            "666. feature: 781, 781 (0.000097)\n",
            "667. feature: 255, 255 (0.000097)\n",
            "668. feature: 519, 519 (0.000096)\n",
            "669. feature: 819, 819 (0.000096)\n",
            "670. feature: 791, 791 (0.000096)\n",
            "671. feature: 163, 163 (0.000095)\n",
            "672. feature: 672, 672 (0.000094)\n",
            "673. feature: 431, 431 (0.000093)\n",
            "674. feature: 658, 658 (0.000093)\n",
            "675. feature: 561, 561 (0.000093)\n",
            "676. feature: 796, 796 (0.000092)\n",
            "677. feature: 529, 529 (0.000092)\n",
            "678. feature: 180, 180 (0.000092)\n",
            "679. feature: 716, 716 (0.000092)\n",
            "680. feature: 516, 516 (0.000091)\n",
            "681. feature: 619, 619 (0.000091)\n",
            "682. feature: 166, 166 (0.000091)\n",
            "683. feature: 123, 123 (0.000090)\n",
            "684. feature: 204, 204 (0.000090)\n",
            "685. feature: 812, 812 (0.000090)\n",
            "686. feature: 160, 160 (0.000090)\n",
            "687. feature: 810, 810 (0.000090)\n",
            "688. feature: 830, 830 (0.000089)\n",
            "689. feature: 279, 279 (0.000089)\n",
            "690. feature: 121, 121 (0.000088)\n",
            "691. feature: 161, 161 (0.000088)\n",
            "692. feature: 633, 633 (0.000088)\n",
            "693. feature: 206, 206 (0.000088)\n",
            "694. feature: 820, 820 (0.000088)\n",
            "695. feature: 695, 695 (0.000088)\n",
            "696. feature: 137, 137 (0.000088)\n",
            "697. feature: 836, 836 (0.000087)\n",
            "698. feature: 790, 790 (0.000087)\n",
            "699. feature: 518, 518 (0.000087)\n",
            "700. feature: 821, 821 (0.000086)\n",
            "701. feature: 680, 680 (0.000086)\n",
            "702. feature: 173, 173 (0.000086)\n",
            "703. feature: 811, 811 (0.000086)\n",
            "704. feature: 273, 273 (0.000085)\n",
            "705. feature: 127, 127 (0.000085)\n",
            "706. feature: 117, 117 (0.000085)\n",
            "707. feature: 667, 667 (0.000085)\n",
            "708. feature: 136, 136 (0.000084)\n",
            "709. feature: 178, 178 (0.000084)\n",
            "710. feature: 772, 772 (0.000084)\n",
            "711. feature: 75, 75 (0.000084)\n",
            "712. feature: 125, 125 (0.000084)\n",
            "713. feature: 644, 644 (0.000083)\n",
            "714. feature: 548, 548 (0.000083)\n",
            "715. feature: 243, 243 (0.000083)\n",
            "716. feature: 259, 259 (0.000082)\n",
            "717. feature: 683, 683 (0.000081)\n",
            "718. feature: 559, 559 (0.000081)\n",
            "719. feature: 111, 111 (0.000081)\n",
            "720. feature: 152, 152 (0.000081)\n",
            "721. feature: 645, 645 (0.000081)\n",
            "722. feature: 709, 709 (0.000080)\n",
            "723. feature: 83, 83 (0.000080)\n",
            "724. feature: 735, 735 (0.000080)\n",
            "725. feature: 589, 589 (0.000080)\n",
            "726. feature: 226, 226 (0.000079)\n",
            "727. feature: 214, 214 (0.000079)\n",
            "728. feature: 264, 264 (0.000078)\n",
            "729. feature: 779, 779 (0.000078)\n",
            "730. feature: 705, 705 (0.000078)\n",
            "731. feature: 798, 798 (0.000078)\n",
            "732. feature: 220, 220 (0.000078)\n",
            "733. feature: 70, 70 (0.000077)\n",
            "734. feature: 119, 119 (0.000077)\n",
            "735. feature: 347, 347 (0.000077)\n",
            "736. feature: 269, 269 (0.000076)\n",
            "737. feature: 126, 126 (0.000076)\n",
            "738. feature: 120, 120 (0.000076)\n",
            "739. feature: 113, 113 (0.000075)\n",
            "740. feature: 79, 79 (0.000075)\n",
            "741. feature: 201, 201 (0.000074)\n",
            "742. feature: 205, 205 (0.000074)\n",
            "743. feature: 189, 189 (0.000074)\n",
            "744. feature: 100, 100 (0.000073)\n",
            "745. feature: 186, 186 (0.000073)\n",
            "746. feature: 844, 844 (0.000072)\n",
            "747. feature: 642, 642 (0.000072)\n",
            "748. feature: 195, 195 (0.000072)\n",
            "749. feature: 267, 267 (0.000072)\n",
            "750. feature: 783, 783 (0.000071)\n",
            "751. feature: 196, 196 (0.000071)\n",
            "752. feature: 157, 157 (0.000071)\n",
            "753. feature: 262, 262 (0.000071)\n",
            "754. feature: 663, 663 (0.000071)\n",
            "755. feature: 835, 835 (0.000071)\n",
            "756. feature: 614, 614 (0.000071)\n",
            "757. feature: 543, 543 (0.000070)\n",
            "758. feature: 631, 631 (0.000070)\n",
            "759. feature: 700, 700 (0.000070)\n",
            "760. feature: 210, 210 (0.000070)\n",
            "761. feature: 138, 138 (0.000069)\n",
            "762. feature: 839, 839 (0.000069)\n",
            "763. feature: 198, 198 (0.000069)\n",
            "764. feature: 500, 500 (0.000069)\n",
            "765. feature: 221, 221 (0.000068)\n",
            "766. feature: 706, 706 (0.000068)\n",
            "767. feature: 177, 177 (0.000068)\n",
            "768. feature: 659, 659 (0.000068)\n",
            "769. feature: 785, 785 (0.000068)\n",
            "770. feature: 94, 94 (0.000068)\n",
            "771. feature: 132, 132 (0.000068)\n",
            "772. feature: 261, 261 (0.000067)\n",
            "773. feature: 549, 549 (0.000066)\n",
            "774. feature: 144, 144 (0.000066)\n",
            "775. feature: 109, 109 (0.000064)\n",
            "776. feature: 108, 108 (0.000064)\n",
            "777. feature: 237, 237 (0.000064)\n",
            "778. feature: 114, 114 (0.000064)\n",
            "779. feature: 562, 562 (0.000063)\n",
            "780. feature: 799, 799 (0.000063)\n",
            "781. feature: 212, 212 (0.000063)\n",
            "782. feature: 78, 78 (0.000063)\n",
            "783. feature: 222, 222 (0.000062)\n",
            "784. feature: 238, 238 (0.000062)\n",
            "785. feature: 65, 65 (0.000061)\n",
            "786. feature: 825, 825 (0.000061)\n",
            "787. feature: 168, 168 (0.000061)\n",
            "788. feature: 560, 560 (0.000060)\n",
            "789. feature: 150, 150 (0.000060)\n",
            "790. feature: 557, 557 (0.000060)\n",
            "791. feature: 200, 200 (0.000060)\n",
            "792. feature: 158, 158 (0.000059)\n",
            "793. feature: 148, 148 (0.000059)\n",
            "794. feature: 692, 692 (0.000058)\n",
            "795. feature: 170, 170 (0.000058)\n",
            "796. feature: 215, 215 (0.000058)\n",
            "797. feature: 743, 743 (0.000057)\n",
            "798. feature: 665, 665 (0.000057)\n",
            "799. feature: 675, 675 (0.000056)\n",
            "800. feature: 219, 219 (0.000056)\n",
            "801. feature: 671, 671 (0.000056)\n",
            "802. feature: 227, 227 (0.000055)\n",
            "803. feature: 707, 707 (0.000055)\n",
            "804. feature: 734, 734 (0.000055)\n",
            "805. feature: 92, 92 (0.000054)\n",
            "806. feature: 699, 699 (0.000054)\n",
            "807. feature: 804, 804 (0.000053)\n",
            "808. feature: 697, 697 (0.000053)\n",
            "809. feature: 533, 533 (0.000053)\n",
            "810. feature: 797, 797 (0.000053)\n",
            "811. feature: 235, 235 (0.000052)\n",
            "812. feature: 648, 648 (0.000052)\n",
            "813. feature: 139, 139 (0.000052)\n",
            "814. feature: 774, 774 (0.000051)\n",
            "815. feature: 155, 155 (0.000051)\n",
            "816. feature: 703, 703 (0.000051)\n",
            "817. feature: 172, 172 (0.000049)\n",
            "818. feature: 565, 565 (0.000049)\n",
            "819. feature: 179, 179 (0.000049)\n",
            "820. feature: 244, 244 (0.000048)\n",
            "821. feature: 218, 218 (0.000048)\n",
            "822. feature: 131, 131 (0.000048)\n",
            "823. feature: 169, 169 (0.000048)\n",
            "824. feature: 116, 116 (0.000047)\n",
            "825. feature: 171, 171 (0.000047)\n",
            "826. feature: 124, 124 (0.000046)\n",
            "827. feature: 733, 733 (0.000045)\n",
            "828. feature: 666, 666 (0.000044)\n",
            "829. feature: 187, 187 (0.000043)\n",
            "830. feature: 76, 76 (0.000043)\n",
            "831. feature: 248, 248 (0.000043)\n",
            "832. feature: 118, 118 (0.000042)\n",
            "833. feature: 789, 789 (0.000042)\n",
            "834. feature: 115, 115 (0.000040)\n",
            "835. feature: 185, 185 (0.000040)\n",
            "836. feature: 176, 176 (0.000040)\n",
            "837. feature: 73, 73 (0.000039)\n",
            "838. feature: 105, 105 (0.000039)\n",
            "839. feature: 646, 646 (0.000039)\n",
            "840. feature: 197, 197 (0.000038)\n",
            "841. feature: 183, 183 (0.000038)\n",
            "842. feature: 130, 130 (0.000037)\n",
            "843. feature: 193, 193 (0.000037)\n",
            "844. feature: 188, 188 (0.000036)\n",
            "845. feature: 232, 232 (0.000036)\n",
            "846. feature: 174, 174 (0.000033)\n",
            "847. feature: 192, 192 (0.000031)\n",
            "848. feature: 727, 727 (0.000031)\n",
            "849. feature: 181, 181 (0.000030)\n",
            "850. feature: 164, 164 (0.000029)\n"
          ]
        }
      ],
      "source": [
        "print(\"Feature ranking:\")\n",
        "for f in range(sels.shape[1]):\n",
        "    print(\"%d. feature: %s, %d (%f)\" % (f + 1, sels.columns[indices[f]], indices[f], importances[indices[f]]))"
      ]
    },
    {
      "cell_type": "markdown",
      "metadata": {
        "id": "dxxpXJpVxQPS"
      },
      "source": [
        "There isn't too much noise, and none of the features provide nothing for the model. I decided to just keep them."
      ]
    },
    {
      "cell_type": "markdown",
      "metadata": {
        "id": "IpKpDHJQo_I9"
      },
      "source": [
        "# Model for age of a galaxy"
      ]
    },
    {
      "cell_type": "markdown",
      "metadata": {
        "id": "3qRZs8CpmyrN"
      },
      "source": [
        "I suspect this one may be difficult. Based on what I know about dust, I'm thinking that I may add it as a feature if the scores need a boost.\n",
        "\n",
        "Maybe the model will be able to recognize that larger amounts of dust can impact the amount of infared light emitted by the galaxy."
      ]
    },
    {
      "cell_type": "code",
      "execution_count": null,
      "metadata": {
        "colab": {
          "background_save": true
        },
        "id": "oMSG7_DnmZnD"
      },
      "outputs": [],
      "source": [
        "model = GradientBoostingRegressor()"
      ]
    },
    {
      "cell_type": "code",
      "execution_count": null,
      "metadata": {
        "colab": {
          "background_save": true
        },
        "id": "9JHFs1C_pKJJ"
      },
      "outputs": [],
      "source": [
        "scores = cross_validate(model,scalespec,Age, cv = KFold(n_splits=5, shuffle=True, random_state=10), return_train_score=True)"
      ]
    },
    {
      "cell_type": "code",
      "execution_count": null,
      "metadata": {
        "colab": {
          "background_save": true
        },
        "id": "161303TAng3E",
        "outputId": "e08d7d74-b596-4517-a00e-2ba7579c7e53"
      },
      "outputs": [
        {
          "data": {
            "text/plain": [
              "{'fit_time': array([23.48521781, 22.97958636, 21.91340041, 23.10194468, 23.180053  ]),\n",
              " 'score_time': array([0.00217319, 0.00284123, 0.00197864, 0.0022347 , 0.00255489]),\n",
              " 'test_score': array([0.57545216, 0.49668981, 0.53288035, 0.47478409, 0.59267523]),\n",
              " 'train_score': array([0.84017538, 0.85800013, 0.85348139, 0.84982387, 0.83948998])}"
            ]
          },
          "execution_count": 48,
          "metadata": {},
          "output_type": "execute_result"
        }
      ],
      "source": [
        "scores"
      ]
    },
    {
      "cell_type": "code",
      "execution_count": null,
      "metadata": {
        "colab": {
          "background_save": true
        },
        "id": "Ap4gVGr53_Ao",
        "outputId": "5d20d353-e95f-48d2-873e-37baae3497fc"
      },
      "outputs": [
        {
          "data": {
            "text/plain": [
              "{'fit_time': array([23.48521781, 22.97958636, 21.91340041, 23.10194468, 23.180053  ]),\n",
              " 'score_time': array([0.00217319, 0.00284123, 0.00197864, 0.0022347 , 0.00255489]),\n",
              " 'test_score': array([0.57545216, 0.49668981, 0.53288035, 0.47478409, 0.59267523]),\n",
              " 'train_score': array([0.84017538, 0.85800013, 0.85348139, 0.84982387, 0.83948998])}"
            ]
          },
          "execution_count": 49,
          "metadata": {},
          "output_type": "execute_result"
        }
      ],
      "source": [
        "scores"
      ]
    },
    {
      "cell_type": "code",
      "execution_count": null,
      "metadata": {
        "colab": {
          "background_save": true
        },
        "id": "-6MuhpL0ec4N"
      },
      "outputs": [],
      "source": [
        "model = RandomForestRegressor()"
      ]
    },
    {
      "cell_type": "code",
      "execution_count": null,
      "metadata": {
        "colab": {
          "background_save": true
        },
        "id": "9zIhO86Wmr0i"
      },
      "outputs": [],
      "source": [
        "ypred = cross_val_predict(model,spectra, Age, cv = KFold(n_splits=5, shuffle=True, random_state=10))"
      ]
    },
    {
      "cell_type": "code",
      "execution_count": null,
      "metadata": {
        "colab": {
          "background_save": true
        },
        "id": "rohkLh8jpKJe",
        "outputId": "c2d900fa-3583-414c-8836-6e1166332c10"
      },
      "outputs": [
        {
          "data": {
            "text/plain": [
              "(-3.2067787217951267,\n",
              " 1.8387025531684937,\n",
              " -2.3922202548851086,\n",
              " 2.653261020078512)"
            ]
          },
          "execution_count": 52,
          "metadata": {},
          "output_type": "execute_result"
        },
        {
          "data": {
            "image/png": "[encoded data removed]",
            "text/plain": [
              "<Figure size 640x480 with 1 Axes>"
            ]
          },
          "metadata": {},
          "output_type": "display_data"
        }
      ],
      "source": [
        "plt.scatter(Age,ypred, s = 20, c = 'royalblue')\n",
        "plt.xlabel('True Age', fontsize=14)\n",
        "plt.ylabel('Predicted Age',fontsize=14)\n",
        "plt.axis('square')"
      ]
    },
    {
      "cell_type": "code",
      "execution_count": null,
      "metadata": {
        "colab": {
          "background_save": true
        },
        "id": "xedsFluJpS5L",
        "outputId": "efe6b391-4f74-4cbd-d157-b8ef70fb00fe"
      },
      "outputs": [
        {
          "data": {
            "image/png": "[encoded data removed]",
            "text/plain": [
              "<Figure size 640x480 with 1 Axes>"
            ]
          },
          "metadata": {},
          "output_type": "display_data"
        }
      ],
      "source": [
        "plt.hist(Age,bins=50,density=False,alpha=0.5, label = 'True');\n",
        "plt.hist(ypred,bins=50,density=False,alpha=0.5, color = 'g', label = 'Predicted');\n",
        "plt.legend(fontsize=14);"
      ]
    },
    {
      "cell_type": "markdown",
      "metadata": {
        "id": "MhduaEmwiw9h"
      },
      "source": [
        "The model appears to suffer from both high bias and high variance. To begin optimizing, I'll run the same grid search a few times and try to optimize the paramaters."
      ]
    },
    {
      "cell_type": "code",
      "execution_count": null,
      "metadata": {
        "colab": {
          "background_save": true
        },
        "id": "YkWrZ8Wfq7-g"
      },
      "outputs": [],
      "source": [
        "np.random.seed(20)\n",
        "sel = np.random.choice(range(len(ypred)), 500, replace = False) #sample without replacement"
      ]
    },
    {
      "cell_type": "code",
      "execution_count": null,
      "metadata": {
        "colab": {
          "background_save": true
        },
        "id": "SBKbq7Hsq7-h"
      },
      "outputs": [],
      "source": [
        "sels = spectra.loc[sel,:]\n",
        "selt = Age[sel]"
      ]
    },
    {
      "cell_type": "code",
      "execution_count": null,
      "metadata": {
        "colab": {
          "background_save": true
        },
        "id": "lEEiZ6zn-qJD"
      },
      "outputs": [],
      "source": [
        "seld = scaler.fit_transform(sels)"
      ]
    },
    {
      "cell_type": "code",
      "execution_count": null,
      "metadata": {
        "colab": {
          "background_save": true
        },
        "id": "2F0nxOU0q7-i"
      },
      "outputs": [],
      "source": [
        "littlescores = cross_validate(model,seld,selt, cv = KFold(n_splits=5, shuffle=True, random_state=10), return_train_score=True)"
      ]
    },
    {
      "cell_type": "code",
      "execution_count": null,
      "metadata": {
        "colab": {
          "background_save": true
        },
        "id": "rW_kuTFUq7-j",
        "outputId": "092bb6b4-db86-451c-931a-5877805ff9a6"
      },
      "outputs": [
        {
          "data": {
            "text/plain": [
              "(0.5272010284623612, 0.9313391194163391)"
            ]
          },
          "execution_count": 58,
          "metadata": {},
          "output_type": "execute_result"
        }
      ],
      "source": [
        "littlescores['test_score'].mean(), littlescores['train_score'].mean()"
      ]
    },
    {
      "cell_type": "code",
      "execution_count": null,
      "metadata": {
        "id": "udAERKjxsRLw"
      },
      "outputs": [],
      "source": [
        "parameters = {'min_impurity_decrease':[0.1, 0.5, 0.0], \\\n",
        "              'max_features':[750,600,None], 'n_estimators':[75,100,125], 'min_samples_split': [5,2, None]}\n",
        "nmodels = np.product([len(el) for el in parameters.values()])\n",
        "model = GridSearchCV(RandomForestRegressor(), parameters, cv = KFold(n_splits=5, shuffle=True), \\\n",
        "                     verbose = 2, n_jobs = 4, return_train_score=True)\n",
        "model.fit(seld,selt)\n",
        "\n",
        "print('Best params, best score:', \"{:.4f}\".format(model.best_score_), \\\n",
        "      model.best_params_)"
      ]
    },
    {
      "cell_type": "markdown",
      "metadata": {
        "id": "XGUsE1Z_IJ25"
      },
      "source": [
        "##Adding Dust as a feature"
      ]
    },
    {
      "cell_type": "markdown",
      "metadata": {
        "id": "Z0T0rE4N88iG"
      },
      "source": [
        "I chose to add dust and see what happens to the model because of how dust can impact the spectra.\n",
        "\n",
        "As explained earlier, dust can impact galaxies by inceasing the appearance of infared light. The light from younger galaxies is fiktered through dust and more of it appears red, much like he light from clearer, older galaxies. I figure, if the model can learn this, maybe it will be able to more accurately predict the age of the galaxies. Higher dust values means the infared light wouldn't necessarily indicate old age."
      ]
    },
    {
      "cell_type": "code",
      "execution_count": null,
      "metadata": {
        "colab": {
          "background_save": true
        },
        "id": "x0Q7Y-Vrsqpt"
      },
      "outputs": [],
      "source": [
        "dustspec = spectra.copy()"
      ]
    },
    {
      "cell_type": "code",
      "execution_count": null,
      "metadata": {
        "colab": {
          "background_save": true
        },
        "id": "-6B8EamjfC9T"
      },
      "outputs": [],
      "source": [
        "dustspec['dust'] = DAT"
      ]
    },
    {
      "cell_type": "code",
      "execution_count": null,
      "metadata": {
        "colab": {
          "background_save": true
        },
        "id": "B78HC9xatUa7"
      },
      "outputs": [],
      "source": [
        "seld = dustspec.loc[sel,:]\n",
        "selt = Age[sel]"
      ]
    },
    {
      "cell_type": "code",
      "execution_count": null,
      "metadata": {
        "colab": {
          "background_save": true
        },
        "id": "K7wx0JJGkU8g"
      },
      "outputs": [],
      "source": [
        "model = RandomForestRegressor(n_estimators=500)"
      ]
    },
    {
      "cell_type": "code",
      "execution_count": null,
      "metadata": {
        "colab": {
          "background_save": true
        },
        "id": "LM8d9xMXtYss",
        "outputId": "92bd3be0-d427-4b16-e09b-6c32cf2b305b"
      },
      "outputs": [
        {
          "ename": "ValueError",
          "evalue": "ignored",
          "output_type": "error",
          "traceback": [
            "\u001b[0;31m---------------------------------------------------------------------------\u001b[0m",
            "\u001b[0;31mValueError\u001b[0m                                Traceback (most recent call last)",
            "\u001b[0;32m<ipython-input-64-42287e87fb66>\u001b[0m in \u001b[0;36m<cell line: 1>\u001b[0;34m()\u001b[0m\n\u001b[0;32m----> 1\u001b[0;31m \u001b[0mlittlescores\u001b[0m \u001b[0;34m=\u001b[0m \u001b[0mcross_validate\u001b[0m\u001b[0;34m(\u001b[0m\u001b[0mmodel\u001b[0m\u001b[0;34m,\u001b[0m\u001b[0mseld\u001b[0m\u001b[0;34m,\u001b[0m\u001b[0mselt\u001b[0m\u001b[0;34m,\u001b[0m \u001b[0mcv\u001b[0m \u001b[0;34m=\u001b[0m \u001b[0mKFold\u001b[0m\u001b[0;34m(\u001b[0m\u001b[0mn_splits\u001b[0m\u001b[0;34m=\u001b[0m\u001b[0;36m5\u001b[0m\u001b[0;34m,\u001b[0m \u001b[0mshuffle\u001b[0m\u001b[0;34m=\u001b[0m\u001b[0;32mTrue\u001b[0m\u001b[0;34m,\u001b[0m \u001b[0mrandom_state\u001b[0m\u001b[0;34m=\u001b[0m\u001b[0;36m10\u001b[0m\u001b[0;34m)\u001b[0m\u001b[0;34m,\u001b[0m \u001b[0mreturn_train_score\u001b[0m\u001b[0;34m=\u001b[0m\u001b[0;32mTrue\u001b[0m\u001b[0;34m)\u001b[0m\u001b[0;34m\u001b[0m\u001b[0;34m\u001b[0m\u001b[0m\n\u001b[0m",
            "\u001b[0;32m/usr/local/lib/python3.10/dist-packages/sklearn/model_selection/_validation.py\u001b[0m in \u001b[0;36mcross_validate\u001b[0;34m(estimator, X, y, groups, scoring, cv, n_jobs, verbose, fit_params, pre_dispatch, return_train_score, return_estimator, error_score)\u001b[0m\n\u001b[1;32m    283\u001b[0m     )\n\u001b[1;32m    284\u001b[0m \u001b[0;34m\u001b[0m\u001b[0m\n\u001b[0;32m--> 285\u001b[0;31m     \u001b[0m_warn_or_raise_about_fit_failures\u001b[0m\u001b[0;34m(\u001b[0m\u001b[0mresults\u001b[0m\u001b[0;34m,\u001b[0m \u001b[0merror_score\u001b[0m\u001b[0;34m)\u001b[0m\u001b[0;34m\u001b[0m\u001b[0;34m\u001b[0m\u001b[0m\n\u001b[0m\u001b[1;32m    286\u001b[0m \u001b[0;34m\u001b[0m\u001b[0m\n\u001b[1;32m    287\u001b[0m     \u001b[0;31m# For callabe scoring, the return type is only know after calling. If the\u001b[0m\u001b[0;34m\u001b[0m\u001b[0;34m\u001b[0m\u001b[0m\n",
            "\u001b[0;32m/usr/local/lib/python3.10/dist-packages/sklearn/model_selection/_validation.py\u001b[0m in \u001b[0;36m_warn_or_raise_about_fit_failures\u001b[0;34m(results, error_score)\u001b[0m\n\u001b[1;32m    365\u001b[0m                 \u001b[0;34mf\"Below are more details about the failures:\\n{fit_errors_summary}\"\u001b[0m\u001b[0;34m\u001b[0m\u001b[0;34m\u001b[0m\u001b[0m\n\u001b[1;32m    366\u001b[0m             )\n\u001b[0;32m--> 367\u001b[0;31m             \u001b[0;32mraise\u001b[0m \u001b[0mValueError\u001b[0m\u001b[0;34m(\u001b[0m\u001b[0mall_fits_failed_message\u001b[0m\u001b[0;34m)\u001b[0m\u001b[0;34m\u001b[0m\u001b[0;34m\u001b[0m\u001b[0m\n\u001b[0m\u001b[1;32m    368\u001b[0m \u001b[0;34m\u001b[0m\u001b[0m\n\u001b[1;32m    369\u001b[0m         \u001b[0;32melse\u001b[0m\u001b[0;34m:\u001b[0m\u001b[0;34m\u001b[0m\u001b[0;34m\u001b[0m\u001b[0m\n",
            "\u001b[0;31mValueError\u001b[0m: \nAll the 5 fits failed.\nIt is very likely that your model is misconfigured.\nYou can try to debug the error by setting error_score='raise'.\n\nBelow are more details about the failures:\n--------------------------------------------------------------------------------\n5 fits failed with the following error:\nTraceback (most recent call last):\n  File \"/usr/local/lib/python3.10/dist-packages/sklearn/model_selection/_validation.py\", line 686, in _fit_and_score\n    estimator.fit(X_train, y_train, **fit_params)\n  File \"/usr/local/lib/python3.10/dist-packages/sklearn/ensemble/_forest.py\", line 345, in fit\n    X, y = self._validate_data(\n  File \"/usr/local/lib/python3.10/dist-packages/sklearn/base.py\", line 548, in _validate_data\n    self._check_feature_names(X, reset=reset)\n  File \"/usr/local/lib/python3.10/dist-packages/sklearn/base.py\", line 415, in _check_feature_names\n    feature_names_in = _get_feature_names(X)\n  File \"/usr/local/lib/python3.10/dist-packages/sklearn/utils/validation.py\", line 1903, in _get_feature_names\n    raise TypeError(\nTypeError: Feature names are only supported if all input features have string names, but your input has ['int', 'str'] as feature name / column name types. If you want feature names to be stored and validated, you must convert them all to strings, by using X.columns = X.columns.astype(str) for example. Otherwise you can remove feature / column names from your input data, or convert them all to a non-string data type.\n"
          ]
        }
      ],
      "source": [
        "littlescores = cross_validate(model,seld,selt, cv = KFold(n_splits=5, shuffle=True, random_state=10), return_train_score=True)"
      ]
    },
    {
      "cell_type": "code",
      "execution_count": null,
      "metadata": {
        "colab": {
          "background_save": true
        },
        "id": "PA9ASTScteVC"
      },
      "outputs": [],
      "source": [
        "littlescores['test_score'].mean(), littlescores['train_score'].mean()"
      ]
    },
    {
      "cell_type": "markdown",
      "metadata": {
        "id": "zYFii2ytVcrc"
      },
      "source": [
        "I saw a little bit of improvement when adding dust as a feature, but the model still could be better."
      ]
    },
    {
      "cell_type": "code",
      "execution_count": null,
      "metadata": {
        "colab": {
          "background_save": true
        },
        "id": "4s0aonAnHtB4"
      },
      "outputs": [],
      "source": [
        "parameters = {'min_impurity_decrease':[0.1, 0.5, 0.0], \\\n",
        "              'max_features':[750,600,None], 'n_estimators':[125,250,500]}\n",
        "nmodels = np.product([len(el) for el in parameters.values()])\n",
        "model = GridSearchCV(GradientBoostingRegressor(), parameters, cv = KFold(n_splits=5, shuffle=True), \\\n",
        "                     verbose = 2, n_jobs = 4, return_train_score=True)\n",
        "model.fit(seld,selt)\n",
        "\n",
        "print('Best params, best score:', \"{:.4f}\".format(model.best_score_), \\\n",
        "      model.best_params_)"
      ]
    },
    {
      "cell_type": "markdown",
      "metadata": {
        "id": "U2xI-eZvnxF6"
      },
      "source": [
        "It looks like the only estimator that helped in the grid search was increasing the number of estimators. Lastly, I'll try to look at the feature importance and see if that's what's causing issues."
      ]
    },
    {
      "cell_type": "code",
      "execution_count": null,
      "metadata": {
        "colab": {
          "background_save": true
        },
        "id": "I7RS3ZjGkM7x"
      },
      "outputs": [],
      "source": [
        "model = GradientBoostingRegressor(n_estimators=500)\n",
        "model.fit(seld,selt)"
      ]
    },
    {
      "cell_type": "code",
      "execution_count": null,
      "metadata": {
        "id": "pC08XqeLj6ui"
      },
      "outputs": [],
      "source": [
        "importances = model.feature_importances_\n",
        "indices = np.argsort(importances)[::-1]"
      ]
    },
    {
      "cell_type": "code",
      "execution_count": null,
      "metadata": {
        "id": "XQThcefcu6V6"
      },
      "outputs": [],
      "source": [
        "print(\"Feature ranking:\")\n",
        "for f in range(seld.shape[1]):\n",
        "    print(\"%d. feature: %s, %d (%f)\" % (f + 1, seld.columns[indices[f]], indices[f], importances[indices[f]]))"
      ]
    },
    {
      "cell_type": "markdown",
      "metadata": {
        "id": "v9Ncu3Cv_uOX"
      },
      "source": [
        "The feature importance showed that only 673 features were at all useful in predicting the age, The dust, surprisingly, was very helpful!\n",
        "\n",
        "In order to reduce the range, I tested out a few values in the following loop. I eventually settled on 550 features."
      ]
    },
    {
      "cell_type": "code",
      "execution_count": null,
      "metadata": {
        "id": "B6mTdaw0uudP"
      },
      "outputs": [],
      "source": [
        "selfeat = pd.DataFrame()\n",
        "for f in range (499):\n",
        "  selfeat[f]=(seld[f])\n",
        "selfeat['550'] = seld['dust']"
      ]
    },
    {
      "cell_type": "code",
      "execution_count": null,
      "metadata": {
        "id": "tHFNbGmVv7JP"
      },
      "outputs": [],
      "source": [
        "print(selfeat)"
      ]
    },
    {
      "cell_type": "code",
      "execution_count": null,
      "metadata": {
        "id": "KLMDGKKuwlyJ"
      },
      "outputs": [],
      "source": [
        "model = GradientBoostingRegressor(n_estimators=1000)\n",
        "scores = cross_validate(model,selfeat,selt, cv = KFold(n_splits=5, shuffle=True, random_state=10), return_train_score=True)"
      ]
    },
    {
      "cell_type": "code",
      "execution_count": null,
      "metadata": {
        "id": "CqUnt_pGw2xF"
      },
      "outputs": [],
      "source": [
        "scores"
      ]
    },
    {
      "cell_type": "code",
      "execution_count": null,
      "metadata": {
        "id": "ldsnUHCtyUHC"
      },
      "outputs": [],
      "source": [
        "scores['test_score'].mean(), scores['train_score'].mean()"
      ]
    },
    {
      "cell_type": "code",
      "execution_count": null,
      "metadata": {
        "id": "UjINveurk0V7"
      },
      "outputs": [],
      "source": [
        "ypred = cross_val_predict(model,selfeat, selt, cv = KFold(n_splits=5, shuffle=True, random_state=10))"
      ]
    },
    {
      "cell_type": "code",
      "execution_count": null,
      "metadata": {
        "id": "FVI-uvgukzbk"
      },
      "outputs": [],
      "source": [
        "plt.scatter(selt,ypred, s = 20, c = 'royalblue')\n",
        "plt.xlabel('True Age', fontsize=14)\n",
        "plt.ylabel('Predicted Age',fontsize=14)\n",
        "plt.axis('square')"
      ]
    },
    {
      "cell_type": "markdown",
      "metadata": {
        "id": "1S45pzc7-Z-4"
      },
      "source": [
        "## Using log(Age) in place of the original values"
      ]
    },
    {
      "cell_type": "code",
      "execution_count": null,
      "metadata": {
        "id": "yKicsA8n-gLk"
      },
      "outputs": [],
      "source": [
        "LAge = np.log(Age)"
      ]
    },
    {
      "cell_type": "code",
      "execution_count": null,
      "metadata": {
        "id": "lyuHC7rd-hrV"
      },
      "outputs": [],
      "source": [
        "ypred = cross_val_predict(model,spectra, LAge, cv = KFold(n_splits=5, shuffle=True, random_state=10))"
      ]
    },
    {
      "cell_type": "code",
      "execution_count": null,
      "metadata": {
        "id": "OTFrDX8T-v3U"
      },
      "outputs": [],
      "source": [
        "np.random.seed(20)\n",
        "sel = np.random.choice(range(len(ypred)), 500, replace = False) #sample without replacement"
      ]
    },
    {
      "cell_type": "code",
      "execution_count": null,
      "metadata": {
        "id": "kmcnYGJj-4gn"
      },
      "outputs": [],
      "source": [
        "sels = dustspec.loc[sel,:]\n",
        "selt = LAge[sel]"
      ]
    },
    {
      "cell_type": "code",
      "execution_count": null,
      "metadata": {
        "id": "lHdvmI-lASUt"
      },
      "outputs": [],
      "source": [
        "sels"
      ]
    },
    {
      "cell_type": "code",
      "execution_count": null,
      "metadata": {
        "id": "Nk5Hz1oN_LtU"
      },
      "outputs": [],
      "source": [
        "sels.columns = sels.columns.astype(str)\n",
        "seld = scaler.fit_transform(sels)"
      ]
    },
    {
      "cell_type": "code",
      "execution_count": null,
      "metadata": {
        "id": "MITfIJJo_Py0"
      },
      "outputs": [],
      "source": [
        "littlescores = cross_validate(model,seld,selt, cv = KFold(n_splits=5, shuffle=True, random_state=10), return_train_score=True)"
      ]
    },
    {
      "cell_type": "code",
      "execution_count": null,
      "metadata": {
        "id": "JFF41bHc_Q0x"
      },
      "outputs": [],
      "source": [
        "littlescores['test_score'].mean(), littlescores['train_score'].mean()"
      ]
    },
    {
      "cell_type": "code",
      "execution_count": null,
      "metadata": {
        "id": "Q73Q0YipBOM0"
      },
      "outputs": [],
      "source": [
        "model = GradientBoostingRegressor(n_estimators=1000)\n",
        "scores = cross_validate(model,selfeat,selt, cv = KFold(n_splits=5, shuffle=True, random_state=10), return_train_score=True)"
      ]
    },
    {
      "cell_type": "code",
      "execution_count": null,
      "metadata": {
        "id": "XMFFq9zC4lHx"
      },
      "outputs": [],
      "source": [
        "TAU.describe()"
      ]
    },
    {
      "cell_type": "code",
      "execution_count": null,
      "metadata": {
        "id": "IAmGLbyYNsjl"
      },
      "outputs": [],
      "source": [
        "model = GradientBoostingRegressor()"
      ]
    },
    {
      "cell_type": "code",
      "execution_count": null,
      "metadata": {
        "id": "mojX-JszMEo5"
      },
      "outputs": [],
      "source": [
        "scores = cross_validate(model,scalespec,TAU, cv = KFold(n_splits=5, shuffle=True, random_state=10), return_train_score=True)"
      ]
    },
    {
      "cell_type": "code",
      "execution_count": null,
      "metadata": {
        "id": "uVi89cr2MEo5"
      },
      "outputs": [],
      "source": [
        "scores"
      ]
    },
    {
      "cell_type": "code",
      "execution_count": null,
      "metadata": {
        "id": "Q64GekWaNAuQ"
      },
      "outputs": [],
      "source": [
        "scores['test_score'].mean(), scores['train_score'].mean()"
      ]
    },
    {
      "cell_type": "code",
      "execution_count": null,
      "metadata": {
        "id": "Ohu6jqZJMEo7"
      },
      "outputs": [],
      "source": [
        "ypred = cross_val_predict(model,scalespec, Age, cv = KFold(n_splits=5, shuffle=True, random_state=10))"
      ]
    },
    {
      "cell_type": "code",
      "execution_count": null,
      "metadata": {
        "id": "eCG0zx7EMEo7"
      },
      "outputs": [],
      "source": [
        "plt.scatter(TAU,ypred, s = 20, c = 'royalblue')\n",
        "plt.xlabel('True TAU', fontsize=14)\n",
        "plt.ylabel('Predicted TAU',fontsize=14)\n",
        "plt.axis('square')"
      ]
    },
    {
      "cell_type": "code",
      "execution_count": null,
      "metadata": {
        "id": "ZFYV9VVzMEo8"
      },
      "outputs": [],
      "source": [
        "plt.hist(TAU,bins=50,density=False,alpha=0.5, label = 'True');\n",
        "plt.hist(ypred,bins=50,density=False,alpha=0.5, color = 'g', label = 'Predicted');\n",
        "plt.legend(fontsize=14);"
      ]
    },
    {
      "cell_type": "code",
      "execution_count": null,
      "metadata": {
        "id": "8guYH4ePI7Ni"
      },
      "outputs": [],
      "source": [
        "from sklearn.model_selection import learning_curve"
      ]
    },
    {
      "cell_type": "code",
      "execution_count": null,
      "metadata": {
        "id": "gfVamPLnISM7"
      },
      "outputs": [],
      "source": [
        "plot_learning_curve(model, 'Generalized Learning Curves', scalespec, TAU, train_sizes = np.array([0.05,0.1,0.2,0.5,1.0]), cv = KFold(n_splits=5, shuffle=True))"
      ]
    },
    {
      "cell_type": "markdown",
      "metadata": {
        "id": "w0pK1XON5ocd"
      },
      "source": [
        "##Little Test"
      ]
    },
    {
      "cell_type": "code",
      "execution_count": null,
      "metadata": {
        "id": "2o5kmDqOBl43"
      },
      "outputs": [],
      "source": [
        "sels = spectra.loc[sel,:]\n",
        "selt = TAU[sel]"
      ]
    },
    {
      "cell_type": "code",
      "execution_count": null,
      "metadata": {
        "id": "H0UGpuDgBl45"
      },
      "outputs": [],
      "source": [
        "seld = scaler.fit_transform(sels)"
      ]
    },
    {
      "cell_type": "code",
      "execution_count": null,
      "metadata": {
        "id": "okIReL2rBuq1"
      },
      "outputs": [],
      "source": [
        "model = GradientBoostingRegressor()"
      ]
    },
    {
      "cell_type": "code",
      "execution_count": null,
      "metadata": {
        "id": "MakI7OW65qZI"
      },
      "outputs": [],
      "source": [
        "littlescores = cross_validate(model,sels,selt, cv = KFold(n_splits=5, shuffle=True, random_state=10), return_train_score=True)"
      ]
    },
    {
      "cell_type": "code",
      "execution_count": null,
      "metadata": {
        "id": "JQ6bWgZ3CGhK"
      },
      "outputs": [],
      "source": [
        "littlescores['test_score'].mean(), littlescores['train_score'].mean()"
      ]
    },
    {
      "cell_type": "markdown",
      "metadata": {
        "id": "Gm0TQI1oCVqX"
      },
      "source": [
        "The test scores on a smaller set are significantly worse, which makes me think that this model might require more data than the others.\n",
        "\n",
        "In any case, I'll try a few things to get the scores up."
      ]
    },
    {
      "cell_type": "markdown",
      "metadata": {
        "id": "zkUBf4H1OniW"
      },
      "source": [
        "##Ridge Regression for TAU"
      ]
    },
    {
      "cell_type": "code",
      "execution_count": null,
      "metadata": {
        "id": "t5WtsxVqO71y"
      },
      "outputs": [],
      "source": [
        "from sklearn.linear_model import Ridge, Lasso, RidgeCV"
      ]
    },
    {
      "cell_type": "code",
      "execution_count": null,
      "metadata": {
        "id": "osrCP6bEO0xQ"
      },
      "outputs": [],
      "source": [
        "MSE = []\n",
        "\n",
        "for alpha in np.logspace(-5,3,9):\n",
        "\n",
        "    #model_reg = Ridge(alpha = alpha, normalize = True)\n",
        "    model_reg = make_pipeline(StandardScaler(with_mean=False), Ridge(alpha=alpha))\n",
        "\n",
        "    scores = cross_validate(model_reg, scalespec, TAU, cv = KFold(n_splits=10, shuffle=True, random_state = 1), scoring = 'neg_mean_squared_error')\n",
        "\n",
        "    print(alpha, (-np.mean(scores['test_score'])))\n",
        "\n",
        "    MSE.append(-np.mean(scores['test_score']))\n",
        "\n",
        "print('Best alpha:', np.logspace(-5,3,9)[np.argmin(MSE)])"
      ]
    },
    {
      "cell_type": "code",
      "execution_count": null,
      "metadata": {
        "id": "e7weCEv7FwX5"
      },
      "outputs": [],
      "source": [
        "model = Ridge(alpha = 1e-7, normalize = True)\n",
        "\n",
        "model.fit(scalespec,TAU)\n",
        "\n",
        "coef_no_reg =  np.hstack([model.coef_, model.intercept_])\n",
        "\n",
        "print(coef_no_reg)"
      ]
    },
    {
      "cell_type": "code",
      "execution_count": null,
      "metadata": {
        "id": "H0F0yhAaFGJC"
      },
      "outputs": [],
      "source": [
        "L1000 = Ridge(alpha = 10, max_iter = 1000000, tol = 0.005, normalize=True)\n",
        "\n",
        "L1000.fit(scalespec, TAU)\n",
        "\n",
        "coef_L1000 =  np.hstack([L1000.coef_, L1000.intercept_])"
      ]
    },
    {
      "cell_type": "code",
      "execution_count": null,
      "metadata": {
        "id": "cDRG2NUgFhkX"
      },
      "outputs": [],
      "source": [
        "coef_L1000"
      ]
    },
    {
      "cell_type": "code",
      "execution_count": null,
      "metadata": {
        "id": "BMPq1zNcGqfN"
      },
      "outputs": [],
      "source": [
        "model = SVC(C=10)"
      ]
    },
    {
      "cell_type": "code",
      "execution_count": null,
      "metadata": {
        "id": "0IGnFXCLHX59"
      },
      "outputs": [],
      "source": [
        "scores = cross_validate(model,scalespec,TAU, cv = KFold(n_splits=5, shuffle=True, random_state=10), return_train_score=True)"
      ]
    },
    {
      "cell_type": "code",
      "execution_count": null,
      "metadata": {
        "id": "kvBgQFZFHbQ9"
      },
      "outputs": [],
      "source": [
        "scores"
      ]
    },
    {
      "cell_type": "markdown",
      "metadata": {
        "id": "cvCiQaYuKjBC"
      },
      "source": [
        "##Feature Selection"
      ]
    },
    {
      "cell_type": "code",
      "execution_count": null,
      "metadata": {
        "id": "y87JY3C3LJKQ"
      },
      "outputs": [],
      "source": [
        "model = GradientBoostingRegressor(n_estimators=500)\n",
        "model.fit(scalespec, TAU)"
      ]
    },
    {
      "cell_type": "code",
      "execution_count": null,
      "metadata": {
        "id": "dUoPp9ORLJKS"
      },
      "outputs": [],
      "source": [
        "importances = model.feature_importances_\n",
        "indices = np.argsort(importances)[::-1]"
      ]
    },
    {
      "cell_type": "code",
      "execution_count": null,
      "metadata": {
        "id": "yM9imlzp5ibM"
      },
      "outputs": [],
      "source": [
        "indices"
      ]
    },
    {
      "cell_type": "code",
      "execution_count": null,
      "metadata": {
        "id": "okWpv4q-OJ-p"
      },
      "outputs": [],
      "source": [
        "sels = pd.DataFrame(scalespec)"
      ]
    },
    {
      "cell_type": "code",
      "execution_count": null,
      "metadata": {
        "id": "qEFIBPOvLJKT"
      },
      "outputs": [],
      "source": [
        "print(\"Feature ranking:\")\n",
        "for f in range(sels.shape[1]):\n",
        "    print(\"%d. feature: %s, %d (%f)\" % (f + 1, sels.columns[indices[f]], indices[f], importances[indices[f]]))"
      ]
    },
    {
      "cell_type": "markdown",
      "metadata": {
        "id": "hoj3tBv_OzoZ"
      },
      "source": [
        "657\n"
      ]
    },
    {
      "cell_type": "code",
      "execution_count": null,
      "metadata": {
        "id": "2XK3jBM2QGyI"
      },
      "outputs": [],
      "source": [
        "scalespecdf = pd.DataFrame(scalespec)"
      ]
    },
    {
      "cell_type": "code",
      "execution_count": null,
      "metadata": {
        "id": "MdPxj94Q3jy5"
      },
      "outputs": [],
      "source": [
        "num"
      ]
    },
    {
      "cell_type": "code",
      "execution_count": null,
      "metadata": {
        "id": "0W4n_Tob508J"
      },
      "outputs": [],
      "source": [
        "indices[5]"
      ]
    },
    {
      "cell_type": "code",
      "execution_count": null,
      "metadata": {
        "id": "ELCDzKQoLJKT"
      },
      "outputs": [],
      "source": [
        "selfeat = pd.DataFrame()\n",
        "for f in range (550):\n",
        "  targ = indices[f]\n",
        "  selfeat[f]=(scalespecdf[targ])"
      ]
    },
    {
      "cell_type": "code",
      "execution_count": null,
      "metadata": {
        "id": "pRNKYiSxLJKU"
      },
      "outputs": [],
      "source": [
        "print(selfeat)"
      ]
    },
    {
      "cell_type": "code",
      "execution_count": null,
      "metadata": {
        "id": "nwO8RHhpOvTq"
      },
      "outputs": [],
      "source": [
        "model = GradientBoostingRegressor(n_estimators=1000)\n",
        "scores = cross_validate(model,selfeat,TAU, cv = KFold(n_splits=5, shuffle=True, random_state=10), return_train_score=True)"
      ]
    },
    {
      "cell_type": "code",
      "execution_count": null,
      "metadata": {
        "id": "Bw2qlMZqOvTq"
      },
      "outputs": [],
      "source": [
        "scores"
      ]
    },
    {
      "cell_type": "code",
      "execution_count": null,
      "metadata": {
        "id": "LUHAvnWAOvTq"
      },
      "outputs": [],
      "source": [
        "scores['test_score'].mean(), scores['train_score'].mean()"
      ]
    },
    {
      "cell_type": "markdown",
      "metadata": {
        "id": "FclIgwCOB86b"
      },
      "source": [
        "Better train scores, worse test scores. Higher variance."
      ]
    },
    {
      "cell_type": "markdown",
      "metadata": {
        "id": "bGF_CXawSOZP"
      },
      "source": [
        "##Adding Features"
      ]
    },
    {
      "cell_type": "code",
      "execution_count": null,
      "metadata": {
        "id": "zT2k6RaohyQ5"
      },
      "outputs": [],
      "source": [
        "tauspec = scalespecdf.copy()"
      ]
    },
    {
      "cell_type": "code",
      "execution_count": null,
      "metadata": {
        "id": "WEeeA09OhyRE"
      },
      "outputs": [],
      "source": [
        "tauspec['dust'] = DAT\n",
        "tauspec['age'] = Age"
      ]
    },
    {
      "cell_type": "code",
      "execution_count": null,
      "metadata": {
        "id": "qOeChplMhyRF"
      },
      "outputs": [],
      "source": [
        "scaletau = scaler.fit_transform(tauspec)"
      ]
    },
    {
      "cell_type": "code",
      "execution_count": null,
      "metadata": {
        "id": "QxF1eWkfjh-Y"
      },
      "outputs": [],
      "source": [
        "scores = cross_validate(model,tauspec,TAU, cv = KFold(n_splits=5, shuffle=True, random_state=10), return_train_score=True)"
      ]
    },
    {
      "cell_type": "code",
      "execution_count": null,
      "metadata": {
        "id": "WqbHbddOoRdy"
      },
      "outputs": [],
      "source": [
        "scores"
      ]
    },
    {
      "cell_type": "code",
      "execution_count": null,
      "metadata": {
        "id": "oj0NmaSXsNk0"
      },
      "outputs": [],
      "source": [
        "scores['test_score'].mean(), scores['train_score'].mean("
      ]
    },
    {
      "cell_type": "markdown",
      "metadata": {
        "id": "zgiy5Me5lvU2"
      },
      "source": [
        "#Sources Used"
      ]
    },
    {
      "cell_type": "markdown",
      "metadata": {
        "id": "6j46F46TlypW"
      },
      "source": [
        "Dimensionality Reduction - https://stackabuse.com/dimensionality-reduction-in-python-with-scikit-learn/"
      ]
    }
  ],
  "metadata": {
    "colab": {
      "collapsed_sections": [
        "p8ZXgF9JW706",
        "WlUZnYGiW-S5",
        "lNn8z_DSmk9_",
        "g25FYfIpkcR-",
        "IpKpDHJQo_I9",
        "w0pK1XON5ocd",
        "zkUBf4H1OniW",
        "bGF_CXawSOZP"
      ],
      "provenance": []
    },
    "kernelspec": {
      "display_name": "Python 3",
      "name": "python3"
    },
    "language_info": {
      "name": "python"
    }
  },
  "nbformat": 4,
  "nbformat_minor": 0
}