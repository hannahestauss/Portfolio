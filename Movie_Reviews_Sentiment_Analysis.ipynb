{
  "nbformat": 4,
  "nbformat_minor": 0,
  "metadata": {
    "colab": {
      "provenance": []
    },
    "kernelspec": {
      "name": "python3",
      "display_name": "Python 3"
    },
    "language_info": {
      "name": "python"
    }
  },
  "cells": [
    {
      "cell_type": "markdown",
      "source": [
        "In this exploratory notebook, I explore both Naive Bayesian and Logistic Regression models and their performance on different tokens. The dataset was so large that, rather than using a built-in cross validation function, I split the dataset manually so the notebook could run without crashing. "
      ],
      "metadata": {
        "id": "oe_8juf1SxAf"
      }
    },
    {
      "cell_type": "markdown",
      "source": [
        "# Raw Counts\n"
      ],
      "metadata": {
        "id": "RY4zxJyZGaFE"
      }
    },
    {
      "cell_type": "code",
      "execution_count": 1,
      "metadata": {
        "colab": {
          "base_uri": "https://localhost:8080/"
        },
        "id": "gl2ciRpeASGj",
        "outputId": "08e2e207-e4a3-469a-fdcc-96f08dd39a6d"
      },
      "outputs": [
        {
          "output_type": "stream",
          "name": "stdout",
          "text": [
            "/usr/lib/python3.7/runpy.py:125: RuntimeWarning: 'nltk.downloader' found in sys.modules after import of package 'nltk', but prior to execution of 'nltk.downloader'; this may result in unpredictable behaviour\n",
            "  warn(RuntimeWarning(msg))\n",
            "[nltk_data] Downloading collection 'all'\n",
            "[nltk_data]    | \n",
            "[nltk_data]    | Downloading package abc to /root/nltk_data...\n",
            "[nltk_data]    |   Unzipping corpora/abc.zip.\n",
            "[nltk_data]    | Downloading package alpino to /root/nltk_data...\n",
            "[nltk_data]    |   Unzipping corpora/alpino.zip.\n",
            "[nltk_data]    | Downloading package averaged_perceptron_tagger to\n",
            "[nltk_data]    |     /root/nltk_data...\n",
            "[nltk_data]    |   Unzipping taggers/averaged_perceptron_tagger.zip.\n",
            "[nltk_data]    | Downloading package averaged_perceptron_tagger_ru to\n",
            "[nltk_data]    |     /root/nltk_data...\n",
            "[nltk_data]    |   Unzipping\n",
            "[nltk_data]    |       taggers/averaged_perceptron_tagger_ru.zip.\n",
            "[nltk_data]    | Downloading package basque_grammars to\n",
            "[nltk_data]    |     /root/nltk_data...\n",
            "[nltk_data]    |   Unzipping grammars/basque_grammars.zip.\n",
            "[nltk_data]    | Downloading package biocreative_ppi to\n",
            "[nltk_data]    |     /root/nltk_data...\n",
            "[nltk_data]    |   Unzipping corpora/biocreative_ppi.zip.\n",
            "[nltk_data]    | Downloading package bllip_wsj_no_aux to\n",
            "[nltk_data]    |     /root/nltk_data...\n",
            "[nltk_data]    |   Unzipping models/bllip_wsj_no_aux.zip.\n",
            "[nltk_data]    | Downloading package book_grammars to\n",
            "[nltk_data]    |     /root/nltk_data...\n",
            "[nltk_data]    |   Unzipping grammars/book_grammars.zip.\n",
            "[nltk_data]    | Downloading package brown to /root/nltk_data...\n",
            "[nltk_data]    |   Unzipping corpora/brown.zip.\n",
            "[nltk_data]    | Downloading package brown_tei to /root/nltk_data...\n",
            "[nltk_data]    |   Unzipping corpora/brown_tei.zip.\n",
            "[nltk_data]    | Downloading package cess_cat to /root/nltk_data...\n",
            "[nltk_data]    |   Unzipping corpora/cess_cat.zip.\n",
            "[nltk_data]    | Downloading package cess_esp to /root/nltk_data...\n",
            "[nltk_data]    |   Unzipping corpora/cess_esp.zip.\n",
            "[nltk_data]    | Downloading package chat80 to /root/nltk_data...\n",
            "[nltk_data]    |   Unzipping corpora/chat80.zip.\n",
            "[nltk_data]    | Downloading package city_database to\n",
            "[nltk_data]    |     /root/nltk_data...\n",
            "[nltk_data]    |   Unzipping corpora/city_database.zip.\n",
            "[nltk_data]    | Downloading package cmudict to /root/nltk_data...\n",
            "[nltk_data]    |   Unzipping corpora/cmudict.zip.\n",
            "[nltk_data]    | Downloading package comparative_sentences to\n",
            "[nltk_data]    |     /root/nltk_data...\n",
            "[nltk_data]    |   Unzipping corpora/comparative_sentences.zip.\n",
            "[nltk_data]    | Downloading package comtrans to /root/nltk_data...\n",
            "[nltk_data]    | Downloading package conll2000 to /root/nltk_data...\n",
            "[nltk_data]    |   Unzipping corpora/conll2000.zip.\n",
            "[nltk_data]    | Downloading package conll2002 to /root/nltk_data...\n",
            "[nltk_data]    |   Unzipping corpora/conll2002.zip.\n",
            "[nltk_data]    | Downloading package conll2007 to /root/nltk_data...\n",
            "[nltk_data]    | Downloading package crubadan to /root/nltk_data...\n",
            "[nltk_data]    |   Unzipping corpora/crubadan.zip.\n",
            "[nltk_data]    | Downloading package dependency_treebank to\n",
            "[nltk_data]    |     /root/nltk_data...\n",
            "[nltk_data]    |   Unzipping corpora/dependency_treebank.zip.\n",
            "[nltk_data]    | Downloading package dolch to /root/nltk_data...\n",
            "[nltk_data]    |   Unzipping corpora/dolch.zip.\n",
            "[nltk_data]    | Downloading package europarl_raw to\n",
            "[nltk_data]    |     /root/nltk_data...\n",
            "[nltk_data]    |   Unzipping corpora/europarl_raw.zip.\n",
            "[nltk_data]    | Downloading package extended_omw to\n",
            "[nltk_data]    |     /root/nltk_data...\n",
            "[nltk_data]    | Downloading package floresta to /root/nltk_data...\n",
            "[nltk_data]    |   Unzipping corpora/floresta.zip.\n",
            "[nltk_data]    | Downloading package framenet_v15 to\n",
            "[nltk_data]    |     /root/nltk_data...\n",
            "[nltk_data]    |   Unzipping corpora/framenet_v15.zip.\n",
            "[nltk_data]    | Downloading package framenet_v17 to\n",
            "[nltk_data]    |     /root/nltk_data...\n",
            "[nltk_data]    |   Unzipping corpora/framenet_v17.zip.\n",
            "[nltk_data]    | Downloading package gazetteers to /root/nltk_data...\n",
            "[nltk_data]    |   Unzipping corpora/gazetteers.zip.\n",
            "[nltk_data]    | Downloading package genesis to /root/nltk_data...\n",
            "[nltk_data]    |   Unzipping corpora/genesis.zip.\n",
            "[nltk_data]    | Downloading package gutenberg to /root/nltk_data...\n",
            "[nltk_data]    |   Unzipping corpora/gutenberg.zip.\n",
            "[nltk_data]    | Downloading package ieer to /root/nltk_data...\n",
            "[nltk_data]    |   Unzipping corpora/ieer.zip.\n",
            "[nltk_data]    | Downloading package inaugural to /root/nltk_data...\n",
            "[nltk_data]    |   Unzipping corpora/inaugural.zip.\n",
            "[nltk_data]    | Downloading package indian to /root/nltk_data...\n",
            "[nltk_data]    |   Unzipping corpora/indian.zip.\n",
            "[nltk_data]    | Downloading package jeita to /root/nltk_data...\n",
            "[nltk_data]    | Downloading package kimmo to /root/nltk_data...\n",
            "[nltk_data]    |   Unzipping corpora/kimmo.zip.\n",
            "[nltk_data]    | Downloading package knbc to /root/nltk_data...\n",
            "[nltk_data]    | Downloading package large_grammars to\n",
            "[nltk_data]    |     /root/nltk_data...\n",
            "[nltk_data]    |   Unzipping grammars/large_grammars.zip.\n",
            "[nltk_data]    | Downloading package lin_thesaurus to\n",
            "[nltk_data]    |     /root/nltk_data...\n",
            "[nltk_data]    |   Unzipping corpora/lin_thesaurus.zip.\n",
            "[nltk_data]    | Downloading package mac_morpho to /root/nltk_data...\n",
            "[nltk_data]    |   Unzipping corpora/mac_morpho.zip.\n",
            "[nltk_data]    | Downloading package machado to /root/nltk_data...\n",
            "[nltk_data]    | Downloading package masc_tagged to /root/nltk_data...\n",
            "[nltk_data]    | Downloading package maxent_ne_chunker to\n",
            "[nltk_data]    |     /root/nltk_data...\n",
            "[nltk_data]    |   Unzipping chunkers/maxent_ne_chunker.zip.\n",
            "[nltk_data]    | Downloading package maxent_treebank_pos_tagger to\n",
            "[nltk_data]    |     /root/nltk_data...\n",
            "[nltk_data]    |   Unzipping taggers/maxent_treebank_pos_tagger.zip.\n",
            "[nltk_data]    | Downloading package moses_sample to\n",
            "[nltk_data]    |     /root/nltk_data...\n",
            "[nltk_data]    |   Unzipping models/moses_sample.zip.\n",
            "[nltk_data]    | Downloading package movie_reviews to\n",
            "[nltk_data]    |     /root/nltk_data...\n",
            "[nltk_data]    |   Unzipping corpora/movie_reviews.zip.\n",
            "[nltk_data]    | Downloading package mte_teip5 to /root/nltk_data...\n",
            "[nltk_data]    |   Unzipping corpora/mte_teip5.zip.\n",
            "[nltk_data]    | Downloading package mwa_ppdb to /root/nltk_data...\n",
            "[nltk_data]    |   Unzipping misc/mwa_ppdb.zip.\n",
            "[nltk_data]    | Downloading package names to /root/nltk_data...\n",
            "[nltk_data]    |   Unzipping corpora/names.zip.\n",
            "[nltk_data]    | Downloading package nombank.1.0 to /root/nltk_data...\n",
            "[nltk_data]    | Downloading package nonbreaking_prefixes to\n",
            "[nltk_data]    |     /root/nltk_data...\n",
            "[nltk_data]    |   Unzipping corpora/nonbreaking_prefixes.zip.\n",
            "[nltk_data]    | Downloading package nps_chat to /root/nltk_data...\n",
            "[nltk_data]    |   Unzipping corpora/nps_chat.zip.\n",
            "[nltk_data]    | Downloading package omw to /root/nltk_data...\n",
            "[nltk_data]    | Downloading package omw-1.4 to /root/nltk_data...\n",
            "[nltk_data]    | Downloading package opinion_lexicon to\n",
            "[nltk_data]    |     /root/nltk_data...\n",
            "[nltk_data]    |   Unzipping corpora/opinion_lexicon.zip.\n",
            "[nltk_data]    | Downloading package panlex_swadesh to\n",
            "[nltk_data]    |     /root/nltk_data...\n",
            "[nltk_data]    | Downloading package paradigms to /root/nltk_data...\n",
            "[nltk_data]    |   Unzipping corpora/paradigms.zip.\n",
            "[nltk_data]    | Downloading package pe08 to /root/nltk_data...\n",
            "[nltk_data]    |   Unzipping corpora/pe08.zip.\n",
            "[nltk_data]    | Downloading package perluniprops to\n",
            "[nltk_data]    |     /root/nltk_data...\n",
            "[nltk_data]    |   Unzipping misc/perluniprops.zip.\n",
            "[nltk_data]    | Downloading package pil to /root/nltk_data...\n",
            "[nltk_data]    |   Unzipping corpora/pil.zip.\n",
            "[nltk_data]    | Downloading package pl196x to /root/nltk_data...\n",
            "[nltk_data]    |   Unzipping corpora/pl196x.zip.\n",
            "[nltk_data]    | Downloading package porter_test to /root/nltk_data...\n",
            "[nltk_data]    |   Unzipping stemmers/porter_test.zip.\n",
            "[nltk_data]    | Downloading package ppattach to /root/nltk_data...\n",
            "[nltk_data]    |   Unzipping corpora/ppattach.zip.\n",
            "[nltk_data]    | Downloading package problem_reports to\n",
            "[nltk_data]    |     /root/nltk_data...\n",
            "[nltk_data]    |   Unzipping corpora/problem_reports.zip.\n",
            "[nltk_data]    | Downloading package product_reviews_1 to\n",
            "[nltk_data]    |     /root/nltk_data...\n",
            "[nltk_data]    |   Unzipping corpora/product_reviews_1.zip.\n",
            "[nltk_data]    | Downloading package product_reviews_2 to\n",
            "[nltk_data]    |     /root/nltk_data...\n",
            "[nltk_data]    |   Unzipping corpora/product_reviews_2.zip.\n",
            "[nltk_data]    | Downloading package propbank to /root/nltk_data...\n",
            "[nltk_data]    | Downloading package pros_cons to /root/nltk_data...\n",
            "[nltk_data]    |   Unzipping corpora/pros_cons.zip.\n",
            "[nltk_data]    | Downloading package ptb to /root/nltk_data...\n",
            "[nltk_data]    |   Unzipping corpora/ptb.zip.\n",
            "[nltk_data]    | Downloading package punkt to /root/nltk_data...\n",
            "[nltk_data]    |   Unzipping tokenizers/punkt.zip.\n",
            "[nltk_data]    | Downloading package qc to /root/nltk_data...\n",
            "[nltk_data]    |   Unzipping corpora/qc.zip.\n",
            "[nltk_data]    | Downloading package reuters to /root/nltk_data...\n",
            "[nltk_data]    | Downloading package rslp to /root/nltk_data...\n",
            "[nltk_data]    |   Unzipping stemmers/rslp.zip.\n",
            "[nltk_data]    | Downloading package rte to /root/nltk_data...\n",
            "[nltk_data]    |   Unzipping corpora/rte.zip.\n",
            "[nltk_data]    | Downloading package sample_grammars to\n",
            "[nltk_data]    |     /root/nltk_data...\n",
            "[nltk_data]    |   Unzipping grammars/sample_grammars.zip.\n",
            "[nltk_data]    | Downloading package semcor to /root/nltk_data...\n",
            "[nltk_data]    | Downloading package senseval to /root/nltk_data...\n",
            "[nltk_data]    |   Unzipping corpora/senseval.zip.\n",
            "[nltk_data]    | Downloading package sentence_polarity to\n",
            "[nltk_data]    |     /root/nltk_data...\n",
            "[nltk_data]    |   Unzipping corpora/sentence_polarity.zip.\n",
            "[nltk_data]    | Downloading package sentiwordnet to\n",
            "[nltk_data]    |     /root/nltk_data...\n",
            "[nltk_data]    |   Unzipping corpora/sentiwordnet.zip.\n",
            "[nltk_data]    | Downloading package shakespeare to /root/nltk_data...\n",
            "[nltk_data]    |   Unzipping corpora/shakespeare.zip.\n",
            "[nltk_data]    | Downloading package sinica_treebank to\n",
            "[nltk_data]    |     /root/nltk_data...\n",
            "[nltk_data]    |   Unzipping corpora/sinica_treebank.zip.\n",
            "[nltk_data]    | Downloading package smultron to /root/nltk_data...\n",
            "[nltk_data]    |   Unzipping corpora/smultron.zip.\n",
            "[nltk_data]    | Downloading package snowball_data to\n",
            "[nltk_data]    |     /root/nltk_data...\n",
            "[nltk_data]    | Downloading package spanish_grammars to\n",
            "[nltk_data]    |     /root/nltk_data...\n",
            "[nltk_data]    |   Unzipping grammars/spanish_grammars.zip.\n",
            "[nltk_data]    | Downloading package state_union to /root/nltk_data...\n",
            "[nltk_data]    |   Unzipping corpora/state_union.zip.\n",
            "[nltk_data]    | Downloading package stopwords to /root/nltk_data...\n",
            "[nltk_data]    |   Unzipping corpora/stopwords.zip.\n",
            "[nltk_data]    | Downloading package subjectivity to\n",
            "[nltk_data]    |     /root/nltk_data...\n",
            "[nltk_data]    |   Unzipping corpora/subjectivity.zip.\n",
            "[nltk_data]    | Downloading package swadesh to /root/nltk_data...\n",
            "[nltk_data]    |   Unzipping corpora/swadesh.zip.\n",
            "[nltk_data]    | Downloading package switchboard to /root/nltk_data...\n",
            "[nltk_data]    |   Unzipping corpora/switchboard.zip.\n",
            "[nltk_data]    | Downloading package tagsets to /root/nltk_data...\n",
            "[nltk_data]    |   Unzipping help/tagsets.zip.\n",
            "[nltk_data]    | Downloading package timit to /root/nltk_data...\n",
            "[nltk_data]    |   Unzipping corpora/timit.zip.\n",
            "[nltk_data]    | Downloading package toolbox to /root/nltk_data...\n",
            "[nltk_data]    |   Unzipping corpora/toolbox.zip.\n",
            "[nltk_data]    | Downloading package treebank to /root/nltk_data...\n",
            "[nltk_data]    |   Unzipping corpora/treebank.zip.\n",
            "[nltk_data]    | Downloading package twitter_samples to\n",
            "[nltk_data]    |     /root/nltk_data...\n",
            "[nltk_data]    |   Unzipping corpora/twitter_samples.zip.\n",
            "[nltk_data]    | Downloading package udhr to /root/nltk_data...\n",
            "[nltk_data]    |   Unzipping corpora/udhr.zip.\n",
            "[nltk_data]    | Downloading package udhr2 to /root/nltk_data...\n",
            "[nltk_data]    |   Unzipping corpora/udhr2.zip.\n",
            "[nltk_data]    | Downloading package unicode_samples to\n",
            "[nltk_data]    |     /root/nltk_data...\n",
            "[nltk_data]    |   Unzipping corpora/unicode_samples.zip.\n",
            "[nltk_data]    | Downloading package universal_tagset to\n",
            "[nltk_data]    |     /root/nltk_data...\n",
            "[nltk_data]    |   Unzipping taggers/universal_tagset.zip.\n",
            "[nltk_data]    | Downloading package universal_treebanks_v20 to\n",
            "[nltk_data]    |     /root/nltk_data...\n",
            "[nltk_data]    | Downloading package vader_lexicon to\n",
            "[nltk_data]    |     /root/nltk_data...\n",
            "[nltk_data]    | Downloading package verbnet to /root/nltk_data...\n",
            "[nltk_data]    |   Unzipping corpora/verbnet.zip.\n",
            "[nltk_data]    | Downloading package verbnet3 to /root/nltk_data...\n",
            "[nltk_data]    |   Unzipping corpora/verbnet3.zip.\n",
            "[nltk_data]    | Downloading package webtext to /root/nltk_data...\n",
            "[nltk_data]    |   Unzipping corpora/webtext.zip.\n",
            "[nltk_data]    | Downloading package wmt15_eval to /root/nltk_data...\n",
            "[nltk_data]    |   Unzipping models/wmt15_eval.zip.\n",
            "[nltk_data]    | Downloading package word2vec_sample to\n",
            "[nltk_data]    |     /root/nltk_data...\n",
            "[nltk_data]    |   Unzipping models/word2vec_sample.zip.\n",
            "[nltk_data]    | Downloading package wordnet to /root/nltk_data...\n",
            "[nltk_data]    | Downloading package wordnet2021 to /root/nltk_data...\n",
            "[nltk_data]    | Downloading package wordnet31 to /root/nltk_data...\n",
            "[nltk_data]    | Downloading package wordnet_ic to /root/nltk_data...\n",
            "[nltk_data]    |   Unzipping corpora/wordnet_ic.zip.\n",
            "[nltk_data]    | Downloading package words to /root/nltk_data...\n",
            "[nltk_data]    |   Unzipping corpora/words.zip.\n",
            "[nltk_data]    | Downloading package ycoe to /root/nltk_data...\n",
            "[nltk_data]    |   Unzipping corpora/ycoe.zip.\n",
            "[nltk_data]    | \n",
            "[nltk_data]  Done downloading collection all\n"
          ]
        },
        {
          "output_type": "stream",
          "name": "stderr",
          "text": [
            "[nltk_data] Downloading package punkt to /root/nltk_data...\n",
            "[nltk_data]   Package punkt is already up-to-date!\n"
          ]
        }
      ],
      "source": [
        "import pandas as pd\n",
        "import seaborn as sns\n",
        "import matplotlib.pyplot as plt\n",
        "import regex as re\n",
        "import numpy as np\n",
        "\n",
        "from wordcloud import WordCloud, STOPWORDS\n",
        "\n",
        "from nltk.tokenize import word_tokenize\n",
        "from nltk.stem import PorterStemmer as ps\n",
        "import nltk\n",
        "!python3 -m nltk.downloader all\n",
        "nltk.download('punkt')\n",
        "from sklearn import model_selection, preprocessing, linear_model, naive_bayes, metrics\n",
        "\n",
        "\n",
        "from sklearn.feature_extraction.text import TfidfVectorizer, ENGLISH_STOP_WORDS\n",
        "from sklearn.model_selection import train_test_split\n",
        "from sklearn.linear_model import LogisticRegression\n",
        "from sklearn.metrics import accuracy_score, confusion_matrix\n",
        "\n",
        "from sklearn.feature_extraction.text import CountVectorizer\n",
        "from sklearn.feature_extraction.text import TfidfVectorizer\n",
        "from sklearn.preprocessing import Binarizer\n",
        "from sklearn.metrics import f1_score"
      ]
    },
    {
      "cell_type": "code",
      "source": [
        "from google.colab import drive\n",
        "drive.mount('/content/drive')"
      ],
      "metadata": {
        "colab": {
          "base_uri": "https://localhost:8080/"
        },
        "id": "kYQAKXfwAWhF",
        "outputId": "b70797cf-465b-4f9e-bfc8-3f4120bd1470"
      },
      "execution_count": null,
      "outputs": [
        {
          "output_type": "stream",
          "name": "stdout",
          "text": [
            "Drive already mounted at /content/drive; to attempt to forcibly remount, call drive.mount(\"/content/drive\", force_remount=True).\n"
          ]
        }
      ]
    },
    {
      "cell_type": "code",
      "source": [
        "train_data = pd.read_csv(\"/content/drive/My Drive/CST4812/Test.csv\")\n",
        "test_data = pd.read_csv(\"/content/drive/My Drive/CST4812/Train.csv\")"
      ],
      "metadata": {
        "id": "ZscsaZoiAZ_2"
      },
      "execution_count": null,
      "outputs": []
    },
    {
      "cell_type": "code",
      "source": [
        "test_data2 = test_data.loc[0:7945]\n",
        "test_data1 = test_data.loc[7945:15890]\n",
        "test_data3 = test_data.loc[15890:23835]\n",
        "test_data4= test_data.loc[23835:29235]\n",
        "test_data5 = test_data.loc[29235:]"
      ],
      "metadata": {
        "id": "q4hXx6c_KA4x"
      },
      "execution_count": null,
      "outputs": []
    },
    {
      "cell_type": "code",
      "source": [
        "def clean(data):\n",
        "  for idx, row in data.iterrows():\n",
        "    text = re.sub('\\n','',row['text'])\n",
        "    text = re.sub(r'[^a-zA-Z0-9 ]', '', text)\n",
        "    text = re.sub(r'[0-9]', '', text)\n",
        "    text = text.lower()\n",
        "    data.loc[idx, 'text'] = text\n",
        "clean(train_data)\n",
        "test_data_list = [test_data1, test_data2, test_data3, test_data4, test_data5]\n",
        "for x in test_data_list:\n",
        "  clean(x)"
      ],
      "metadata": {
        "colab": {
          "base_uri": "https://localhost:8080/"
        },
        "id": "cNfUXQJsluvU",
        "outputId": "c31ba1fa-a24a-47a2-d3cd-4a56222dece7"
      },
      "execution_count": null,
      "outputs": [
        {
          "output_type": "stream",
          "name": "stderr",
          "text": [
            "/usr/local/lib/python3.7/dist-packages/pandas/core/indexing.py:1817: SettingWithCopyWarning: \n",
            "A value is trying to be set on a copy of a slice from a DataFrame.\n",
            "Try using .loc[row_indexer,col_indexer] = value instead\n",
            "\n",
            "See the caveats in the documentation: https://pandas.pydata.org/pandas-docs/stable/user_guide/indexing.html#returning-a-view-versus-a-copy\n",
            "  self._setitem_single_column(loc, value, pi)\n"
          ]
        }
      ]
    },
    {
      "cell_type": "code",
      "source": [
        "train_data"
      ],
      "metadata": {
        "colab": {
          "base_uri": "https://localhost:8080/",
          "height": 424
        },
        "id": "UmeHxwtlmKiV",
        "outputId": "fafe5ca8-3fec-4030-85dd-166615e8bd00"
      },
      "execution_count": null,
      "outputs": [
        {
          "output_type": "execute_result",
          "data": {
            "text/plain": [
              "                                                   text  label\n",
              "0     i always wrote this series off as being a comp...      0\n",
              "1     st watched    out of dirsteve purcell typical ...      0\n",
              "2     this movie was so poorly written and directed ...      0\n",
              "3     the most interesting thing about miryang secre...      1\n",
              "4     when i first read about berlin am meer i didnt...      0\n",
              "...                                                 ...    ...\n",
              "4995  this is the kind of picture john lassiter woul...      1\n",
              "4996  a must see i saw whipped at a press screening ...      1\n",
              "4997  nbc should be ashamed i wouldnt allow my child...      0\n",
              "4998  this movie is a clumsy mishmash of various gho...      0\n",
              "4999  formula movie about the illegitimate son of a ...      0\n",
              "\n",
              "[5000 rows x 2 columns]"
            ],
            "text/html": [
              "\n",
              "  <div id=\"df-d1904d20-bbd1-46b6-aa6d-01de516d6326\">\n",
              "    <div class=\"colab-df-container\">\n",
              "      <div>\n",
              "<style scoped>\n",
              "    .dataframe tbody tr th:only-of-type {\n",
              "        vertical-align: middle;\n",
              "    }\n",
              "\n",
              "    .dataframe tbody tr th {\n",
              "        vertical-align: top;\n",
              "    }\n",
              "\n",
              "    .dataframe thead th {\n",
              "        text-align: right;\n",
              "    }\n",
              "</style>\n",
              "<table border=\"1\" class=\"dataframe\">\n",
              "  <thead>\n",
              "    <tr style=\"text-align: right;\">\n",
              "      <th></th>\n",
              "      <th>text</th>\n",
              "      <th>label</th>\n",
              "    </tr>\n",
              "  </thead>\n",
              "  <tbody>\n",
              "    <tr>\n",
              "      <th>0</th>\n",
              "      <td>i always wrote this series off as being a comp...</td>\n",
              "      <td>0</td>\n",
              "    </tr>\n",
              "    <tr>\n",
              "      <th>1</th>\n",
              "      <td>st watched    out of dirsteve purcell typical ...</td>\n",
              "      <td>0</td>\n",
              "    </tr>\n",
              "    <tr>\n",
              "      <th>2</th>\n",
              "      <td>this movie was so poorly written and directed ...</td>\n",
              "      <td>0</td>\n",
              "    </tr>\n",
              "    <tr>\n",
              "      <th>3</th>\n",
              "      <td>the most interesting thing about miryang secre...</td>\n",
              "      <td>1</td>\n",
              "    </tr>\n",
              "    <tr>\n",
              "      <th>4</th>\n",
              "      <td>when i first read about berlin am meer i didnt...</td>\n",
              "      <td>0</td>\n",
              "    </tr>\n",
              "    <tr>\n",
              "      <th>...</th>\n",
              "      <td>...</td>\n",
              "      <td>...</td>\n",
              "    </tr>\n",
              "    <tr>\n",
              "      <th>4995</th>\n",
              "      <td>this is the kind of picture john lassiter woul...</td>\n",
              "      <td>1</td>\n",
              "    </tr>\n",
              "    <tr>\n",
              "      <th>4996</th>\n",
              "      <td>a must see i saw whipped at a press screening ...</td>\n",
              "      <td>1</td>\n",
              "    </tr>\n",
              "    <tr>\n",
              "      <th>4997</th>\n",
              "      <td>nbc should be ashamed i wouldnt allow my child...</td>\n",
              "      <td>0</td>\n",
              "    </tr>\n",
              "    <tr>\n",
              "      <th>4998</th>\n",
              "      <td>this movie is a clumsy mishmash of various gho...</td>\n",
              "      <td>0</td>\n",
              "    </tr>\n",
              "    <tr>\n",
              "      <th>4999</th>\n",
              "      <td>formula movie about the illegitimate son of a ...</td>\n",
              "      <td>0</td>\n",
              "    </tr>\n",
              "  </tbody>\n",
              "</table>\n",
              "<p>5000 rows × 2 columns</p>\n",
              "</div>\n",
              "      <button class=\"colab-df-convert\" onclick=\"convertToInteractive('df-d1904d20-bbd1-46b6-aa6d-01de516d6326')\"\n",
              "              title=\"Convert this dataframe to an interactive table.\"\n",
              "              style=\"display:none;\">\n",
              "        \n",
              "  <svg xmlns=\"http://www.w3.org/2000/svg\" height=\"24px\"viewBox=\"0 0 24 24\"\n",
              "       width=\"24px\">\n",
              "    <path d=\"M0 0h24v24H0V0z\" fill=\"none\"/>\n",
              "    <path d=\"M18.56 5.44l.94 2.06.94-2.06 2.06-.94-2.06-.94-.94-2.06-.94 2.06-2.06.94zm-11 1L8.5 8.5l.94-2.06 2.06-.94-2.06-.94L8.5 2.5l-.94 2.06-2.06.94zm10 10l.94 2.06.94-2.06 2.06-.94-2.06-.94-.94-2.06-.94 2.06-2.06.94z\"/><path d=\"M17.41 7.96l-1.37-1.37c-.4-.4-.92-.59-1.43-.59-.52 0-1.04.2-1.43.59L10.3 9.45l-7.72 7.72c-.78.78-.78 2.05 0 2.83L4 21.41c.39.39.9.59 1.41.59.51 0 1.02-.2 1.41-.59l7.78-7.78 2.81-2.81c.8-.78.8-2.07 0-2.86zM5.41 20L4 18.59l7.72-7.72 1.47 1.35L5.41 20z\"/>\n",
              "  </svg>\n",
              "      </button>\n",
              "      \n",
              "  <style>\n",
              "    .colab-df-container {\n",
              "      display:flex;\n",
              "      flex-wrap:wrap;\n",
              "      gap: 12px;\n",
              "    }\n",
              "\n",
              "    .colab-df-convert {\n",
              "      background-color: #E8F0FE;\n",
              "      border: none;\n",
              "      border-radius: 50%;\n",
              "      cursor: pointer;\n",
              "      display: none;\n",
              "      fill: #1967D2;\n",
              "      height: 32px;\n",
              "      padding: 0 0 0 0;\n",
              "      width: 32px;\n",
              "    }\n",
              "\n",
              "    .colab-df-convert:hover {\n",
              "      background-color: #E2EBFA;\n",
              "      box-shadow: 0px 1px 2px rgba(60, 64, 67, 0.3), 0px 1px 3px 1px rgba(60, 64, 67, 0.15);\n",
              "      fill: #174EA6;\n",
              "    }\n",
              "\n",
              "    [theme=dark] .colab-df-convert {\n",
              "      background-color: #3B4455;\n",
              "      fill: #D2E3FC;\n",
              "    }\n",
              "\n",
              "    [theme=dark] .colab-df-convert:hover {\n",
              "      background-color: #434B5C;\n",
              "      box-shadow: 0px 1px 3px 1px rgba(0, 0, 0, 0.15);\n",
              "      filter: drop-shadow(0px 1px 2px rgba(0, 0, 0, 0.3));\n",
              "      fill: #FFFFFF;\n",
              "    }\n",
              "  </style>\n",
              "\n",
              "      <script>\n",
              "        const buttonEl =\n",
              "          document.querySelector('#df-d1904d20-bbd1-46b6-aa6d-01de516d6326 button.colab-df-convert');\n",
              "        buttonEl.style.display =\n",
              "          google.colab.kernel.accessAllowed ? 'block' : 'none';\n",
              "\n",
              "        async function convertToInteractive(key) {\n",
              "          const element = document.querySelector('#df-d1904d20-bbd1-46b6-aa6d-01de516d6326');\n",
              "          const dataTable =\n",
              "            await google.colab.kernel.invokeFunction('convertToInteractive',\n",
              "                                                     [key], {});\n",
              "          if (!dataTable) return;\n",
              "\n",
              "          const docLinkHtml = 'Like what you see? Visit the ' +\n",
              "            '<a target=\"_blank\" href=https://colab.research.google.com/notebooks/data_table.ipynb>data table notebook</a>'\n",
              "            + ' to learn more about interactive tables.';\n",
              "          element.innerHTML = '';\n",
              "          dataTable['output_type'] = 'display_data';\n",
              "          await google.colab.output.renderOutput(dataTable, element);\n",
              "          const docLink = document.createElement('div');\n",
              "          docLink.innerHTML = docLinkHtml;\n",
              "          element.appendChild(docLink);\n",
              "        }\n",
              "      </script>\n",
              "    </div>\n",
              "  </div>\n",
              "  "
            ]
          },
          "metadata": {},
          "execution_count": 33
        }
      ]
    },
    {
      "cell_type": "code",
      "source": [
        "vectorizer = CountVectorizer(analyzer='word', max_features= 1200)\n",
        "trainfeatures = vectorizer.fit_transform(train_data.text)\n",
        "trainfeatures.toarray()\n",
        "feature_names = vectorizer.get_feature_names_out()\n",
        "pd.DataFrame(trainfeatures.toarray(), columns=feature_names)\n",
        "\n",
        "features1 = vectorizer.transform(test_data1.text).toarray()\n",
        "features2 = vectorizer.transform(test_data2.text).toarray()\n",
        "features3 = vectorizer.transform(test_data3.text).toarray()\n",
        "features4 = vectorizer.transform(test_data4.text).toarray()\n",
        "features5 = vectorizer.transform(test_data5.text).toarray()"
      ],
      "metadata": {
        "id": "llcF1GXLI4Sx"
      },
      "execution_count": null,
      "outputs": []
    },
    {
      "cell_type": "code",
      "source": [
        "features1.shape"
      ],
      "metadata": {
        "colab": {
          "base_uri": "https://localhost:8080/"
        },
        "id": "vj8TezDg6QI0",
        "outputId": "3fb155e1-1f11-42ac-fa1f-389d06272e66"
      },
      "execution_count": null,
      "outputs": [
        {
          "output_type": "execute_result",
          "data": {
            "text/plain": [
              "(7946, 1200)"
            ]
          },
          "metadata": {},
          "execution_count": 35
        }
      ]
    },
    {
      "cell_type": "code",
      "source": [
        "\n",
        "from sklearn.model_selection import train_test_split\n",
        "\n",
        "X = trainfeatures\n",
        "y = train_data.label\n",
        "\n",
        "\n",
        "from sklearn.linear_model import LogisticRegression\n",
        "log_model = LogisticRegression(solver='liblinear')\n",
        "log_model = log_model.fit(X=X, y=y)\n",
        "y_pred = log_model.predict(features1)\n",
        "\n",
        "from sklearn.metrics import accuracy_score\n",
        "print(accuracy_score(test_data1.label, y_pred))\n",
        "lgcm = metrics.confusion_matrix(test_data1['label'], y_pred)\n",
        "print(lgcm)\n",
        "\n",
        "y_pred2 = log_model.predict(features2)\n",
        "print(accuracy_score(test_data2.label, y_pred2))\n",
        "lgcm2 = metrics.confusion_matrix(test_data2['label'], y_pred2)\n",
        "print(lgcm2)\n",
        "\n",
        "y_pred3 = log_model.predict(features3)\n",
        "print(accuracy_score(test_data3.label, y_pred3))\n",
        "lgcm3 = metrics.confusion_matrix(test_data3['label'], y_pred3)\n",
        "print(lgcm3)\n",
        "\n",
        "y_pred4 = log_model.predict(features4)\n",
        "print(accuracy_score(test_data4.label, y_pred4))\n",
        "lgcm4 = metrics.confusion_matrix(test_data4['label'], y_pred4)\n",
        "print(lgcm4)\n",
        "\n",
        "y_pred5 = log_model.predict(features5)\n",
        "print(accuracy_score(test_data5.label, y_pred5))\n",
        "lgcm5 = metrics.confusion_matrix(test_data5['label'], y_pred5)\n",
        "print(lgcm5)"
      ],
      "metadata": {
        "colab": {
          "base_uri": "https://localhost:8080/"
        },
        "id": "rTFf2EdYO-ep",
        "outputId": "1f89ba7c-6b01-4893-a8fa-d30545526791"
      },
      "execution_count": null,
      "outputs": [
        {
          "output_type": "stream",
          "name": "stdout",
          "text": [
            "0.8221746790838158\n",
            "[[3270  667]\n",
            " [ 746 3263]]\n",
            "0.8173923986911653\n",
            "[[3295  744]\n",
            " [ 707 3200]]\n",
            "0.8064434935816763\n",
            "[[3203  801]\n",
            " [ 737 3205]]\n",
            "0.8050361044251064\n",
            "[[2174  498]\n",
            " [ 555 2174]]\n",
            "0.8133766836971668\n",
            "[[4381  990]\n",
            " [1019 4375]]\n"
          ]
        }
      ]
    },
    {
      "cell_type": "code",
      "source": [
        "\n",
        "from sklearn.naive_bayes import MultinomialNB\n",
        "clf = MultinomialNB()\n",
        "clf.fit(trainfeatures, train_data['label'])\n",
        "nb_pred = clf.predict(features1)\n",
        "print(accuracy_score(test_data1.label, nb_pred))\n",
        "lgcm = metrics.confusion_matrix(test_data1['label'], nb_pred)\n",
        "print(lgcm)\n",
        "\n",
        "nb_pred2 = clf.predict(features2)\n",
        "print(accuracy_score(test_data2.label, nb_pred2))\n",
        "lgcm2 = metrics.confusion_matrix(test_data1['label'], nb_pred2)\n",
        "print(lgcm2)\n",
        "\n",
        "nb_pred3 = clf.predict(features3)\n",
        "print(accuracy_score(test_data3.label, nb_pred3))\n",
        "lgcm3 = metrics.confusion_matrix(test_data3['label'], nb_pred3)\n",
        "print(lgcm3)\n",
        "\n",
        "\n",
        "nb_pred4 = clf.predict(features4)\n",
        "print(accuracy_score(test_data4.label, nb_pred4))\n",
        "lgcm4 = metrics.confusion_matrix(test_data4['label'], nb_pred4)\n",
        "print(lgcm4)\n",
        "\n",
        "nb_pred5 = clf.predict(features5)\n",
        "print(accuracy_score(test_data5.label, nb_pred5))\n",
        "lgcm5 = metrics.confusion_matrix(test_data5['label'], nb_pred5)\n",
        "print(lgcm5)"
      ],
      "metadata": {
        "colab": {
          "base_uri": "https://localhost:8080/"
        },
        "id": "AIN31DePn23E",
        "outputId": "d6600eb0-1267-4ff2-ce80-36ae9e7ff88c"
      },
      "execution_count": null,
      "outputs": [
        {
          "output_type": "stream",
          "name": "stdout",
          "text": [
            "0.8100931286181726\n",
            "[[3262  675]\n",
            " [ 834 3175]]\n",
            "0.8127359677825321\n",
            "[[2042 1895]\n",
            " [2109 1900]]\n",
            "0.8095897306821042\n",
            "[[3310  694]\n",
            " [ 819 3123]]\n",
            "0.8091094241807073\n",
            "[[2223  449]\n",
            " [ 582 2147]]\n",
            "0.8080817464003716\n",
            "[[4438  933]\n",
            " [1133 4261]]\n"
          ]
        }
      ]
    },
    {
      "cell_type": "markdown",
      "source": [
        "#Unigrams without stop and rare words"
      ],
      "metadata": {
        "id": "8MvRI-G9AgZH"
      }
    },
    {
      "cell_type": "code",
      "source": [
        "from nltk.corpus import stopwords\n",
        "nltk.download('stopwords')\n",
        "stopwords = stopwords.words(\"english\")\n",
        "porter = ps()\n",
        "\n",
        "def clean2(data):\n",
        "  for idx, row in data.iterrows():\n",
        "    text = row['text']\n",
        "    text = ' '.join([ele for ele in text.split() if ele not in stopwords])\n",
        "    data.loc[idx, 'text'] = text\n",
        "\n",
        "    \n",
        "clean2(train_data)\n",
        "for x in test_data_list:\n",
        "  clean2(x)"
      ],
      "metadata": {
        "colab": {
          "base_uri": "https://localhost:8080/"
        },
        "id": "ZcgVOCb_pYsr",
        "outputId": "848e1df0-a27e-4fa1-e316-4c1a4b7be959"
      },
      "execution_count": null,
      "outputs": [
        {
          "output_type": "stream",
          "name": "stderr",
          "text": [
            "[nltk_data] Downloading package stopwords to /root/nltk_data...\n",
            "[nltk_data]   Package stopwords is already up-to-date!\n",
            "/usr/local/lib/python3.7/dist-packages/pandas/core/indexing.py:1817: SettingWithCopyWarning: \n",
            "A value is trying to be set on a copy of a slice from a DataFrame.\n",
            "Try using .loc[row_indexer,col_indexer] = value instead\n",
            "\n",
            "See the caveats in the documentation: https://pandas.pydata.org/pandas-docs/stable/user_guide/indexing.html#returning-a-view-versus-a-copy\n",
            "  self._setitem_single_column(loc, value, pi)\n"
          ]
        }
      ]
    },
    {
      "cell_type": "code",
      "source": [
        "train_data"
      ],
      "metadata": {
        "colab": {
          "base_uri": "https://localhost:8080/",
          "height": 424
        },
        "id": "_b5HTY6knZKK",
        "outputId": "72c43ce0-a974-429c-aef6-909adfabb0d4"
      },
      "execution_count": null,
      "outputs": [
        {
          "output_type": "execute_result",
          "data": {
            "text/plain": [
              "                                                   text  label\n",
              "0     always wrote series complete stinkfest jim bel...      0\n",
              "1     st watched dirsteve purcell typical mary kate ...      0\n",
              "2     movie poorly written directed fell asleep minu...      0\n",
              "3     interesting thing miryang secret sunshine acto...      1\n",
              "4     first read berlin meer didnt expect much thoug...      0\n",
              "...                                                 ...    ...\n",
              "4995  kind picture john lassiter would making today ...      1\n",
              "4996  must see saw whipped press screening hilarious...      1\n",
              "4997  nbc ashamed wouldnt allow children see definit...      0\n",
              "4998  movie clumsy mishmash various ghoststory suspe...      0\n",
              "4999  formula movie illegitimate son rich chilenian ...      0\n",
              "\n",
              "[5000 rows x 2 columns]"
            ],
            "text/html": [
              "\n",
              "  <div id=\"df-dff30564-df3e-4426-a576-41838d4121f0\">\n",
              "    <div class=\"colab-df-container\">\n",
              "      <div>\n",
              "<style scoped>\n",
              "    .dataframe tbody tr th:only-of-type {\n",
              "        vertical-align: middle;\n",
              "    }\n",
              "\n",
              "    .dataframe tbody tr th {\n",
              "        vertical-align: top;\n",
              "    }\n",
              "\n",
              "    .dataframe thead th {\n",
              "        text-align: right;\n",
              "    }\n",
              "</style>\n",
              "<table border=\"1\" class=\"dataframe\">\n",
              "  <thead>\n",
              "    <tr style=\"text-align: right;\">\n",
              "      <th></th>\n",
              "      <th>text</th>\n",
              "      <th>label</th>\n",
              "    </tr>\n",
              "  </thead>\n",
              "  <tbody>\n",
              "    <tr>\n",
              "      <th>0</th>\n",
              "      <td>always wrote series complete stinkfest jim bel...</td>\n",
              "      <td>0</td>\n",
              "    </tr>\n",
              "    <tr>\n",
              "      <th>1</th>\n",
              "      <td>st watched dirsteve purcell typical mary kate ...</td>\n",
              "      <td>0</td>\n",
              "    </tr>\n",
              "    <tr>\n",
              "      <th>2</th>\n",
              "      <td>movie poorly written directed fell asleep minu...</td>\n",
              "      <td>0</td>\n",
              "    </tr>\n",
              "    <tr>\n",
              "      <th>3</th>\n",
              "      <td>interesting thing miryang secret sunshine acto...</td>\n",
              "      <td>1</td>\n",
              "    </tr>\n",
              "    <tr>\n",
              "      <th>4</th>\n",
              "      <td>first read berlin meer didnt expect much thoug...</td>\n",
              "      <td>0</td>\n",
              "    </tr>\n",
              "    <tr>\n",
              "      <th>...</th>\n",
              "      <td>...</td>\n",
              "      <td>...</td>\n",
              "    </tr>\n",
              "    <tr>\n",
              "      <th>4995</th>\n",
              "      <td>kind picture john lassiter would making today ...</td>\n",
              "      <td>1</td>\n",
              "    </tr>\n",
              "    <tr>\n",
              "      <th>4996</th>\n",
              "      <td>must see saw whipped press screening hilarious...</td>\n",
              "      <td>1</td>\n",
              "    </tr>\n",
              "    <tr>\n",
              "      <th>4997</th>\n",
              "      <td>nbc ashamed wouldnt allow children see definit...</td>\n",
              "      <td>0</td>\n",
              "    </tr>\n",
              "    <tr>\n",
              "      <th>4998</th>\n",
              "      <td>movie clumsy mishmash various ghoststory suspe...</td>\n",
              "      <td>0</td>\n",
              "    </tr>\n",
              "    <tr>\n",
              "      <th>4999</th>\n",
              "      <td>formula movie illegitimate son rich chilenian ...</td>\n",
              "      <td>0</td>\n",
              "    </tr>\n",
              "  </tbody>\n",
              "</table>\n",
              "<p>5000 rows × 2 columns</p>\n",
              "</div>\n",
              "      <button class=\"colab-df-convert\" onclick=\"convertToInteractive('df-dff30564-df3e-4426-a576-41838d4121f0')\"\n",
              "              title=\"Convert this dataframe to an interactive table.\"\n",
              "              style=\"display:none;\">\n",
              "        \n",
              "  <svg xmlns=\"http://www.w3.org/2000/svg\" height=\"24px\"viewBox=\"0 0 24 24\"\n",
              "       width=\"24px\">\n",
              "    <path d=\"M0 0h24v24H0V0z\" fill=\"none\"/>\n",
              "    <path d=\"M18.56 5.44l.94 2.06.94-2.06 2.06-.94-2.06-.94-.94-2.06-.94 2.06-2.06.94zm-11 1L8.5 8.5l.94-2.06 2.06-.94-2.06-.94L8.5 2.5l-.94 2.06-2.06.94zm10 10l.94 2.06.94-2.06 2.06-.94-2.06-.94-.94-2.06-.94 2.06-2.06.94z\"/><path d=\"M17.41 7.96l-1.37-1.37c-.4-.4-.92-.59-1.43-.59-.52 0-1.04.2-1.43.59L10.3 9.45l-7.72 7.72c-.78.78-.78 2.05 0 2.83L4 21.41c.39.39.9.59 1.41.59.51 0 1.02-.2 1.41-.59l7.78-7.78 2.81-2.81c.8-.78.8-2.07 0-2.86zM5.41 20L4 18.59l7.72-7.72 1.47 1.35L5.41 20z\"/>\n",
              "  </svg>\n",
              "      </button>\n",
              "      \n",
              "  <style>\n",
              "    .colab-df-container {\n",
              "      display:flex;\n",
              "      flex-wrap:wrap;\n",
              "      gap: 12px;\n",
              "    }\n",
              "\n",
              "    .colab-df-convert {\n",
              "      background-color: #E8F0FE;\n",
              "      border: none;\n",
              "      border-radius: 50%;\n",
              "      cursor: pointer;\n",
              "      display: none;\n",
              "      fill: #1967D2;\n",
              "      height: 32px;\n",
              "      padding: 0 0 0 0;\n",
              "      width: 32px;\n",
              "    }\n",
              "\n",
              "    .colab-df-convert:hover {\n",
              "      background-color: #E2EBFA;\n",
              "      box-shadow: 0px 1px 2px rgba(60, 64, 67, 0.3), 0px 1px 3px 1px rgba(60, 64, 67, 0.15);\n",
              "      fill: #174EA6;\n",
              "    }\n",
              "\n",
              "    [theme=dark] .colab-df-convert {\n",
              "      background-color: #3B4455;\n",
              "      fill: #D2E3FC;\n",
              "    }\n",
              "\n",
              "    [theme=dark] .colab-df-convert:hover {\n",
              "      background-color: #434B5C;\n",
              "      box-shadow: 0px 1px 3px 1px rgba(0, 0, 0, 0.15);\n",
              "      filter: drop-shadow(0px 1px 2px rgba(0, 0, 0, 0.3));\n",
              "      fill: #FFFFFF;\n",
              "    }\n",
              "  </style>\n",
              "\n",
              "      <script>\n",
              "        const buttonEl =\n",
              "          document.querySelector('#df-dff30564-df3e-4426-a576-41838d4121f0 button.colab-df-convert');\n",
              "        buttonEl.style.display =\n",
              "          google.colab.kernel.accessAllowed ? 'block' : 'none';\n",
              "\n",
              "        async function convertToInteractive(key) {\n",
              "          const element = document.querySelector('#df-dff30564-df3e-4426-a576-41838d4121f0');\n",
              "          const dataTable =\n",
              "            await google.colab.kernel.invokeFunction('convertToInteractive',\n",
              "                                                     [key], {});\n",
              "          if (!dataTable) return;\n",
              "\n",
              "          const docLinkHtml = 'Like what you see? Visit the ' +\n",
              "            '<a target=\"_blank\" href=https://colab.research.google.com/notebooks/data_table.ipynb>data table notebook</a>'\n",
              "            + ' to learn more about interactive tables.';\n",
              "          element.innerHTML = '';\n",
              "          dataTable['output_type'] = 'display_data';\n",
              "          await google.colab.output.renderOutput(dataTable, element);\n",
              "          const docLink = document.createElement('div');\n",
              "          docLink.innerHTML = docLinkHtml;\n",
              "          element.appendChild(docLink);\n",
              "        }\n",
              "      </script>\n",
              "    </div>\n",
              "  </div>\n",
              "  "
            ]
          },
          "metadata": {},
          "execution_count": 39
        }
      ]
    },
    {
      "cell_type": "code",
      "source": [
        "vectorizer = CountVectorizer(\n",
        "    analyzer = 'word',\n",
        "    lowercase = False,\n",
        "    min_df = 3)\n",
        "trainfeatures = vectorizer.fit_transform(train_data.text).toarray()\n",
        "\n",
        "\n",
        "features1 = vectorizer.transform(test_data1.text).toarray()\n",
        "features2 = vectorizer.transform(test_data2.text).toarray()\n",
        "features3 = vectorizer.transform(test_data3.text).toarray()\n",
        "features4 = vectorizer.transform(test_data4.text).toarray()\n",
        "features5 = vectorizer.transform(test_data5.text).toarray()"
      ],
      "metadata": {
        "id": "o2UtrC3_qchA"
      },
      "execution_count": null,
      "outputs": []
    },
    {
      "cell_type": "code",
      "source": [
        "from sklearn.model_selection import train_test_split\n",
        "\n",
        "X = trainfeatures\n",
        "y = train_data.label\n",
        "\n",
        "\n",
        "from sklearn.linear_model import LogisticRegression\n",
        "log_model = LogisticRegression(solver='liblinear')\n",
        "log_model = log_model.fit(X=X, y=y)\n",
        "y_pred = log_model.predict(features1)\n",
        "\n",
        "from sklearn.metrics import accuracy_score\n",
        "print(accuracy_score(test_data1.label, y_pred))\n",
        "lgcm1 = metrics.confusion_matrix(test_data1['label'], y_pred)\n",
        "print(lgcm1)\n",
        "\n",
        "y_pred2 = log_model.predict(features2)\n",
        "print(accuracy_score(test_data2.label, y_pred2))\n",
        "lgcm2 = metrics.confusion_matrix(test_data2['label'], y_pred2)\n",
        "print(lgcm2)\n",
        "\n",
        "y_pred3 = log_model.predict(features3)\n",
        "print(accuracy_score(test_data3.label, y_pred3))\n",
        "lgcm3 = metrics.confusion_matrix(test_data3['label'], y_pred3)\n",
        "print(lgcm3)\n",
        "\n",
        "y_pred4 = log_model.predict(features4)\n",
        "print(accuracy_score(test_data4.label, y_pred4))\n",
        "lgcm4 = metrics.confusion_matrix(test_data4['label'], y_pred4)\n",
        "print(lgcm4)\n",
        "\n",
        "y_pred5 = log_model.predict(features5)\n",
        "print(accuracy_score(test_data5.label, y_pred5))\n",
        "lgcm5 = metrics.confusion_matrix(test_data5['label'], y_pred5)\n",
        "print(lgcm5)"
      ],
      "metadata": {
        "colab": {
          "base_uri": "https://localhost:8080/"
        },
        "id": "nft7HJcUrGQx",
        "outputId": "fa30429b-2df9-49a9-d1f5-631521a78907"
      },
      "execution_count": null,
      "outputs": [
        {
          "output_type": "stream",
          "name": "stdout",
          "text": [
            "0.8557764913163856\n",
            "[[3350  587]\n",
            " [ 559 3450]]\n",
            "0.8472187264032217\n",
            "[[3381  658]\n",
            " [ 556 3351]]\n",
            "0.8480996727913416\n",
            "[[3345  659]\n",
            " [ 548 3394]]\n",
            "0.8431771894093686\n",
            "[[2241  431]\n",
            " [ 416 2313]]\n",
            "0.844217371110079\n",
            "[[4493  878]\n",
            " [ 799 4595]]\n"
          ]
        }
      ]
    },
    {
      "cell_type": "code",
      "source": [
        "clf = MultinomialNB()\n",
        "clf.fit(trainfeatures, train_data['label'])\n",
        "nb_pred = clf.predict(features1)\n",
        "print(accuracy_score(test_data1.label, nb_pred))\n",
        "lgcm = metrics.confusion_matrix(test_data1['label'], nb_pred)\n",
        "print(lgcm)\n",
        "\n",
        "nb_pred2 = clf.predict(features2)\n",
        "print(accuracy_score(test_data2.label, nb_pred2))\n",
        "lgcm2 = metrics.confusion_matrix(test_data1['label'], nb_pred2)\n",
        "print(lgcm2)\n",
        "\n",
        "nb_pred3 = clf.predict(features3)\n",
        "print(accuracy_score(test_data3.label, nb_pred3))\n",
        "lgcm3 = metrics.confusion_matrix(test_data3['label'], nb_pred3)\n",
        "print(lgcm3)\n",
        "\n",
        "\n",
        "nb_pred4 = clf.predict(features4)\n",
        "print(accuracy_score(test_data4.label, nb_pred4))\n",
        "lgcm4 = metrics.confusion_matrix(test_data4['label'], nb_pred4)\n",
        "print(lgcm4)\n",
        "\n",
        "nb_pred5 = clf.predict(features5)\n",
        "print(accuracy_score(test_data5.label, nb_pred5))\n",
        "lgcm5 = metrics.confusion_matrix(test_data5['label'], nb_pred5)\n",
        "print(lgcm5)"
      ],
      "metadata": {
        "id": "H0bE23ZpujwY",
        "colab": {
          "base_uri": "https://localhost:8080/"
        },
        "outputId": "4f034822-e86f-4aa5-f379-67bc39760988"
      },
      "execution_count": null,
      "outputs": [
        {
          "output_type": "stream",
          "name": "stdout",
          "text": [
            "0.8347596274855273\n",
            "[[3440  497]\n",
            " [ 816 3193]]\n",
            "0.8335011326453562\n",
            "[[2095 1842]\n",
            " [2181 1828]]\n",
            "0.8306065945129625\n",
            "[[3432  572]\n",
            " [ 774 3168]]\n",
            "0.8361414552860581\n",
            "[[2319  353]\n",
            " [ 532 2197]]\n",
            "0.8329772410589874\n",
            "[[4654  717]\n",
            " [1081 4313]]\n"
          ]
        }
      ]
    },
    {
      "cell_type": "markdown",
      "source": [
        "# tf-idf Vectors"
      ],
      "metadata": {
        "id": "tVy3nGV_r8eP"
      }
    },
    {
      "cell_type": "code",
      "source": [
        "tfIdf = TfidfVectorizer(min_df = 3)\n",
        "trainfeatures = tfIdf.fit_transform(train_data.text)\n",
        "trainfeatures.toarray()\n",
        "feature_names = tfIdf.get_feature_names_out()\n",
        "pd.DataFrame(trainfeatures.toarray(), columns=feature_names)\n",
        "\n",
        "features1 = tfIdf.transform(test_data1.text).toarray()\n",
        "features2 = tfIdf.transform(test_data2.text).toarray()\n",
        "features3 = tfIdf.transform(test_data3.text).toarray()\n",
        "features4 = tfIdf.transform(test_data4.text).toarray()\n",
        "features5 = tfIdf.transform(test_data5.text).toarray()"
      ],
      "metadata": {
        "id": "M71ZD2FEFNWo"
      },
      "execution_count": null,
      "outputs": []
    },
    {
      "cell_type": "code",
      "source": [
        "X = trainfeatures\n",
        "y = train_data.label\n",
        "\n",
        "log_model = LogisticRegression(solver='liblinear')\n",
        "log_model = log_model.fit(X=X, y=y)\n",
        "y_pred = log_model.predict(features1)\n",
        "\n",
        "print(accuracy_score(test_data1['label'], y_pred))\n",
        "lgcm = metrics.confusion_matrix(test_data1['label'], y_pred)\n",
        "print(lgcm)\n",
        "\n",
        "y_pred2 = log_model.predict(features2)\n",
        "print(accuracy_score(test_data2.label, y_pred2))\n",
        "lgcm2 = metrics.confusion_matrix(test_data2['label'], y_pred2)\n",
        "print(lgcm2)\n",
        "\n",
        "y_pred3 = log_model.predict(features3)\n",
        "print(accuracy_score(test_data3.label, y_pred3))\n",
        "lgcm3 = metrics.confusion_matrix(test_data3['label'], y_pred3)\n",
        "print(lgcm3)\n",
        "\n",
        "y_pred4 = log_model.predict(features4)\n",
        "print(accuracy_score(test_data4.label, y_pred4))\n",
        "lgcm4 = metrics.confusion_matrix(test_data4['label'], y_pred4)\n",
        "print(lgcm4)\n",
        "\n",
        "y_pred5 = log_model.predict(features5)\n",
        "print(accuracy_score(test_data5.label, y_pred5))\n",
        "lgcm5 = metrics.confusion_matrix(test_data5['label'], y_pred5)\n",
        "print(lgcm5)"
      ],
      "metadata": {
        "colab": {
          "base_uri": "https://localhost:8080/"
        },
        "id": "4AzqTun8AQhB",
        "outputId": "3835409c-0e1f-40b4-8153-12cf5994c29b"
      },
      "execution_count": null,
      "outputs": [
        {
          "output_type": "stream",
          "name": "stdout",
          "text": [
            "0.8608104706770702\n",
            "[[3340  597]\n",
            " [ 509 3500]]\n",
            "0.8618172665492071\n",
            "[[3411  628]\n",
            " [ 470 3437]]\n",
            "0.8625723634533098\n",
            "[[3387  617]\n",
            " [ 475 3467]]\n",
            "0.8598407702277356\n",
            "[[2253  419]\n",
            " [ 338 2391]]\n",
            "0.8594519275429633\n",
            "[[4545  826]\n",
            " [ 687 4707]]\n"
          ]
        }
      ]
    },
    {
      "cell_type": "code",
      "source": [
        "print(y_pred5[1:10])\n",
        "print(test_data5.head(10))"
      ],
      "metadata": {
        "colab": {
          "base_uri": "https://localhost:8080/"
        },
        "id": "Ot4gfW31wJsI",
        "outputId": "8325d2c6-fd70-4d14-db5c-8cb5f24fa8e0"
      },
      "execution_count": null,
      "outputs": [
        {
          "output_type": "stream",
          "name": "stdout",
          "text": [
            "[1 1 1 0 0 0 0 1 0]\n",
            "                                                    text  label\n",
            "29235  comedy version strangers train works pretty we...      0\n",
            "29236  hands ripper br br aspect ratio br br sound fo...      0\n",
            "29237  clocking five seasons small screen george mild...      1\n",
            "29238  new york one hot night four famous iconic figu...      1\n",
            "29239  didnt know expect started watching movie end p...      0\n",
            "29240  previous reviewer said movie bad movie glorifi...      0\n",
            "29241  give movie one truly awful movie sound track d...      0\n",
            "29242  dont know begin movie feels lot like one cheap...      0\n",
            "29243  whenever people ask name scariest movie ive ev...      1\n",
            "29244  ostensibly zgrade dtv horror filmbr br lines l...      0\n"
          ]
        }
      ]
    },
    {
      "cell_type": "code",
      "source": [
        "print(test_data5.loc[29235]['text'])\n",
        "print(test_data5.loc[29236]['text'])"
      ],
      "metadata": {
        "colab": {
          "base_uri": "https://localhost:8080/"
        },
        "id": "XiI987mHwccQ",
        "outputId": "a005fab6-c524-4667-8a07-d285474a6c00"
      },
      "execution_count": null,
      "outputs": [
        {
          "output_type": "stream",
          "name": "stdout",
          "text": [
            "comedy version strangers train works pretty well harsh grader rating reflects mostly characters plot performances extremely good course two stars devito crystal shine performer acts well enough play comedy works level short slapstick devito characters work best depraved character portrayed writing hack would probably real published lauded much hacks character would real life great agent multiple solicitations characters one dimensional okay comedy crystalss character written well desire kill moma sudden makes sense looks like pitiful attempt humor pitiful attempts often movie flows fairly well\n",
            "hands ripper br br aspect ratio br br sound format monobr br edwardian doctor eric porter uses newfangled freudian analysis young girl angharad rees turns daughter jack ripper deadlybr br unlikely hammer horror respectable society figure takes charge beautiful young waif without attracting much whiff scandal even takes murdering sundry variety lethal implements broken mirrors hatpins etc lw davidsons screenplay wanders aimlessly one murder another sacrificing materials inherent subtext porters obvious attraction rees favor commercial melodrama tone remains subdued throughout gore scenes surprisingly vivid even hammer clipped original us release despite r rating mpaa though complete version available home video porter rees give excellent performances climax st pauls cathedral definite highlight rest film strangely hollow unaffecting directed peter sasdy\n"
          ]
        }
      ]
    },
    {
      "cell_type": "code",
      "source": [
        "clf = MultinomialNB()\n",
        "clf.fit(trainfeatures, train_data['label'])\n",
        "nb_pred = clf.predict(features1)\n",
        "print(accuracy_score(test_data1.label, nb_pred))\n",
        "lgcm = metrics.confusion_matrix(test_data1['label'], nb_pred)\n",
        "print(lgcm)\n",
        "\n",
        "nb_pred2 = clf.predict(features2)\n",
        "print(accuracy_score(test_data2.label, nb_pred2))\n",
        "lgcm2 = metrics.confusion_matrix(test_data1['label'], nb_pred2)\n",
        "print(lgcm2)\n",
        "\n",
        "nb_pred3 = clf.predict(features3)\n",
        "print(accuracy_score(test_data3.label, nb_pred3))\n",
        "lgcm3 = metrics.confusion_matrix(test_data3['label'], nb_pred3)\n",
        "print(lgcm3)\n",
        "\n",
        "\n",
        "nb_pred4 = clf.predict(features4)\n",
        "print(accuracy_score(test_data4.label, nb_pred4))\n",
        "lgcm4 = metrics.confusion_matrix(test_data4['label'], nb_pred4)\n",
        "print(lgcm4)\n",
        "\n",
        "nb_pred5 = clf.predict(features5)\n",
        "print(accuracy_score(test_data5.label, nb_pred5))\n",
        "lgcm5 = metrics.confusion_matrix(test_data5['label'], nb_pred5)\n",
        "print(lgcm5)"
      ],
      "metadata": {
        "colab": {
          "base_uri": "https://localhost:8080/"
        },
        "id": "KEj0wyFSLC_j",
        "outputId": "c05a7184-3df3-4e3f-d717-958f112facca"
      },
      "execution_count": null,
      "outputs": [
        {
          "output_type": "stream",
          "name": "stdout",
          "text": [
            "0.8504908129876667\n",
            "[[3507  430]\n",
            " [ 758 3251]]\n",
            "0.8449534356909136\n",
            "[[2111 1826]\n",
            " [2212 1797]]\n",
            "0.8423105965265543\n",
            "[[3505  499]\n",
            " [ 754 3188]]\n",
            "0.8472505091649695\n",
            "[[2360  312]\n",
            " [ 513 2216]]\n",
            "0.843381328379006\n",
            "[[4736  635]\n",
            " [1051 4343]]\n"
          ]
        }
      ]
    },
    {
      "cell_type": "markdown",
      "source": [
        "# Binary Features"
      ],
      "metadata": {
        "id": "t7CdUsnB-sF9"
      }
    },
    {
      "cell_type": "code",
      "source": [
        "vectorizer = CountVectorizer(\n",
        "    ngram_range = (2,2),\n",
        "    lowercase = False,\n",
        "    min_df = 3)\n",
        "\n",
        "\n",
        "features1 = vectorizer.transform(test_data1.text).toarray()\n",
        "features2 = vectorizer.transform(test_data2.text).toarray()\n",
        "features3 = vectorizer.transform(test_data3.text).toarray()\n",
        "features4 = vectorizer.transform(test_data4.text).toarray()\n",
        "features5 = vectorizer.transform(test_data5.text).toarray()"
      ],
      "metadata": {
        "id": "g7bZ8PTbyUsF"
      },
      "execution_count": null,
      "outputs": []
    },
    {
      "cell_type": "code",
      "source": [
        "features1.shape"
      ],
      "metadata": {
        "colab": {
          "base_uri": "https://localhost:8080/"
        },
        "id": "TRFTm7_QfPd2",
        "outputId": "e8b7ac84-9b46-4d81-d34c-eac651196eb7"
      },
      "execution_count": null,
      "outputs": [
        {
          "output_type": "execute_result",
          "data": {
            "text/plain": [
              "(7946, 21029)"
            ]
          },
          "metadata": {},
          "execution_count": 49
        }
      ]
    },
    {
      "cell_type": "code",
      "source": [
        "X = trainfeatures\n",
        "y = train_data.label\n",
        "\n",
        "\n",
        "from sklearn.linear_model import LogisticRegression\n",
        "log_model = LogisticRegression(solver='liblinear')\n",
        "log_model = log_model.fit(X=X, y=y)\n",
        "y_pred = log_model.predict(features1)\n",
        "\n",
        "from sklearn.metrics import accuracy_score\n",
        "print(accuracy_score(test_data1['label'], y_pred))\n",
        "lgcm = metrics.confusion_matrix(test_data1['label'], y_pred)\n",
        "print(lgcm)\n",
        "\n",
        "y_pred2 = log_model.predict(features2)\n",
        "print(accuracy_score(test_data2.label, y_pred2))\n",
        "lgcm2 = metrics.confusion_matrix(test_data2['label'], y_pred2)\n",
        "print(lgcm2)\n",
        "\n",
        "y_pred3 = log_model.predict(features3)\n",
        "print(accuracy_score(test_data3.label, y_pred3))\n",
        "lgcm3 = metrics.confusion_matrix(test_data3['label'], y_pred3)\n",
        "print(lgcm3)\n",
        "\n",
        "y_pred4 = log_model.predict(features4)\n",
        "print(accuracy_score(test_data4.label, y_pred4))\n",
        "lgcm4 = metrics.confusion_matrix(test_data4['label'], y_pred4)\n",
        "print(lgcm4)\n",
        "\n",
        "y_pred5 = log_model.predict(features5)\n",
        "print(accuracy_score(test_data5.label, y_pred5))\n",
        "lgcm5 = metrics.confusion_matrix(test_data5['label'], y_pred5)"
      ],
      "metadata": {
        "colab": {
          "base_uri": "https://localhost:8080/"
        },
        "id": "pfwNzx0WfGlZ",
        "outputId": "8061f790-6d93-4082-a80c-34d7aecb76b6"
      },
      "execution_count": null,
      "outputs": [
        {
          "output_type": "stream",
          "name": "stdout",
          "text": [
            "0.7778756607097911\n",
            "[[2960  977]\n",
            " [ 788 3221]]\n",
            "0.7764913163856029\n",
            "[[3015 1024]\n",
            " [ 752 3155]]\n",
            "0.7796375534860307\n",
            "[[2976 1028]\n",
            " [ 723 3219]]\n",
            "0.7724495463803\n",
            "[[2005  667]\n",
            " [ 562 2167]]\n",
            "0.783743613562471\n"
          ]
        }
      ]
    },
    {
      "cell_type": "code",
      "source": [
        "clf = MultinomialNB()\n",
        "clf.fit(trainfeatures, train_data['label'])\n",
        "nb_pred = clf.predict(features1)\n",
        "print(accuracy_score(test_data1.label, nb_pred))\n",
        "lgcm = metrics.confusion_matrix(test_data1['label'], nb_pred)\n",
        "f1 = f1_score(test_data1['label'], nb_pred, average=None)\n",
        "print(lgcm)\n",
        "print(\"F1 Score: \")\n",
        "print(f1)\n",
        "\n",
        "nb_pred2 = clf.predict(features2)\n",
        "print(accuracy_score(test_data2.label, nb_pred2))\n",
        "lgcm2 = metrics.confusion_matrix(test_data1['label'], nb_pred2)\n",
        "print(lgcm2)\n",
        "\n",
        "nb_pred3 = clf.predict(features3)\n",
        "print(accuracy_score(test_data3.label, nb_pred3))\n",
        "lgcm3 = metrics.confusion_matrix(test_data3['label'], nb_pred3)\n",
        "print(lgcm3)\n",
        "\n",
        "\n",
        "nb_pred4 = clf.predict(features4)\n",
        "print(accuracy_score(test_data4.label, nb_pred4))\n",
        "lgcm4 = metrics.confusion_matrix(test_data4['label'], nb_pred4)\n",
        "print(lgcm4)\n",
        "\n",
        "nb_pred5 = clf.predict(features5)\n",
        "print(accuracy_score(test_data5.label, nb_pred5))\n",
        "lgcm5 = metrics.confusion_matrix(test_data5['label'], nb_pred5)\n",
        "print(lgcm5)"
      ],
      "metadata": {
        "id": "Nuega9rQ4eba"
      },
      "execution_count": null,
      "outputs": []
    },
    {
      "cell_type": "markdown",
      "source": [
        "#Conclusion\n"
      ],
      "metadata": {
        "id": "r0wAH6AP50U7"
      }
    },
    {
      "cell_type": "markdown",
      "source": [
        "1. The model that worked best for me was the linear regression model of the tf-idf vectors. I believe this worked well as it accounts for differences in length, and I cleaned it the same as the unigrams without stop or rare words. I played around with percentages and raw count values for the minimum document frequeny, but settling on 3 gave me the best scores across the board. The frequencies performed better than raw counts. "
      ],
      "metadata": {
        "id": "Yie76hdxMfQ2"
      }
    },
    {
      "cell_type": "markdown",
      "source": [
        "2. These reviews (after stop and rare word removal) were incorrectly classified as positive  in my if-idf logistic regression model. I have bolded the words that I believe caused my model a problem, leading to the misclassification.\n",
        "\n",
        "1. comedy version strangers train **works pretty well** harsh grader rating reflects mostly characters plot performances **extremely good** course two stars devito crystal **shine** performer acts well enough play comedy works level short slapstick devito characters work best depraved character portrayed writing hack would probably real published lauded much hacks character would real life great agent multiple solicitations characters one dimensional okay comedy crystalss character **written well** desire kill moma sudden makes sense looks like pitiful attempt humor pitiful attempts often** movie flows fairly well**\n",
        "\n",
        "\n",
        "2. hands ripper br br aspect ratio br br sound format monobr br edwardian doctor eric porter uses newfangled freudian analysis young girl angharad rees turns daughter jack ripper deadlybr br unlikely hammer horror **respectable** society figure takes charge **beautiful** young waif without **attracting** much whiff scandal even takes murdering sundry variety lethal implements broken mirrors hatpins etc lw davidsons screenplay wanders aimlessly one murder another sacrificing materials inherent subtext porters obvious **attraction** rees **favor** commercial melodrama tone remains subdued throughout gore scenes **surprisingly vivid** even hammer clipped original us release despite r rating mpaa though complete version available home video porter rees give **excellent** performances climax st pauls cathedral definite** highlight** rest film strangely hollow unaffecting directed peter sasdy"
      ],
      "metadata": {
        "id": "HAWq-KGYMyam"
      }
    }
  ]
}